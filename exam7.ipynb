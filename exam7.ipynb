{
 "cells": [
  {
   "cell_type": "markdown",
   "metadata": {},
   "source": [
    "![Matplotlib image](images/matplotlib.png)"
   ]
  },
  {
   "cell_type": "markdown",
   "metadata": {},
   "source": [
    "## matplotlib이 사용하는 기본폰트는 한글폰트를 가지고 있지 않음\n",
    "### 한글 폰트를 등록해주어야 함\n",
    "### 이 방법은 설정 후 모든 코드에 적용됨 - 전역적 방법"
   ]
  },
  {
   "cell_type": "code",
   "execution_count": 1,
   "metadata": {},
   "outputs": [
    {
     "name": "stdout",
     "output_type": "stream",
     "text": [
      "Malgun Gothic\n"
     ]
    }
   ],
   "source": [
    "from matplotlib import font_manager, rc\n",
    "font_path = \"C:/KHY/PYDATAexam/data/malgun.ttf\"   #폰트파일의 위치\n",
    "font_name = font_manager.FontProperties(fname=font_path).get_name()\n",
    "print(font_name)\n",
    "rc('font', family=font_name)"
   ]
  },
  {
   "cell_type": "code",
   "execution_count": 2,
   "metadata": {},
   "outputs": [],
   "source": [
    "import pandas as pd\n",
    "import matplotlib.pyplot as plt\n",
    "import matplotlib\n",
    "# %matplotlib inline\n",
    "# %config InlineBackend.figure_format='retina'"
   ]
  },
  {
   "cell_type": "code",
   "execution_count": null,
   "metadata": {},
   "outputs": [],
   "source": [
    "print(matplotlib.__version__)"
   ]
  },
  {
   "cell_type": "code",
   "execution_count": 3,
   "metadata": {},
   "outputs": [
    {
     "data": {
      "image/png": "[encoded data removed]",
      "text/plain": [
       "<Figure size 432x288 with 1 Axes>"
      ]
     },
     "metadata": {
      "needs_background": "light"
     },
     "output_type": "display_data"
    }
   ],
   "source": [
    "import pandas as pd\n",
    "import matplotlib.pyplot as plt\n",
    "\n",
    "# 그래프 그리는데 데이터프레임뿐만 아니라 시리즈도 얼마든지 사용할 수 있다.\n",
    "s = pd.Series(\n",
    "    [5, 4, 7, 1, 12],\n",
    "    index = [\"둘리\", \"또치\", \"도우너\", \"희동이\", \"마이콜\"]\n",
    ")\n",
    "\n",
    "plt.title(\"시리즈 데이터로 그리는 그래프\")\n",
    "plt.ylabel('갯수')\n",
    "plt.xlabel('학생이름')\n",
    "\n",
    "#Set tick colors:\n",
    "ax = plt.gca() #gca는 axis 객체를 리턴해주는데, axis는 축에 대한 정보를 컨트롤하는 객체\n",
    "ax.tick_params(axis='x', colors='blue')\n",
    "ax.tick_params(axis='y', colors='red')\n",
    "\n",
    "# plt.bar(x,height, width=0.8, bottom=None,*, align='center',data=None,**kwargs,)\n",
    "plt.bar(x=s.index, height=s, color=['skyblue', 'red', 'green', 'orange', 'yellow'])\n",
    "plt.show() #그래프만 출력"
   ]
  },
  {
   "cell_type": "markdown",
   "metadata": {},
   "source": [
    "### plt.plot(*args, scalex=True, scaley=True, data=None, **kwargs)\n",
    "#### plot([x], y, [fmt], *, data=None, **kwargs)\n",
    "#### plot([x], y, [fmt], [x2], y2, [fmt2], ..., **kwargs)\n",
    "<span style=\"color:red\">fmt = '[marker][line][color]'</span>\n",
    "##### plot(x, y)        # plot x and y using default line style and color\n",
    "##### plot(x, y, 'bo')  # plot x and y using blue circle markers\n",
    "##### plot(y)           # plot y using x as index array 0..N-1\n",
    "##### plot(y, 'r+')     # ditto, but with red plusses"
   ]
  },
  {
   "cell_type": "code",
   "execution_count": null,
   "metadata": {},
   "outputs": [],
   "source": [
    "from matplotlib import pyplot as plt\n",
    "plt.figure(figsize=(10,6)) #그래프 그리기 전에 수행해야하기 떄문에 위에다 써주어야 함. 기본 사이즈는 (6, 4)\n",
    "plt.plot([1,2,3,4,5,6]) # y축만 지정해줘도 됨. x축은 0부터~\n",
    "plt.title('matplotliab 그래프(1)')\n",
    "plt.xlabel('X-축')\n",
    "plt.ylabel('Y-축')\n",
    "plt.show()"
   ]
  },
  {
   "cell_type": "code",
   "execution_count": null,
   "metadata": {},
   "outputs": [],
   "source": [
    "?plt.plot"
   ]
  },
  {
   "cell_type": "code",
   "execution_count": null,
   "metadata": {},
   "outputs": [],
   "source": [
    "from matplotlib import pyplot as plt\n",
    "#plt.figure(figsize=(10,6)) \n",
    "t = [10,20,30,40,50,60] \n",
    "y = [1,2,3,4,5,6]\n",
    "plt.plot(t,y) #t와 x를 비율적으로 맞추게 해주었음\n",
    "plt.title('matplotliab 그래프(2)')\n",
    "plt.xlabel('X-축')\n",
    "plt.ylabel('Y-축')\n",
    "plt.show()"
   ]
  },
  {
   "cell_type": "code",
   "execution_count": null,
   "metadata": {},
   "outputs": [],
   "source": [
    "from matplotlib import pyplot as plt\n",
    "plt.plot([1,2,3,4,5,6],[100,200,300,400,500,800], 'r+') #r+: red와 +마커\n",
    "plt.title('matplotliab 그래프(3)')\n",
    "plt.xlabel('X-축')\n",
    "plt.ylabel('Y-축')\n",
    "plt.show()"
   ]
  },
  {
   "cell_type": "code",
   "execution_count": null,
   "metadata": {},
   "outputs": [],
   "source": [
    "from matplotlib import pyplot as plt\n",
    "plt.plot([1,2,3,4,5,6],[1,2,3,4,5,6], 'r--', [1,2,3,4,5,6],[3,4,5,6,7,8], 'gv-', [1,2,3,4,5,6],[5,6,7,8,9,10], 'm-.') # x축, y축, 포맷. 3번 반복 = 3개의 라인이 그려짐\n",
    "plt.title('matplotliab 그래프(4)')\n",
    "plt.xlabel('X-축')\n",
    "plt.ylabel('Y-축')\n",
    "plt.show()"
   ]
  },
  {
   "cell_type": "code",
   "execution_count": null,
   "metadata": {},
   "outputs": [],
   "source": [
    "import numpy as np\n",
    "\n",
    "a = np.arange(0, 2, 0.2) #0부터 2까지 0.2 간격으로\n",
    "print(a)\n",
    "plt.plot(a, a, 'r--', a, a**2, 'bo', a, a**3, 'g-.') # a**2 = 제곱값, a**3 = 세제곱값\n",
    "plt.savefig(\"C:\\KHY\\PYDATAexam\\output\\test1.png\") # 파일에도 저장, show 보다 먼저 출력해야 함\n",
    "plt.show() # 화면에도 내보내는 것 => 즉 화면에도, 파일에도 나옴"
   ]
  },
  {
   "cell_type": "code",
   "execution_count": 4,
   "metadata": {},
   "outputs": [
    {
     "data": {
      "image/png": "[encoded data removed]",
      "text/plain": [
       "<Figure size 432x288 with 1 Axes>"
      ]
     },
     "metadata": {
      "needs_background": "light"
     },
     "output_type": "display_data"
    }
   ],
   "source": [
    "import numpy as np\n",
    "\n",
    "a = np.arange(0, 2, 0.2)\n",
    "\n",
    "# plot 함수를 여러 번 호출해도 가능 = R과 다른 점\n",
    "plt.plot(a, a, 'bo')\n",
    "plt.plot(a, a**2, color='#e35f62', marker='*', linewidth=2)\n",
    "plt.plot(a, a**3, color='springgreen', marker='^', markersize=9)\n",
    "plt.legend([\"a\", \"a**2\", \"a**3\"])\n",
    "plt.grid() #호출하지 않으면 기본은 FALSE\n",
    "\n",
    "plt.show()"
   ]
  },
  {
   "cell_type": "code",
   "execution_count": null,
   "metadata": {},
   "outputs": [],
   "source": [
    "import numpy as np\n",
    "\n",
    "a = np.arange(0, 2, 0.2)\n",
    "\n",
    "plt.plot(a, a, 'bo')\n",
    "plt.plot(a, a**2, color='#e35f62', marker='*', linewidth=2)\n",
    "plt.plot(a, a**3, color='springgreen', marker='^', markersize=9)\n",
    "plt.legend([\"a\", \"a**2\", \"a**3\"], loc='upper center') #loc 범례 위치 설정, default = upper left\n",
    "plt.grid(True, axis='y') #grid를 y축만 그린다는 뜻\n",
    "\n",
    "plt.show()"
   ]
  },
  {
   "cell_type": "code",
   "execution_count": null,
   "metadata": {},
   "outputs": [],
   "source": [
    "a = np.arange(0, 2, 0.2)\n",
    "\n",
    "plt.plot(a, a, 'bo')\n",
    "plt.plot(a, a**2, color='#e35f62', marker='*', linewidth=2)\n",
    "plt.plot(a, a**3, color='springgreen', marker='^', markersize=9)\n",
    "plt.legend([\"a\", \"a**2\", \"a**3\"], loc='center')\n",
    "plt.grid(True, axis='y', color='red', alpha=0.5, linestyle='--')\n",
    "plt.show() "
   ]
  },
  {
   "cell_type": "code",
   "execution_count": null,
   "metadata": {},
   "outputs": [],
   "source": [
    "import numpy as np\n",
    "\n",
    "a = np.arange(0, 2, 0.2)\n",
    "\n",
    "plt.plot(a, a, 'bo')\n",
    "plt.plot(a, a**2, color='#e35f62', marker='*', linewidth=2)\n",
    "plt.plot(a, a**3, color='springgreen', marker='^', markersize=9)\n",
    "plt.xticks([0, 1, 2])\n",
    "plt.yticks(np.arange(1, 6))\n",
    "\n",
    "plt.show()"
   ]
  },
  {
   "cell_type": "code",
   "execution_count": null,
   "metadata": {},
   "outputs": [],
   "source": [
    "import numpy as np\n",
    "\n",
    "a = np.arange(0, 2, 0.2)\n",
    "\n",
    "plt.plot(a, a, 'bo')\n",
    "plt.plot(a, a**2, color='#e35f62', marker='*', linewidth=2)\n",
    "plt.plot(a, a**3, color='springgreen', marker='^', markersize=9)\n",
    "plt.xticks(np.arange(0, 2.1, 0.2), labels=['Jan', '', 'Feb', '', 'Mar', '', 'May', '', 'June', '', 'July'])\n",
    "plt.yticks(np.arange(0, 7), ('0', '1GB', '2GB', '3GB', '4GB', '5GB', '6GB'))\n",
    "\n",
    "plt.show()"
   ]
  },
  {
   "cell_type": "code",
   "execution_count": null,
   "metadata": {},
   "outputs": [],
   "source": [
    "a = np.arange(0, 2, 0.2)\n",
    "\n",
    "plt.plot(a, a, 'bo')\n",
    "plt.plot(a, a**2, color='#e35f62', marker='*', linewidth=2)\n",
    "plt.plot(a, a**3, color='springgreen', marker='^', markersize=9)\n",
    "plt.xticks(np.arange(0, 2.1, 0.2), labels=['Jan', '', 'Feb', '', 'Mar', '', 'May', '', 'June', '', 'July'])\n",
    "plt.yticks(np.arange(0, 7), ('0', '1GB', '2GB', '3GB', '4GB', '5GB', '6GB'))\n",
    "\n",
    "plt.tick_params(axis='x', direction='in', length=3, pad=6, labelsize=14, labelcolor='green', top=True)\n",
    "plt.tick_params(axis='y', direction='inout', length=10, pad=15, labelsize=12, width=2, color='r')\n",
    "\n",
    "plt.show()"
   ]
  },
  {
   "cell_type": "code",
   "execution_count": null,
   "metadata": {},
   "outputs": [],
   "source": [
    "a = np.arange(0, 2, 0.2)\n",
    "\n",
    "plt.plot(a, a, 'bo')\n",
    "plt.plot(a, a**2, color='#e35f62', marker='*', linewidth=2)\n",
    "plt.plot(a, a**3, color='springgreen', marker='^', markersize=9)\n",
    "plt.grid(True, axis='y', color='gray', alpha=0.5, linestyle='--')\n",
    "plt.tick_params(axis='both', direction='in', length=3, pad=6, labelsize=14)\n",
    "plt.title('Sample graph')\n",
    "\n",
    "plt.show()"
   ]
  },
  {
   "cell_type": "code",
   "execution_count": null,
   "metadata": {},
   "outputs": [],
   "source": [
    "plt.title('Sample graph', loc='right', pad=20)"
   ]
  },
  {
   "cell_type": "code",
   "execution_count": null,
   "metadata": {},
   "outputs": [],
   "source": [
    "plt.title('Sample graph', loc='right', pad=20)\n",
    "\n",
    "title_font = {\n",
    "    'fontsize': 16,\n",
    "    'fontweight': 'bold'\n",
    "}\n",
    "plt.title('Sample graph', fontdict=title_font, loc='left', pad=20)"
   ]
  },
  {
   "cell_type": "code",
   "execution_count": null,
   "metadata": {},
   "outputs": [],
   "source": [
    "import numpy as np\n",
    "\n",
    "a = np.arange(0, 2, 0.2)\n",
    "\n",
    "plt.plot(a, a, 'bo')\n",
    "plt.plot(a, a**2, color='#e35f62', marker='*', linewidth=2)\n",
    "plt.plot(a, a**3, color='springgreen', marker='^', markersize=9)\n",
    "plt.xticks(np.arange(0, 2.1, 0.2), labels=['Jan', '', 'Feb', '', 'Mar', '', 'May', '', 'June', '', 'July'])\n",
    "plt.yticks(np.arange(0, 7), ('0', '1GB', '2GB', '3GB', '4GB', '5GB', '6GB'))\n",
    "\n",
    "plt.axhline(1, 0, 0.55, color='gray', linestyle='--', linewidth='1')\n",
    "plt.axvline(1, 0, 0.16, color='lightgray', linestyle=':', linewidth='2')\n",
    "\n",
    "plt.axhline(5.83, 0, 0.95, color='gray', linestyle='--', linewidth='1')\n",
    "plt.axvline(1.8, 0, 0.95, color='lightgray', linestyle=':', linewidth='2')\n",
    "\n",
    "plt.show()"
   ]
  },
  {
   "cell_type": "code",
   "execution_count": null,
   "metadata": {},
   "outputs": [],
   "source": [
    "plt.plot([1,2,3,4,5,6,7,8,9,8,7,6,5,4,3,2,1,0])#, 'o')\n",
    "plt.show()"
   ]
  },
  {
   "cell_type": "code",
   "execution_count": null,
   "metadata": {},
   "outputs": [],
   "source": [
    "plt.plot([1,2,3,4,5,6,7,8,8,8,7,6,5,4,3,2,1,0], 'ro')\n",
    "plt.plot([5,3,4,1,7,1,4,5,3,5,4,8,9,6,2,4,5,1], 'b--')\n",
    "plt.show()"
   ]
  },
  {
   "cell_type": "code",
   "execution_count": null,
   "metadata": {},
   "outputs": [],
   "source": [
    "import numpy as np\n",
    "t = np.arange(0,12,0.01)\n",
    "y = np.sin(t)\n",
    "\n",
    "print(type(t[0]))\n",
    "print(t)\n",
    "print(y)"
   ]
  },
  {
   "cell_type": "code",
   "execution_count": null,
   "metadata": {},
   "outputs": [],
   "source": [
    "plt.figure(figsize=(10,6)) \n",
    "plt.plot(t, y)\n",
    "plt.show()"
   ]
  },
  {
   "cell_type": "code",
   "execution_count": null,
   "metadata": {},
   "outputs": [],
   "source": [
    "plt.figure(figsize=(10,6))\n",
    "plt.plot(t, y)\n",
    "plt.grid() # 그리드 적용하기\n",
    "plt.show()"
   ]
  },
  {
   "cell_type": "code",
   "execution_count": null,
   "metadata": {},
   "outputs": [],
   "source": [
    "plt.figure(figsize=(10,6))\n",
    "plt.plot(t, np.sin(t))\n",
    "plt.plot(t, np.cos(t))\n",
    "plt.grid(True)\n",
    "plt.xlabel('time')\n",
    "plt.ylabel('Amplitude')\n",
    "plt.title('Example of sinewave')\n",
    "plt.show()\n"
   ]
  },
  {
   "cell_type": "code",
   "execution_count": null,
   "metadata": {},
   "outputs": [],
   "source": [
    "plt.figure(figsize=(10,6))\n",
    "plt.plot(t, np.sin(t), label='sin')\n",
    "plt.plot(t, np.cos(t))#, label='cos')\n",
    "plt.grid()\n",
    "plt.legend()\n",
    "plt.xlabel('time')\n",
    "plt.ylabel('Amplitude')\n",
    "plt.title('Example of sinewave')\n",
    "plt.show()"
   ]
  },
  {
   "cell_type": "code",
   "execution_count": null,
   "metadata": {},
   "outputs": [],
   "source": [
    "plt.figure(figsize=(10,6))\n",
    "plt.plot(t, np.sin(t), lw=3, label='싸인')\n",
    "plt.plot(t, np.cos(t), 'r', lw=5, label='코싸인')\n",
    "plt.grid(True)\n",
    "plt.legend()\n",
    "plt.xlabel('time')\n",
    "plt.ylabel('Amplitude')\n",
    "plt.title('Example of sinewave')\n",
    "plt.show()"
   ]
  },
  {
   "cell_type": "code",
   "execution_count": null,
   "metadata": {},
   "outputs": [],
   "source": [
    "plt.figure(figsize=(10,6))\n",
    "plt.plot(t, np.sin(t), lw=3, label='sin')\n",
    "plt.plot(t, np.cos(t), 'r', label='cos')\n",
    "plt.grid()\n",
    "plt.legend()\n",
    "plt.xlabel('time')\n",
    "plt.ylabel('Amplitude')\n",
    "plt.title('Example of sinewave')\n",
    "plt.ylim(-1.2, 1.2)\n",
    "plt.xlim(0, np.pi)\n",
    "plt.show()"
   ]
  },
  {
   "cell_type": "code",
   "execution_count": null,
   "metadata": {},
   "outputs": [],
   "source": [
    "t = np.arange(0, 5, 0.5) # 5는 포함 안 되기 떄문에 0부터 4.5까지 0.5차이로 증가\n",
    "print(t)\n",
    "plt.figure(figsize=(10,6))\n",
    "plt.plot(t, t**2, 'bs')\n",
    "\n",
    "#plt.figure(figsize=(10,6)) / 주석 해제하면 그래프가 각각 그려지게 됨\n",
    "plt.plot(t, t**3, 'g^')\n",
    "\n",
    "#두 개의 플롯 결과가 한 그래프 안에 그려짐\n",
    "plt.show()"
   ]
  },
  {
   "cell_type": "code",
   "execution_count": null,
   "metadata": {},
   "outputs": [],
   "source": [
    "t = [0, 1, 2, 3, 4, 5, 6] \n",
    "y = [1, 4, 5, 8, 9, 5, 3]\n",
    "\n",
    "plt.figure(figsize=(10,6))\n",
    "plt.plot(t, y, color='green')\n",
    "plt.show()"
   ]
  },
  {
   "cell_type": "code",
   "execution_count": null,
   "metadata": {},
   "outputs": [],
   "source": [
    "plt.figure(figsize=(10,6))\n",
    "plt.plot(t, y, color='green', linestyle='dashed')\n",
    "plt.show()"
   ]
  },
  {
   "cell_type": "code",
   "execution_count": null,
   "metadata": {},
   "outputs": [],
   "source": [
    "plt.figure(figsize=(10,6))\n",
    "plt.plot(t, y, color='green', linestyle='dashed', marker='o')\n",
    "#plt.plot(t, y, 'ro--') 위 코드랑 동일, 다만 단축형이라는 점\n",
    "plt.show()"
   ]
  },
  {
   "cell_type": "code",
   "execution_count": null,
   "metadata": {},
   "outputs": [],
   "source": [
    "plt.figure(figsize=(10,6))\n",
    "plt.plot(t, y, color='green', linestyle='dashed', marker='o',\n",
    "        markerfacecolor = 'blue')\n",
    "plt.show()"
   ]
  },
  {
   "cell_type": "code",
   "execution_count": null,
   "metadata": {},
   "outputs": [],
   "source": [
    "plt.figure(figsize=(10,6))\n",
    "plt.plot(t, y, color='green', linestyle='dashed', marker='o',\n",
    "        markerfacecolor = 'blue', markersize=12)\n",
    "\n",
    "plt.xlim([-0.5, 6.5])\n",
    "plt.ylim([0.5, 9.5])\n",
    "plt.show()"
   ]
  },
  {
   "cell_type": "code",
   "execution_count": null,
   "metadata": {},
   "outputs": [],
   "source": [
    "t = np.array([0,1,2,3,4,5,6,7,8,9])\n",
    "y = np.array([9,8,7,9,8,3,2,4,3,4])"
   ]
  },
  {
   "cell_type": "code",
   "execution_count": null,
   "metadata": {},
   "outputs": [],
   "source": [
    "plt.figure(figsize=(10,6))\n",
    "plt.scatter(t,y)\n",
    "plt.show()"
   ]
  },
  {
   "cell_type": "code",
   "execution_count": null,
   "metadata": {},
   "outputs": [],
   "source": [
    "plt.figure(figsize=(10,6))\n",
    "plt.scatter(t,y, marker='>')\n",
    "plt.show()"
   ]
  },
  {
   "cell_type": "code",
   "execution_count": null,
   "metadata": {},
   "outputs": [],
   "source": [
    "plt.figure(figsize=(10,6))\n",
    "plt.scatter(t,y, s = 50, c=t, marker='>') #c=t: t가 배열 10개니까 10가지의 컬러를 보여줌\n",
    "plt.show()"
   ]
  },
  {
   "cell_type": "code",
   "execution_count": null,
   "metadata": {},
   "outputs": [],
   "source": [
    "plt.figure(figsize=(10,6))\n",
    "plt.scatter(t,y, s = 50, c = t, marker='>')\n",
    "plt.colorbar()\n",
    "plt.show()"
   ]
  },
  {
   "cell_type": "code",
   "execution_count": null,
   "metadata": {},
   "outputs": [],
   "source": [
    "s1 = np.random.normal(loc=0, scale=1, size=1000) # 평균 0 표준편차 1인 데이터를 1000개 뽑아라\n",
    "s2 = np.random.normal(loc=5, scale=0.5, size=1000) # 평균 5 표준편차 0.5\n",
    "s3 = np.random.normal(loc=10, scale=2, size=1000) # 평균 10 표준편차 2"
   ]
  },
  {
   "cell_type": "code",
   "execution_count": null,
   "metadata": {},
   "outputs": [],
   "source": [
    "plt.figure(figsize=(10,6))\n",
    "plt.plot(s1, label='s1')\n",
    "plt.plot(s2, label='s2')\n",
    "plt.plot(s3, label='s3')\n",
    "plt.legend()\n",
    "plt.show()"
   ]
  },
  {
   "cell_type": "code",
   "execution_count": null,
   "metadata": {},
   "outputs": [],
   "source": [
    "plt.figure(figsize=(10,6))\n",
    "plt.boxplot((s1, s2, s3), labels=['월요일', '수요일', '금요일'])\n",
    "plt.grid()\n",
    "plt.show()"
   ]
  },
  {
   "cell_type": "code",
   "execution_count": null,
   "metadata": {},
   "outputs": [],
   "source": [
    "import numpy as np\n",
    "\n",
    "x = np.arange(3)\n",
    "years = ['2017', '2018', '2019']\n",
    "values = [100, 400, 900]\n",
    "\n",
    "plt.bar(x, values)\n",
    "plt.xticks(x, years)\n",
    "plt.show()"
   ]
  },
  {
   "cell_type": "code",
   "execution_count": null,
   "metadata": {},
   "outputs": [],
   "source": [
    "import numpy as np\n",
    "\n",
    "y = np.arange(3)\n",
    "print(y)\n",
    "years = ['2017', '2018', '2019']\n",
    "values = [100, 400, 900]\n",
    "\n",
    "#barh = 세로 바 막대 그래프, align = 겉 테두리를 기준\n",
    "plt.barh(y, values, height=-0.6, align='edge', color=\"springgreen\",\n",
    "        edgecolor=\"gray\", linewidth=3, tick_label=years)\n",
    "plt.show()"
   ]
  },
  {
   "cell_type": "code",
   "execution_count": null,
   "metadata": {},
   "outputs": [],
   "source": [
    "np.random.seed(10)    # 0에서 4294967295 사이의 정수\n",
    "\n",
    "N = 50\n",
    "x = np.random.rand(N)\n",
    "print(x)\n",
    "y = np.random.rand(N)\n",
    "colors = np.random.rand(N)\n",
    "area = (30 * np.random.rand(N))**2\n",
    "\n",
    "plt.scatter(x, y, s=area, c=colors, alpha=0.5)\n",
    "plt.show()"
   ]
  },
  {
   "cell_type": "code",
   "execution_count": null,
   "metadata": {},
   "outputs": [],
   "source": [
    "ratio = [34, 32, 16, 18]\n",
    "\n",
    "plt.pie(ratio) #default = 반시계방향\n",
    "plt.show()"
   ]
  },
  {
   "cell_type": "code",
   "execution_count": null,
   "metadata": {},
   "outputs": [],
   "source": [
    "ratio = [34, 32, 16, 18] #리스트를 가지고 시리즈 객체를 만듦\n",
    "sr = pd.Series(ratio, index=['Apple', 'Banana', 'Melon', 'Grapes'])\n",
    "\n",
    "plt.pie(sr, labels=sr.index)\n",
    "plt.show()"
   ]
  },
  {
   "cell_type": "code",
   "execution_count": null,
   "metadata": {},
   "outputs": [],
   "source": [
    "ratio = [34, 32, 16, 18]\n",
    "labels = ['Apple', 'Banana', 'Melon', 'Grapes']\n",
    "\n",
    "plt.pie(ratio, labels=labels)\n",
    "plt.show()"
   ]
  },
  {
   "cell_type": "code",
   "execution_count": null,
   "metadata": {},
   "outputs": [],
   "source": [
    "ratio = [34, 32, 16, 18]\n",
    "labels = ['Apple', 'Banana', 'Melon', 'Grapes']\n",
    "\n",
    "plt.pie(ratio, labels=labels, autopct='%.1f%%', textprops={'color':'skyblue'})\n",
    "plt.show()"
   ]
  },
  {
   "cell_type": "code",
   "execution_count": null,
   "metadata": {},
   "outputs": [],
   "source": [
    "ratio = [34, 32, 16, 18]\n",
    "labels = ['Apple', 'Banana', 'Melon', 'Grapes']\n",
    "\n",
    "#autopct - 원 그래프 안 % 비율 적어주는 것\n",
    "#startangle - 반시계 방향으로 260도 도는 것\n",
    "#counterclock - \n",
    "plt.pie(ratio, labels=labels, autopct='%.1f%%', startangle=260, counterclock=False)\n",
    "plt.show()"
   ]
  },
  {
   "cell_type": "code",
   "execution_count": null,
   "metadata": {},
   "outputs": [],
   "source": [
    "ratio = [34, 32, 16, 18]\n",
    "labels = ['Apple', 'Banana', 'Melon', 'Grapes']\n",
    "# 0.1 만큼 간격을 두겠다\n",
    "explode = [0, 0.10, 0, 0.10]\n",
    "\n",
    "\n",
    "plt.pie(ratio, labels=labels, autopct='%.1f%%', startangle=260, counterclock=False, explode=explode)\n",
    "plt.show()"
   ]
  },
  {
   "cell_type": "code",
   "execution_count": null,
   "metadata": {},
   "outputs": [],
   "source": [
    "ratio = [34, 32, 16, 18]\n",
    "labels = ['Apple', 'Banana', 'Melon', 'Grapes']\n",
    "#explode - 네 개의 조각 모드 0.05씩 떨어져서 출력\n",
    "explode = [0.05, 0.05, 0.05, 0.05]\n",
    "\n",
    "#shadow - 입체감(그림자)\n",
    "plt.pie(ratio, labels=labels, autopct='%.1f%%', startangle=260, counterclock=False, explode=explode, shadow=True)\n",
    "plt.show()"
   ]
  },
  {
   "cell_type": "code",
   "execution_count": null,
   "metadata": {},
   "outputs": [],
   "source": [
    "ratio = [34, 32, 16, 18]\n",
    "labels = ['Apple', 'Banana', 'Melon', 'Grapes']\n",
    "explode = [0.05, 0.05, 0.05, 0.05]\n",
    "colors = ['silver', 'gold', 'whitesmoke', 'lightgray']\n",
    "\n",
    "plt.pie(ratio, labels=labels, autopct='%.1f%%', startangle=260, counterclock=False, explode=explode, shadow=True, colors=colors)\n",
    "plt.show()"
   ]
  },
  {
   "cell_type": "code",
   "execution_count": null,
   "metadata": {},
   "outputs": [],
   "source": [
    "ratio = [34, 32, 16, 18]\n",
    "labels = ['Apple', 'Banana', 'Melon', 'Grapes']\n",
    "explode = [0.05, 0.05, 0.05, 0.05]\n",
    "colors = ['#ff9999', '#ffc000', '#8fd9b6', '#d395d0']\n",
    "\n",
    "plt.pie(ratio, labels=labels, autopct='%.1f%%', startangle=260, counterclock=False, explode=explode, shadow=True, colors=colors)\n",
    "plt.show()"
   ]
  },
  {
   "cell_type": "code",
   "execution_count": null,
   "metadata": {},
   "outputs": [],
   "source": [
    "ratio = [34, 32, 16, 18]\n",
    "labels = ['Apple', 'Banana', 'Melon', 'Grapes']\n",
    "colors = ['#ff9999', '#ffc000', '#8fd9b6', '#d395d0']\n",
    "wedgeprops={'width': 0.7, 'edgecolor': 'w', 'linewidth': 5}\n",
    "# width - 가운데를 얼마만큼 비우게 하려는지 수치를 적어줌 / edgecolor - 테두리 색깔 설정 / linewidth - 테두리 두께 설정\n",
    "#wedgeprops=wedgeprops - 가운데를 비우게 하는 역할\n",
    "plt.pie(ratio, labels=labels, autopct='%.1f%%', startangle=260, counterclock=False, colors=colors, wedgeprops=wedgeprops)\n",
    "plt.show()"
   ]
  },
  {
   "cell_type": "code",
   "execution_count": 6,
   "metadata": {},
   "outputs": [
    {
     "data": {
      "text/html": [
       "<div>\n",
       "<style scoped>\n",
       "    .dataframe tbody tr th:only-of-type {\n",
       "        vertical-align: middle;\n",
       "    }\n",
       "\n",
       "    .dataframe tbody tr th {\n",
       "        vertical-align: top;\n",
       "    }\n",
       "\n",
       "    .dataframe thead th {\n",
       "        text-align: right;\n",
       "    }\n",
       "</style>\n",
       "<table border=\"1\" class=\"dataframe\">\n",
       "  <thead>\n",
       "    <tr style=\"text-align: right;\">\n",
       "      <th></th>\n",
       "      <th>kor</th>\n",
       "      <th>eng</th>\n",
       "      <th>mat</th>\n",
       "    </tr>\n",
       "    <tr>\n",
       "      <th>name</th>\n",
       "      <th></th>\n",
       "      <th></th>\n",
       "      <th></th>\n",
       "    </tr>\n",
       "  </thead>\n",
       "  <tbody>\n",
       "    <tr>\n",
       "      <th>둘리</th>\n",
       "      <td>90</td>\n",
       "      <td>90</td>\n",
       "      <td>90</td>\n",
       "    </tr>\n",
       "    <tr>\n",
       "      <th>또치</th>\n",
       "      <td>80</td>\n",
       "      <td>80</td>\n",
       "      <td>80</td>\n",
       "    </tr>\n",
       "    <tr>\n",
       "      <th>도우너</th>\n",
       "      <td>70</td>\n",
       "      <td>70</td>\n",
       "      <td>70</td>\n",
       "    </tr>\n",
       "    <tr>\n",
       "      <th>희동이</th>\n",
       "      <td>90</td>\n",
       "      <td>80</td>\n",
       "      <td>70</td>\n",
       "    </tr>\n",
       "    <tr>\n",
       "      <th>마이콜</th>\n",
       "      <td>60</td>\n",
       "      <td>50</td>\n",
       "      <td>50</td>\n",
       "    </tr>\n",
       "  </tbody>\n",
       "</table>\n",
       "</div>"
      ],
      "text/plain": [
       "      kor  eng  mat\n",
       "name               \n",
       "둘리     90   90   90\n",
       "또치     80   80   80\n",
       "도우너    70   70   70\n",
       "희동이    90   80   70\n",
       "마이콜    60   50   50"
      ]
     },
     "metadata": {},
     "output_type": "display_data"
    }
   ],
   "source": [
    "score = pd.read_csv(\"C:\\KHY\\PYDATAexam\\data\\score.csv\", index_col=\"name\") #index_col - 특정 컬럼이 인덱스로 변경 \n",
    "display(score)"
   ]
  },
  {
   "cell_type": "code",
   "execution_count": 7,
   "metadata": {},
   "outputs": [
    {
     "name": "stdout",
     "output_type": "stream",
     "text": [
      "kor    390\n",
      "eng    370\n",
      "mat    360\n",
      "dtype: int64\n",
      "name\n",
      "둘리     270\n",
      "또치     240\n",
      "도우너    210\n",
      "희동이    240\n",
      "마이콜    160\n",
      "dtype: int64\n"
     ]
    }
   ],
   "source": [
    "print(score.sum()) # 열이 수치데이터인 경우에 한해서 열별 합계를 구해줌\n",
    "print(score.T.sum()) #행을 열로, 열을 행으로. =>학생별 합이 구해짐"
   ]
  },
  {
   "cell_type": "code",
   "execution_count": 8,
   "metadata": {},
   "outputs": [
    {
     "data": {
      "image/png": "[encoded data removed]",
      "text/plain": [
       "<Figure size 432x288 with 1 Axes>"
      ]
     },
     "metadata": {},
     "output_type": "display_data"
    }
   ],
   "source": [
    "#학생별 합계 파이 그래프\n",
    "plt.pie(score.T.sum(), labels=score.T.columns.map(lambda x : x+'학생'), autopct='%.1f%%')\n",
    "# label을 주는 법: score라는 데이터 프레임을 전치해서 5명의 학생결과 출력. \n",
    "plt.show()"
   ]
  },
  {
   "cell_type": "code",
   "execution_count": 9,
   "metadata": {},
   "outputs": [
    {
     "data": {
      "image/png": "[encoded data removed]",
      "text/plain": [
       "<Figure size 432x288 with 1 Axes>"
      ]
     },
     "metadata": {},
     "output_type": "display_data"
    }
   ],
   "source": [
    "#과목별 합계 파이 그래프\n",
    "plt.pie(score.sum(), labels=score.columns.map(lambda x : x+'과목'), autopct='%.1f%%')\n",
    "plt.show()"
   ]
  },
  {
   "cell_type": "code",
   "execution_count": null,
   "metadata": {},
   "outputs": [],
   "source": [
    "#============================================================================"
   ]
  },
  {
   "cell_type": "code",
   "execution_count": null,
   "metadata": {},
   "outputs": [],
   "source": [
    "plt.subplot(2,1,1) #그래프에서 레이아웃 나누기\n",
    "plt.title('matplotliab 그래프(5)')\n",
    "plt.plot([1,2,3,4,5,6],[10,3,7,4,6,3])\n",
    "plt.subplot(2,1,2)\n",
    "plt.title('matplotliab 그래프(6)')\n",
    "plt.plot([1,2,3,4,5,6],[10,3,7,4,6,3], 'r--', lw=7)\n",
    "plt.show()"
   ]
  },
  {
   "cell_type": "code",
   "execution_count": null,
   "metadata": {},
   "outputs": [],
   "source": [
    "plt.figure(figsize=(10,8))\n",
    "plt.subplot(2,1,1)\n",
    "plt.title('matplotliab 그래프(5)')\n",
    "plt.plot([1,2,3,4,5,6],[10,3,7,4,6,3])\n",
    "plt.subplot(2,1,2) \n",
    "plt.title('matplotliab 그래프(6)')\n",
    "plt.plot([1,2,3,4,5,6],[10,3,7,4,6,3], 'r--', lw=7)\n",
    "plt.show()"
   ]
  },
  {
   "cell_type": "code",
   "execution_count": null,
   "metadata": {},
   "outputs": [],
   "source": [
    "plt.subplot(2,1,1)\n",
    "plt.title('matplotliab 그래프(5)')\n",
    "plt.plot([1,2,3,4,5,6],[10,3,7,4,6,3])\n",
    "plt.subplot(2,1,2) # AxesSubplot 객체 리턴\n",
    "plt.subplots_adjust(hspace=1) #두 그래프의 간격을 조금 띄는 것\n",
    "plt.title('matplotliab 그래프(6)')\n",
    "plt.plot([1,2,3,4,5,6],[10,3,7,4,6,3], 'r--', lw=7)\n",
    "plt.show()"
   ]
  },
  {
   "cell_type": "code",
   "execution_count": null,
   "metadata": {},
   "outputs": [],
   "source": [
    "plt.subplot(1,2,1)\n",
    "plt.title('matplotliab 그래프(7)')\n",
    "plt.plot([1,2,3,4,5,6],[10,3,7,4,6,3], 'yp-.')\n",
    "plt.subplot(1,2,2)\n",
    "plt.title('matplotliab 그래프(8)')\n",
    "plt.plot([1,2,3,4,5,6],[10,3,7,4,6,3], 'r:', lw=7)\n",
    "plt.show()"
   ]
  },
  {
   "cell_type": "code",
   "execution_count": null,
   "metadata": {},
   "outputs": [],
   "source": [
    "plt.figure(figsize=(10,6))\n",
    "\n",
    "#2행 2열로 나눠서\n",
    "plt.subplot(2,2,1) #1\n",
    "plt.subplot(2,2,2) #2\n",
    "plt.subplot(2,2,3) #3\n",
    "plt.subplot(2,2,4) #4\n",
    "\n",
    "plt.show()"
   ]
  },
  {
   "cell_type": "code",
   "execution_count": null,
   "metadata": {},
   "outputs": [],
   "source": [
    "plt.figure(figsize=(10,6))\n",
    "\n",
    "plt.subplot(2,2,1)\n",
    "plt.subplot(2,2,2)\n",
    "plt.subplot(2,1,2) #2개의 열을 하나로 사용\n",
    "\n",
    "plt.show()"
   ]
  },
  {
   "cell_type": "code",
   "execution_count": null,
   "metadata": {},
   "outputs": [],
   "source": [
    "import numpy as np\n",
    "import matplotlib.pyplot as plt\n",
    "\n",
    "\n",
    "def f(t):\n",
    "    return np.exp(-t) * np.cos(2*np.pi*t)\n",
    "\n",
    "\n",
    "t1 = np.arange(0.0, 3.0, 0.01)\n",
    "\n",
    "ax1 = plt.subplot(212) #이렇게 이어서 줘도 됨. 2행1열2번째\n",
    "ax1.margins(0.05)           # Default margin is 0.05, value 0 means fit\n",
    "ax1.plot(t1, f(t1))\n",
    "\n",
    "ax2 = plt.subplot(221)\n",
    "ax2.margins(2,2)           # Values >0.0 zoom out\n",
    "ax2.plot(t1, f(t1))\n",
    "ax2.set_title('Zoomed out')\n",
    "\n",
    "ax3 = plt.subplot(222)\n",
    "ax3.margins(x=0, y=-0.25)   # Values in (-0.5, 0.0) zooms in to center\n",
    "ax3.plot(t1, f(t1))\n",
    "ax3.set_title('Zoomed in')\n",
    "\n",
    "plt.show()"
   ]
  },
  {
   "cell_type": "code",
   "execution_count": null,
   "metadata": {},
   "outputs": [],
   "source": [
    "t = np.arange(0,5,0.01)\n",
    "\n",
    "plt.figure(figsize=(10,12))\n",
    "\n",
    "plt.subplot(411)\n",
    "plt.plot(t,np.sqrt(t))\n",
    "plt.grid(True)\n",
    "\n",
    "plt.subplot(423)\n",
    "plt.plot(t,t**2)\n",
    "plt.grid(True)\n",
    "\n",
    "plt.subplot(424)\n",
    "plt.plot(t,t**3)\n",
    "plt.grid(True)\n",
    "\n",
    "plt.subplot(413)\n",
    "plt.plot(t,np.sin(t))\n",
    "plt.grid(True)\n",
    "\n",
    "plt.subplot(414)\n",
    "plt.plot(t,np.cos(t))\n",
    "plt.grid(True)\n",
    "\n",
    "plt.show()"
   ]
  },
  {
   "cell_type": "code",
   "execution_count": null,
   "metadata": {},
   "outputs": [],
   "source": [
    "import numpy as np\n",
    "import matplotlib.pyplot as plt\n",
    "\n",
    "x=np.linspace(-3,3,100)\n",
    "y1=np.sin(x)\n",
    "y2=np.cos(x)\n",
    "y3=1/(1+np.exp(-x))\n",
    "y4=np.exp(x)\n",
    "\n",
    "fig, ax = plt.subplots(2, 2)\n",
    "\n",
    "ax[0, 0].plot(x, y1)\n",
    "ax[0, 1].plot(x, y2)\n",
    "ax[1, 0].plot(x, y3)\n",
    "ax[1, 1].plot(x,y4)\n",
    "\n",
    "ax[0, 0].set_title(\"Sine function\")\n",
    "ax[0, 1].set_title(\"Cosine function\")\n",
    "ax[1, 0].set_title(\"Sigmoid function\")\n",
    "ax[1, 1].set_title(\"Exponential function\")\n",
    "\n",
    "plt.show()"
   ]
  },
  {
   "cell_type": "code",
   "execution_count": null,
   "metadata": {},
   "outputs": [],
   "source": [
    "import numpy as np\n",
    "import matplotlib.pyplot as plt\n",
    "\n",
    "x=np.linspace(-3,3,100)\n",
    "y1=np.sin(x)\n",
    "y2=np.cos(x)\n",
    "y3=1/(1+np.exp(-x))\n",
    "y4=np.exp(x)\n",
    "\n",
    "fig, ax = plt.subplots(2, 2, constrained_layout=True)\n",
    "\n",
    "ax[0, 0].plot(x, y1)\n",
    "ax[0, 1].plot(x, y2)\n",
    "ax[1, 0].plot(x, y3)\n",
    "ax[1, 1].plot(x,y4)\n",
    "\n",
    "ax[0, 0].set_title(\"Sine function\")\n",
    "ax[0, 1].set_title(\"Cosine function\")\n",
    "ax[1, 0].set_title(\"Sigmoid function\")\n",
    "ax[1, 1].set_title(\"Exponential function\")\n",
    "\n",
    "plt.show()"
   ]
  },
  {
   "cell_type": "code",
   "execution_count": null,
   "metadata": {},
   "outputs": [],
   "source": [
    "import numpy as np\n",
    "import matplotlib.pyplot as plt\n",
    "\n",
    "x=np.linspace(-3,3,100)\n",
    "y1=np.sin(x)\n",
    "y2=np.cos(x)\n",
    "y3=1/(1+np.exp(-x))\n",
    "y4=np.exp(x)\n",
    "\n",
    "fig, ax = plt.subplots(2, 2)\n",
    "\n",
    "ax[0, 0].plot(x, y1)\n",
    "ax[0, 1].plot(x, y2)\n",
    "ax[1, 0].plot(x, y3)\n",
    "ax[1, 1].plot(x,y4)\n",
    "\n",
    "ax[0, 0].set_title(\"Sine function\")\n",
    "ax[0, 1].set_title(\"Cosine function\")\n",
    "ax[1, 0].set_title(\"Sigmoid function\")\n",
    "ax[1, 1].set_title(\"Exponential function\")\n",
    "\n",
    "plt.subplots_adjust(left=0.125,\n",
    "                    bottom=0.1, \n",
    "                    right=0.9, \n",
    "                    top=0.9, \n",
    "                    wspace=0.2, \n",
    "                    hspace=0.9)\n",
    "\n",
    "plt.show()\n"
   ]
  },
  {
   "cell_type": "code",
   "execution_count": null,
   "metadata": {},
   "outputs": [],
   "source": [
    "x = np.linspace(0, 10, 100)\n",
    "y = np.cos(x)"
   ]
  },
  {
   "cell_type": "code",
   "execution_count": null,
   "metadata": {},
   "outputs": [],
   "source": [
    "fig, axes = plt.subplots(1,2)\n",
    "axes[0].scatter(x, y, marker=\".\")\n",
    "axes[0].text(2,0, \"Example Graph\", style=\"italic\", size=30)\n",
    "axes[1].scatter(x, y, marker=\"*\")\n",
    "axes[1].annotate(\"Sine\", xy=(5,0.5), xytext=(2,0.75),\n",
    "                 arrowprops=dict(arrowstyle=\"simple\"))\n",
    "plt.show()"
   ]
  },
  {
   "cell_type": "code",
   "execution_count": null,
   "metadata": {},
   "outputs": [],
   "source": [
    "fig, axes = plt.subplots(1,2, figsize=(8,3))\n",
    "plt.subplots_adjust(hspace=0.4, wspace=0.3)\n",
    "plt.suptitle(\"Main Title\")\n",
    "axes[0].set_title(\"Title 1\")\n",
    "axes[0].set_xlabel(\"W\")\n",
    "axes[1].set_title(\"Title 2\", loc=\"right\")\n",
    "axes[1].set_xlabel(\"X\")\n",
    "plt.show()"
   ]
  },
  {
   "cell_type": "code",
   "execution_count": null,
   "metadata": {},
   "outputs": [],
   "source": [
    "from matplotlib import pyplot as plt\n",
    "# x,y 축 데이터\n",
    "years = [1950, 1960, 1970, 1980, 1990, 2000, 2010]\n",
    "gdp = [300.2, 543.3, 1075.9, 2862.5, 5979.6, 10289.7, 14958.3]\n",
    "\n",
    "# 표 내부 설정\n",
    "#plt.plot(years, gdp, color='green', marker='o', linestyle='solid')\n",
    "plt.plot(years, gdp, 'go--')\n",
    "\n",
    "# 표 외부 설정\n",
    "plt.title(\"Nominal GDP\", color=\"r\")\n",
    "plt.ylabel(\"Billions of $\")\n",
    "plt.xlabel(\"Years\")\n",
    "\n",
    "# 표 그리기\n",
    "plt.show()\n",
    "# 파일 저장\n",
    "plt.savefig(\"output/hello.png\")"
   ]
  },
  {
   "cell_type": "code",
   "execution_count": null,
   "metadata": {},
   "outputs": [],
   "source": [
    "data = {'a': np.arange(50),\n",
    "        'c': np.random.randint(0, 50, 50),\n",
    "        'd': np.random.randn(50)}\n",
    "data['b'] = data['a'] + 10 * np.random.randn(50)\n",
    "data['d'] = np.abs(data['d']) * 100\n",
    "\n",
    "plt.scatter('a', 'b', c='c', s='d', data=data)\n",
    "plt.xlabel('entry a')\n",
    "plt.ylabel('entry b')\n",
    "plt.show()"
   ]
  },
  {
   "cell_type": "code",
   "execution_count": null,
   "metadata": {},
   "outputs": [],
   "source": [
    "names = ['group_a', 'group_b', 'group_c']\n",
    "values = [1, 10, 100]\n",
    "\n",
    "plt.figure(figsize=(9, 3))\n",
    "\n",
    "plt.subplot(131)\n",
    "plt.bar(names, values)\n",
    "plt.subplot(132)\n",
    "plt.scatter(names, values)\n",
    "plt.subplot(133)\n",
    "plt.plot(names, values)\n",
    "plt.suptitle('Categorical Plotting')\n",
    "plt.show()"
   ]
  },
  {
   "cell_type": "code",
   "execution_count": null,
   "metadata": {},
   "outputs": [],
   "source": [
    "# 예제 4-1\n",
    "import pandas as pd\n",
    "import matplotlib.pyplot as plt\n",
    "\n",
    "# Excel 데이터를 데이터프레임 변환 \n",
    "df = pd.read_excel('data/시도별 전출입 인구수.xlsx', header=0)\n",
    "#df.fillna(0, inplace=True)\n",
    "df.head()"
   ]
  },
  {
   "cell_type": "code",
   "execution_count": null,
   "metadata": {},
   "outputs": [],
   "source": [
    "# 누락값(NaN)을 앞 데이터로 채움 (엑셀 양식 병합 부분)\n",
    "df = df.fillna(method='ffill')\n",
    "display(df)\n",
    "# 서울에서 다른 지역으로 이동한 데이터만 추출하여 정리\n",
    "mask = (df['전출지별'] == '서울특별시') & (df['전입지별'] != '서울특별시') \n",
    "df_seoul = df[mask]\n",
    "df_seoul = df_seoul.drop(['전출지별'], axis=1)\n",
    "df_seoul.rename({'전입지별':'전입지'}, axis=1, inplace=True)\n",
    "df_seoul.set_index('전입지', inplace=True)\n",
    "display(df_seoul)"
   ]
  },
  {
   "cell_type": "code",
   "execution_count": null,
   "metadata": {},
   "outputs": [],
   "source": [
    "# 서울에서 경기도로 이동한 인구 데이터 값만 선택 \n",
    "sr_one = df_seoul.loc['경기도']\n",
    "display(sr_one)"
   ]
  },
  {
   "cell_type": "code",
   "execution_count": null,
   "metadata": {},
   "outputs": [],
   "source": [
    "# x, y축 데이터를 plot 함수에 입력\n",
    "plt.plot(sr_one.index, sr_one.values)"
   ]
  },
  {
   "cell_type": "code",
   "execution_count": null,
   "metadata": {},
   "outputs": [],
   "source": [
    "# 판다스 객체를 plot 함수에 입력\n",
    "plt.plot(sr_one)"
   ]
  },
  {
   "cell_type": "code",
   "execution_count": 4,
   "metadata": {},
   "outputs": [
    {
     "data": {
      "image/png": "[encoded data removed]",
      "text/plain": [
       "<Figure size 432x288 with 1 Axes>"
      ]
     },
     "metadata": {
      "needs_background": "light"
     },
     "output_type": "display_data"
    }
   ],
   "source": [
    "# 예제 4-2\n",
    "# 라이브러리 불러오기\n",
    "import pandas as pd\n",
    "import matplotlib.pyplot as plt\n",
    "\n",
    "# Excel 데이터를 데이터프레임 변환 \n",
    "df = pd.read_excel('C:\\KHY\\PYDATAexam\\data/시도별 전출입 인구수.xlsx', header=0)\n",
    "\n",
    "# 전출지별에서 누락값(NaN)을 앞 데이터로 채움 (엑셀 양식 병합 부분)\n",
    "df = df.fillna(method='ffill')\n",
    "\n",
    "# 서울에서 다른 지역으로 이동한 데이터만 추출하여 정리\n",
    "mask = (df['전출지별'] == '서울특별시') & (df['전입지별'] != '서울특별시') \n",
    "df_seoul = df[mask]\n",
    "df_seoul = df_seoul.drop(['전출지별'], axis=1)\n",
    "df_seoul.rename({'전입지별':'전입지'}, axis=1, inplace=True)\n",
    "df_seoul.set_index('전입지', inplace=True)\n",
    "\n",
    "# 서울에서 경기도로 이동한 인구 데이터 값만 선택 \n",
    "sr_one = df_seoul.loc['경기도']\n",
    "\n",
    "# x, y축 데이터를 plot 함수에 입력\n",
    "plt.plot(sr_one.index, sr_one.values)\n",
    "\n",
    "# 차트 제목 추가\n",
    "plt.title('서울 -> 경기 인구 이동')\n",
    "\n",
    "# 축이름 추가\n",
    "plt.xlabel('기간')\n",
    "plt.ylabel('이동 인구수')\n",
    "\n",
    "plt.show()  # 변경사항 저장하고 그래프 출력"
   ]
  },
  {
   "cell_type": "code",
   "execution_count": 6,
   "metadata": {},
   "outputs": [
    {
     "data": {
      "image/png": "[encoded data removed]",
      "text/plain": [
       "<Figure size 432x288 with 1 Axes>"
      ]
     },
     "metadata": {
      "needs_background": "light"
     },
     "output_type": "display_data"
    }
   ],
   "source": [
    "# 예제 4-3\n",
    "# 라이브러리 불러오기\n",
    "import pandas as pd\n",
    "import matplotlib.pyplot as plt\n",
    "\n",
    "# matplotlib 한글 폰트 오류 문제 해결\n",
    "from matplotlib import font_manager, rc\n",
    "font_path = \"C:\\KHY\\PYDATAexam\\data\\malgun.ttf\"   #폰트파일의 위치\n",
    "font_name = font_manager.FontProperties(fname=font_path).get_name()\n",
    "rc('font', family=font_name)\n",
    "\n",
    "# Excel 데이터를 데이터프레임 변환 \n",
    "df = pd.read_excel('C:\\KHY\\PYDATAexam\\data/시도별 전출입 인구수.xlsx',  header=0)\n",
    "\n",
    "# 전출지별에서 누락값(NaN)을 앞 데이터로 채움 (엑셀 양식 병합 부분)\n",
    "df = df.fillna(method='ffill')\n",
    "\n",
    "# 서울에서 다른 지역으로 이동한 데이터만 추출하여 정리\n",
    "mask = (df['전출지별'] == '서울특별시') & (df['전입지별'] != '서울특별시') \n",
    "df_seoul = df[mask]\n",
    "df_seoul = df_seoul.drop(['전출지별'], axis=1)\n",
    "df_seoul.rename({'전입지별':'전입지'}, axis=1, inplace=True)\n",
    "df_seoul.set_index('전입지', inplace=True)\n",
    "\n",
    "# 서울에서 경기도로 이동한 인구 데이터 값만 선택\n",
    "sr_one = df_seoul.loc['경기도']\n",
    "\n",
    "# x, y축 데이터를 plot 함수에 입력\n",
    "plt.plot(sr_one.index, sr_one.values)\n",
    "\n",
    "# 차트 제목 추가\n",
    "plt.title('서울 -> 경기 인구 이동')\n",
    "\n",
    "# 축이름 추가\n",
    "plt.xlabel('기간')\n",
    "plt.ylabel('이동 인구수')\n",
    "\n",
    "plt.show()  # 변경사항 저장하고 그래프 출력"
   ]
  },
  {
   "cell_type": "code",
   "execution_count": null,
   "metadata": {},
   "outputs": [],
   "source": [
    "# 예제 4-4\n",
    "# 라이브러리 불러오기\n",
    "import pandas as pd\n",
    "import matplotlib.pyplot as plt\n",
    "\n",
    "# matplotlib 한글 폰트 오류 문제 해결\n",
    "from matplotlib import font_manager, rc\n",
    "font_path = \"C:\\KHY\\PYDATAexam\\data/malgun.ttf\"   #폰트파일의 위치\n",
    "font_name = font_manager.FontProperties(fname=font_path).get_name()\n",
    "rc('font', family=font_name)\n",
    "\n",
    "# Excel 데이터를 데이터프레임 변환 \n",
    "df = pd.read_excel('C:\\KHY\\PYDATAexam\\data/시도별 전출입 인구수.xlsx',  header=0)\n",
    "\n",
    "# 전출지별에서 누락값(NaN)을 앞 데이터로 채움 (엑셀 양식 병합 부분)\n",
    "df = df.fillna(method='ffill')\n",
    "\n",
    "# 서울에서 다른 지역으로 이동한 데이터만 추출하여 정리\n",
    "mask = (df['전출지별'] == '서울특별시') & (df['전입지별'] != '서울특별시') \n",
    "df_seoul = df[mask]\n",
    "df_seoul = df_seoul.drop(['전출지별'], axis=1)\n",
    "df_seoul.rename({'전입지별':'전입지'}, axis=1, inplace=True)\n",
    "df_seoul.set_index('전입지', inplace=True)\n",
    "\n",
    "# 서울에서 경기도로 이동한 인구 데이터 값만 선택\n",
    "sr_one = df_seoul.loc['경기도']\n",
    "\n",
    "# 그림 사이즈 지정(가로 14인치, 세로 5인치)\n",
    "plt.figure(figsize=(14, 5))\n",
    "\n",
    "# x축 눈금 라벨 회전하기\n",
    "plt.xticks(rotation='vertical')\n",
    "\n",
    "# x, y축 데이터를 plot 함수에 입력 \n",
    "plt.plot(sr_one.index, sr_one.values)\n",
    "\n",
    "plt.title('서울 -> 경기 인구 이동')  #차트 제목\n",
    "plt.xlabel('기간')                  #x축 이름\n",
    "plt.ylabel('이동 인구수')           #y축 이름\n",
    "\n",
    "plt.legend(labels=['서울 -> 경기'], loc='best')     #범례 표시\n",
    "\n",
    "plt.show()  # 변경사항 저장하고 그래프 출력"
   ]
  },
  {
   "cell_type": "code",
   "execution_count": null,
   "metadata": {},
   "outputs": [],
   "source": [
    "# 예제 4-5\n",
    "# 라이브러리 불러오기\n",
    "import pandas as pd\n",
    "import matplotlib.pyplot as plt\n",
    "\n",
    "# matplotlib 한글 폰트 오류 문제 해결\n",
    "from matplotlib import font_manager, rc\n",
    "font_path = \"./data/malgun.ttf\"   #폰트파일의 위치\n",
    "font_name = font_manager.FontProperties(fname=font_path).get_name()\n",
    "rc('font', family=font_name)\n",
    "\n",
    "# Excel 데이터를 데이터프레임 변환 \n",
    "df = pd.read_excel('data/시도별 전출입 인구수.xlsx', header=0)\n",
    "\n",
    "# 전출지별에서 누락값(NaN)을 앞 데이터로 채움 (엑셀 양식 병합 부분)\n",
    "df = df.fillna(method='ffill')\n",
    "\n",
    "# 서울에서 다른 지역으로 이동한 데이터만 추출하여 정리\n",
    "mask = (df['전출지별'] == '서울특별시') & (df['전입지별'] != '서울특별시') \n",
    "df_seoul = df[mask]\n",
    "df_seoul = df_seoul.drop(['전출지별'], axis=1)\n",
    "df_seoul.rename({'전입지별':'전입지'}, axis=1, inplace=True)\n",
    "df_seoul.set_index('전입지', inplace=True)\n",
    "\n",
    "# 서울에서 경기도로 이동한 인구 데이터 값만 선택\n",
    "sr_one = df_seoul.loc['경기도']\n",
    "\n",
    "# 스타일 서식 지정\n",
    "plt.style.use('ggplot') \n",
    "\n",
    "# 그림 사이즈 지정\n",
    "plt.figure(figsize=(14, 5))\n",
    "\n",
    "# x축 눈금 라벨 회전하기\n",
    "plt.xticks(size=10, rotation='vertical')\n",
    "\n",
    "# x, y축 데이터를 plot 함수에 입력 \n",
    "plt.plot(sr_one.index, sr_one.values, marker='o', markersize=10)  # 마커 표시 추가\n",
    "\n",
    "plt.title('서울 -> 경기 인구 이동', size=30)  #차트 제목\n",
    "plt.xlabel('기간', size=20)                  #x축 이름\n",
    "plt.ylabel('이동 인구수', size=20)           #y축 이름\n",
    "\n",
    "plt.legend(labels=['서울 -> 경기'], loc='best', fontsize=15)   #범례 표시\n",
    "\n",
    "plt.show()  # 변경사항 저장하고 그래프 출력\n"
   ]
  },
  {
   "cell_type": "code",
   "execution_count": null,
   "metadata": {},
   "outputs": [],
   "source": [
    "# 예제 4-6\n",
    "# 라이브러리 불러오기\n",
    "import matplotlib.pyplot as plt\n",
    "\n",
    "# 스타일 리스트 출력\n",
    "print(plt.style.available)"
   ]
  },
  {
   "cell_type": "code",
   "execution_count": null,
   "metadata": {},
   "outputs": [],
   "source": [
    "# 예제 4-7\n",
    "# 라이브러리 불러오기\n",
    "import pandas as pd\n",
    "import matplotlib.pyplot as plt\n",
    "\n",
    "# matplotlib 한글 폰트 오류 문제 해결\n",
    "from matplotlib import font_manager, rc\n",
    "font_path = \"./data/malgun.ttf\"   #폰트파일의 위치\n",
    "font_name = font_manager.FontProperties(fname=font_path).get_name()\n",
    "rc('font', family=font_name)\n",
    "\n",
    "# Excel 데이터를 데이터프레임 변환 \n",
    "df = pd.read_excel('data/시도별 전출입 인구수.xlsx', header=0)\n",
    "\n",
    "# 전출지별에서 누락값(NaN)을 앞 데이터로 채움 (엑셀 양식 병합 부분)\n",
    "df = df.fillna(method='ffill')\n",
    "\n",
    "# 서울에서 다른 지역으로 이동한 데이터만 추출하여 정리\n",
    "mask = (df['전출지별'] == '서울특별시') & (df['전입지별'] != '서울특별시') \n",
    "df_seoul = df[mask]\n",
    "df_seoul = df_seoul.drop(['전출지별'], axis=1)\n",
    "df_seoul.rename({'전입지별':'전입지'}, axis=1, inplace=True)\n",
    "df_seoul.set_index('전입지', inplace=True)\n",
    "\n",
    "# 서울에서 경기도로 이동한 인구 데이터 값만 선택\n",
    "sr_one = df_seoul.loc['경기도']\n",
    "\n",
    "# 스타일 서식 지정\n",
    "plt.style.use('ggplot') \n",
    "\n",
    "# 그림 사이즈 늘리기\n",
    "plt.figure(figsize=(14, 5))\n",
    "\n",
    "# x축 눈금 라벨 회전하기\n",
    "plt.xticks(size=10, rotation='vertical')\n",
    "\n",
    "# x, y축 데이터를 plot 함수에 입력 \n",
    "plt.plot(sr_one.index, sr_one.values, marker='o', markersize=10)  # 마커 표시 추가\n",
    "\n",
    "plt.title('서울 -> 경기 인구 이동', size=30)  #차트 제목\n",
    "plt.xlabel('기간', size=20)                  #x축 이름\n",
    "plt.ylabel('이동 인구수', size=20)           #y축 이름\n",
    "\n",
    "#범례 표시\n",
    "plt.legend(labels=['서울 -> 경기'], loc='best', fontsize=15)\n",
    "\n",
    "# y축 범위 지정 (최소값, 최대값)\n",
    "plt.ylim(50000, 800000)\n",
    "\n",
    "# 주석 표시 - 화살표\n",
    "plt.annotate('',\n",
    "             xy=(20, 620000),       #화살표의 머리 부분(끝점)\n",
    "             xytext=(2, 290000),    #화살표의 꼬리 부분(시작점)\n",
    "             xycoords='data',       #좌표체계\n",
    "             arrowprops=dict(arrowstyle='->', color='skyblue', lw=5), #화살표 서식\n",
    "             )\n",
    "\n",
    "plt.annotate('',\n",
    "             xy=(47, 450000),       #화살표의 머리 부분(끝점)\n",
    "             xytext=(30, 580000),   #화살표의 꼬리 부분(시작점)\n",
    "             xycoords='data',       #좌표체계\n",
    "             arrowprops=dict(arrowstyle='->', color='olive', lw=5),  #화살표 서식\n",
    "             )\n",
    "\n",
    "# 주석 표시 - 텍스트\n",
    "plt.annotate('인구이동 증가(1970-1995)',  #텍스트 입력\n",
    "             xy=(10, 550000),            #텍스트 위치 기준점\n",
    "             rotation=25,                #텍스트 회전각도\n",
    "             va='baseline',              #텍스트 상하 정렬\n",
    "             ha='center',                #텍스트 좌우 정렬\n",
    "             fontsize=15,                #텍스트 크기\n",
    "             )\n",
    "\n",
    "plt.annotate('인구이동 감소(1995-2017)',  #텍스트 입력\n",
    "             xy=(40, 560000),            #텍스트 위치 기준점\n",
    "             rotation=-11,               #텍스트 회전각도\n",
    "             va='baseline',              #텍스트 상하 정렬\n",
    "             ha='center',                #텍스트 좌우 정렬\n",
    "             fontsize=15,                #텍스트 크기\n",
    "             )\n",
    "\n",
    "plt.show()  # 변경사항 저장하고 그래프 출력\n"
   ]
  },
  {
   "cell_type": "code",
   "execution_count": null,
   "metadata": {},
   "outputs": [],
   "source": [
    "# 예제 4-8\n",
    "# 라이브러리 불러오기\n",
    "import pandas as pd\n",
    "import matplotlib.pyplot as plt\n",
    "\n",
    "# matplotlib 한글 폰트 오류 문제 해결\n",
    "from matplotlib import font_manager, rc\n",
    "font_path = \"./data/malgun.ttf\"   #폰트파일의 위치\n",
    "font_name = font_manager.FontProperties(fname=font_path).get_name()\n",
    "rc('font', family=font_name)\n",
    "\n",
    "# Excel 데이터를 데이터프레임 변환 \n",
    "df = pd.read_excel('data/시도별 전출입 인구수.xlsx', header=0)\n",
    "\n",
    "# 전출지별에서 누락값(NaN)을 앞 데이터로 채움 (엑셀 양식 병합 부분)\n",
    "df = df.fillna(method='ffill')\n",
    "\n",
    "# 서울에서 다른 지역으로 이동한 데이터만 추출하여 정리\n",
    "mask = (df['전출지별'] == '서울특별시') & (df['전입지별'] != '서울특별시') \n",
    "df_seoul = df[mask]\n",
    "df_seoul = df_seoul.drop(['전출지별'], axis=1)\n",
    "df_seoul.rename({'전입지별':'전입지'}, axis=1, inplace=True)\n",
    "df_seoul.set_index('전입지', inplace=True)\n",
    "\n",
    "# 서울에서 경기도로 이동한 인구 데이터 값만 선택\n",
    "sr_one = df_seoul.loc['경기도']\n",
    "\n",
    "# 스타일 서식 지정\n",
    "plt.style.use('ggplot') \n",
    "\n",
    "# 그래프 객체 생성 (figure에 2개의 서브 플롯을 생성)\n",
    "fig = plt.figure(figsize=(10, 10))   \n",
    "ax1 = fig.add_subplot(2, 1, 1)\n",
    "ax2 = fig.add_subplot(2, 1, 2)\n",
    "\n",
    "# axe 객체에 plot 함수로 그래프 출력\n",
    "ax1.plot(sr_one, 'o', markersize=10)\n",
    "ax2.plot(sr_one, marker='o', markerfacecolor='green', markersize=10, \n",
    "         color='olive', linewidth=2, label='서울 -> 경기')\n",
    "ax2.legend(loc='best')\n",
    "\n",
    "#y축 범위 지정 (최소값, 최대값)\n",
    "ax1.set_ylim(50000, 800000)\n",
    "ax2.set_ylim(50000, 800000)\n",
    "\n",
    "# 축 눈금 라벨 지정 및 75도 회전\n",
    "ax1.set_xticklabels(sr_one.index, rotation=75)\n",
    "ax2.set_xticklabels(sr_one.index, rotation=75)\n",
    "\n",
    "plt.show()  # 변경사항 저장하고 그래프 출력"
   ]
  },
  {
   "cell_type": "code",
   "execution_count": null,
   "metadata": {},
   "outputs": [],
   "source": [
    "# 예제 4-9\n",
    "# 라이브러리 불러오기\n",
    "import pandas as pd\n",
    "import matplotlib.pyplot as plt\n",
    "\n",
    "# matplotlib 한글 폰트 오류 문제 해결\n",
    "from matplotlib import font_manager, rc\n",
    "font_path = \"./data/malgun.ttf\"   #폰트파일의 위치\n",
    "font_name = font_manager.FontProperties(fname=font_path).get_name()\n",
    "rc('font', family=font_name)\n",
    "\n",
    "# Excel 데이터를 데이터프레임 변환 \n",
    "df = pd.read_excel('data/시도별 전출입 인구수.xlsx', header=0)\n",
    "\n",
    "# 전출지별에서 누락값(NaN)을 앞 데이터로 채움 (엑셀 양식 병합 부분)\n",
    "df = df.fillna(method='ffill')\n",
    "\n",
    "# 서울에서 다른 지역으로 이동한 데이터만 추출하여 정리\n",
    "mask = (df['전출지별'] == '서울특별시') & (df['전입지별'] != '서울특별시') \n",
    "df_seoul = df[mask]\n",
    "df_seoul = df_seoul.drop(['전출지별'], axis=1)\n",
    "df_seoul.rename({'전입지별':'전입지'}, axis=1, inplace=True)\n",
    "df_seoul.set_index('전입지', inplace=True)\n",
    "\n",
    "# 서울에서 경기도로 이동한 인구 데이터 값만 선택\n",
    "sr_one = df_seoul.loc['경기도']\n",
    "\n",
    "# 스타일 서식 지정\n",
    "plt.style.use('ggplot') \n",
    "\n",
    "# 그래프 객체 생성 (figure에 1개의 서브 플롯을 생성)\n",
    "fig = plt.figure(figsize=(20, 5))   \n",
    "ax = fig.add_subplot(1, 1, 1)\n",
    "\n",
    "# axe 객체에 plot 함수로 그래프 출력\n",
    "ax.plot(sr_one, marker='o', markerfacecolor='orange', markersize=10, \n",
    "        color='olive', linewidth=2, label='서울 -> 경기')\n",
    "ax.legend(loc='best')\n",
    "\n",
    "#y축 범위 지정 (최소값, 최대값)\n",
    "ax.set_ylim(50000, 800000)\n",
    "\n",
    "# 차트 제목 추가\n",
    "ax.set_title('서울 -> 경기 인구 이동', size=20)\n",
    "\n",
    "# 축이름 추가\n",
    "ax.set_xlabel('기간', size=12)\n",
    "ax.set_ylabel('이동 인구수', size = 12)\n",
    "\n",
    "# 축 눈금 라벨 지정 및 75도 회전\n",
    "ax.set_xticklabels(sr_one.index, rotation=75)\n",
    "\n",
    "# 축 눈금 라벨 크기\n",
    "ax.tick_params(axis=\"x\", labelsize=10)\n",
    "ax.tick_params(axis=\"y\", labelsize=10)\n",
    "\n",
    "plt.show()  # 변경사항 저장하고 그래프 출력"
   ]
  },
  {
   "cell_type": "code",
   "execution_count": null,
   "metadata": {},
   "outputs": [],
   "source": [
    "# 예제 4-10\n",
    "# 라이브러리 불러오기\n",
    "import pandas as pd\n",
    "import matplotlib.pyplot as plt\n",
    "\n",
    "# matplotlib 한글 폰트 오류 문제 해결\n",
    "from matplotlib import font_manager, rc\n",
    "font_path = \"./data/malgun.ttf\"   #폰트파일의 위치\n",
    "font_name = font_manager.FontProperties(fname=font_path).get_name()\n",
    "rc('font', family=font_name)\n",
    "\n",
    "# Excel 데이터를 데이터프레임 변환 \n",
    "df = pd.read_excel('data/시도별 전출입 인구수.xlsx', header=0)\n",
    "\n",
    "# 전출지별에서 누락값(NaN)을 앞 데이터로 채움 (엑셀 양식 병합 부분)\n",
    "df = df.fillna(method='ffill')\n",
    "\n",
    "# 서울에서 다른 지역으로 이동한 데이터만 추출하여 정리\n",
    "mask = (df['전출지별'] == '서울특별시') & (df['전입지별'] != '서울특별시') \n",
    "df_seoul = df[mask]\n",
    "df_seoul = df_seoul.drop(['전출지별'], axis=1)\n",
    "df_seoul.rename({'전입지별':'전입지'}, axis=1, inplace=True)\n",
    "df_seoul.set_index('전입지', inplace=True)\n",
    "\n",
    "# 서울에서 '충청남도','경상북도', '강원도'로 이동한 인구 데이터 값만 선택\n",
    "col_years = list(map(str, range(1970, 2018)))\n",
    "df_3 = df_seoul.loc[['충청남도','경상북도', '강원도'], col_years]\n",
    "\n",
    "# 스타일 서식 지정\n",
    "plt.style.use('ggplot') \n",
    "\n",
    "# 그래프 객체 생성 (figure에 1개의 서브 플롯을 생성)\n",
    "fig = plt.figure(figsize=(20, 5))   \n",
    "ax = fig.add_subplot(1, 1, 1)\n",
    "\n",
    "# axe 객체에 plot 함수로 그래프 출력\n",
    "ax.plot(col_years, df_3.loc['충청남도',:], marker='o', markerfacecolor='green', \n",
    "        markersize=10, color='olive', linewidth=2, label='서울 -> 충남')\n",
    "ax.plot(col_years, df_3.loc['경상북도',:], marker='o', markerfacecolor='blue', \n",
    "        markersize=10, color='skyblue', linewidth=2, label='서울 -> 경북')\n",
    "ax.plot(col_years, df_3.loc['강원도',:], marker='o', markerfacecolor='red', \n",
    "        markersize=10, color='magenta', linewidth=2, label='서울 -> 강원')\n",
    "\n",
    "# 범례 표시\n",
    "ax.legend(loc='best')\n",
    "\n",
    "# 차트 제목 추가\n",
    "ax.set_title('서울 -> 충남, 경북, 강원 인구 이동', size=20)\n",
    "\n",
    "# 축이름 추가\n",
    "ax.set_xlabel('기간', size=12)\n",
    "ax.set_ylabel('이동 인구수', size = 12)\n",
    "\n",
    "# 축 눈금 라벨 지정 및 90도 회전\n",
    "ax.set_xticklabels(col_years, rotation=90)\n",
    "\n",
    "# 축 눈금 라벨 크기\n",
    "ax.tick_params(axis=\"x\", labelsize=10)\n",
    "ax.tick_params(axis=\"y\", labelsize=10)\n",
    "\n",
    "plt.show()  # 변경사항 저장하고 그래프 출력"
   ]
  },
  {
   "cell_type": "code",
   "execution_count": null,
   "metadata": {},
   "outputs": [],
   "source": [
    "# 예제 4-11\n",
    "# 라이브러리 불러오기\n",
    "import pandas as pd\n",
    "import matplotlib.pyplot as plt\n",
    "\n",
    "# matplotlib 한글 폰트 오류 문제 해결\n",
    "from matplotlib import font_manager, rc\n",
    "font_path = \"./data/malgun.ttf\"   #폰트파일의 위치\n",
    "font_name = font_manager.FontProperties(fname=font_path).get_name()\n",
    "rc('font', family=font_name)\n",
    "\n",
    "# Excel 데이터를 데이터프레임 변환 \n",
    "df = pd.read_excel('data/시도별 전출입 인구수.xlsx', header=0)\n",
    "\n",
    "# 전출지별에서 누락값(NaN)을 앞 데이터로 채움 (엑셀 양식 병합 부분)\n",
    "df = df.fillna(method='ffill')\n",
    "\n",
    "# 서울에서 다른 지역으로 이동한 데이터만 추출하여 정리\n",
    "mask = (df['전출지별'] == '서울특별시') & (df['전입지별'] != '서울특별시') \n",
    "df_seoul = df[mask]\n",
    "df_seoul = df_seoul.drop(['전출지별'], axis=1)\n",
    "df_seoul.rename({'전입지별':'전입지'}, axis=1, inplace=True)\n",
    "df_seoul.set_index('전입지', inplace=True)\n",
    "\n",
    "# 서울에서 '충청남도','경상북도', '강원도', '전라남도'로 이동한 인구 데이터 값만 선택\n",
    "col_years = list(map(str, range(1970, 2018)))\n",
    "df_4 = df_seoul.loc[['충청남도','경상북도', '강원도', '전라남도'], col_years]\n",
    "\n",
    "# 스타일 서식 지정\n",
    "plt.style.use('ggplot') \n",
    "\n",
    "# 그래프 객체 생성 (figure에 1개의 서브 플롯을 생성)\n",
    "fig = plt.figure(figsize=(20, 10))   \n",
    "ax1 = fig.add_subplot(2, 2, 1)\n",
    "ax2 = fig.add_subplot(2, 2, 2)\n",
    "ax3 = fig.add_subplot(2, 2, 3)\n",
    "ax4 = fig.add_subplot(2, 2, 4)\n",
    "\n",
    "# axe 객체에 plot 함수로 그래프 출력\n",
    "ax1.plot(col_years, df_4.loc['충청남도',:], marker='o', markerfacecolor='green', \n",
    "        markersize=10, color='olive', linewidth=2, label='서울 -> 충남')\n",
    "ax2.plot(col_years, df_4.loc['경상북도',:], marker='o', markerfacecolor='blue', \n",
    "        markersize=10, color='skyblue', linewidth=2, label='서울 -> 경북')\n",
    "ax3.plot(col_years, df_4.loc['강원도',:], marker='o', markerfacecolor='red', \n",
    "        markersize=10, color='magenta', linewidth=2, label='서울 -> 강원')\n",
    "ax4.plot(col_years, df_4.loc['전라남도',:], marker='o', markerfacecolor='orange', \n",
    "        markersize=10, color='yellow', linewidth=2, label='서울 -> 전남')\n",
    "\n",
    "# 범례 표시\n",
    "ax1.legend(loc='best')\n",
    "ax2.legend(loc='best')\n",
    "ax3.legend(loc='best')\n",
    "ax4.legend(loc='best')\n",
    "\n",
    "# 차트 제목 추가\n",
    "ax1.set_title('서울 -> 충남 인구 이동', size=15)\n",
    "ax2.set_title('서울 -> 경북 인구 이동', size=15)\n",
    "ax3.set_title('서울 -> 강원 인구 이동', size=15)\n",
    "ax4.set_title('서울 -> 전남 인구 이동', size=15)\n",
    "\n",
    "# 축 눈금 라벨 지정 및 90도 회전\n",
    "ax1.set_xticklabels(col_years, rotation=90)\n",
    "ax2.set_xticklabels(col_years, rotation=90)\n",
    "ax3.set_xticklabels(col_years, rotation=90)\n",
    "ax4.set_xticklabels(col_years, rotation=90)\n",
    "\n",
    "plt.show()  # 변경사항 저장하고 그래프 출력"
   ]
  },
  {
   "cell_type": "code",
   "execution_count": null,
   "metadata": {},
   "outputs": [],
   "source": [
    "# 예제 4-12\n",
    "# 라이브러리 불러오기\n",
    "import matplotlib\n",
    "\n",
    "# 컬러 정보를 담을 빈 딕셔너리 생성\n",
    "colors={}\n",
    "\n",
    "# 컬러 이름과 헥사코드 확인하여 딕셔서리에 입력\n",
    "for name, hex in matplotlib.colors.cnames.items():\n",
    "\tcolors[name] = hex\n",
    "\n",
    "# 딕셔너리 출력    \n",
    "print(colors)"
   ]
  },
  {
   "cell_type": "code",
   "execution_count": null,
   "metadata": {},
   "outputs": [],
   "source": [
    "# 예제 4-13\n",
    "# 라이브러리 불러오기\n",
    "import pandas as pd\n",
    "import matplotlib.pyplot as plt\n",
    "\n",
    "# matplotlib 한글 폰트 오류 문제 해결\n",
    "from matplotlib import font_manager, rc\n",
    "font_path = \"./data/malgun.ttf\"   #폰트파일의 위치\n",
    "font_name = font_manager.FontProperties(fname=font_path).get_name()\n",
    "rc('font', family=font_name)\n",
    "\n",
    "# Excel 데이터를 데이터프레임 변환 \n",
    "df = pd.read_excel('data/시도별 전출입 인구수.xlsx', header=0)\n",
    "\n",
    "# 전출지별에서 누락값(NaN)을 앞 데이터로 채움 (엑셀 양식 병합 부분)\n",
    "df = df.fillna(method='ffill')\n",
    "\n",
    "# 서울에서 다른 지역으로 이동한 데이터만 추출하여 정리\n",
    "mask = (df['전출지별'] == '서울특별시') & (df['전입지별'] != '서울특별시') \n",
    "df_seoul = df[mask]\n",
    "df_seoul = df_seoul.drop(['전출지별'], axis=1)\n",
    "df_seoul.rename({'전입지별':'전입지'}, axis=1, inplace=True)\n",
    "df_seoul.set_index('전입지', inplace=True)\n",
    "\n",
    "# 서울에서 '충청남도','경상북도', '강원도', '전라남도'로 이동한 인구 데이터 값만 선택\n",
    "col_years = list(map(str, range(1970, 2018)))\n",
    "df_4 = df_seoul.loc[['충청남도','경상북도', '강원도', '전라남도'], col_years]\n",
    "df_4 = df_4.transpose()\n",
    "\n",
    "# 스타일 서식 지정\n",
    "plt.style.use('ggplot') \n",
    "\n",
    "# 데이터프레임의 인덱스를 정수형으로 변경 (x축 눈금 라벨 표시)\n",
    "df_4.index = df_4.index.map(int)\n",
    "\n",
    "# 면적 그래프 그리기\n",
    "df_4.plot(kind='area', stacked=False, alpha=0.2, figsize=(20, 10))\n",
    "\n",
    "plt.title('서울 -> 타시도 인구 이동', size=30)\n",
    "plt.ylabel('이동 인구 수', size=20)\n",
    "plt.xlabel('기간', size=20)\n",
    "plt.legend(loc='best', fontsize=15)\n",
    "\n",
    "plt.show()"
   ]
  },
  {
   "cell_type": "code",
   "execution_count": null,
   "metadata": {},
   "outputs": [],
   "source": [
    "# 예제 4-14\n",
    "# 라이브러리 불러오기\n",
    "import pandas as pd\n",
    "import matplotlib.pyplot as plt\n",
    "\n",
    "# matplotlib 한글 폰트 오류 문제 해결\n",
    "from matplotlib import font_manager, rc\n",
    "font_path = \"data/malgun.ttf\"   #폰트파일의 위치\n",
    "font_name = font_manager.FontProperties(fname=font_path).get_name()\n",
    "rc('font', family=font_name)\n",
    "\n",
    "# Excel 데이터를 데이터프레임 변환 \n",
    "df = pd.read_excel('data/시도별 전출입 인구수.xlsx', header=0)\n",
    "\n",
    "# 전출지별에서 누락값(NaN)을 앞 데이터로 채움 (엑셀 양식 병합 부분)\n",
    "df = df.fillna(method='ffill')\n",
    "\n",
    "# 서울에서 다른 지역으로 이동한 데이터만 추출하여 정리\n",
    "mask = (df['전출지별'] == '서울특별시') & (df['전입지별'] != '서울특별시') \n",
    "df_seoul = df[mask]\n",
    "df_seoul = df_seoul.drop(['전출지별'], axis=1)\n",
    "df_seoul.rename({'전입지별':'전입지'}, axis=1, inplace=True)\n",
    "df_seoul.set_index('전입지', inplace=True)\n",
    "\n",
    "# 서울에서 '충청남도','경상북도', '강원도', '전라남도'로 이동한 인구 데이터 값만 선택\n",
    "col_years = list(map(str, range(1970, 2018)))\n",
    "df_4 = df_seoul.loc[['충청남도','경상북도', '강원도', '전라남도'], col_years]\n",
    "df_4 = df_4.transpose()\n",
    "\n",
    "# 스타일 서식 지정\n",
    "plt.style.use('ggplot') \n",
    "\n",
    "# 데이터프레임의 인덱스를 정수형으로 변경 (x축 눈금 라벨 표시)\n",
    "df_4.index = df_4.index.map(int)\n",
    "\n",
    "# 면적 그래프 그리기\n",
    "df_4.plot(kind='area', stacked=True, alpha=0.2, figsize=(20, 10))\n",
    "\n",
    "plt.title('서울 -> 타시도 인구 이동', size=30)\n",
    "plt.ylabel('이동 인구 수', size=20)\n",
    "plt.xlabel('기간', size=20)\n",
    "plt.legend(loc='best', fontsize=15)\n",
    "\n",
    "plt.show()"
   ]
  },
  {
   "cell_type": "code",
   "execution_count": null,
   "metadata": {},
   "outputs": [],
   "source": [
    "# 예제 4-15\n",
    "# 라이브러리 불러오기\n",
    "import pandas as pd\n",
    "import matplotlib.pyplot as plt\n",
    "\n",
    "# matplotlib 한글 폰트 오류 문제 해결\n",
    "from matplotlib import font_manager, rc\n",
    "font_path = \"data/malgun.ttf\"   #폰트파일의 위치\n",
    "font_name = font_manager.FontProperties(fname=font_path).get_name()\n",
    "rc('font', family=font_name)\n",
    "\n",
    "# Excel 데이터를 데이터프레임 변환 \n",
    "df = pd.read_excel('data/시도별 전출입 인구수.xlsx', header=0)\n",
    "\n",
    "# 전출지별에서 누락값(NaN)을 앞 데이터로 채움 (엑셀 양식 병합 부분)\n",
    "df = df.fillna(method='ffill')\n",
    "\n",
    "# 서울에서 다른 지역으로 이동한 데이터만 추출하여 정리\n",
    "mask = (df['전출지별'] == '서울특별시') & (df['전입지별'] != '서울특별시') \n",
    "df_seoul = df[mask]\n",
    "df_seoul = df_seoul.drop(['전출지별'], axis=1)\n",
    "df_seoul.rename({'전입지별':'전입지'}, axis=1, inplace=True)\n",
    "df_seoul.set_index('전입지', inplace=True)\n",
    "\n",
    "# 서울에서 '충청남도','경상북도', '강원도', '전라남도'로 이동한 인구 데이터 값만 선택\n",
    "col_years = list(map(str, range(1970, 2018)))\n",
    "df_4 = df_seoul.loc[['충청남도','경상북도', '강원도', '전라남도'], col_years]\n",
    "df_4 = df_4.transpose()\n",
    "\n",
    "# 스타일 서식 지정\n",
    "plt.style.use('ggplot') \n",
    "\n",
    "# 데이터프레임의 인덱스를 정수형으로 변경 (x축 눈금 라벨 표시)\n",
    "df_4.index = df_4.index.map(int)\n",
    "\n",
    "# 면적 그래프 axe 객체 생성\n",
    "ax = df_4.plot(kind='area', stacked=True, alpha=0.2, figsize=(20, 10))\n",
    "print(type(ax))\n",
    "\n",
    "# axe 객체 설정 변경\n",
    "ax.set_title('서울 -> 타시도 인구 이동', size=30, color='brown', weight='bold')\n",
    "ax.set_ylabel('이동 인구 수', size=20, color='blue')\n",
    "ax.set_xlabel('기간', size=20, color='blue')\n",
    "ax.legend(loc='best', fontsize=15)\n",
    "\n",
    "plt.show()"
   ]
  },
  {
   "cell_type": "code",
   "execution_count": null,
   "metadata": {},
   "outputs": [],
   "source": [
    "# 예제 4-16\n",
    "# 라이브러리 불러오기\n",
    "import pandas as pd\n",
    "import matplotlib.pyplot as plt\n",
    "\n",
    "# matplotlib 한글 폰트 오류 문제 해결\n",
    "from matplotlib import font_manager, rc\n",
    "font_path = \"data/malgun.ttf\"   #폰트파일의 위치\n",
    "font_name = font_manager.FontProperties(fname=font_path).get_name()\n",
    "rc('font', family=font_name)\n",
    "\n",
    "# Excel 데이터를 데이터프레임 변환 \n",
    "df = pd.read_excel('data/시도별 전출입 인구수.xlsx', header=0)\n",
    "\n",
    "# 전출지별에서 누락값(NaN)을 앞 데이터로 채움 (엑셀 양식 병합 부분)\n",
    "df = df.fillna(method='ffill')\n",
    "\n",
    "# 서울에서 다른 지역으로 이동한 데이터만 추출하여 정리\n",
    "mask = (df['전출지별'] == '서울특별시') & (df['전입지별'] != '서울특별시') \n",
    "df_seoul = df[mask]\n",
    "df_seoul = df_seoul.drop(['전출지별'], axis=1)\n",
    "df_seoul.rename({'전입지별':'전입지'}, axis=1, inplace=True)\n",
    "df_seoul.set_index('전입지', inplace=True)\n",
    "\n",
    "# 서울에서 '충청남도','경상북도', '강원도', '전라남도'로 이동한 인구 데이터 값만 선택\n",
    "col_years = list(map(str, range(2010, 2018)))     \n",
    "df_4 = df_seoul.loc[['충청남도','경상북도', '강원도', '전라남도'], col_years]\n",
    "df_4 = df_4.transpose()\n",
    "\n",
    "# 스타일 서식 지정\n",
    "plt.style.use('ggplot') \n",
    "\n",
    "# 데이터프레임의 인덱스를 정수형으로 변경 (x축 눈금 라벨 표시)\n",
    "df_4.index = df_4.index.map(int)\n",
    "\n",
    "# 막대 그래프 그리기\n",
    "df_4.plot(kind='bar', figsize=(20, 10), width=0.7,\n",
    "          color=['orange', 'green', 'skyblue', 'blue'])\n",
    "\n",
    "plt.title('서울 -> 타시도 인구 이동', size=30)\n",
    "plt.ylabel('이동 인구 수', size=20)\n",
    "plt.xlabel('기간', size=20)\n",
    "plt.ylim(5000, 30000)\n",
    "plt.legend(loc='best', fontsize=15)\n",
    "\n",
    "plt.show()\n"
   ]
  },
  {
   "cell_type": "code",
   "execution_count": null,
   "metadata": {},
   "outputs": [],
   "source": [
    "# 예제 4-17\n",
    "# 라이브러리 불러오기\n",
    "import pandas as pd\n",
    "import matplotlib.pyplot as plt\n",
    "\n",
    "# matplotlib 한글 폰트 오류 문제 해결\n",
    "from matplotlib import font_manager, rc\n",
    "font_path = \"data/malgun.ttf\"   #폰트파일의 위치\n",
    "font_name = font_manager.FontProperties(fname=font_path).get_name()\n",
    "rc('font', family=font_name)\n",
    "\n",
    "# Excel 데이터를 데이터프레임 변환 \n",
    "df = pd.read_excel('data/시도별 전출입 인구수.xlsx', header=0)\n",
    "\n",
    "# 전출지별에서 누락값(NaN)을 앞 데이터로 채움 (엑셀 양식 병합 부분)\n",
    "df = df.fillna(method='ffill')\n",
    "\n",
    "# 서울에서 다른 지역으로 이동한 데이터만 추출하여 정리\n",
    "mask = (df['전출지별'] == '서울특별시') & (df['전입지별'] != '서울특별시') \n",
    "df_seoul = df[mask]\n",
    "df_seoul = df_seoul.drop(['전출지별'], axis=1)\n",
    "df_seoul.rename({'전입지별':'전입지'}, axis=1, inplace=True)\n",
    "df_seoul.set_index('전입지', inplace=True)\n",
    "\n",
    "# 서울에서 '충청남도','경상북도', '강원도', '전라남도'로 이동한 인구 데이터 값만 선택\n",
    "col_years = list(map(str, range(2010, 2018)))\n",
    "df_4 = df_seoul.loc[['충청남도','경상북도', '강원도', '전라남도'], col_years]\n",
    "\n",
    "# 2010-2017년 이동 인구 수를 합계하여 새로운 열로 추가\n",
    "df_4['합계'] = df_4.sum(axis=1)\n",
    "\n",
    "# 가장 큰 값부터 정렬\n",
    "df_total = df_4[['합계']].sort_values(by='합계', ascending=True)\n",
    "\n",
    "# 스타일 서식 지정\n",
    "plt.style.use('ggplot') \n",
    "\n",
    "# 수평 막대 그래프 그리기\n",
    "df_total.plot(kind='barh', color='cornflowerblue', width=0.5, figsize=(10, 5))\n",
    "\n",
    "plt.title('서울 -> 타시도 인구 이동')\n",
    "plt.ylabel('전입지')\n",
    "plt.xlabel('이동 인구 수')\n",
    "\n",
    "plt.show()\n"
   ]
  },
  {
   "cell_type": "code",
   "execution_count": null,
   "metadata": {},
   "outputs": [],
   "source": [
    "# 예제 4-18\n",
    "# 라이브러리 불러오기\n",
    "import pandas as pd\n",
    "import matplotlib.pyplot as plt\n",
    "\n",
    "# matplotlib 한글 폰트 오류 문제 해결\n",
    "from matplotlib import font_manager, rc\n",
    "font_path = \"data/malgun.ttf\"   #폰트파일의 위치\n",
    "font_name = font_manager.FontProperties(fname=font_path).get_name()\n",
    "rc('font', family=font_name)\n",
    "\n",
    "plt.style.use('ggplot')   # 스타일 서식 지정\n",
    "plt.rcParams['axes.unicode_minus']=False   # 마이너스 부호 출력 설정\n",
    "\n",
    "# Excel 데이터를 데이터프레임 변환 \n",
    "df = pd.read_excel('data/남북한발전전력량.xlsx', convert_float=True)\n",
    "df = df.loc[5:9]\n",
    "df.drop('전력량 (억㎾h)', axis='columns', inplace=True)\n",
    "df.set_index('발전 전력별', inplace=True)\n",
    "df = df.T \n",
    "\n",
    "# 증감율(변동률) 계산\n",
    "df = df.rename(columns={'합계':'총발전량'})\n",
    "df['총발전량 - 1년'] = df['총발전량'].shift(1)\n",
    "df['증감율'] = ((df['총발전량'] / df['총발전량 - 1년']) - 1) * 100      \n",
    "\n",
    "# 2축 그래프 그리기\n",
    "ax1 = df[['수력','화력']].plot(kind='bar', figsize=(20, 10), width=0.7, stacked=True)  \n",
    "ax2 = ax1.twinx()\n",
    "ax2.plot(df.index, df.증감율, ls='--', marker='o', markersize=20, \n",
    "         color='green', label='전년대비 증감율(%)')  \n",
    "\n",
    "ax1.set_ylim(0, 500)\n",
    "ax2.set_ylim(-50, 50)\n",
    "\n",
    "ax1.set_xlabel('연도', size=20)\n",
    "ax1.set_ylabel('발전량(억 KWh)')\n",
    "ax2.set_ylabel('전년 대비 증감율(%)')\n",
    "\n",
    "plt.title('북한 전력 발전량 (1990 ~ 2016)', size=30)\n",
    "ax1.legend(loc='upper left')\n",
    "\n",
    "plt.show()"
   ]
  },
  {
   "cell_type": "code",
   "execution_count": null,
   "metadata": {},
   "outputs": [],
   "source": [
    "# 예제 4-19\n",
    "# 라이브러리 불러오기\n",
    "import pandas as pd\n",
    "import matplotlib.pyplot as plt\n",
    "\n",
    "plt.style.use('classic')   # 스타일 서식 지정\n",
    "\n",
    "# read_csv() 함수로 df 생성\n",
    "df = pd.read_csv('data/auto-mpg.csv', header=None)\n",
    "\n",
    "# 열 이름을 지정\n",
    "df.columns = ['mpg','cylinders','displacement','horsepower','weight',\n",
    "              'acceleration','model year','origin','name']\n",
    "\n",
    "# 연비(mpg) 열에 대한 히스토그램 그리기\n",
    "df['mpg'].plot(kind='hist', bins=10, color='coral', figsize=(10, 5))\n",
    "\n",
    "# 그래프 꾸미기\n",
    "plt.title('Histogram')\n",
    "plt.xlabel('mpg')\n",
    "plt.show()"
   ]
  },
  {
   "cell_type": "code",
   "execution_count": null,
   "metadata": {},
   "outputs": [],
   "source": [
    "# 예제 4-20\n",
    "# 라이브러리 불러오기\n",
    "import pandas as pd\n",
    "import matplotlib.pyplot as plt\n",
    "\n",
    "plt.style.use('default')   # 스타일 서식 지정\n",
    "\n",
    "# read_csv() 함수로 df 생성\n",
    "df = pd.read_csv('data/auto-mpg.csv', header=None)\n",
    "\n",
    "# 열 이름을 지정\n",
    "df.columns = ['mpg','cylinders','displacement','horsepower','weight',\n",
    "              'acceleration','model year','origin','name']\n",
    "\n",
    "# 연비(mpg)와 차중(weight) 열에 대한 산점도 그리기\n",
    "df.plot(kind='scatter', x='weight', y='mpg',  c='coral', s=10, figsize=(10, 5))\n",
    "plt.title('Scatter Plot - mpg vs. weight')\n",
    "plt.show()"
   ]
  },
  {
   "cell_type": "code",
   "execution_count": null,
   "metadata": {},
   "outputs": [],
   "source": [
    "# 예제 4-21\n",
    "# 라이브러리 불러오기\n",
    "import pandas as pd\n",
    "import matplotlib.pyplot as plt\n",
    "\n",
    "plt.style.use('default')   # 스타일 서식 지정\n",
    "\n",
    "# read_csv() 함수로 df 생성\n",
    "df = pd.read_csv('data/auto-mpg.csv', header=None)\n",
    "\n",
    "# 열 이름을 지정\n",
    "df.columns = ['mpg','cylinders','displacement','horsepower','weight',\n",
    "              'acceleration','model year','origin','name']\n",
    "\n",
    "# cylinders 개수의 상대적 비율을 계산하여 시리즈 생성\n",
    "cylinders_size = df.cylinders / df.cylinders.max() * 300\n",
    "\n",
    "# 3개의 변수로 산점도 그리기 \n",
    "df.plot(kind='scatter', x='weight', y='mpg', c='coral', figsize=(10, 5),\n",
    "        s=cylinders_size, alpha=0.3)\n",
    "plt.title('Scatter Plot: mpg-weight-cylinders')\n",
    "plt.show()"
   ]
  },
  {
   "cell_type": "code",
   "execution_count": null,
   "metadata": {},
   "outputs": [],
   "source": [
    "# 예제 4-22\n",
    "# 라이브러리 불러오기\n",
    "import pandas as pd\n",
    "import matplotlib.pyplot as plt\n",
    "\n",
    "plt.style.use('default')   # 스타일 서식 지정\n",
    "\n",
    "# read_csv() 함수로 df 생성\n",
    "df = pd.read_csv('data/auto-mpg.csv', header=None)\n",
    "\n",
    "# 열 이름을 지정\n",
    "df.columns = ['mpg','cylinders','displacement','horsepower','weight',\n",
    "              'acceleration','model year','origin','name']\n",
    "\n",
    "# cylinders 개수의 상대적 비율을 계산하여 시리즈 생성\n",
    "cylinders_size = df.cylinders / df.cylinders.max() * 300\n",
    "\n",
    "# 3개의 변수로 산점도 그리기 \n",
    "df.plot(kind='scatter', x='weight', y='mpg', marker='+', figsize=(10, 5),\n",
    "        cmap='viridis', c=cylinders_size, s=50, alpha=0.3)\n",
    "plt.title('Scatter Plot: mpg-weight-cylinders')\n",
    "\n",
    "plt.savefig(\"output/scatter.png\")   \n",
    "plt.savefig(\"output/scatter_transparent.png\", transparent=True)   \n",
    "\n",
    "plt.show()"
   ]
  },
  {
   "cell_type": "code",
   "execution_count": null,
   "metadata": {},
   "outputs": [],
   "source": [
    "# 예제 4-23\n",
    "# 라이브러리 불러오기\n",
    "import pandas as pd\n",
    "import matplotlib.pyplot as plt\n",
    "\n",
    "# read_csv() 함수로 df 생성\n",
    "df = pd.read_csv('data/auto-mpg.csv', header=None)\n",
    "\n",
    "plt.style.use('default')   # 스타일 서식 지정\n",
    "\n",
    "# 열 이름을 지정\n",
    "df.columns = ['mpg','cylinders','displacement','horsepower','weight',\n",
    "              'acceleration','model year','origin','name']\n",
    "\n",
    "# 데이터 개수 카운트를 위해 값 1을 가진 열을 추가\n",
    "df['count'] = 1\n",
    "df_origin = df.groupby('origin').sum()   # origin 열을 기준으로 그룹화, 합계 연산\n",
    "print(df_origin.head())                  # 그룹 연산 결과 출력\n",
    "\n",
    "# 제조국가(origin) 값을 실제 지역명으로 변경\n",
    "df_origin.index = ['USA', 'EU', 'JAPAN']\n",
    "\n",
    "# 제조국가(origin) 열에 대한 파이 차트 그리기 – count 열 데이터 사용\n",
    "df_origin['count'].plot(kind='pie', \n",
    "                     figsize=(7, 5),\n",
    "                     autopct='%1.1f%%',   # 퍼센트 % 표시\n",
    "                     startangle=10,       # 파이 조각을 나누는 시작점(각도 표시)\n",
    "                     colors=['chocolate', 'bisque', 'cadetblue']    # 색상 리스트\n",
    "                     )\n",
    "\n",
    "plt.title('Model Origin', size=20)\n",
    "plt.axis('equal')    # 파이 차트의 비율을 같게 (원에 가깝게) 조정\n",
    "plt.legend(labels=df_origin.index, loc='upper right')   # 범례 표시\n",
    "plt.show()"
   ]
  },
  {
   "cell_type": "code",
   "execution_count": null,
   "metadata": {},
   "outputs": [],
   "source": [
    "# 예제 4-24\n",
    "# 라이브러리 불러오기\n",
    "import pandas as pd\n",
    "import matplotlib.pyplot as plt\n",
    "\n",
    "# matplotlib 한글 폰트 오류 문제 해결\n",
    "from matplotlib import font_manager, rc\n",
    "font_path = \"data/malgun.ttf\"   #폰트파일의 위치\n",
    "font_name = font_manager.FontProperties(fname=font_path).get_name()\n",
    "rc('font', family=font_name)\n",
    "\n",
    "plt.style.use('seaborn-poster')            # 스타일 서식 지정\n",
    "plt.rcParams['axes.unicode_minus']=False   # 마이너스 부호 출력 설정\n",
    "\n",
    "# read_csv() 함수로 df 생성\n",
    "df = pd.read_csv('data/auto-mpg.csv', header=None)\n",
    "\n",
    "# 열 이름을 지정\n",
    "df.columns = ['mpg','cylinders','displacement','horsepower','weight',\n",
    "              'acceleration','model year','origin','name']\n",
    "\n",
    "# 그래프 객체 생성 (figure에 2개의 서브 플롯을 생성)\n",
    "fig = plt.figure(figsize=(15, 5))   \n",
    "ax1 = fig.add_subplot(1, 2, 1)\n",
    "ax2 = fig.add_subplot(1, 2, 2)\n",
    "\n",
    "# axe 객체에 boxplot 메서드로 그래프 출력\n",
    "ax1.boxplot(x=[df[df['origin']==1]['mpg'],\n",
    "               df[df['origin']==2]['mpg'],\n",
    "               df[df['origin']==3]['mpg']], \n",
    "         labels=['USA', 'EU', 'JAPAN'])\n",
    "\n",
    "ax2.boxplot(x=[df[df['origin']==1]['mpg'],\n",
    "               df[df['origin']==2]['mpg'],\n",
    "               df[df['origin']==3]['mpg']], \n",
    "         labels=['USA', 'EU', 'JAPAN'],\n",
    "         vert=False)\n",
    "\n",
    "ax1.set_title('제조국가별 연비 분포(수직 박스 플롯)')\n",
    "ax2.set_title('제조국가별 연비 분포(수평 박스 플롯)')\n",
    "\n",
    "plt.show()"
   ]
  },
  {
   "cell_type": "markdown",
   "metadata": {},
   "source": [
    "![Seaborn image](images/seaborn.png)"
   ]
  },
  {
   "cell_type": "code",
   "execution_count": null,
   "metadata": {},
   "outputs": [],
   "source": [
    "# 예제 4-25\n",
    "# 라이브러리 불러오기\n",
    "import seaborn as sns\n",
    "\n",
    "# titanic 데이터셋 가져오기\n",
    "titanic = sns.load_dataset('titanic')\n",
    "\n",
    "# titanic 데이터셋 살펴보기\n",
    "print(titanic.head())\n",
    "print('\\n')\n",
    "print(titanic.info())"
   ]
  },
  {
   "cell_type": "code",
   "execution_count": null,
   "metadata": {},
   "outputs": [],
   "source": [
    "# 예제 4-26\n",
    "# 라이브러리 불러오기\n",
    "import matplotlib.pyplot as plt\n",
    "import seaborn as sns\n",
    " \n",
    "# Seaborn 제공 데이터셋 가져오기\n",
    "titanic = sns.load_dataset('titanic')\n",
    " \n",
    "# 스타일 테마 설정 (5가지: darkgrid, whitegrid, dark, white, ticks)\n",
    "sns.set_style('darkgrid')\n",
    "\n",
    "# 그래프 객체 생성 (figure에 2개의 서브 플롯을 생성)\n",
    "fig = plt.figure(figsize=(15, 5))   \n",
    "ax1 = fig.add_subplot(1, 2, 1)\n",
    "ax2 = fig.add_subplot(1, 2, 2)\n",
    " \n",
    "# 그래프 그리기 - 선형회귀선 표시(fit_reg=True)\n",
    "sns.regplot(x='age',        #x축 변수\n",
    "            y='fare',       #y축 변수\n",
    "            data=titanic,   #데이터\n",
    "            ax=ax1)         #axe 객체 - 1번째 그래프 \n",
    "\n",
    "# 그래프 그리기 - 선형회귀선 미표시(fit_reg=False)\n",
    "sns.regplot(x='age',        #x축 변수\n",
    "            y='fare',       #y축 변수\n",
    "            data=titanic,   #데이터\n",
    "            ax=ax2,         #axe 객체 - 2번째 그래프        \n",
    "            fit_reg=False)  #회귀선 미표시\n",
    "\n",
    "plt.show()"
   ]
  },
  {
   "cell_type": "code",
   "execution_count": null,
   "metadata": {},
   "outputs": [],
   "source": [
    "# 예제 4-27\n",
    "# 라이브러리 불러오기\n",
    "import matplotlib.pyplot as plt\n",
    "import seaborn as sns\n",
    " \n",
    "# Seaborn 제공 데이터셋 가져오기\n",
    "titanic = sns.load_dataset('titanic')\n",
    " \n",
    "# 스타일 테마 설정 (5가지: darkgrid, whitegrid, dark, white, ticks)\n",
    "sns.set_style('darkgrid')\n",
    "\n",
    "# 그래프 객체 생성 (figure에 3개의 서브 플롯을 생성)\n",
    "fig = plt.figure(figsize=(15, 5))   \n",
    "ax1 = fig.add_subplot(1, 3, 1)\n",
    "ax2 = fig.add_subplot(1, 3, 2)\n",
    "ax3 = fig.add_subplot(1, 3, 3)\n",
    " \n",
    "# 기본값\n",
    "sns.distplot(titanic['fare'], ax=ax1) \n",
    "\n",
    "# hist=False\n",
    "sns.distplot(titanic['fare'], hist=False, ax=ax2) \n",
    "\n",
    "# kde=False\n",
    "sns.distplot(titanic['fare'], kde=False, ax=ax3)        \n",
    "\n",
    "# 차트 제목 표시\n",
    "ax1.set_title('titanic fare - hist/ked')\n",
    "ax2.set_title('titanic fare - ked')\n",
    "ax3.set_title('titanic fare - hist')\n",
    "\n",
    "plt.show()"
   ]
  },
  {
   "cell_type": "code",
   "execution_count": null,
   "metadata": {},
   "outputs": [],
   "source": [
    "# 예제 4-28\n",
    "# 라이브러리 불러오기\n",
    "import matplotlib.pyplot as plt\n",
    "import seaborn as sns\n",
    " \n",
    "# Seaborn 제공 데이터셋 가져오기\n",
    "titanic = sns.load_dataset('titanic')\n",
    " \n",
    "# 스타일 테마 설정 (5가지: darkgrid, whitegrid, dark, white, ticks)\n",
    "sns.set_style('darkgrid')\n",
    "\n",
    "# 피벗테이블로 범주형 변수를 각각 행, 열로 재구분하여 정리\n",
    "table = titanic.pivot_table(index=['sex'], columns=['class'], aggfunc='size')\n",
    "\n",
    "# 히트맵 그리기\n",
    "sns.heatmap(table,                  # 데이터프레임\n",
    "            annot=True, fmt='d',    # 데이터 값 표시 여부, 정수형 포맷\n",
    "            cmap='YlGnBu',          # 컬러 맵\n",
    "            linewidth=.5,           # 구분 선\n",
    "            cbar=False)             # 컬러 바 표시 여부\n",
    "\n",
    "plt.show()"
   ]
  },
  {
   "cell_type": "code",
   "execution_count": null,
   "metadata": {},
   "outputs": [],
   "source": [
    "# 예제 4-29\n",
    "# 라이브러리 불러오기\n",
    "import matplotlib.pyplot as plt\n",
    "import seaborn as sns\n",
    " \n",
    "# Seaborn 제공 데이터셋 가져오기\n",
    "titanic = sns.load_dataset('titanic')\n",
    " \n",
    "# 스타일 테마 설정 (5가지: darkgrid, whitegrid, dark, white, ticks)\n",
    "sns.set_style('whitegrid')\n",
    "\n",
    "# 그래프 객체 생성 (figure에 2개의 서브 플롯을 생성)\n",
    "fig = plt.figure(figsize=(15, 5))   \n",
    "ax1 = fig.add_subplot(1, 2, 1)\n",
    "ax2 = fig.add_subplot(1, 2, 2)\n",
    " \n",
    "# 이산형 변수의 분포 - 데이터 분산 미고려\n",
    "sns.stripplot(x=\"class\",      #x축 변수\n",
    "              y=\"age\",        #y축 변수           \n",
    "              data=titanic,   #데이터셋 - 데이터프레임\n",
    "              ax=ax1)         #axe 객체 - 1번째 그래프 \n",
    "\n",
    "# 이산형 변수의 분포 - 데이터 분산 고려 (중복 X) \n",
    "sns.swarmplot(x=\"class\",      #x축 변수\n",
    "              y=\"age\",        #y축 변수\n",
    "              data=titanic,   #데이터셋 - 데이터프레임\n",
    "              ax=ax2)         #axe 객체 - 2번째 그래프        \n",
    "\n",
    "# 차트 제목 표시\n",
    "ax1.set_title('Strip Plot')\n",
    "ax2.set_title('Strip Plot')\n",
    "\n",
    "plt.show()"
   ]
  },
  {
   "cell_type": "code",
   "execution_count": null,
   "metadata": {},
   "outputs": [],
   "source": [
    "# 예제 4-30\n",
    "# 라이브러리 불러오기\n",
    "import matplotlib.pyplot as plt\n",
    "import seaborn as sns\n",
    " \n",
    "# Seaborn 제공 데이터셋 가져오기\n",
    "titanic = sns.load_dataset('titanic')\n",
    " \n",
    "# 스타일 테마 설정 (5가지: darkgrid, whitegrid, dark, white, ticks)\n",
    "sns.set_style('whitegrid')\n",
    "\n",
    "# 그래프 객체 생성 (figure에 3개의 서브 플롯을 생성)\n",
    "fig = plt.figure(figsize=(15, 5))   \n",
    "ax1 = fig.add_subplot(1, 3, 1)\n",
    "ax2 = fig.add_subplot(1, 3, 2)\n",
    "ax3 = fig.add_subplot(1, 3, 3)\n",
    " \n",
    "# x축, y축에 변수 할당\n",
    "sns.barplot(x='sex', y='survived', data=titanic, ax=ax1) \n",
    "\n",
    "# x축, y축에 변수 할당하고 hue 옵션 추가 \n",
    "sns.barplot(x='sex', y='survived', hue='class', data=titanic, ax=ax2) \n",
    "\n",
    "# x축, y축에 변수 할당하고 hue 옵션을 추가하여 누적 출력\n",
    "sns.barplot(x='sex', y='survived', hue='class', dodge=False, data=titanic, ax=ax3)       \n",
    "\n",
    "# 차트 제목 표시\n",
    "ax1.set_title('titanic survived - sex')\n",
    "ax2.set_title('titanic survived - sex/class')\n",
    "ax3.set_title('titanic survived - sex/class(stacked)')\n",
    "\n",
    "plt.show()"
   ]
  },
  {
   "cell_type": "code",
   "execution_count": null,
   "metadata": {},
   "outputs": [],
   "source": [
    "# 예제 4-31\n",
    "라이브러리 불러오기\n",
    "import matplotlib.pyplot as plt\n",
    "import seaborn as sns\n",
    " \n",
    "# Seaborn 제공 데이터셋 가져오기\n",
    "titanic = sns.load_dataset('titanic')\n",
    " \n",
    "# 스타일 테마 설정 (5가지: darkgrid, whitegrid, dark, white, ticks)\n",
    "sns.set_style('whitegrid')\n",
    "\n",
    "# 그래프 객체 생성 (figure에 3개의 서브 플롯을 생성)\n",
    "fig = plt.figure(figsize=(15, 5))   \n",
    "ax1 = fig.add_subplot(1, 3, 1)\n",
    "ax2 = fig.add_subplot(1, 3, 2)\n",
    "ax3 = fig.add_subplot(1, 3, 3)\n",
    " \n",
    "# 기본값\n",
    "sns.countplot(x='class', palette='Set1', data=titanic, ax=ax1) \n",
    "\n",
    "# hue 옵션에 'who' 추가 \n",
    "sns.countplot(x='class', hue='who', palette='Set2', data=titanic, ax=ax2) \n",
    "\n",
    "# dodge=False 옵션 추가 (축 방향으로 분리하지 않고 누적 그래프 출력)\n",
    "sns.countplot(x='class', hue='who', palette='Set3', dodge=False, data=titanic, ax=ax3)       \n",
    "\n",
    "# 차트 제목 표시\n",
    "ax1.set_title('titanic class')\n",
    "ax2.set_title('titanic class - who')\n",
    "ax3.set_title('titanic class - who(stacked)')\n",
    "\n",
    "plt.show()"
   ]
  },
  {
   "cell_type": "code",
   "execution_count": null,
   "metadata": {},
   "outputs": [],
   "source": [
    "# 예제 4-32\n",
    "# 라이브러리 불러오기\n",
    "import matplotlib.pyplot as plt\n",
    "import seaborn as sns\n",
    " \n",
    "# Seaborn 제공 데이터셋 가져오기\n",
    "titanic = sns.load_dataset('titanic')\n",
    " \n",
    "# 스타일 테마 설정 (5가지: darkgrid, whitegrid, dark, white, ticks)\n",
    "sns.set_style('whitegrid')\n",
    "\n",
    "# 그래프 객체 생성 (figure에 4개의 서브 플롯을 생성)\n",
    "fig = plt.figure(figsize=(15, 10))   \n",
    "ax1 = fig.add_subplot(2, 2, 1)\n",
    "ax2 = fig.add_subplot(2, 2, 2)\n",
    "ax3 = fig.add_subplot(2, 2, 3)\n",
    "ax4 = fig.add_subplot(2, 2, 4)\n",
    " \n",
    "# 박스 그래프 - 기본값\n",
    "sns.boxplot(x='alive', y='age', data=titanic, ax=ax1) \n",
    "\n",
    "# 바이올린 그래프 - hue 변수 추가\n",
    "sns.boxplot(x='alive', y='age', hue='sex', data=titanic, ax=ax2) \n",
    "\n",
    "# 박스 그래프 - 기본값\n",
    "sns.violinplot(x='alive', y='age', data=titanic, ax=ax3) \n",
    "\n",
    "# 바이올린 그래프 - hue 변수 추가\n",
    "sns.violinplot(x='alive', y='age', hue='sex', data=titanic, ax=ax4) \n",
    "\n",
    "plt.show()"
   ]
  },
  {
   "cell_type": "code",
   "execution_count": null,
   "metadata": {},
   "outputs": [],
   "source": [
    "# 예제 4-33\n",
    "# 라이브러리 불러오기\n",
    "import matplotlib.pyplot as plt\n",
    "import seaborn as sns\n",
    " \n",
    "# Seaborn 제공 데이터셋 가져오기\n",
    "titanic = sns.load_dataset('titanic')\n",
    " \n",
    "# 스타일 테마 설정 (5가지: darkgrid, whitegrid, dark, white, ticks)\n",
    "sns.set_style('whitegrid')\n",
    "\n",
    "# 조인트 그래프 - 산점도(기본값)\n",
    "j1 = sns.jointplot(x='fare', y='age', data=titanic) \n",
    "\n",
    "# 조인트 그래프 - 회귀선\n",
    "j2 = sns.jointplot(x='fare', y='age', kind='reg', data=titanic) \n",
    "\n",
    "# 조인트 그래프 - 육각 그래프\n",
    "j3 = sns.jointplot(x='fare', y='age', kind='hex', data=titanic) \n",
    "\n",
    "# 조인트 그래프 - 커럴 밀집 그래프\n",
    "j4 = sns.jointplot(x='fare', y='age', kind='kde', data=titanic) \n",
    "\n",
    "# 차트 제목 표시\n",
    "j1.fig.suptitle('titanic fare - scatter', size=15)\n",
    "j2.fig.suptitle('titanic fare - reg', size=15)\n",
    "j3.fig.suptitle('titanic fare - hex', size=15)\n",
    "j4.fig.suptitle('titanic fare - kde', size=15)\n",
    "\n",
    "plt.show()\n"
   ]
  },
  {
   "cell_type": "code",
   "execution_count": null,
   "metadata": {},
   "outputs": [],
   "source": [
    "# 예제 4-34\n",
    "# 라이브러리 불러오기\n",
    "import matplotlib.pyplot as plt\n",
    "import seaborn as sns\n",
    " \n",
    "# Seaborn 제공 데이터셋 가져오기\n",
    "titanic = sns.load_dataset('titanic')\n",
    " \n",
    "# 스타일 테마 설정 (5가지: darkgrid, whitegrid, dark, white, ticks)\n",
    "sns.set_style('whitegrid')\n",
    "\n",
    "# 조건에 따라 그리드 나누기\n",
    "g = sns.FacetGrid(data=titanic, col='who', row='survived') \n",
    "\n",
    "# 그래프 적용하기\n",
    "g = g.map(plt.hist, 'age')\n"
   ]
  },
  {
   "cell_type": "code",
   "execution_count": null,
   "metadata": {},
   "outputs": [],
   "source": [
    "# 예제 4-35\n",
    "# 라이브러리 불러오기\n",
    "import matplotlib.pyplot as plt\n",
    "import seaborn as sns\n",
    " \n",
    "# Seaborn 제공 데이터셋 가져오기\n",
    "titanic = sns.load_dataset('titanic')\n",
    " \n",
    "# 스타일 테마 설정 (5가지: darkgrid, whitegrid, dark, white, ticks)\n",
    "sns.set_style('whitegrid')\n",
    "\n",
    "# titanic 데이터셋 중에서 분석 데이터 선택하기\n",
    "titanic_pair = titanic[['age','pclass', 'fare']]\n",
    "\n",
    "# 조건에 따라 그리드 나누기\n",
    "g = sns.pairplot(titanic_pair)\n"
   ]
  },
  {
   "cell_type": "code",
   "execution_count": null,
   "metadata": {},
   "outputs": [],
   "source": [
    "X = np.random.normal(0, 1, 100)\n",
    "Y = np.random.normal(0, 1, 100)\n",
    "C = np.random.randint(0, 5, 100)\n",
    "cmap_lst = [plt.cm.rainbow, plt.cm.Blues, plt.cm.autumn, plt.cm.RdYlGn]\n",
    "\n",
    "f, axes = plt.subplots(1, 4, sharex=True, sharey=True)\n",
    "f.set_size_inches((16, 4)) \n",
    "for i in range(0, 4):\n",
    "    axes[i].scatter(X, Y, c=C, cmap=cmap_lst[i])\n",
    "    axes[i].set_title(\"cmap: {}\".format(cmap_lst[i].name))\n",
    "plt.savefig('output/test.svg')\n",
    "plt.show()"
   ]
  },
  {
   "cell_type": "code",
   "execution_count": null,
   "metadata": {},
   "outputs": [],
   "source": [
    "iris = sns.load_dataset(\"iris\")"
   ]
  },
  {
   "cell_type": "code",
   "execution_count": null,
   "metadata": {},
   "outputs": [],
   "source": [
    "iris.head()"
   ]
  },
  {
   "cell_type": "code",
   "execution_count": null,
   "metadata": {},
   "outputs": [],
   "source": [
    "titanic = sns.load_dataset(\"titanic\")"
   ]
  },
  {
   "cell_type": "code",
   "execution_count": null,
   "metadata": {},
   "outputs": [],
   "source": [
    "titanic.head()"
   ]
  },
  {
   "cell_type": "code",
   "execution_count": null,
   "metadata": {},
   "outputs": [],
   "source": [
    "iris.describe()"
   ]
  },
  {
   "cell_type": "code",
   "execution_count": null,
   "metadata": {},
   "outputs": [],
   "source": [
    "titanic.describe()"
   ]
  },
  {
   "cell_type": "code",
   "execution_count": null,
   "metadata": {},
   "outputs": [],
   "source": [
    "titanic.describe(include='all')"
   ]
  },
  {
   "cell_type": "code",
   "execution_count": null,
   "metadata": {},
   "outputs": [],
   "source": [
    "plt.style.use('ggplot')\n",
    "fig, ax = plt.subplots(figsize=(10,6))\n",
    "plt.show()"
   ]
  },
  {
   "cell_type": "code",
   "execution_count": null,
   "metadata": {},
   "outputs": [],
   "source": [
    "sns.set(style=\"darkgrid\")\n",
    "sns.scatterplot(x=\"petal_length\", y=\"petal_width\",\n",
    "                data=iris)\n",
    "plt.show()"
   ]
  },
  {
   "cell_type": "code",
   "execution_count": null,
   "metadata": {},
   "outputs": [],
   "source": [
    "sns.set_style(\"whitegrid\")\n",
    "sns.scatterplot(x=\"petal_length\", y=\"petal_width\",\n",
    "                data=iris)\n",
    "plt.show()"
   ]
  },
  {
   "cell_type": "code",
   "execution_count": null,
   "metadata": {},
   "outputs": [],
   "source": [
    "sns.set(style=\"white\")\n",
    "sns.scatterplot(x=\"petal_length\", y=\"petal_width\", data=iris)\n",
    "sns.lineplot(x=\"petal_length\", y=\"petal_width\", data=iris)\n",
    "plt.show()"
   ]
  },
  {
   "cell_type": "code",
   "execution_count": null,
   "metadata": {},
   "outputs": [],
   "source": [
    "sns.set_palette(\"dark\", 3)\n",
    "sns.scatterplot(x=\"petal_length\", \n",
    "                y=\"petal_width\",\n",
    "                data=iris, hue=\"species\")\n",
    "plt.show()"
   ]
  },
  {
   "cell_type": "code",
   "execution_count": null,
   "metadata": {},
   "outputs": [],
   "source": [
    "sns.set()\n",
    "sns.scatterplot(x=\"petal_length\", y=\"petal_width\",\n",
    "                data=iris)\n",
    "plt.show()"
   ]
  },
  {
   "cell_type": "code",
   "execution_count": null,
   "metadata": {},
   "outputs": [],
   "source": [
    "sns.scatterplot(x=\"petal_length\", y=\"petal_width\",\n",
    "                hue=\"species\", style=\"species\",\n",
    "                data=iris)\n",
    "plt.show()"
   ]
  },
  {
   "cell_type": "code",
   "execution_count": null,
   "metadata": {},
   "outputs": [],
   "source": [
    "sns.lineplot(x=\"petal_length\", y=\"petal_width\",\n",
    "             data=iris)\n",
    "plt.show()"
   ]
  },
  {
   "cell_type": "code",
   "execution_count": null,
   "metadata": {},
   "outputs": [],
   "source": [
    "sns.lineplot(x=\"petal_length\", y=\"petal_width\",\n",
    "             hue=\"species\", style=\"species\",\n",
    "             data=iris)\n",
    "plt.show()"
   ]
  },
  {
   "cell_type": "code",
   "execution_count": null,
   "metadata": {},
   "outputs": [],
   "source": [
    "sns.lineplot(x=\"petal_length\", y=\"petal_width\",\n",
    "             hue=\"species\", style=\"species\",\n",
    "             markers=True, dashes=False,\n",
    "             data=iris)\n",
    "plt.show()"
   ]
  },
  {
   "cell_type": "code",
   "execution_count": null,
   "metadata": {},
   "outputs": [],
   "source": [
    "fig, axes = plt.subplots(ncols=2, figsize=(15,5))\n",
    "plt.subplots_adjust(wspace=0.3)\n",
    "sns.scatterplot(x=\"petal_length\", y=\"petal_width\",\n",
    "                data=iris, ax=axes[0])\n",
    "sns.lineplot(x=\"petal_length\", y=\"petal_width\",\n",
    "             data=iris, ax=axes[1])\n",
    "plt.show()"
   ]
  },
  {
   "cell_type": "code",
   "execution_count": null,
   "metadata": {},
   "outputs": [],
   "source": [
    "sns.scatterplot(x=\"petal_length\", y=\"petal_width\", data=iris)\n",
    "sns.lineplot(x=\"petal_length\", y=\"petal_width\", data=iris)\n",
    "plt.show()"
   ]
  },
  {
   "cell_type": "code",
   "execution_count": null,
   "metadata": {},
   "outputs": [],
   "source": [
    "sns.relplot(x=\"petal_length\", y=\"petal_width\",\n",
    "            col=\"species\", data=iris)\n",
    "plt.show()"
   ]
  },
  {
   "cell_type": "code",
   "execution_count": null,
   "metadata": {},
   "outputs": [],
   "source": [
    "sns.stripplot(x=\"species\", y=\"petal_length\", data=iris)\n",
    "plt.show()"
   ]
  },
  {
   "cell_type": "code",
   "execution_count": null,
   "metadata": {},
   "outputs": [],
   "source": [
    "sns.swarmplot(x=\"species\", y=\"petal_length\", size=3, data=iris)\n",
    "plt.show()"
   ]
  },
  {
   "cell_type": "code",
   "execution_count": null,
   "metadata": {},
   "outputs": [],
   "source": [
    "titanic = sns.load_dataset(\"titanic\")"
   ]
  },
  {
   "cell_type": "code",
   "execution_count": null,
   "metadata": {},
   "outputs": [],
   "source": [
    "sns.barplot(x=\"sex\", y=\"survived\", hue=\"class\",\n",
    "            data=titanic)\n",
    "plt.show()"
   ]
  },
  {
   "cell_type": "code",
   "execution_count": null,
   "metadata": {},
   "outputs": [],
   "source": [
    "sns.countplot(x=\"deck\", data=titanic)\n",
    "plt.show()"
   ]
  },
  {
   "cell_type": "code",
   "execution_count": null,
   "metadata": {},
   "outputs": [],
   "source": [
    "sns.pointplot(x=\"class\", y=\"survived\", hue=\"sex\", \n",
    "              data=titanic,\n",
    "              palette={\"male\":\"g\", \"female\":\"m\"},\n",
    "              markers=[\"^\", \"o\"], linestyles=[\"-\", \"--\"])\n",
    "plt.show()"
   ]
  },
  {
   "cell_type": "code",
   "execution_count": null,
   "metadata": {},
   "outputs": [],
   "source": [
    "sns.boxplot(x=\"alive\", y=\"age\", hue=\"adult_male\",\n",
    "            data=titanic)\n",
    "plt.show()"
   ]
  },
  {
   "cell_type": "code",
   "execution_count": null,
   "metadata": {},
   "outputs": [],
   "source": [
    "import seaborn as sns\n",
    "sns.set_theme(style=\"darkgrid\")\n",
    "\n",
    "# Load an example dataset with long-form data\n",
    "fmri = sns.load_dataset(\"fmri\")\n",
    "print(fmri.shape)\n",
    "print(fmri.head())\n",
    "# Plot the responses for different events and regions\n",
    "sns.lineplot(x=\"timepoint\", y=\"signal\",\n",
    "             hue=\"region\", style=\"event\",\n",
    "             data=fmri)\n",
    "plt.show()"
   ]
  },
  {
   "cell_type": "code",
   "execution_count": null,
   "metadata": {},
   "outputs": [],
   "source": [
    "import numpy as np\n",
    "import seaborn as sns\n",
    "import matplotlib.pyplot as plt\n",
    "sns.set_theme(style=\"white\", context=\"talk\")\n",
    "rs = np.random.RandomState(8)\n",
    "\n",
    "# Set up the matplotlib figure\n",
    "f, (ax1, ax2, ax3) = plt.subplots(3, 1, figsize=(7, 7), sharex=True)\n",
    "\n",
    "# Generate some sequential data\n",
    "x = np.array(list(\"ABCDEFGHIJ\"))\n",
    "y1 = np.arange(1, 11)\n",
    "sns.barplot(x=x, y=y1, palette=\"rocket\", ax=ax1)\n",
    "ax1.axhline(0, color=\"k\", clip_on=False)\n",
    "ax1.set_ylabel(\"Sequential\")\n",
    "\n",
    "# Center the data to make it diverging\n",
    "y2 = y1 - 5.5\n",
    "sns.barplot(x=x, y=y2, palette=\"vlag\", ax=ax2)\n",
    "ax2.axhline(0, color=\"k\", clip_on=False)\n",
    "ax2.set_ylabel(\"Diverging\")\n",
    "\n",
    "# Randomly reorder the data to make it qualitative\n",
    "y3 = rs.choice(y1, len(y1), replace=False)\n",
    "sns.barplot(x=x, y=y3, palette=\"deep\", ax=ax3)\n",
    "ax3.axhline(0, color=\"k\", clip_on=False)\n",
    "ax3.set_ylabel(\"Qualitative\")\n",
    "\n",
    "# Finalize the plot\n",
    "sns.despine(bottom=True)\n",
    "plt.setp(f.axes, yticks=[])\n",
    "plt.tight_layout(h_pad=2)"
   ]
  },
  {
   "cell_type": "markdown",
   "metadata": {},
   "source": [
    "![Folium image](images/folium.png)"
   ]
  },
  {
   "cell_type": "code",
   "execution_count": 2,
   "metadata": {},
   "outputs": [
    {
     "name": "stdout",
     "output_type": "stream",
     "text": [
      "<folium.folium.Map object at 0x0000024505D641C0>\n"
     ]
    },
    {
     "data": {
      "text/html": [
       "<div style=\"width:100%;\"><div style=\"position:relative;width:100%;height:0;padding-bottom:60%;\"><span style=\"color:#565656\">Make this Notebook Trusted to load map: File -> Trust Notebook</span><iframe src=\"about:blank\" style=\"position:absolute;width:100%;height:100%;left:0;top:0;border:none !important;\" data-html=%3C%21DOCTYPE%20html%3E%0A%3Chead%3E%20%20%20%20%0A%20%20%20%20%3Cmeta%20http-equiv%3D%22content-type%22%20content%3D%22text/html%3B%20charset%3DUTF-8%22%20/%3E%0A%20%20%20%20%0A%20%20%20%20%20%20%20%20%3Cscript%3E%0A%20%20%20%20%20%20%20%20%20%20%20%20L_NO_TOUCH%20%3D%20false%3B%0A%20%20%20%20%20%20%20%20%20%20%20%20L_DISABLE_3D%20%3D%20false%3B%0A%20%20%20%20%20%20%20%20%3C/script%3E%0A%20%20%20%20%0A%20%20%20%20%3Cstyle%3Ehtml%2C%20body%20%7Bwidth%3A%20100%25%3Bheight%3A%20100%25%3Bmargin%3A%200%3Bpadding%3A%200%3B%7D%3C/style%3E%0A%20%20%20%20%3Cstyle%3E%23map%20%7Bposition%3Aabsolute%3Btop%3A0%3Bbottom%3A0%3Bright%3A0%3Bleft%3A0%3B%7D%3C/style%3E%0A%20%20%20%20%3Cscript%20src%3D%22https%3A//cdn.jsdelivr.net/npm/leaflet%401.6.0/dist/leaflet.js%22%3E%3C/script%3E%0A%20%20%20%20%3Cscript%20src%3D%22https%3A//code.jquery.com/jquery-1.12.4.min.js%22%3E%3C/script%3E%0A%20%20%20%20%3Cscript%20src%3D%22https%3A//maxcdn.bootstrapcdn.com/bootstrap/3.2.0/js/bootstrap.min.js%22%3E%3C/script%3E%0A%20%20%20%20%3Cscript%20src%3D%22https%3A//cdnjs.cloudflare.com/ajax/libs/Leaflet.awesome-markers/2.0.2/leaflet.awesome-markers.js%22%3E%3C/script%3E%0A%20%20%20%20%3Clink%20rel%3D%22stylesheet%22%20href%3D%22https%3A//cdn.jsdelivr.net/npm/leaflet%401.6.0/dist/leaflet.css%22/%3E%0A%20%20%20%20%3Clink%20rel%3D%22stylesheet%22%20href%3D%22https%3A//maxcdn.bootstrapcdn.com/bootstrap/3.2.0/css/bootstrap.min.css%22/%3E%0A%20%20%20%20%3Clink%20rel%3D%22stylesheet%22%20href%3D%22https%3A//maxcdn.bootstrapcdn.com/bootstrap/3.2.0/css/bootstrap-theme.min.css%22/%3E%0A%20%20%20%20%3Clink%20rel%3D%22stylesheet%22%20href%3D%22https%3A//maxcdn.bootstrapcdn.com/font-awesome/4.6.3/css/font-awesome.min.css%22/%3E%0A%20%20%20%20%3Clink%20rel%3D%22stylesheet%22%20href%3D%22https%3A//cdnjs.cloudflare.com/ajax/libs/Leaflet.awesome-markers/2.0.2/leaflet.awesome-markers.css%22/%3E%0A%20%20%20%20%3Clink%20rel%3D%22stylesheet%22%20href%3D%22https%3A//cdn.jsdelivr.net/gh/python-visualization/folium/folium/templates/leaflet.awesome.rotate.min.css%22/%3E%0A%20%20%20%20%0A%20%20%20%20%20%20%20%20%20%20%20%20%3Cmeta%20name%3D%22viewport%22%20content%3D%22width%3Ddevice-width%2C%0A%20%20%20%20%20%20%20%20%20%20%20%20%20%20%20%20initial-scale%3D1.0%2C%20maximum-scale%3D1.0%2C%20user-scalable%3Dno%22%20/%3E%0A%20%20%20%20%20%20%20%20%20%20%20%20%3Cstyle%3E%0A%20%20%20%20%20%20%20%20%20%20%20%20%20%20%20%20%23map_253b69fb0d4c48d4b990a3613541b6d8%20%7B%0A%20%20%20%20%20%20%20%20%20%20%20%20%20%20%20%20%20%20%20%20position%3A%20relative%3B%0A%20%20%20%20%20%20%20%20%20%20%20%20%20%20%20%20%20%20%20%20width%3A%20100.0%25%3B%0A%20%20%20%20%20%20%20%20%20%20%20%20%20%20%20%20%20%20%20%20height%3A%20100.0%25%3B%0A%20%20%20%20%20%20%20%20%20%20%20%20%20%20%20%20%20%20%20%20left%3A%200.0%25%3B%0A%20%20%20%20%20%20%20%20%20%20%20%20%20%20%20%20%20%20%20%20top%3A%200.0%25%3B%0A%20%20%20%20%20%20%20%20%20%20%20%20%20%20%20%20%7D%0A%20%20%20%20%20%20%20%20%20%20%20%20%3C/style%3E%0A%20%20%20%20%20%20%20%20%0A%3C/head%3E%0A%3Cbody%3E%20%20%20%20%0A%20%20%20%20%0A%20%20%20%20%20%20%20%20%20%20%20%20%3Cdiv%20class%3D%22folium-map%22%20id%3D%22map_253b69fb0d4c48d4b990a3613541b6d8%22%20%3E%3C/div%3E%0A%20%20%20%20%20%20%20%20%0A%3C/body%3E%0A%3Cscript%3E%20%20%20%20%0A%20%20%20%20%0A%20%20%20%20%20%20%20%20%20%20%20%20var%20map_253b69fb0d4c48d4b990a3613541b6d8%20%3D%20L.map%28%0A%20%20%20%20%20%20%20%20%20%20%20%20%20%20%20%20%22map_253b69fb0d4c48d4b990a3613541b6d8%22%2C%0A%20%20%20%20%20%20%20%20%20%20%20%20%20%20%20%20%7B%0A%20%20%20%20%20%20%20%20%20%20%20%20%20%20%20%20%20%20%20%20center%3A%20%5B37.55%2C%20126.98%5D%2C%0A%20%20%20%20%20%20%20%20%20%20%20%20%20%20%20%20%20%20%20%20crs%3A%20L.CRS.EPSG3857%2C%0A%20%20%20%20%20%20%20%20%20%20%20%20%20%20%20%20%20%20%20%20zoom%3A%2012%2C%0A%20%20%20%20%20%20%20%20%20%20%20%20%20%20%20%20%20%20%20%20zoomControl%3A%20true%2C%0A%20%20%20%20%20%20%20%20%20%20%20%20%20%20%20%20%20%20%20%20preferCanvas%3A%20false%2C%0A%20%20%20%20%20%20%20%20%20%20%20%20%20%20%20%20%7D%0A%20%20%20%20%20%20%20%20%20%20%20%20%29%3B%0A%0A%20%20%20%20%20%20%20%20%20%20%20%20%0A%0A%20%20%20%20%20%20%20%20%0A%20%20%20%20%0A%20%20%20%20%20%20%20%20%20%20%20%20var%20tile_layer_6bbca1af4a4a452e8839f19067e2b3af%20%3D%20L.tileLayer%28%0A%20%20%20%20%20%20%20%20%20%20%20%20%20%20%20%20%22https%3A//%7Bs%7D.tile.openstreetmap.org/%7Bz%7D/%7Bx%7D/%7By%7D.png%22%2C%0A%20%20%20%20%20%20%20%20%20%20%20%20%20%20%20%20%7B%22attribution%22%3A%20%22Data%20by%20%5Cu0026copy%3B%20%5Cu003ca%20href%3D%5C%22http%3A//openstreetmap.org%5C%22%5Cu003eOpenStreetMap%5Cu003c/a%5Cu003e%2C%20under%20%5Cu003ca%20href%3D%5C%22http%3A//www.openstreetmap.org/copyright%5C%22%5Cu003eODbL%5Cu003c/a%5Cu003e.%22%2C%20%22detectRetina%22%3A%20false%2C%20%22maxNativeZoom%22%3A%2018%2C%20%22maxZoom%22%3A%2018%2C%20%22minZoom%22%3A%200%2C%20%22noWrap%22%3A%20false%2C%20%22opacity%22%3A%201%2C%20%22subdomains%22%3A%20%22abc%22%2C%20%22tms%22%3A%20false%7D%0A%20%20%20%20%20%20%20%20%20%20%20%20%29.addTo%28map_253b69fb0d4c48d4b990a3613541b6d8%29%3B%0A%20%20%20%20%20%20%20%20%0A%3C/script%3E onload=\"this.contentDocument.open();this.contentDocument.write(    decodeURIComponent(this.getAttribute('data-html')));this.contentDocument.close();\" allowfullscreen webkitallowfullscreen mozallowfullscreen></iframe></div></div>"
      ],
      "text/plain": [
       "<folium.folium.Map at 0x24505d641c0>"
      ]
     },
     "metadata": {},
     "output_type": "display_data"
    }
   ],
   "source": [
    "# 예제 4-36\n",
    "# 라이브러리 불러오기\n",
    "import folium\n",
    "\n",
    "# 서울 지도 만들기\n",
    "seoul_map = folium.Map(location=[37.55,126.98], zoom_start=12)\n",
    "print(seoul_map)\n",
    "display(seoul_map)\n",
    "# 지도를 HTML 파일로 저장하기\n",
    "#seoul_map.save('output/seoul.html')"
   ]
  },
  {
   "cell_type": "code",
   "execution_count": null,
   "metadata": {},
   "outputs": [],
   "source": [
    "# 예제 4-37\n",
    "# 라이브러리 불러오기\n",
    "import folium\n",
    "\n",
    "# 서울 지도 만들기\n",
    "seoul_map2 = folium.Map(location=[37.55,126.98], tiles='Stamen Terrain', \n",
    "                        zoom_start=12)\n",
    "seoul_map3 = folium.Map(location=[37.55,126.98], tiles='Stamen Toner', \n",
    "                        zoom_start=15)\n",
    "\n",
    "display(seoul_map2)\n",
    "display(seoul_map3)\n",
    "# 지도를 HTML 파일로 저장하기\n",
    "#seoul_map2.save('output/seoul2.html')\n",
    "#seoul_map3.save('output/seoul3.html')"
   ]
  },
  {
   "cell_type": "code",
   "execution_count": null,
   "metadata": {},
   "outputs": [],
   "source": [
    "# 예제 4-38\n",
    "# 라이브러리 불러오기\n",
    "import pandas as pd\n",
    "import folium\n",
    "\n",
    "# 대학교 리스트를 데이터프레임 변환\n",
    "df = pd.read_excel('./data/서울지역 대학교 위치.xlsx')\n",
    "\n",
    "# 서울 지도 만들기\n",
    "seoul_map = folium.Map(location=[37.55,126.98], tiles='Stamen Terrain', \n",
    "                        zoom_start=12)\n",
    "\n",
    "# 대학교 위치정보를 Marker로 표시\n",
    "for name, lat, lng in zip(df.index, df.위도, df.경도):\n",
    "    folium.Marker([lat, lng], popup=name).add_to(seoul_map)\n",
    "display(seoul_map)\n",
    "# 지도를 HTML 파일로 저장하기\n",
    "\n",
    "seoul_map.save('output/seoul_colleges.html')"
   ]
  },
  {
   "cell_type": "code",
   "execution_count": null,
   "metadata": {},
   "outputs": [],
   "source": [
    "# 예제 4-39\n",
    "# 라이브러리 불러오기\n",
    "import pandas as pd\n",
    "import folium\n",
    "\n",
    "# 대학교 리스트를 데이터프레임 변환\n",
    "df = pd.read_excel('./data/서울지역 대학교 위치.xlsx')\n",
    "\n",
    "# 서울 지도 만들기\n",
    "seoul_map = folium.Map(location=[37.55,126.98], tiles='Stamen Terrain', \n",
    "                        zoom_start=12)\n",
    "\n",
    "# 대학교 위치정보를 CircleMarker로 표시\n",
    "for name, lat, lng in zip(df.index, df.위도, df.경도):\n",
    "    folium.CircleMarker([lat, lng],\n",
    "                        radius=10,         # 원의 반지름\n",
    "                        color='brown',         # 원의 둘레 색상\n",
    "                        fill=True,\n",
    "                        fill_color='coral',    # 원을 채우는 색\n",
    "                        fill_opacity=0.7, # 투명도    \n",
    "                        popup=name\n",
    "    ).add_to(seoul_map)\n",
    "\n",
    "# 지도를 HTML 파일로 저장하기\n",
    "seoul_map.save('output/seoul_colleges2.html')"
   ]
  },
  {
   "cell_type": "code",
   "execution_count": 10,
   "metadata": {},
   "outputs": [
    {
     "data": {
      "text/html": [
       "<div style=\"width:100%;\"><div style=\"position:relative;width:100%;height:0;padding-bottom:60%;\"><span style=\"color:#565656\">Make this Notebook Trusted to load map: File -> Trust Notebook</span><iframe src=\"about:blank\" style=\"position:absolute;width:100%;height:100%;left:0;top:0;border:none !important;\" data-html=%3C%21DOCTYPE%20html%3E%0A%3Chead%3E%20%20%20%20%0A%20%20%20%20%3Cmeta%20http-equiv%3D%22content-type%22%20content%3D%22text/html%3B%20charset%3DUTF-8%22%20/%3E%0A%20%20%20%20%0A%20%20%20%20%20%20%20%20%3Cscript%3E%0A%20%20%20%20%20%20%20%20%20%20%20%20L_NO_TOUCH%20%3D%20false%3B%0A%20%20%20%20%20%20%20%20%20%20%20%20L_DISABLE_3D%20%3D%20false%3B%0A%20%20%20%20%20%20%20%20%3C/script%3E%0A%20%20%20%20%0A%20%20%20%20%3Cstyle%3Ehtml%2C%20body%20%7Bwidth%3A%20100%25%3Bheight%3A%20100%25%3Bmargin%3A%200%3Bpadding%3A%200%3B%7D%3C/style%3E%0A%20%20%20%20%3Cstyle%3E%23map%20%7Bposition%3Aabsolute%3Btop%3A0%3Bbottom%3A0%3Bright%3A0%3Bleft%3A0%3B%7D%3C/style%3E%0A%20%20%20%20%3Cscript%20src%3D%22https%3A//cdn.jsdelivr.net/npm/leaflet%401.6.0/dist/leaflet.js%22%3E%3C/script%3E%0A%20%20%20%20%3Cscript%20src%3D%22https%3A//code.jquery.com/jquery-1.12.4.min.js%22%3E%3C/script%3E%0A%20%20%20%20%3Cscript%20src%3D%22https%3A//maxcdn.bootstrapcdn.com/bootstrap/3.2.0/js/bootstrap.min.js%22%3E%3C/script%3E%0A%20%20%20%20%3Cscript%20src%3D%22https%3A//cdnjs.cloudflare.com/ajax/libs/Leaflet.awesome-markers/2.0.2/leaflet.awesome-markers.js%22%3E%3C/script%3E%0A%20%20%20%20%3Clink%20rel%3D%22stylesheet%22%20href%3D%22https%3A//cdn.jsdelivr.net/npm/leaflet%401.6.0/dist/leaflet.css%22/%3E%0A%20%20%20%20%3Clink%20rel%3D%22stylesheet%22%20href%3D%22https%3A//maxcdn.bootstrapcdn.com/bootstrap/3.2.0/css/bootstrap.min.css%22/%3E%0A%20%20%20%20%3Clink%20rel%3D%22stylesheet%22%20href%3D%22https%3A//maxcdn.bootstrapcdn.com/bootstrap/3.2.0/css/bootstrap-theme.min.css%22/%3E%0A%20%20%20%20%3Clink%20rel%3D%22stylesheet%22%20href%3D%22https%3A//maxcdn.bootstrapcdn.com/font-awesome/4.6.3/css/font-awesome.min.css%22/%3E%0A%20%20%20%20%3Clink%20rel%3D%22stylesheet%22%20href%3D%22https%3A//cdnjs.cloudflare.com/ajax/libs/Leaflet.awesome-markers/2.0.2/leaflet.awesome-markers.css%22/%3E%0A%20%20%20%20%3Clink%20rel%3D%22stylesheet%22%20href%3D%22https%3A//cdn.jsdelivr.net/gh/python-visualization/folium/folium/templates/leaflet.awesome.rotate.min.css%22/%3E%0A%20%20%20%20%0A%20%20%20%20%20%20%20%20%20%20%20%20%3Cmeta%20name%3D%22viewport%22%20content%3D%22width%3Ddevice-width%2C%0A%20%20%20%20%20%20%20%20%20%20%20%20%20%20%20%20initial-scale%3D1.0%2C%20maximum-scale%3D1.0%2C%20user-scalable%3Dno%22%20/%3E%0A%20%20%20%20%20%20%20%20%20%20%20%20%3Cstyle%3E%0A%20%20%20%20%20%20%20%20%20%20%20%20%20%20%20%20%23map_aac6b804f811498d89fa051efdf11cbf%20%7B%0A%20%20%20%20%20%20%20%20%20%20%20%20%20%20%20%20%20%20%20%20position%3A%20relative%3B%0A%20%20%20%20%20%20%20%20%20%20%20%20%20%20%20%20%20%20%20%20width%3A%20100.0%25%3B%0A%20%20%20%20%20%20%20%20%20%20%20%20%20%20%20%20%20%20%20%20height%3A%20100.0%25%3B%0A%20%20%20%20%20%20%20%20%20%20%20%20%20%20%20%20%20%20%20%20left%3A%200.0%25%3B%0A%20%20%20%20%20%20%20%20%20%20%20%20%20%20%20%20%20%20%20%20top%3A%200.0%25%3B%0A%20%20%20%20%20%20%20%20%20%20%20%20%20%20%20%20%7D%0A%20%20%20%20%20%20%20%20%20%20%20%20%3C/style%3E%0A%20%20%20%20%20%20%20%20%0A%20%20%20%20%3Cscript%20src%3D%22https%3A//cdnjs.cloudflare.com/ajax/libs/d3/3.5.5/d3.min.js%22%3E%3C/script%3E%0A%3C/head%3E%0A%3Cbody%3E%20%20%20%20%0A%20%20%20%20%0A%20%20%20%20%20%20%20%20%20%20%20%20%3Cdiv%20class%3D%22folium-map%22%20id%3D%22map_aac6b804f811498d89fa051efdf11cbf%22%20%3E%3C/div%3E%0A%20%20%20%20%20%20%20%20%0A%3C/body%3E%0A%3Cscript%3E%20%20%20%20%0A%20%20%20%20%0A%20%20%20%20%20%20%20%20%20%20%20%20var%20map_aac6b804f811498d89fa051efdf11cbf%20%3D%20L.map%28%0A%20%20%20%20%20%20%20%20%20%20%20%20%20%20%20%20%22map_aac6b804f811498d89fa051efdf11cbf%22%2C%0A%20%20%20%20%20%20%20%20%20%20%20%20%20%20%20%20%7B%0A%20%20%20%20%20%20%20%20%20%20%20%20%20%20%20%20%20%20%20%20center%3A%20%5B37.5502%2C%20126.982%5D%2C%0A%20%20%20%20%20%20%20%20%20%20%20%20%20%20%20%20%20%20%20%20crs%3A%20L.CRS.EPSG3857%2C%0A%20%20%20%20%20%20%20%20%20%20%20%20%20%20%20%20%20%20%20%20zoom%3A%209%2C%0A%20%20%20%20%20%20%20%20%20%20%20%20%20%20%20%20%20%20%20%20zoomControl%3A%20true%2C%0A%20%20%20%20%20%20%20%20%20%20%20%20%20%20%20%20%20%20%20%20preferCanvas%3A%20false%2C%0A%20%20%20%20%20%20%20%20%20%20%20%20%20%20%20%20%7D%0A%20%20%20%20%20%20%20%20%20%20%20%20%29%3B%0A%0A%20%20%20%20%20%20%20%20%20%20%20%20%0A%0A%20%20%20%20%20%20%20%20%0A%20%20%20%20%0A%20%20%20%20%20%20%20%20%20%20%20%20var%20tile_layer_95629b4ed9af458c9b41a68ff42d06e5%20%3D%20L.tileLayer%28%0A%20%20%20%20%20%20%20%20%20%20%20%20%20%20%20%20%22https%3A//stamen-tiles-%7Bs%7D.a.ssl.fastly.net/terrain/%7Bz%7D/%7Bx%7D/%7By%7D.jpg%22%2C%0A%20%20%20%20%20%20%20%20%20%20%20%20%20%20%20%20%7B%22attribution%22%3A%20%22Map%20tiles%20by%20%5Cu003ca%20href%3D%5C%22http%3A//stamen.com%5C%22%5Cu003eStamen%20Design%5Cu003c/a%5Cu003e%2C%20under%20%5Cu003ca%20href%3D%5C%22http%3A//creativecommons.org/licenses/by/3.0%5C%22%5Cu003eCC%20BY%203.0%5Cu003c/a%5Cu003e.%20Data%20by%20%5Cu0026copy%3B%20%5Cu003ca%20href%3D%5C%22http%3A//openstreetmap.org%5C%22%5Cu003eOpenStreetMap%5Cu003c/a%5Cu003e%2C%20under%20%5Cu003ca%20href%3D%5C%22http%3A//creativecommons.org/licenses/by-sa/3.0%5C%22%5Cu003eCC%20BY%20SA%5Cu003c/a%5Cu003e.%22%2C%20%22detectRetina%22%3A%20false%2C%20%22maxNativeZoom%22%3A%2018%2C%20%22maxZoom%22%3A%2018%2C%20%22minZoom%22%3A%200%2C%20%22noWrap%22%3A%20false%2C%20%22opacity%22%3A%201%2C%20%22subdomains%22%3A%20%22abc%22%2C%20%22tms%22%3A%20false%7D%0A%20%20%20%20%20%20%20%20%20%20%20%20%29.addTo%28map_aac6b804f811498d89fa051efdf11cbf%29%3B%0A%20%20%20%20%20%20%20%20%0A%20%20%20%20%0A%20%20%20%20%20%20%20%20%20%20%20%20var%20choropleth_3d66f1c92b5d4c46ab45d83e5536207e%20%3D%20L.featureGroup%28%0A%20%20%20%20%20%20%20%20%20%20%20%20%20%20%20%20%7B%7D%0A%20%20%20%20%20%20%20%20%20%20%20%20%29.addTo%28map_aac6b804f811498d89fa051efdf11cbf%29%3B%0A%20%20%20%20%20%20%20%20%0A%20%20%20%20%0A%20%20%20%20%20%20%20%20function%20geo_json_62ef81fa32d74b5087629504f353034e_styler%28feature%29%20%7B%0A%20%20%20%20%20%20%20%20%20%20%20%20switch%28feature.properties.code%29%20%7B%0A%20%20%20%20%20%20%20%20%20%20%20%20%20%20%20%20case%2031370%3A%20case%2031350%3A%20case%2031110%3A%20case%2031080%3A%20%0A%20%20%20%20%20%20%20%20%20%20%20%20%20%20%20%20%20%20%20%20return%20%7B%22color%22%3A%20%22black%22%2C%20%22fillColor%22%3A%20%22%23ffffb2%22%2C%20%22fillOpacity%22%3A%200.7%2C%20%22opacity%22%3A%200.3%2C%20%22weight%22%3A%201%7D%3B%0A%20%20%20%20%20%20%20%20%20%20%20%20%20%20%20%20case%2031250%3A%20case%2031230%3A%20case%2031200%3A%20case%2031193%3A%20case%2031192%3A%20case%2031150%3A%20case%2031101%3A%20case%2031092%3A%20case%2031091%3A%20case%2031070%3A%20case%2031060%3A%20case%2031051%3A%20case%2031042%3A%20case%2031030%3A%20case%2031014%3A%20case%2031012%3A%20%0A%20%20%20%20%20%20%20%20%20%20%20%20%20%20%20%20%20%20%20%20return%20%7B%22color%22%3A%20%22black%22%2C%20%22fillColor%22%3A%20%22%23fd8d3c%22%2C%20%22fillOpacity%22%3A%200.7%2C%20%22opacity%22%3A%200.3%2C%20%22weight%22%3A%201%7D%3B%0A%20%20%20%20%20%20%20%20%20%20%20%20%20%20%20%20case%2031240%3A%20case%2031130%3A%20case%2031023%3A%20%0A%20%20%20%20%20%20%20%20%20%20%20%20%20%20%20%20%20%20%20%20return%20%7B%22color%22%3A%20%22black%22%2C%20%22fillColor%22%3A%20%22%23e31a1c%22%2C%20%22fillOpacity%22%3A%200.7%2C%20%22opacity%22%3A%200.3%2C%20%22weight%22%3A%201%7D%3B%0A%20%20%20%20%20%20%20%20%20%20%20%20%20%20%20%20default%3A%0A%20%20%20%20%20%20%20%20%20%20%20%20%20%20%20%20%20%20%20%20return%20%7B%22color%22%3A%20%22black%22%2C%20%22fillColor%22%3A%20%22%23fecc5c%22%2C%20%22fillOpacity%22%3A%200.7%2C%20%22opacity%22%3A%200.3%2C%20%22weight%22%3A%201%7D%3B%0A%20%20%20%20%20%20%20%20%20%20%20%20%7D%0A%20%20%20%20%20%20%20%20%7D%0A%0A%20%20%20%20%20%20%20%20function%20geo_json_62ef81fa32d74b5087629504f353034e_onEachFeature%28feature%2C%20layer%29%20%7B%0A%20%20%20%20%20%20%20%20%20%20%20%20layer.on%28%7B%0A%20%20%20%20%20%20%20%20%20%20%20%20%7D%29%3B%0A%20%20%20%20%20%20%20%20%7D%3B%0A%20%20%20%20%20%20%20%20var%20geo_json_62ef81fa32d74b5087629504f353034e%20%3D%20L.geoJson%28null%2C%20%7B%0A%20%20%20%20%20%20%20%20%20%20%20%20%20%20%20%20onEachFeature%3A%20geo_json_62ef81fa32d74b5087629504f353034e_onEachFeature%2C%0A%20%20%20%20%20%20%20%20%20%20%20%20%0A%20%20%20%20%20%20%20%20%20%20%20%20%20%20%20%20style%3A%20geo_json_62ef81fa32d74b5087629504f353034e_styler%2C%0A%20%20%20%20%20%20%20%20%7D%29%3B%0A%0A%20%20%20%20%20%20%20%20function%20geo_json_62ef81fa32d74b5087629504f353034e_add%20%28data%29%20%7B%0A%20%20%20%20%20%20%20%20%20%20%20%20geo_json_62ef81fa32d74b5087629504f353034e%0A%20%20%20%20%20%20%20%20%20%20%20%20%20%20%20%20.addData%28data%29%0A%20%20%20%20%20%20%20%20%20%20%20%20%20%20%20%20.addTo%28choropleth_3d66f1c92b5d4c46ab45d83e5536207e%29%3B%0A%20%20%20%20%20%20%20%20%7D%0A%20%20%20%20%20%20%20%20%20%20%20%20geo_json_62ef81fa32d74b5087629504f353034e_add%28%7B%22features%22%3A%20%5B%7B%22geometry%22%3A%20%7B%22coordinates%22%3A%20%5B%5B%5B127.56113535909492%2C%2037.6256560539258%5D%2C%20%5B127.57290963929243%2C%2037.61087369350498%5D%2C%20%5B127.56366973908277%2C%2037.5842624297699%5D%2C%20%5B127.52226606559191%2C%2037.5828628697518%5D%2C%20%5B127.50048767007603%2C%2037.569036373178626%5D%2C%20%5B127.47687473909174%2C%2037.574448241913856%5D%2C%20%5B127.47565866803647%2C%2037.60512112601634%5D%2C%20%5B127.44699730711024%2C%2037.64497584741164%5D%2C%20%5B127.4272349102434%2C%2037.66284420898682%5D%2C%20%5B127.40156700708162%2C%2037.64806970784708%5D%2C%20%5B127.3732642199939%2C%2037.6453987554284%5D%2C%20%5B127.3542931884407%2C%2037.6250006376975%5D%2C%20%5B127.34360057873045%2C%2037.588997440929354%5D%2C%20%5B127.31002843450217%2C%2037.53523876142835%5D%2C%20%5B127.30923294884336%2C%2037.5135706079458%5D%2C%20%5B127.32809611134748%2C%2037.53133849534739%5D%2C%20%5B127.3663244453597%2C%2037.52716845880826%5D%2C%20%5B127.38286320755414%2C%2037.50147517965334%5D%2C%20%5B127.39046783039153%2C%2037.47413422098595%5D%2C%20%5B127.37490698722792%2C%2037.455072688441305%5D%2C%20%5B127.39174400683049%2C%2037.4256483411369%5D%2C%20%5B127.40276739880215%2C%2037.41856433413549%5D%2C%20%5B127.4250053080982%2C%2037.43669952587185%5D%2C%20%5B127.4817900304572%2C%2037.42084413829662%5D%2C%20%5B127.51015267026155%2C%2037.43699555518635%5D%2C%20%5B127.52501209957308%2C%2037.43192043868044%5D%2C%20%5B127.53910572062166%2C%2037.40849283821634%5D%2C%20%5B127.60528700481163%2C%2037.416969769508924%5D%2C%20%5B127.63754040237271%2C%2037.41065607591271%5D%2C%20%5B127.6491838950862%2C%2037.402042953108506%5D%2C%20%5B127.66976823475012%2C%2037.40884431255766%5D%2C%20%5B127.71071536074867%2C%2037.40736583858037%5D%2C%20%5B127.70347417929173%2C%2037.371054026073324%5D%2C%20%5B127.76165381178268%2C%2037.36421926003675%5D%2C%20%5B127.77952402154285%2C%2037.368441789396854%5D%2C%20%5B127.80397287036232%2C%2037.432516049235865%5D%2C%20%5B127.79833492163134%2C%2037.460500237870505%5D%2C%20%5B127.77664798308412%2C%2037.48883635932707%5D%2C%20%5B127.77611527652192%2C%2037.50328615763377%5D%2C%20%5B127.80855972024105%2C%2037.53220450961153%5D%2C%20%5B127.8445769305193%2C%2037.53621789699497%5D%2C%20%5B127.85162286006927%2C%2037.55037340096326%5D%2C%20%5B127.81507964099751%2C%2037.5618389022189%5D%2C%20%5B127.79492564827493%2C%2037.58252978378627%5D%2C%20%5B127.76838776707211%2C%2037.580178216134605%5D%2C%20%5B127.75614914198108%2C%2037.589477424718204%5D%2C%20%5B127.7102810556826%2C%2037.58360128682645%5D%2C%20%5B127.69869383868397%2C%2037.59757031454811%5D%2C%20%5B127.65553070991882%2C%2037.61954565135447%5D%2C%20%5B127.62972032693943%2C%2037.63983122973888%5D%2C%20%5B127.60450569091653%2C%2037.648548552427314%5D%2C%20%5B127.58166701442097%2C%2037.63033393389168%5D%2C%20%5B127.56113535909492%2C%2037.6256560539258%5D%5D%5D%2C%20%22type%22%3A%20%22Polygon%22%7D%2C%20%22properties%22%3A%20%7B%22base_year%22%3A%202013%2C%20%22code%22%3A%2031380%2C%20%22name%22%3A%20%22%5Cuc591%5Cud3c9%5Cuad70%22%2C%20%22name_eng%22%3A%20%22Yangpyeong-gun%22%7D%2C%20%22type%22%3A%20%22Feature%22%7D%2C%20%7B%22geometry%22%3A%20%7B%22coordinates%22%3A%20%5B%5B%5B127.44780328408541%2C%2038.048238751068475%5D%2C%20%5B127.42042182072485%2C%2038.01200319871128%5D%2C%20%5B127.41516664705571%2C%2037.995046525366845%5D%2C%20%5B127.39194666896421%2C%2037.97992649728499%5D%2C%20%5B127.37828420492166%2C%2037.958773972665476%5D%2C%20%5B127.3864253692493%2C%2037.940789082655876%5D%2C%20%5B127.35796486335995%2C%2037.918888706648104%5D%2C%20%5B127.33112989323685%2C%2037.9192732427266%5D%2C%20%5B127.32585628843694%2C%2037.8708665787365%5D%2C%20%5B127.31427495278925%2C%2037.86338279582678%5D%2C%20%5B127.29023239060183%2C%2037.867156223189305%5D%2C%20%5B127.27621937205707%2C%2037.823925522993584%5D%2C%20%5B127.28134774958465%2C%2037.81350552459983%5D%2C%20%5B127.2686525155809%2C%2037.777676803810074%5D%2C%20%5B127.32070791913966%2C%2037.76445271893134%5D%2C%20%5B127.34501289752937%2C%2037.7266690692075%5D%2C%20%5B127.35759057077398%2C%2037.720909295881434%5D%2C%20%5B127.35557114419971%2C%2037.701041217064585%5D%2C%20%5B127.38133544278186%2C%2037.67180837890239%5D%2C%20%5B127.3732642199939%2C%2037.6453987554284%5D%2C%20%5B127.40156700708162%2C%2037.64806970784708%5D%2C%20%5B127.4272349102434%2C%2037.66284420898682%5D%2C%20%5B127.44699730711024%2C%2037.64497584741164%5D%2C%20%5B127.47565866803647%2C%2037.60512112601634%5D%2C%20%5B127.47687473909174%2C%2037.574448241913856%5D%2C%20%5B127.50048767007603%2C%2037.569036373178626%5D%2C%20%5B127.52226606559191%2C%2037.5828628697518%5D%2C%20%5B127.56366973908277%2C%2037.5842624297699%5D%2C%20%5B127.57290963929243%2C%2037.61087369350498%5D%2C%20%5B127.56113535909492%2C%2037.6256560539258%5D%2C%20%5B127.53917031861263%2C%2037.64021056192394%5D%2C%20%5B127.5549605217701%2C%2037.658757758392326%5D%2C%20%5B127.55230133599949%2C%2037.6826768602848%5D%2C%20%5B127.5620152520609%2C%2037.72573118147031%5D%2C%20%5B127.54295591487076%2C%2037.71630823574417%5D%2C%20%5B127.50979807707056%2C%2037.72791553253582%5D%2C%20%5B127.5466892772679%2C%2037.757547899640265%5D%2C%20%5B127.52374487270039%2C%2037.788564076302706%5D%2C%20%5B127.53790811514408%2C%2037.806297142430786%5D%2C%20%5B127.5278056459557%2C%2037.8205934650677%5D%2C%20%5B127.53467866263196%2C%2037.8391134107185%5D%2C%20%5B127.5645808687282%2C%2037.852710085354005%5D%2C%20%5B127.586513542654%2C%2037.87296654527047%5D%2C%20%5B127.60326048844294%2C%2037.87185797528634%5D%2C%20%5B127.61988365348992%2C%2037.90376621474279%5D%2C%20%5B127.61592274592837%2C%2037.93662873141094%5D%2C%20%5B127.60515472290533%2C%2037.95233960186072%5D%2C%20%5B127.54648191805605%2C%2037.96536690082484%5D%2C%20%5B127.54189684816376%2C%2037.99843118565868%5D%2C%20%5B127.50356426725331%2C%2037.99680815824825%5D%2C%20%5B127.47430810833019%2C%2038.00331531710267%5D%2C%20%5B127.46013793737187%2C%2038.01348603532302%5D%2C%20%5B127.44780328408541%2C%2038.048238751068475%5D%5D%5D%2C%20%22type%22%3A%20%22Polygon%22%7D%2C%20%22properties%22%3A%20%7B%22base_year%22%3A%202013%2C%20%22code%22%3A%2031370%2C%20%22name%22%3A%20%22%5Cuac00%5Cud3c9%5Cuad70%22%2C%20%22name_eng%22%3A%20%22Gapyeong-gun%22%7D%2C%20%22type%22%3A%20%22Feature%22%7D%2C%20%7B%22geometry%22%3A%20%7B%22coordinates%22%3A%20%5B%5B%5B127.1114029794941%2C%2038.289324698353205%5D%2C%20%5B127.07249919657463%2C%2038.26801218962005%5D%2C%20%5B127.02801007414642%2C%2038.254549706273764%5D%2C%20%5B126.99286312502117%2C%2038.234131621017674%5D%2C%20%5B126.97740008434542%2C%2038.23136042526893%5D%2C%20%5B126.98606173199121%2C%2038.209401424377816%5D%2C%20%5B126.96711105593987%2C%2038.19506065700263%5D%2C%20%5B126.95459011862387%2C%2038.20786522832632%5D%2C%20%5B126.92781480981668%2C%2038.200854654628984%5D%2C%20%5B126.8974333001951%2C%2038.20180521598681%5D%2C%20%5B126.87506682979435%2C%2038.220357253330604%5D%2C%20%5B126.8278790877819%2C%2038.195486974451406%5D%2C%20%5B126.77187664076929%2C%2038.15202258772112%5D%2C%20%5B126.75014823067355%2C%2038.125072772241225%5D%2C%20%5B126.78709379586621%2C%2038.09626689678258%5D%2C%20%5B126.79823368085893%2C%2038.079396242822355%5D%2C%20%5B126.85234589355446%2C%2038.09221072381945%5D%2C%20%5B126.86904468579002%2C%2038.077582436479354%5D%2C%20%5B126.89538167413222%2C%2038.071648142471204%5D%2C%20%5B126.89492205681401%2C%2038.04859999954147%5D%2C%20%5B126.87463524911628%2C%2038.01581963256826%5D%2C%20%5B126.85568764143953%2C%2038.02873639803942%5D%2C%20%5B126.83392985136591%2C%2038.03100700061125%5D%2C%20%5B126.8252320653152%2C%2038.00913397816309%5D%2C%20%5B126.83164256576254%2C%2037.99035429677792%5D%2C%20%5B126.8029965558113%2C%2037.989251239637596%5D%2C%20%5B126.80659958939793%2C%2037.9680012097748%5D%2C%20%5B126.8388723334759%2C%2037.96197909365746%5D%2C%20%5B126.8423229135476%2C%2037.97819760433225%5D%2C%20%5B126.85859300440933%2C%2037.98329485669624%5D%2C%20%5B126.8739356423477%2C%2037.968400924665225%5D%2C%20%5B126.89755470110721%2C%2037.9683523617657%5D%2C%20%5B126.90034044420747%2C%2037.99438948257985%5D%2C%20%5B126.93929997962098%2C%2037.9789601448141%5D%2C%20%5B126.97166918547234%2C%2038.000587999007735%5D%2C%20%5B126.99425287672854%2C%2038.000624488107924%5D%2C%20%5B127.01739022262282%2C%2037.989561835400195%5D%2C%20%5B126.97545924731331%2C%2037.93928140597955%5D%2C%20%5B127.01215278654801%2C%2037.924817815480985%5D%2C%20%5B127.02968085272437%2C%2037.9404013715077%5D%2C%20%5B127.05589127856165%2C%2037.978154747876275%5D%2C%20%5B127.09382742820131%2C%2037.968691278173%5D%2C%20%5B127.09290535753887%2C%2037.98459431234087%5D%2C%20%5B127.12231622589134%2C%2037.976745791642564%5D%2C%20%5B127.14982270353039%2C%2037.99413348520078%5D%2C%20%5B127.1474423860908%2C%2038.01290337564081%5D%2C%20%5B127.11440133420174%2C%2038.04821685684721%5D%2C%20%5B127.14326850224882%2C%2038.070002354405226%5D%2C%20%5B127.15086136346409%2C%2038.05496212563221%5D%2C%20%5B127.1888339288906%2C%2038.06204029940796%5D%2C%20%5B127.19437916578538%2C%2038.0797568774465%5D%2C%20%5B127.17503254383571%2C%2038.13882932478672%5D%2C%20%5B127.18150182398624%2C%2038.181927191525546%5D%2C%20%5B127.16857086007771%2C%2038.19681089627724%5D%2C%20%5B127.16461628401596%2C%2038.22949766461027%5D%2C%20%5B127.15063615800273%2C%2038.239791315402336%5D%2C%20%5B127.13243747984255%2C%2038.22986476152822%5D%2C%20%5B127.11224663908298%2C%2038.23944312080941%5D%2C%20%5B127.11610682730382%2C%2038.26255766722931%5D%2C%20%5B127.1114029794941%2C%2038.289324698353205%5D%5D%5D%2C%20%22type%22%3A%20%22Polygon%22%7D%2C%20%22properties%22%3A%20%7B%22base_year%22%3A%202013%2C%20%22code%22%3A%2031350%2C%20%22name%22%3A%20%22%5Cuc5f0%5Cucc9c%5Cuad70%22%2C%20%22name_eng%22%3A%20%22Yeoncheon-gun%22%7D%2C%20%22type%22%3A%20%22Feature%22%7D%2C%20%7B%22geometry%22%3A%20%7B%22coordinates%22%3A%20%5B%5B%5B127.40276739880215%2C%2037.41856433413549%5D%2C%20%5B127.41955611640327%2C%2037.386674887879835%5D%2C%20%5B127.44514756834636%2C%2037.3842770721951%5D%2C%20%5B127.44459662819855%2C%2037.35562085049101%5D%2C%20%5B127.47263652805968%2C%2037.35869263849808%5D%2C%20%5B127.49167370715485%2C%2037.339527598960764%5D%2C%20%5B127.51574229064994%2C%2037.336561285567946%5D%2C%20%5B127.54853754663094%2C%2037.29860192066929%5D%2C%20%5B127.53106721989582%2C%2037.27115011578052%5D%2C%20%5B127.5395160453677%2C%2037.24379045683148%5D%2C%20%5B127.52770097674612%2C%2037.23765094459253%5D%2C%20%5B127.53342604855668%2C%2037.19715010635273%5D%2C%20%5B127.51957698997381%2C%2037.18188687027366%5D%2C%20%5B127.52893461217018%2C%2037.170618598276%5D%2C%20%5B127.55830514005798%2C%2037.17381401041668%5D%2C%20%5B127.5785248984445%2C%2037.186311208078585%5D%2C%20%5B127.5999013564347%2C%2037.1854997199498%5D%2C%20%5B127.63091754409567%2C%2037.150947430524305%5D%2C%20%5B127.66246837559255%2C%2037.13682554779843%5D%2C%20%5B127.69759568854894%2C%2037.137598675963744%5D%2C%20%5B127.6981539994774%2C%2037.14931076846793%5D%2C%20%5B127.73893911466041%2C%2037.20715818139463%5D%2C%20%5B127.75008528183503%2C%2037.21383642183904%5D%2C%20%5B127.75102511570132%2C%2037.24464129242011%5D%2C%20%5B127.76047537750615%2C%2037.25518935399549%5D%2C%20%5B127.75697503302167%2C%2037.29496921027118%5D%2C%20%5B127.77073902372764%2C%2037.30499906774147%5D%2C%20%5B127.76193527300671%2C%2037.32724708852886%5D%2C%20%5B127.76165381178268%2C%2037.36421926003675%5D%2C%20%5B127.70347417929173%2C%2037.371054026073324%5D%2C%20%5B127.71071536074867%2C%2037.40736583858037%5D%2C%20%5B127.66976823475012%2C%2037.40884431255766%5D%2C%20%5B127.6491838950862%2C%2037.402042953108506%5D%2C%20%5B127.63754040237271%2C%2037.41065607591271%5D%2C%20%5B127.60528700481163%2C%2037.416969769508924%5D%2C%20%5B127.53910572062166%2C%2037.40849283821634%5D%2C%20%5B127.52501209957308%2C%2037.43192043868044%5D%2C%20%5B127.51015267026155%2C%2037.43699555518635%5D%2C%20%5B127.4817900304572%2C%2037.42084413829662%5D%2C%20%5B127.4250053080982%2C%2037.43669952587185%5D%2C%20%5B127.40276739880215%2C%2037.41856433413549%5D%5D%5D%2C%20%22type%22%3A%20%22Polygon%22%7D%2C%20%22properties%22%3A%20%7B%22base_year%22%3A%202013%2C%20%22code%22%3A%2031280%2C%20%22name%22%3A%20%22%5Cuc5ec%5Cuc8fc%5Cuc2dc%22%2C%20%22name_eng%22%3A%20%22Yeoju-si%22%7D%2C%20%22type%22%3A%20%22Feature%22%7D%2C%20%7B%22geometry%22%3A%20%7B%22coordinates%22%3A%20%5B%5B%5B127.18150182398624%2C%2038.181927191525546%5D%2C%20%5B127.17503254383571%2C%2038.13882932478672%5D%2C%20%5B127.19437916578538%2C%2038.0797568774465%5D%2C%20%5B127.1888339288906%2C%2038.06204029940796%5D%2C%20%5B127.15086136346409%2C%2038.05496212563221%5D%2C%20%5B127.14326850224882%2C%2038.070002354405226%5D%2C%20%5B127.11440133420174%2C%2038.04821685684721%5D%2C%20%5B127.1474423860908%2C%2038.01290337564081%5D%2C%20%5B127.14982270353039%2C%2037.99413348520078%5D%2C%20%5B127.12231622589134%2C%2037.976745791642564%5D%2C%20%5B127.09290535753887%2C%2037.98459431234087%5D%2C%20%5B127.09382742820131%2C%2037.968691278173%5D%2C%20%5B127.1240834119586%2C%2037.913726790414486%5D%2C%20%5B127.1480788721724%2C%2037.909108279220675%5D%2C%20%5B127.15777209998105%2C%2037.89291633342494%5D%2C%20%5B127.14908802054492%2C%2037.87326470277757%5D%2C%20%5B127.13067707221735%2C%2037.87115064756639%5D%2C%20%5B127.1113003891929%2C%2037.85708813371199%5D%2C%20%5B127.12400943178396%2C%2037.82538075264934%5D%2C%20%5B127.12412178020936%2C%2037.80931541475853%5D%2C%20%5B127.10645686970089%2C%2037.776897580693586%5D%2C%20%5B127.14177735342194%2C%2037.76129795333661%5D%2C%20%5B127.14882403466048%2C%2037.75206030443599%5D%2C%20%5B127.17524551122212%2C%2037.751938183429424%5D%2C%20%5B127.18575971970597%2C%2037.76186443408089%5D%2C%20%5B127.21510645674604%2C%2037.75873586709106%5D%2C%20%5B127.22719439323131%2C%2037.750666435161854%5D%2C%20%5B127.26186907661463%2C%2037.765678541736996%5D%2C%20%5B127.2686525155809%2C%2037.777676803810074%5D%2C%20%5B127.28134774958465%2C%2037.81350552459983%5D%2C%20%5B127.27621937205707%2C%2037.823925522993584%5D%2C%20%5B127.29023239060183%2C%2037.867156223189305%5D%2C%20%5B127.31427495278925%2C%2037.86338279582678%5D%2C%20%5B127.32585628843694%2C%2037.8708665787365%5D%2C%20%5B127.33112989323685%2C%2037.9192732427266%5D%2C%20%5B127.35796486335995%2C%2037.918888706648104%5D%2C%20%5B127.3864253692493%2C%2037.940789082655876%5D%2C%20%5B127.37828420492166%2C%2037.958773972665476%5D%2C%20%5B127.39194666896421%2C%2037.97992649728499%5D%2C%20%5B127.41516664705571%2C%2037.995046525366845%5D%2C%20%5B127.42042182072485%2C%2038.01200319871128%5D%2C%20%5B127.44780328408541%2C%2038.048238751068475%5D%2C%20%5B127.44645416125843%2C%2038.09506926769056%5D%2C%20%5B127.43271157644212%2C%2038.11254491261849%5D%2C%20%5B127.38575924845978%2C%2038.111650021865444%5D%2C%20%5B127.32332897924549%2C%2038.09248746131129%5D%2C%20%5B127.31342794935864%2C%2038.113239178580145%5D%2C%20%5B127.28533797240796%2C%2038.11374536112377%5D%2C%20%5B127.27790641954418%2C%2038.13449032094295%5D%2C%20%5B127.28937067741944%2C%2038.1495974983685%5D%2C%20%5B127.29146727692374%2C%2038.17417076323154%5D%2C%20%5B127.27319981021783%2C%2038.1790866530056%5D%2C%20%5B127.25802935713429%2C%2038.16048880005979%5D%2C%20%5B127.22539552047925%2C%2038.144128217872485%5D%2C%20%5B127.19211744512407%2C%2038.157963139766544%5D%2C%20%5B127.18150182398624%2C%2038.181927191525546%5D%5D%5D%2C%20%22type%22%3A%20%22Polygon%22%7D%2C%20%22properties%22%3A%20%7B%22base_year%22%3A%202013%2C%20%22code%22%3A%2031270%2C%20%22name%22%3A%20%22%5Cud3ec%5Cucc9c%5Cuc2dc%22%2C%20%22name_eng%22%3A%20%22Pocheonsi%22%7D%2C%20%22type%22%3A%20%22Feature%22%7D%2C%20%7B%22geometry%22%3A%20%7B%22coordinates%22%3A%20%5B%5B%5B126.97545924731331%2C%2037.93928140597955%5D%2C%20%5B126.94883433502994%2C%2037.89688479787927%5D%2C%20%5B126.9484401545115%2C%2037.86422401203834%5D%2C%20%5B126.93661135445112%2C%2037.843479475117995%5D%2C%20%5B126.9160273881691%2C%2037.83830532663158%5D%2C%20%5B126.9073114617216%2C%2037.790560159793145%5D%2C%20%5B126.93838979622467%2C%2037.771436009953916%5D%2C%20%5B126.93180653905974%2C%2037.74575671706106%5D%2C%20%5B126.92470886562188%2C%2037.72916078041937%5D%2C%20%5B126.92290257733573%2C%2037.66907383915535%5D%2C%20%5B126.94191948970435%2C%2037.66797237250146%5D%2C%20%5B126.94689093217877%2C%2037.68234333447953%5D%2C%20%5B126.96734461801938%2C%2037.68969305565268%5D%2C%20%5B126.99383903424%2C%2037.676681761199085%5D%2C%20%5B127.01039666042071%2C%2037.681894589603594%5D%2C%20%5B127.01795099203432%2C%2037.69824412775662%5D%2C%20%5B127.01477890845196%2C%2037.722832167524864%5D%2C%20%5B127.00430024727942%2C%2037.73792676357612%5D%2C%20%5B127.00437834122181%2C%2037.75999833868866%5D%2C%20%5B127.02081299427202%2C%2037.76581418787214%5D%2C%20%5B127.05297245855259%2C%2037.75816755994106%5D%2C%20%5B127.10645686970089%2C%2037.776897580693586%5D%2C%20%5B127.12412178020936%2C%2037.80931541475853%5D%2C%20%5B127.12400943178396%2C%2037.82538075264934%5D%2C%20%5B127.1113003891929%2C%2037.85708813371199%5D%2C%20%5B127.09509254572018%2C%2037.86843288571378%5D%2C%20%5B127.06250430862417%2C%2037.86658619508279%5D%2C%20%5B127.04837406784853%2C%2037.891090496591005%5D%2C%20%5B127.01281974367026%2C%2037.90171539201257%5D%2C%20%5B127.01215278654801%2C%2037.924817815480985%5D%2C%20%5B126.97545924731331%2C%2037.93928140597955%5D%5D%5D%2C%20%22type%22%3A%20%22Polygon%22%7D%2C%20%22properties%22%3A%20%7B%22base_year%22%3A%202013%2C%20%22code%22%3A%2031260%2C%20%22name%22%3A%20%22%5Cuc591%5Cuc8fc%5Cuc2dc%22%2C%20%22name_eng%22%3A%20%22Yangjusi%22%7D%2C%20%22type%22%3A%20%22Feature%22%7D%2C%20%7B%22geometry%22%3A%20%7B%22coordinates%22%3A%20%5B%5B%5B127.30923294884336%2C%2037.5135706079458%5D%2C%20%5B127.28971082577908%2C%2037.51069218442014%5D%2C%20%5B127.25539313999657%2C%2037.50044702706516%5D%2C%20%5B127.26066872639333%2C%2037.4867746581613%5D%2C%20%5B127.23892819551556%2C%2037.47240158876339%5D%2C%20%5B127.21785285379218%2C%2037.479493796173465%5D%2C%20%5B127.1831716097913%2C%2037.47048077053623%5D%2C%20%5B127.19808034941583%2C%2037.441066604883545%5D%2C%20%5B127.19594474070001%2C%2037.421269309284035%5D%2C%20%5B127.17637586604776%2C%2037.40261052326208%5D%2C%20%5B127.15506886795262%2C%2037.36076173403712%5D%2C%20%5B127.13605700285002%2C%2037.35565614606753%5D%2C%20%5B127.13845652996186%2C%2037.336816804055495%5D%2C%20%5B127.1439713536275%2C%2037.33349026702227%5D%2C%20%5B127.19373839709431%2C%2037.34441869868583%5D%2C%20%5B127.21042746205282%2C%2037.32805374935785%5D%2C%20%5B127.23072982952925%2C%2037.35607967407726%5D%2C%20%5B127.26708575818817%2C%2037.33990127392118%5D%2C%20%5B127.28543362549937%2C%2037.3425335272208%5D%2C%20%5B127.2795205391003%2C%2037.306809952638524%5D%2C%20%5B127.28383871402815%2C%2037.2658807760632%5D%2C%20%5B127.32142008240551%2C%2037.27215636613311%5D%2C%20%5B127.34092967480524%2C%2037.26770614318737%5D%2C%20%5B127.34227600003884%2C%2037.28528169366774%5D%2C%20%5B127.37829628277709%2C%2037.317936247676194%5D%2C%20%5B127.38906532153541%2C%2037.31608103967859%5D%2C%20%5B127.42277946655206%2C%2037.33526375647856%5D%2C%20%5B127.44459662819855%2C%2037.35562085049101%5D%2C%20%5B127.44514756834636%2C%2037.3842770721951%5D%2C%20%5B127.41955611640327%2C%2037.386674887879835%5D%2C%20%5B127.40276739880215%2C%2037.41856433413549%5D%2C%20%5B127.39174400683049%2C%2037.4256483411369%5D%2C%20%5B127.37490698722792%2C%2037.455072688441305%5D%2C%20%5B127.39046783039153%2C%2037.47413422098595%5D%2C%20%5B127.38286320755414%2C%2037.50147517965334%5D%2C%20%5B127.3663244453597%2C%2037.52716845880826%5D%2C%20%5B127.32809611134748%2C%2037.53133849534739%5D%2C%20%5B127.30923294884336%2C%2037.5135706079458%5D%5D%5D%2C%20%22type%22%3A%20%22Polygon%22%7D%2C%20%22properties%22%3A%20%7B%22base_year%22%3A%202013%2C%20%22code%22%3A%2031250%2C%20%22name%22%3A%20%22%5Cuad11%5Cuc8fc%5Cuc2dc%22%2C%20%22name_eng%22%3A%20%22Gwangju%22%7D%2C%20%22type%22%3A%20%22Feature%22%7D%2C%20%7B%22geometry%22%3A%20%7B%22coordinates%22%3A%20%5B%5B%5B126.92946761531998%2C%2037.275967848758626%5D%2C%20%5B126.9159468889861%2C%2037.28864104563552%5D%2C%20%5B126.84641021832398%2C%2037.26433293772644%5D%2C%20%5B126.81930541992186%2C%2037.29590550406618%5D%2C%20%5B126.77604675292967%2C%2037.28552626562424%5D%2C%20%5B126.76918029785156%2C%2037.28334098034544%5D%2C%20%5B126.73210144042969%2C%2037.29098920118597%5D%2C%20%5B126.71836853027344%2C%2037.286072577028555%5D%2C%20%5B126.68403625488283%2C%2037.267495764381856%5D%2C%20%5B126.6510772705078%2C%2037.25328687335229%5D%2C%20%5B126.66481018066405%2C%2037.21994010868952%5D%2C%20%5B126.65794372558594%2C%2037.19478361329807%5D%2C%20%5B126.66271935011406%2C%2037.15926986163073%5D%2C%20%5B126.6846290670714%2C%2037.14600860455114%5D%2C%20%5B126.67514463500929%2C%2037.13507063838445%5D%2C%20%5B126.69054868899676%2C%2037.11326932983634%5D%2C%20%5B126.7301407699343%2C%2037.135914524793805%5D%2C%20%5B126.74720764160156%2C%2037.14225609389272%5D%2C%20%5B126.7719268798828%2C%2037.14663478158564%5D%2C%20%5B126.79458618164062%2C%2037.14827672411748%5D%2C%20%5B126.80659259648279%2C%2037.148624224069174%5D%2C%20%5B126.7547607421875%2C%2037.137329767248794%5D%2C%20%5B126.72454833984374%2C%2037.11543110112874%5D%2C%20%5B126.73072814941408%2C%2037.092430683283474%5D%2C%20%5B126.7327880859375%2C%2037.07544970503028%5D%2C%20%5B126.75132751464844%2C%2037.0601087778919%5D%2C%20%5B126.75044219493901%2C%2037.04618007006251%5D%2C%20%5B126.75308052062115%2C%2037.02639369248519%5D%2C%20%5B126.79113814421088%2C%2037.02631450535446%5D%2C%20%5B126.79899352215931%2C%2037.0092005991418%5D%2C%20%5B126.84014623559027%2C%2037.01079503386266%5D%2C%20%5B126.85940022959993%2C%2037.022131594683266%5D%2C%20%5B126.8846211892453%2C%2037.05795114472113%5D%2C%20%5B126.90291323437098%2C%2037.06724127811693%5D%2C%20%5B126.94247588185057%2C%2037.057958386286046%5D%2C%20%5B126.95290081243859%2C%2037.06545814826726%5D%2C%20%5B126.98672297136514%2C%2037.06879655242586%5D%2C%20%5B127.00102521866197%2C%2037.08973596266607%5D%2C%20%5B127.00593012741142%2C%2037.124105707924144%5D%2C%20%5B127.03746950511537%2C%2037.13336771678679%5D%2C%20%5B127.03019615684671%2C%2037.16027870494751%5D%2C%20%5B127.00186863458882%2C%2037.1747343711991%5D%2C%20%5B127.02929563655235%2C%2037.19787494412135%5D%2C%20%5B127.06660498380589%2C%2037.19589230774365%5D%2C%20%5B127.07609473440765%2C%2037.16092553278145%5D%2C%20%5B127.09596808287752%2C%2037.1566082978686%5D%2C%20%5B127.10575417734016%2C%2037.1407283236673%5D%2C%20%5B127.12480483538663%2C%2037.14166379699704%5D%2C%20%5B127.13469226704495%2C%2037.165565916914176%5D%2C%20%5B127.16278322754954%2C%2037.17771519608909%5D%2C%20%5B127.15371679380591%2C%2037.215705679231036%5D%2C%20%5B127.09106338919456%2C%2037.21351968359228%5D%2C%20%5B127.06878518378286%2C%2037.23731339587258%5D%2C%20%5B127.04178611512381%2C%2037.24066886027782%5D%2C%20%5B127.02475029106094%2C%2037.22207898080851%5D%2C%20%5B126.97491964707861%2C%2037.22588531228192%5D%2C%20%5B126.95229769733274%2C%2037.2524826245201%5D%2C%20%5B126.93110125729105%2C%2037.260824951129344%5D%2C%20%5B126.92946761531998%2C%2037.275967848758626%5D%5D%5D%2C%20%22type%22%3A%20%22Polygon%22%7D%2C%20%22properties%22%3A%20%7B%22base_year%22%3A%202013%2C%20%22code%22%3A%2031240%2C%20%22name%22%3A%20%22%5Cud654%5Cuc131%5Cuc2dc%22%2C%20%22name_eng%22%3A%20%22Hwaseongsi%22%7D%2C%20%22type%22%3A%20%22Feature%22%7D%2C%20%7B%22geometry%22%3A%20%7B%22coordinates%22%3A%20%5B%5B%5B126.67862254618308%2C%2037.697305342702336%5D%2C%20%5B126.68687028203884%2C%2037.72287270233232%5D%2C%20%5B126.66907840308846%2C%2037.78174793493798%5D%2C%20%5B126.64101439012131%2C%2037.77566349630024%5D%2C%20%5B126.61153655783419%2C%2037.75013666485523%5D%2C%20%5B126.56882602841813%2C%2037.7532565431125%5D%2C%20%5B126.55721894228033%2C%2037.76621180168271%5D%2C%20%5B126.51662409600848%2C%2037.76417822326665%5D%2C%20%5B126.52807816920034%2C%2037.73531846953613%5D%2C%20%5B126.52057497424896%2C%2037.70995131425922%5D%2C%20%5B126.5293420651622%2C%2037.70036377653783%5D%2C%20%5B126.52504262045373%2C%2037.67373626287928%5D%2C%20%5B126.53101689696972%2C%2037.65019057730887%5D%2C%20%5B126.55161765645468%2C%2037.624298554715594%5D%2C%20%5B126.55623106969898%2C%2037.60651221746275%5D%2C%20%5B126.57464273966109%2C%2037.58499252358352%5D%2C%20%5B126.61067265871806%2C%2037.601000735347455%5D%2C%20%5B126.6298186792055%2C%2037.60410987353396%5D%2C%20%5B126.63835822769396%2C%2037.62500980457943%5D%2C%20%5B126.6591800896809%2C%2037.63521787385032%5D%2C%20%5B126.70070861456485%2C%2037.6146734329379%5D%2C%20%5B126.72720375328538%2C%2037.589208895921956%5D%2C%20%5B126.74570339076207%2C%2037.59055779256247%5D%2C%20%5B126.79575768552907%2C%2037.57881087633202%5D%2C%20%5B126.80702115023597%2C%2037.60123001013228%5D%2C%20%5B126.77608157956732%2C%2037.61940269153496%5D%2C%20%5B126.74300328815525%2C%2037.63613822400079%5D%2C%20%5B126.6733552623039%2C%2037.67370888254625%5D%2C%20%5B126.67862254618308%2C%2037.697305342702336%5D%5D%5D%2C%20%22type%22%3A%20%22Polygon%22%7D%2C%20%22properties%22%3A%20%7B%22base_year%22%3A%202013%2C%20%22code%22%3A%2031230%2C%20%22name%22%3A%20%22%5Cuae40%5Cud3ec%5Cuc2dc%22%2C%20%22name_eng%22%3A%20%22Gimpo-si%22%7D%2C%20%22type%22%3A%20%22Feature%22%7D%2C%20%7B%22geometry%22%3A%20%7B%22coordinates%22%3A%20%5B%5B%5B127.4921007211045%2C%2037.04995601187854%5D%2C%20%5B127.50695269820937%2C%2037.05753483878351%5D%2C%20%5B127.5183736840388%2C%2037.08503753187909%5D%2C%20%5B127.50508537419512%2C%2037.115382889205684%5D%2C%20%5B127.45481750751989%2C%2037.132580597361105%5D%2C%20%5B127.43195960102275%2C%2037.144888798316245%5D%2C%20%5B127.4230458143012%2C%2037.123216212193206%5D%2C%20%5B127.42631296061737%2C%2037.09684636395198%5D%2C%20%5B127.40130784690913%2C%2037.09245087525459%5D%2C%20%5B127.36035341650685%2C%2037.104395022706164%5D%2C%20%5B127.34555940652085%2C%2037.10116608411004%5D%2C%20%5B127.32884755687247%2C%2037.11659174326816%5D%2C%20%5B127.3127600393989%2C%2037.10253147019345%5D%2C%20%5B127.29016455856019%2C%2037.1284169582523%5D%2C%20%5B127.2524045686932%2C%2037.142247323045744%5D%2C%20%5B127.25314613987028%2C%2037.120146872115946%5D%2C%20%5B127.23808463453801%2C%2037.11859194998404%5D%2C%20%5B127.21070673321714%2C%2037.1015342900424%5D%2C%20%5B127.19738813790079%2C%2037.08621655572156%5D%2C%20%5B127.16831604852223%2C%2037.083742477354726%5D%2C%20%5B127.12516729074011%2C%2037.08849523189945%5D%2C%20%5B127.12948838054707%2C%2037.04966079815856%5D%2C%20%5B127.10740090841584%2C%2037.0328875639127%5D%2C%20%5B127.15517998352519%2C%2037.026613262831916%5D%2C%20%5B127.14747724307254%2C%2037.0138188945719%5D%2C%20%5B127.15496570056612%2C%2036.99487383420599%5D%2C%20%5B127.13779801966723%2C%2036.99041291045364%5D%2C%20%5B127.1216062947912%2C%2036.96626164975953%5D%2C%20%5B127.1464102583773%2C%2036.96864576891614%5D%2C%20%5B127.20400548086619%2C%2036.94924588348929%5D%2C%20%5B127.2223238977499%2C%2036.92742980980818%5D%2C%20%5B127.24613652503862%2C%2036.91453164371645%5D%2C%20%5B127.27227784491541%2C%2036.910372298119825%5D%2C%20%5B127.2919237698698%2C%2036.89094292918124%5D%2C%20%5B127.31127137227124%2C%2036.92622202120876%5D%2C%20%5B127.35186324388168%2C%2036.94969761594173%5D%2C%20%5B127.38065822509601%2C%2036.94859652718182%5D%2C%20%5B127.40398967704995%2C%2036.96488092382215%5D%2C%20%5B127.38707184117484%2C%2036.981534293776996%5D%2C%20%5B127.39617030040874%2C%2036.99507985079591%5D%2C%20%5B127.43189913129159%2C%2036.99902770852865%5D%2C%20%5B127.4488413674345%2C%2037.008168187910805%5D%2C%20%5B127.46014553759977%2C%2037.01772149607737%5D%2C%20%5B127.45985706240288%2C%2037.0407398003885%5D%2C%20%5B127.4921007211045%2C%2037.04995601187854%5D%5D%5D%2C%20%22type%22%3A%20%22Polygon%22%7D%2C%20%22properties%22%3A%20%7B%22base_year%22%3A%202013%2C%20%22code%22%3A%2031220%2C%20%22name%22%3A%20%22%5Cuc548%5Cuc131%5Cuc2dc%22%2C%20%22name_eng%22%3A%20%22Anseong-si%22%7D%2C%20%22type%22%3A%20%22Feature%22%7D%2C%20%7B%22geometry%22%3A%20%7B%22coordinates%22%3A%20%5B%5B%5B127.44459662819855%2C%2037.35562085049101%5D%2C%20%5B127.42277946655206%2C%2037.33526375647856%5D%2C%20%5B127.38906532153541%2C%2037.31608103967859%5D%2C%20%5B127.37829628277709%2C%2037.317936247676194%5D%2C%20%5B127.34227600003884%2C%2037.28528169366774%5D%2C%20%5B127.34092967480524%2C%2037.26770614318737%5D%2C%20%5B127.33185727826834%2C%2037.21877880590886%5D%2C%20%5B127.3504254442421%2C%2037.20158943522061%5D%2C%20%5B127.38033957366586%2C%2037.19271119046181%5D%2C%20%5B127.38451468391715%2C%2037.17989930552182%5D%2C%20%5B127.41620898203362%2C%2037.17029801090558%5D%2C%20%5B127.41445191048162%2C%2037.152220061925426%5D%2C%20%5B127.43195960102275%2C%2037.144888798316245%5D%2C%20%5B127.45481750751989%2C%2037.132580597361105%5D%2C%20%5B127.50508537419512%2C%2037.115382889205684%5D%2C%20%5B127.5183736840388%2C%2037.08503753187909%5D%2C%20%5B127.50695269820937%2C%2037.05753483878351%5D%2C%20%5B127.4921007211045%2C%2037.04995601187854%5D%2C%20%5B127.5328452994501%2C%2037.052947456094785%5D%2C%20%5B127.55489094869193%2C%2037.04147062932325%5D%2C%20%5B127.56834352033556%2C%2037.06015560613134%5D%2C%20%5B127.60303992687903%2C%2037.08267817797425%5D%2C%20%5B127.63326599440494%2C%2037.09343317631327%5D%2C%20%5B127.6399897481202%2C%2037.13818503173906%5D%2C%20%5B127.63091754409567%2C%2037.150947430524305%5D%2C%20%5B127.5999013564347%2C%2037.1854997199498%5D%2C%20%5B127.5785248984445%2C%2037.186311208078585%5D%2C%20%5B127.55830514005798%2C%2037.17381401041668%5D%2C%20%5B127.52893461217018%2C%2037.170618598276%5D%2C%20%5B127.51957698997381%2C%2037.18188687027366%5D%2C%20%5B127.53342604855668%2C%2037.19715010635273%5D%2C%20%5B127.52770097674612%2C%2037.23765094459253%5D%2C%20%5B127.5395160453677%2C%2037.24379045683148%5D%2C%20%5B127.53106721989582%2C%2037.27115011578052%5D%2C%20%5B127.54853754663094%2C%2037.29860192066929%5D%2C%20%5B127.51574229064994%2C%2037.336561285567946%5D%2C%20%5B127.49167370715485%2C%2037.339527598960764%5D%2C%20%5B127.47263652805968%2C%2037.35869263849808%5D%2C%20%5B127.44459662819855%2C%2037.35562085049101%5D%5D%5D%2C%20%22type%22%3A%20%22Polygon%22%7D%2C%20%22properties%22%3A%20%7B%22base_year%22%3A%202013%2C%20%22code%22%3A%2031210%2C%20%22name%22%3A%20%22%5Cuc774%5Cucc9c%5Cuc2dc%22%2C%20%22name_eng%22%3A%20%22Icheon-si%22%7D%2C%20%22type%22%3A%20%22Feature%22%7D%2C%20%7B%22geometry%22%3A%20%7B%22coordinates%22%3A%20%5B%5B%5B126.8029965558113%2C%2037.989251239637596%5D%2C%20%5B126.78238542753242%2C%2037.980043641136376%5D%2C%20%5B126.76520529808869%2C%2037.98230780004701%5D%2C%20%5B126.7420462951568%2C%2037.96995265840659%5D%2C%20%5B126.74668441679131%2C%2037.94913356897888%5D%2C%20%5B126.71646858457899%2C%2037.93722236122983%5D%2C%20%5B126.69257364928472%2C%2037.941147151072606%5D%2C%20%5B126.67501771549766%2C%2037.95271495350346%5D%2C%20%5B126.66763541566303%2C%2037.91838340624898%5D%2C%20%5B126.67945067210682%2C%2037.89497402505224%5D%2C%20%5B126.67382346217423%2C%2037.88401755835065%5D%2C%20%5B126.69348896006609%2C%2037.86442957434648%5D%2C%20%5B126.6622706417164%2C%2037.83606410322825%5D%2C%20%5B126.67603874694878%2C%2037.82828427203144%5D%2C%20%5B126.66423330880171%2C%2037.78738456951397%5D%2C%20%5B126.66907840308846%2C%2037.78174793493798%5D%2C%20%5B126.68687028203884%2C%2037.72287270233232%5D%2C%20%5B126.67862254618308%2C%2037.697305342702336%5D%2C%20%5B126.69372674409394%2C%2037.687413022894034%5D%2C%20%5B126.72711651649912%2C%2037.70166318681986%5D%2C%20%5B126.77635483402547%2C%2037.70188604497484%5D%2C%20%5B126.79766531143225%2C%2037.730785143520876%5D%2C%20%5B126.81634118925638%2C%2037.72071803262515%5D%2C%20%5B126.83772078982989%2C%2037.72529130369535%5D%2C%20%5B126.85856020555829%2C%2037.73179451375736%5D%2C%20%5B126.88536540501534%2C%2037.717034664244366%5D%2C%20%5B126.90425036668735%2C%2037.72565605361581%5D%2C%20%5B126.91088793086112%2C%2037.74418199544871%5D%2C%20%5B126.93180653905974%2C%2037.74575671706106%5D%2C%20%5B126.93838979622467%2C%2037.771436009953916%5D%2C%20%5B126.9073114617216%2C%2037.790560159793145%5D%2C%20%5B126.9160273881691%2C%2037.83830532663158%5D%2C%20%5B126.93661135445112%2C%2037.843479475117995%5D%2C%20%5B126.9484401545115%2C%2037.86422401203834%5D%2C%20%5B126.94883433502994%2C%2037.89688479787927%5D%2C%20%5B126.97545924731331%2C%2037.93928140597955%5D%2C%20%5B127.01739022262282%2C%2037.989561835400195%5D%2C%20%5B126.99425287672854%2C%2038.000624488107924%5D%2C%20%5B126.97166918547234%2C%2038.000587999007735%5D%2C%20%5B126.93929997962098%2C%2037.9789601448141%5D%2C%20%5B126.90034044420747%2C%2037.99438948257985%5D%2C%20%5B126.89755470110721%2C%2037.9683523617657%5D%2C%20%5B126.8739356423477%2C%2037.968400924665225%5D%2C%20%5B126.85859300440933%2C%2037.98329485669624%5D%2C%20%5B126.8423229135476%2C%2037.97819760433225%5D%2C%20%5B126.8388723334759%2C%2037.96197909365746%5D%2C%20%5B126.80659958939793%2C%2037.9680012097748%5D%2C%20%5B126.8029965558113%2C%2037.989251239637596%5D%5D%5D%2C%20%22type%22%3A%20%22Polygon%22%7D%2C%20%22properties%22%3A%20%7B%22base_year%22%3A%202013%2C%20%22code%22%3A%2031200%2C%20%22name%22%3A%20%22%5Cud30c%5Cuc8fc%5Cuc2dc%22%2C%20%22name_eng%22%3A%20%22Paju-si%22%7D%2C%20%22type%22%3A%20%22Feature%22%7D%2C%20%7B%22geometry%22%3A%20%7B%22coordinates%22%3A%20%5B%5B%5B127.03004539569396%2C%2037.36932312139811%5D%2C%20%5B127.02090967499298%2C%2037.348741503905366%5D%2C%20%5B127.03554038078946%2C%2037.341941908872045%5D%2C%20%5B127.04202153059128%2C%2037.318511731862884%5D%2C%20%5B127.06304327683587%2C%2037.30610813773979%5D%2C%20%5B127.06269400142102%2C%2037.293755190822594%5D%2C%20%5B127.09199113357242%2C%2037.295585212583866%5D%2C%20%5B127.10392750030913%2C%2037.31946377620277%5D%2C%20%5B127.13936654068314%2C%2037.321564168361974%5D%2C%20%5B127.1439713536275%2C%2037.33349026702227%5D%2C%20%5B127.13845652996186%2C%2037.336816804055495%5D%2C%20%5B127.11899182435063%2C%2037.33059044022546%5D%2C%20%5B127.07299151640797%2C%2037.35485426174942%5D%2C%20%5B127.03004539569396%2C%2037.36932312139811%5D%5D%5D%2C%20%22type%22%3A%20%22Polygon%22%7D%2C%20%22properties%22%3A%20%7B%22base_year%22%3A%202013%2C%20%22code%22%3A%2031193%2C%20%22name%22%3A%20%22%5Cuc6a9%5Cuc778%5Cuc2dc%5Cuc218%5Cuc9c0%5Cuad6c%22%2C%20%22name_eng%22%3A%20%22Yonginsisujigu%22%7D%2C%20%22type%22%3A%20%22Feature%22%7D%2C%20%7B%22geometry%22%3A%20%7B%22coordinates%22%3A%20%5B%5B%5B127.09199113357242%2C%2037.295585212583866%5D%2C%20%5B127.09104881579566%2C%2037.284308786190785%5D%2C%20%5B127.06718840393803%2C%2037.26860748709257%5D%2C%20%5B127.08680542938673%2C%2037.253775982641194%5D%2C%20%5B127.06878518378286%2C%2037.23731339587258%5D%2C%20%5B127.09106338919456%2C%2037.21351968359228%5D%2C%20%5B127.15371679380591%2C%2037.215705679231036%5D%2C%20%5B127.15133830848096%2C%2037.23783513168847%5D%2C%20%5B127.17714136480691%2C%2037.255352775734025%5D%2C%20%5B127.17921513238925%2C%2037.282153169636494%5D%2C%20%5B127.13936654068314%2C%2037.321564168361974%5D%2C%20%5B127.10392750030913%2C%2037.31946377620277%5D%2C%20%5B127.09199113357242%2C%2037.295585212583866%5D%5D%5D%2C%20%22type%22%3A%20%22Polygon%22%7D%2C%20%22properties%22%3A%20%7B%22base_year%22%3A%202013%2C%20%22code%22%3A%2031192%2C%20%22name%22%3A%20%22%5Cuc6a9%5Cuc778%5Cuc2dc%5Cuae30%5Cud765%5Cuad6c%22%2C%20%22name_eng%22%3A%20%22Yonginsigiheunggu%22%7D%2C%20%22type%22%3A%20%22Feature%22%7D%2C%20%7B%22geometry%22%3A%20%7B%22coordinates%22%3A%20%5B%5B%5B127.34092967480524%2C%2037.26770614318737%5D%2C%20%5B127.32142008240551%2C%2037.27215636613311%5D%2C%20%5B127.28383871402815%2C%2037.2658807760632%5D%2C%20%5B127.2795205391003%2C%2037.306809952638524%5D%2C%20%5B127.28543362549937%2C%2037.3425335272208%5D%2C%20%5B127.26708575818817%2C%2037.33990127392118%5D%2C%20%5B127.23072982952925%2C%2037.35607967407726%5D%2C%20%5B127.21042746205282%2C%2037.32805374935785%5D%2C%20%5B127.19373839709431%2C%2037.34441869868583%5D%2C%20%5B127.1439713536275%2C%2037.33349026702227%5D%2C%20%5B127.13936654068314%2C%2037.321564168361974%5D%2C%20%5B127.17921513238925%2C%2037.282153169636494%5D%2C%20%5B127.17714136480691%2C%2037.255352775734025%5D%2C%20%5B127.15133830848096%2C%2037.23783513168847%5D%2C%20%5B127.15371679380591%2C%2037.215705679231036%5D%2C%20%5B127.16278322754954%2C%2037.17771519608909%5D%2C%20%5B127.13469226704495%2C%2037.165565916914176%5D%2C%20%5B127.12480483538663%2C%2037.14166379699704%5D%2C%20%5B127.11116461643066%2C%2037.123859739458304%5D%2C%20%5B127.12516729074011%2C%2037.08849523189945%5D%2C%20%5B127.16831604852223%2C%2037.083742477354726%5D%2C%20%5B127.19738813790079%2C%2037.08621655572156%5D%2C%20%5B127.21070673321714%2C%2037.1015342900424%5D%2C%20%5B127.23808463453801%2C%2037.11859194998404%5D%2C%20%5B127.25314613987028%2C%2037.120146872115946%5D%2C%20%5B127.2524045686932%2C%2037.142247323045744%5D%2C%20%5B127.29016455856019%2C%2037.1284169582523%5D%2C%20%5B127.3127600393989%2C%2037.10253147019345%5D%2C%20%5B127.32884755687247%2C%2037.11659174326816%5D%2C%20%5B127.34555940652085%2C%2037.10116608411004%5D%2C%20%5B127.36035341650685%2C%2037.104395022706164%5D%2C%20%5B127.40130784690913%2C%2037.09245087525459%5D%2C%20%5B127.42631296061737%2C%2037.09684636395198%5D%2C%20%5B127.4230458143012%2C%2037.123216212193206%5D%2C%20%5B127.43195960102275%2C%2037.144888798316245%5D%2C%20%5B127.41445191048162%2C%2037.152220061925426%5D%2C%20%5B127.41620898203362%2C%2037.17029801090558%5D%2C%20%5B127.38451468391715%2C%2037.17989930552182%5D%2C%20%5B127.38033957366586%2C%2037.19271119046181%5D%2C%20%5B127.3504254442421%2C%2037.20158943522061%5D%2C%20%5B127.33185727826834%2C%2037.21877880590886%5D%2C%20%5B127.34092967480524%2C%2037.26770614318737%5D%5D%5D%2C%20%22type%22%3A%20%22Polygon%22%7D%2C%20%22properties%22%3A%20%7B%22base_year%22%3A%202013%2C%20%22code%22%3A%2031191%2C%20%22name%22%3A%20%22%5Cuc6a9%5Cuc778%5Cuc2dc%5Cucc98%5Cuc778%5Cuad6c%22%2C%20%22name_eng%22%3A%20%22Yonginsicheoingu%22%7D%2C%20%22type%22%3A%20%22Feature%22%7D%2C%20%7B%22geometry%22%3A%20%7B%22coordinates%22%3A%20%5B%5B%5B127.16683184366129%2C%2037.57672487388627%5D%2C%20%5B127.18408792330152%2C%2037.55814280369575%5D%2C%20%5B127.16530984307447%2C%2037.54221851258693%5D%2C%20%5B127.14672806823502%2C%2037.51415680680291%5D%2C%20%5B127.1634944215765%2C%2037.497445406097484%5D%2C%20%5B127.14206058413274%2C%2037.47089819098501%5D%2C%20%5B127.17807401290999%2C%2037.46939077799968%5D%2C%20%5B127.1831716097913%2C%2037.47048077053623%5D%2C%20%5B127.21785285379218%2C%2037.479493796173465%5D%2C%20%5B127.23892819551556%2C%2037.47240158876339%5D%2C%20%5B127.26066872639333%2C%2037.4867746581613%5D%2C%20%5B127.25539313999657%2C%2037.50044702706516%5D%2C%20%5B127.28971082577908%2C%2037.51069218442014%5D%2C%20%5B127.28111702399318%2C%2037.523561821461996%5D%2C%20%5B127.23688890922413%2C%2037.546307321113254%5D%2C%20%5B127.23635034049964%2C%2037.55494536243556%5D%2C%20%5B127.20140811211739%2C%2037.58834877432742%5D%2C%20%5B127.16683184366129%2C%2037.57672487388627%5D%5D%5D%2C%20%22type%22%3A%20%22Polygon%22%7D%2C%20%22properties%22%3A%20%7B%22base_year%22%3A%202013%2C%20%22code%22%3A%2031180%2C%20%22name%22%3A%20%22%5Cud558%5Cub0a8%5Cuc2dc%22%2C%20%22name_eng%22%3A%20%22Hanam-si%22%7D%2C%20%22type%22%3A%20%22Feature%22%7D%2C%20%7B%22geometry%22%3A%20%7B%22coordinates%22%3A%20%5B%5B%5B127.04377994345505%2C%2037.41281928664435%5D%2C%20%5B127.0154646349186%2C%2037.411005997724835%5D%2C%20%5B126.98466887829045%2C%2037.39785909018114%5D%2C%20%5B126.96423328330341%2C%2037.358735102948096%5D%2C%20%5B126.94893535067122%2C%2037.32100738175514%5D%2C%20%5B126.93252071350132%2C%2037.30423856869929%5D%2C%20%5B126.93504702033805%2C%2037.3002209928663%5D%2C%20%5B126.96633916587045%2C%2037.29989574204989%5D%2C%20%5B126.98303616696394%2C%2037.32376927812144%5D%2C%20%5B127.02090967499298%2C%2037.348741503905366%5D%2C%20%5B127.03004539569396%2C%2037.36932312139811%5D%2C%20%5B127.04580444799605%2C%2037.40139072056455%5D%2C%20%5B127.04377994345505%2C%2037.41281928664435%5D%5D%5D%2C%20%22type%22%3A%20%22Polygon%22%7D%2C%20%22properties%22%3A%20%7B%22base_year%22%3A%202013%2C%20%22code%22%3A%2031170%2C%20%22name%22%3A%20%22%5Cuc758%5Cuc655%5Cuc2dc%22%2C%20%22name_eng%22%3A%20%22Uiwang-si%22%7D%2C%20%22type%22%3A%20%22Feature%22%7D%2C%20%7B%22geometry%22%3A%20%7B%22coordinates%22%3A%20%5B%5B%5B126.96423328330341%2C%2037.358735102948096%5D%2C%20%5B126.9429122120182%2C%2037.37630880537034%5D%2C%20%5B126.9163870114383%2C%2037.37253977179312%5D%2C%20%5B126.89932903785872%2C%2037.35524703438324%5D%2C%20%5B126.88015838809775%2C%2037.316795632219964%5D%2C%20%5B126.9092771218202%2C%2037.318694910599305%5D%2C%20%5B126.93252071350132%2C%2037.30423856869929%5D%2C%20%5B126.94893535067122%2C%2037.32100738175514%5D%2C%20%5B126.96423328330341%2C%2037.358735102948096%5D%5D%5D%2C%20%22type%22%3A%20%22Polygon%22%7D%2C%20%22properties%22%3A%20%7B%22base_year%22%3A%202013%2C%20%22code%22%3A%2031160%2C%20%22name%22%3A%20%22%5Cuad70%5Cud3ec%5Cuc2dc%22%2C%20%22name_eng%22%3A%20%22Gunpo-si%22%7D%2C%20%22type%22%3A%20%22Feature%22%7D%2C%20%7B%22geometry%22%3A%20%7B%22coordinates%22%3A%20%5B%5B%5B126.78024890848009%2C%2037.469000573789124%5D%2C%20%5B126.78043371089171%2C%2037.44800343708732%5D%2C%20%5B126.77110599967482%2C%2037.42452961090748%5D%2C%20%5B126.75529287233691%2C%2037.41984217802103%5D%2C%20%5B126.73861862061078%2C%2037.39261185865545%5D%2C%20%5B126.7029884306089%2C%2037.352119573644295%5D%2C%20%5B126.69453406156698%2C%2037.331064777919245%5D%2C%20%5B126.7248752674955%2C%2037.31058440885402%5D%2C%20%5B126.74059726902762%2C%2037.32685692943894%5D%2C%20%5B126.76357575956314%2C%2037.33864505297868%5D%2C%20%5B126.79105964941944%2C%2037.33699094698096%5D%2C%20%5B126.82580289305967%2C%2037.360321842249355%5D%2C%20%5B126.84283747134161%2C%2037.360869895636554%5D%2C%20%5B126.86691937294266%2C%2037.358697064350324%5D%2C%20%5B126.88400175928666%2C%2037.37340263600163%5D%2C%20%5B126.879093453746%2C%2037.399239167854816%5D%2C%20%5B126.85964157227416%2C%2037.398615706957116%5D%2C%20%5B126.8484052155556%2C%2037.40965572330444%5D%2C%20%5B126.8280587234361%2C%2037.456596986921056%5D%2C%20%5B126.78024890848009%2C%2037.469000573789124%5D%5D%5D%2C%20%22type%22%3A%20%22Polygon%22%7D%2C%20%22properties%22%3A%20%7B%22base_year%22%3A%202013%2C%20%22code%22%3A%2031150%2C%20%22name%22%3A%20%22%5Cuc2dc%5Cud765%5Cuc2dc%22%2C%20%22name_eng%22%3A%20%22Siheung-si%22%7D%2C%20%22type%22%3A%20%22Feature%22%7D%2C%20%7B%22geometry%22%3A%20%7B%22coordinates%22%3A%20%5B%5B%5B127.10575417734016%2C%2037.1407283236673%5D%2C%20%5B127.09596808287752%2C%2037.1566082978686%5D%2C%20%5B127.07609473440765%2C%2037.16092553278145%5D%2C%20%5B127.06660498380589%2C%2037.19589230774365%5D%2C%20%5B127.02929563655235%2C%2037.19787494412135%5D%2C%20%5B127.00186863458882%2C%2037.1747343711991%5D%2C%20%5B127.03019615684671%2C%2037.16027870494751%5D%2C%20%5B127.03746950511537%2C%2037.13336771678679%5D%2C%20%5B127.04304406837494%2C%2037.126222304219084%5D%2C%20%5B127.09127893510457%2C%2037.12882078023335%5D%2C%20%5B127.10575417734016%2C%2037.1407283236673%5D%5D%5D%2C%20%22type%22%3A%20%22Polygon%22%7D%2C%20%22properties%22%3A%20%7B%22base_year%22%3A%202013%2C%20%22code%22%3A%2031140%2C%20%22name%22%3A%20%22%5Cuc624%5Cuc0b0%5Cuc2dc%22%2C%20%22name_eng%22%3A%20%22Osan-si%22%7D%2C%20%22type%22%3A%20%22Feature%22%7D%2C%20%7B%22geometry%22%3A%20%7B%22coordinates%22%3A%20%5B%5B%5B127.2686525155809%2C%2037.777676803810074%5D%2C%20%5B127.26186907661463%2C%2037.765678541736996%5D%2C%20%5B127.22719439323131%2C%2037.750666435161854%5D%2C%20%5B127.21510645674604%2C%2037.75873586709106%5D%2C%20%5B127.18575971970597%2C%2037.76186443408089%5D%2C%20%5B127.17524551122212%2C%2037.751938183429424%5D%2C%20%5B127.14882403466048%2C%2037.75206030443599%5D%2C%20%5B127.13060037316637%2C%2037.74504865443316%5D%2C%20%5B127.12788299600184%2C%2037.72469254066713%5D%2C%20%5B127.0838752703195%2C%2037.69359534202034%5D%2C%20%5B127.09706391309695%2C%2037.686383719372294%5D%2C%20%5B127.09440766298717%2C%2037.64713490473045%5D%2C%20%5B127.11326795855199%2C%2037.639622905315925%5D%2C%20%5B127.1523782881412%2C%2037.63663639743511%5D%2C%20%5B127.14554907981939%2C%2037.61784095180692%5D%2C%20%5B127.16683184366129%2C%2037.57672487388627%5D%2C%20%5B127.20140811211739%2C%2037.58834877432742%5D%2C%20%5B127.23635034049964%2C%2037.55494536243556%5D%2C%20%5B127.23688890922413%2C%2037.546307321113254%5D%2C%20%5B127.28111702399318%2C%2037.523561821461996%5D%2C%20%5B127.28971082577908%2C%2037.51069218442014%5D%2C%20%5B127.30923294884336%2C%2037.5135706079458%5D%2C%20%5B127.31002843450217%2C%2037.53523876142835%5D%2C%20%5B127.34360057873045%2C%2037.588997440929354%5D%2C%20%5B127.3542931884407%2C%2037.6250006376975%5D%2C%20%5B127.3732642199939%2C%2037.6453987554284%5D%2C%20%5B127.38133544278186%2C%2037.67180837890239%5D%2C%20%5B127.35557114419971%2C%2037.701041217064585%5D%2C%20%5B127.35759057077398%2C%2037.720909295881434%5D%2C%20%5B127.34501289752937%2C%2037.7266690692075%5D%2C%20%5B127.32070791913966%2C%2037.76445271893134%5D%2C%20%5B127.2686525155809%2C%2037.777676803810074%5D%5D%5D%2C%20%22type%22%3A%20%22Polygon%22%7D%2C%20%22properties%22%3A%20%7B%22base_year%22%3A%202013%2C%20%22code%22%3A%2031130%2C%20%22name%22%3A%20%22%5Cub0a8%5Cuc591%5Cuc8fc%5Cuc2dc%22%2C%20%22name_eng%22%3A%20%22Namyangju-si%22%7D%2C%20%22type%22%3A%20%22Feature%22%7D%2C%20%7B%22geometry%22%3A%20%7B%22coordinates%22%3A%20%5B%5B%5B127.11326795855199%2C%2037.639622905315925%5D%2C%20%5B127.10782277688129%2C%2037.61804244241069%5D%2C%20%5B127.1201246020114%2C%2037.60178457598188%5D%2C%20%5B127.10304174249214%2C%2037.57076342290955%5D%2C%20%5B127.11519584981606%2C%2037.557533180704915%5D%2C%20%5B127.16683184366129%2C%2037.57672487388627%5D%2C%20%5B127.14554907981939%2C%2037.61784095180692%5D%2C%20%5B127.1523782881412%2C%2037.63663639743511%5D%2C%20%5B127.11326795855199%2C%2037.639622905315925%5D%5D%5D%2C%20%22type%22%3A%20%22Polygon%22%7D%2C%20%22properties%22%3A%20%7B%22base_year%22%3A%202013%2C%20%22code%22%3A%2031120%2C%20%22name%22%3A%20%22%5Cuad6c%5Cub9ac%5Cuc2dc%22%2C%20%22name_eng%22%3A%20%22Guri-si%22%7D%2C%20%22type%22%3A%20%22Feature%22%7D%2C%20%7B%22geometry%22%3A%20%7B%22coordinates%22%3A%20%5B%5B%5B126.99072073195462%2C%2037.455326143310025%5D%2C%20%5B126.96520439085143%2C%2037.438249784006246%5D%2C%20%5B126.96342494806345%2C%2037.42289846046814%5D%2C%20%5B126.98466887829045%2C%2037.39785909018114%5D%2C%20%5B127.0154646349186%2C%2037.411005997724835%5D%2C%20%5B127.04377994345505%2C%2037.41281928664435%5D%2C%20%5B127.04957232987142%2C%2037.42805836845694%5D%2C%20%5B127.03881782597922%2C%2037.45382039851715%5D%2C%20%5B126.99072073195462%2C%2037.455326143310025%5D%5D%5D%2C%20%22type%22%3A%20%22Polygon%22%7D%2C%20%22properties%22%3A%20%7B%22base_year%22%3A%202013%2C%20%22code%22%3A%2031110%2C%20%22name%22%3A%20%22%5Cuacfc%5Cucc9c%5Cuc2dc%22%2C%20%22name_eng%22%3A%20%22Gwacheon-si%22%7D%2C%20%22type%22%3A%20%22Feature%22%7D%2C%20%7B%22geometry%22%3A%20%7B%22coordinates%22%3A%20%5B%5B%5B126.67862254618308%2C%2037.697305342702336%5D%2C%20%5B126.6733552623039%2C%2037.67370888254625%5D%2C%20%5B126.74300328815525%2C%2037.63613822400079%5D%2C%20%5B126.74294383613385%2C%2037.6511173927548%5D%2C%20%5B126.77194259250199%2C%2037.665292527690774%5D%2C%20%5B126.78018904849759%2C%2037.678448868614744%5D%2C%20%5B126.77635483402547%2C%2037.70188604497484%5D%2C%20%5B126.72711651649912%2C%2037.70166318681986%5D%2C%20%5B126.69372674409394%2C%2037.687413022894034%5D%2C%20%5B126.67862254618308%2C%2037.697305342702336%5D%5D%5D%2C%20%22type%22%3A%20%22Polygon%22%7D%2C%20%22properties%22%3A%20%7B%22base_year%22%3A%202013%2C%20%22code%22%3A%2031104%2C%20%22name%22%3A%20%22%5Cuace0%5Cuc591%5Cuc2dc%5Cuc77c%5Cuc0b0%5Cuc11c%5Cuad6c%22%2C%20%22name_eng%22%3A%20%22Goyangsiilsanseogu%22%7D%2C%20%22type%22%3A%20%22Feature%22%7D%2C%20%7B%22geometry%22%3A%20%7B%22coordinates%22%3A%20%5B%5B%5B126.77635483402547%2C%2037.70188604497484%5D%2C%20%5B126.78018904849759%2C%2037.678448868614744%5D%2C%20%5B126.77194259250199%2C%2037.665292527690774%5D%2C%20%5B126.74294383613385%2C%2037.6511173927548%5D%2C%20%5B126.74300328815525%2C%2037.63613822400079%5D%2C%20%5B126.77608157956732%2C%2037.61940269153496%5D%2C%20%5B126.79710848915354%2C%2037.6372950352041%5D%2C%20%5B126.83512162789108%2C%2037.680020660541864%5D%2C%20%5B126.85703023929057%2C%2037.68935027811791%5D%2C%20%5B126.83772078982989%2C%2037.72529130369535%5D%2C%20%5B126.81634118925638%2C%2037.72071803262515%5D%2C%20%5B126.79766531143225%2C%2037.730785143520876%5D%2C%20%5B126.77635483402547%2C%2037.70188604497484%5D%5D%5D%2C%20%22type%22%3A%20%22Polygon%22%7D%2C%20%22properties%22%3A%20%7B%22base_year%22%3A%202013%2C%20%22code%22%3A%2031103%2C%20%22name%22%3A%20%22%5Cuace0%5Cuc591%5Cuc2dc%5Cuc77c%5Cuc0b0%5Cub3d9%5Cuad6c%22%2C%20%22name_eng%22%3A%20%22Goyangsiilsandonggu%22%7D%2C%20%22type%22%3A%20%22Feature%22%7D%2C%20%7B%22geometry%22%3A%20%7B%22coordinates%22%3A%20%5B%5B%5B126.83772078982989%2C%2037.72529130369535%5D%2C%20%5B126.85703023929057%2C%2037.68935027811791%5D%2C%20%5B126.83512162789108%2C%2037.680020660541864%5D%2C%20%5B126.79710848915354%2C%2037.6372950352041%5D%2C%20%5B126.77608157956732%2C%2037.61940269153496%5D%2C%20%5B126.80702115023597%2C%2037.60123001013228%5D%2C%20%5B126.82251438477105%2C%2037.5880430810082%5D%2C%20%5B126.85984199399667%2C%2037.571847855292745%5D%2C%20%5B126.88433284773288%2C%2037.588143322880526%5D%2C%20%5B126.90396681003595%2C%2037.59227403419942%5D%2C%20%5B126.90303066177668%2C%2037.609977911401344%5D%2C%20%5B126.91455481429648%2C%2037.64150050996935%5D%2C%20%5B126.956473797387%2C%2037.652480737339445%5D%2C%20%5B126.9738864128702%2C%2037.62949634786888%5D%2C%20%5B126.977175406416%2C%2037.62859715400388%5D%2C%20%5B126.98672705513869%2C%2037.63377641288196%5D%2C%20%5B126.9817452676551%2C%2037.65209769387776%5D%2C%20%5B126.99383903424%2C%2037.676681761199085%5D%2C%20%5B126.96734461801938%2C%2037.68969305565268%5D%2C%20%5B126.94689093217877%2C%2037.68234333447953%5D%2C%20%5B126.94191948970435%2C%2037.66797237250146%5D%2C%20%5B126.92290257733573%2C%2037.66907383915535%5D%2C%20%5B126.92470886562188%2C%2037.72916078041937%5D%2C%20%5B126.93180653905974%2C%2037.74575671706106%5D%2C%20%5B126.91088793086112%2C%2037.74418199544871%5D%2C%20%5B126.90425036668735%2C%2037.72565605361581%5D%2C%20%5B126.88536540501534%2C%2037.717034664244366%5D%2C%20%5B126.85856020555829%2C%2037.73179451375736%5D%2C%20%5B126.83772078982989%2C%2037.72529130369535%5D%5D%5D%2C%20%22type%22%3A%20%22Polygon%22%7D%2C%20%22properties%22%3A%20%7B%22base_year%22%3A%202013%2C%20%22code%22%3A%2031101%2C%20%22name%22%3A%20%22%5Cuace0%5Cuc591%5Cuc2dc%5Cub355%5Cuc591%5Cuad6c%22%2C%20%22name_eng%22%3A%20%22Goyangsideogyanggu%22%7D%2C%20%22type%22%3A%20%22Feature%22%7D%2C%20%7B%22geometry%22%3A%20%7B%22coordinates%22%3A%20%5B%5B%5B%5B126.61008573444688%2C%2037.30616739414492%5D%2C%20%5B126.58105759521007%2C%2037.2931329422869%5D%2C%20%5B126.5698046807071%2C%2037.27852472009729%5D%2C%20%5B126.55067246352256%2C%2037.27712401368454%5D%2C%20%5B126.56507568780702%2C%2037.25336773744705%5D%2C%20%5B126.56255063831487%2C%2037.239416423702146%5D%2C%20%5B126.54375626154638%2C%2037.22229105408503%5D%2C%20%5B126.546463851695%2C%2037.20350714902179%5D%2C%20%5B126.5705815554123%2C%2037.2014655738836%5D%2C%20%5B126.58721308393721%2C%2037.21775435498544%5D%2C%20%5B126.64889918632674%2C%2037.20793069915704%5D%2C%20%5B126.65235349062866%2C%2037.22264393643188%5D%2C%20%5B126.62465751982253%2C%2037.233811135502776%5D%2C%20%5B126.61085741500113%2C%2037.260209230779175%5D%2C%20%5B126.59892279766748%2C%2037.25959717398652%5D%2C%20%5B126.57228115154807%2C%2037.277020701082655%5D%2C%20%5B126.61008573444688%2C%2037.30616739414492%5D%5D%5D%2C%20%5B%5B%5B126.84283747134161%2C%2037.360869895636554%5D%2C%20%5B126.82580289305967%2C%2037.360321842249355%5D%2C%20%5B126.79105964941944%2C%2037.33699094698096%5D%2C%20%5B126.76357575956314%2C%2037.33864505297868%5D%2C%20%5B126.74059726902762%2C%2037.32685692943894%5D%2C%20%5B126.7248752674955%2C%2037.31058440885402%5D%2C%20%5B126.72765029203323%2C%2037.29949771063766%5D%2C%20%5B126.77466340206773%2C%2037.286577751987956%5D%2C%20%5B126.8184033400877%2C%2037.295179006004226%5D%2C%20%5B126.84357462735869%2C%2037.30283998653071%5D%2C%20%5B126.84283747134161%2C%2037.360869895636554%5D%5D%5D%5D%2C%20%22type%22%3A%20%22MultiPolygon%22%7D%2C%20%22properties%22%3A%20%7B%22base_year%22%3A%202013%2C%20%22code%22%3A%2031092%2C%20%22name%22%3A%20%22%5Cuc548%5Cuc0b0%5Cuc2dc%5Cub2e8%5Cuc6d0%5Cuad6c%22%2C%20%22name_eng%22%3A%20%22Ansansidanwongu%22%7D%2C%20%22type%22%3A%20%22Feature%22%7D%2C%20%7B%22geometry%22%3A%20%7B%22coordinates%22%3A%20%5B%5B%5B126.84283747134161%2C%2037.360869895636554%5D%2C%20%5B126.84357462735869%2C%2037.30283998653071%5D%2C%20%5B126.8184033400877%2C%2037.295179006004226%5D%2C%20%5B126.84641021832398%2C%2037.26433293772644%5D%2C%20%5B126.9159468889861%2C%2037.28864104563552%5D%2C%20%5B126.92946761531998%2C%2037.275967848758626%5D%2C%20%5B126.93504702033805%2C%2037.3002209928663%5D%2C%20%5B126.93252071350132%2C%2037.30423856869929%5D%2C%20%5B126.9092771218202%2C%2037.318694910599305%5D%2C%20%5B126.88015838809775%2C%2037.316795632219964%5D%2C%20%5B126.89932903785872%2C%2037.35524703438324%5D%2C%20%5B126.88400175928666%2C%2037.37340263600163%5D%2C%20%5B126.86691937294266%2C%2037.358697064350324%5D%2C%20%5B126.84283747134161%2C%2037.360869895636554%5D%5D%5D%2C%20%22type%22%3A%20%22Polygon%22%7D%2C%20%22properties%22%3A%20%7B%22base_year%22%3A%202013%2C%20%22code%22%3A%2031091%2C%20%22name%22%3A%20%22%5Cuc548%5Cuc0b0%5Cuc2dc%5Cuc0c1%5Cub85d%5Cuad6c%22%2C%20%22name_eng%22%3A%20%22Ansansisangnokgu%22%7D%2C%20%22type%22%3A%20%22Feature%22%7D%2C%20%7B%22geometry%22%3A%20%7B%22coordinates%22%3A%20%5B%5B%5B127.01215278654801%2C%2037.924817815480985%5D%2C%20%5B127.01281974367026%2C%2037.90171539201257%5D%2C%20%5B127.04837406784853%2C%2037.891090496591005%5D%2C%20%5B127.06250430862417%2C%2037.86658619508279%5D%2C%20%5B127.09509254572018%2C%2037.86843288571378%5D%2C%20%5B127.1113003891929%2C%2037.85708813371199%5D%2C%20%5B127.13067707221735%2C%2037.87115064756639%5D%2C%20%5B127.14908802054492%2C%2037.87326470277757%5D%2C%20%5B127.15777209998105%2C%2037.89291633342494%5D%2C%20%5B127.1480788721724%2C%2037.909108279220675%5D%2C%20%5B127.1240834119586%2C%2037.913726790414486%5D%2C%20%5B127.09382742820131%2C%2037.968691278173%5D%2C%20%5B127.05589127856165%2C%2037.978154747876275%5D%2C%20%5B127.02968085272437%2C%2037.9404013715077%5D%2C%20%5B127.01215278654801%2C%2037.924817815480985%5D%5D%5D%2C%20%22type%22%3A%20%22Polygon%22%7D%2C%20%22properties%22%3A%20%7B%22base_year%22%3A%202013%2C%20%22code%22%3A%2031080%2C%20%22name%22%3A%20%22%5Cub3d9%5Cub450%5Cucc9c%5Cuc2dc%22%2C%20%22name_eng%22%3A%20%22Dongducheon-si%22%7D%2C%20%22type%22%3A%20%22Feature%22%7D%2C%20%7B%22geometry%22%3A%20%7B%22coordinates%22%3A%20%5B%5B%5B127.10575417734016%2C%2037.1407283236673%5D%2C%20%5B127.09127893510457%2C%2037.12882078023335%5D%2C%20%5B127.04304406837494%2C%2037.126222304219084%5D%2C%20%5B127.03746950511537%2C%2037.13336771678679%5D%2C%20%5B127.00593012741142%2C%2037.124105707924144%5D%2C%20%5B127.00102521866197%2C%2037.08973596266607%5D%2C%20%5B126.98672297136514%2C%2037.06879655242586%5D%2C%20%5B126.95290081243859%2C%2037.06545814826726%5D%2C%20%5B126.94247588185057%2C%2037.057958386286046%5D%2C%20%5B126.90291323437098%2C%2037.06724127811693%5D%2C%20%5B126.8846211892453%2C%2037.05795114472113%5D%2C%20%5B126.85940022959993%2C%2037.022131594683266%5D%2C%20%5B126.84014623559027%2C%2037.01079503386266%5D%2C%20%5B126.79899352215931%2C%2037.0092005991418%5D%2C%20%5B126.79429045878248%2C%2037.002375311346476%5D%2C%20%5B126.82743835677269%2C%2036.984262588052744%5D%2C%20%5B126.84836832892641%2C%2036.9565513163949%5D%2C%20%5B126.86448993272457%2C%2036.94597945683675%5D%2C%20%5B126.86630821363053%2C%2036.92982214702114%5D%2C%20%5B126.88907059918661%2C%2036.933221090048846%5D%2C%20%5B126.90658712032098%2C%2036.92311369494381%5D%2C%20%5B126.91083667953751%2C%2036.90208156398722%5D%2C%20%5B126.99750165503437%2C%2036.93264776697853%5D%2C%20%5B127.03383288513524%2C%2036.925469265383704%5D%2C%20%5B127.07603768486679%2C%2036.935523531907464%5D%2C%20%5B127.11553676419611%2C%2036.969747255651924%5D%2C%20%5B127.1216062947912%2C%2036.96626164975953%5D%2C%20%5B127.13779801966723%2C%2036.99041291045364%5D%2C%20%5B127.15496570056612%2C%2036.99487383420599%5D%2C%20%5B127.14747724307254%2C%2037.0138188945719%5D%2C%20%5B127.15517998352519%2C%2037.026613262831916%5D%2C%20%5B127.10740090841584%2C%2037.0328875639127%5D%2C%20%5B127.12948838054707%2C%2037.04966079815856%5D%2C%20%5B127.12516729074011%2C%2037.08849523189945%5D%2C%20%5B127.11116461643066%2C%2037.123859739458304%5D%2C%20%5B127.12480483538663%2C%2037.14166379699704%5D%2C%20%5B127.10575417734016%2C%2037.1407283236673%5D%5D%5D%2C%20%22type%22%3A%20%22Polygon%22%7D%2C%20%22properties%22%3A%20%7B%22base_year%22%3A%202013%2C%20%22code%22%3A%2031070%2C%20%22name%22%3A%20%22%5Cud3c9%5Cud0dd%5Cuc2dc%22%2C%20%22name_eng%22%3A%20%22Pyeongtaek-si%22%7D%2C%20%22type%22%3A%20%22Feature%22%7D%2C%20%7B%22geometry%22%3A%20%7B%22coordinates%22%3A%20%5B%5B%5B126.83549485076196%2C%2037.474098236975095%5D%2C%20%5B126.8280587234361%2C%2037.456596986921056%5D%2C%20%5B126.8484052155556%2C%2037.40965572330444%5D%2C%20%5B126.85964157227416%2C%2037.398615706957116%5D%2C%20%5B126.879093453746%2C%2037.399239167854816%5D%2C%20%5B126.9025831711697%2C%2037.434549366349124%5D%2C%20%5B126.87683271502428%2C%2037.482576591607305%5D%2C%20%5B126.84762676054953%2C%2037.47146723936323%5D%2C%20%5B126.83549485076196%2C%2037.474098236975095%5D%5D%5D%2C%20%22type%22%3A%20%22Polygon%22%7D%2C%20%22properties%22%3A%20%7B%22base_year%22%3A%202013%2C%20%22code%22%3A%2031060%2C%20%22name%22%3A%20%22%5Cuad11%5Cuba85%5Cuc2dc%22%2C%20%22name_eng%22%3A%20%22Gwangmyeong-si%22%7D%2C%20%22type%22%3A%20%22Feature%22%7D%2C%20%7B%22geometry%22%3A%20%7B%22coordinates%22%3A%20%5B%5B%5B126.76979180579352%2C%2037.55139183008809%5D%2C%20%5B126.76241572251033%2C%2037.52129679978721%5D%2C%20%5B126.76236682035514%2C%2037.51516388559986%5D%2C%20%5B126.79948253277924%2C%2037.50297839620806%5D%2C%20%5B126.82504736331406%2C%2037.50302612640443%5D%2C%20%5B126.82688081517314%2C%2037.50548972232896%5D%2C%20%5B126.8242331426722%2C%2037.53788078753248%5D%2C%20%5B126.77324417717703%2C%2037.5459123450554%5D%2C%20%5B126.76979180579352%2C%2037.55139183008809%5D%5D%5D%2C%20%22type%22%3A%20%22Polygon%22%7D%2C%20%22properties%22%3A%20%7B%22base_year%22%3A%202013%2C%20%22code%22%3A%2031053%2C%20%22name%22%3A%20%22%5Cubd80%5Cucc9c%5Cuc2dc%5Cuc624%5Cuc815%5Cuad6c%22%2C%20%22name_eng%22%3A%20%22Bucheonsiojeonggu%22%7D%2C%20%22type%22%3A%20%22Feature%22%7D%2C%20%7B%22geometry%22%3A%20%7B%22coordinates%22%3A%20%5B%5B%5B126.82264796791348%2C%2037.4878476492147%5D%2C%20%5B126.80525536231318%2C%2037.479599517462205%5D%2C%20%5B126.74449661749888%2C%2037.48568861244349%5D%2C%20%5B126.76982226270037%2C%2037.468955688388995%5D%2C%20%5B126.78024890848009%2C%2037.469000573789124%5D%2C%20%5B126.8280587234361%2C%2037.456596986921056%5D%2C%20%5B126.83549485076196%2C%2037.474098236975095%5D%2C%20%5B126.82264796791348%2C%2037.4878476492147%5D%5D%5D%2C%20%22type%22%3A%20%22Polygon%22%7D%2C%20%22properties%22%3A%20%7B%22base_year%22%3A%202013%2C%20%22code%22%3A%2031052%2C%20%22name%22%3A%20%22%5Cubd80%5Cucc9c%5Cuc2dc%5Cuc18c%5Cuc0ac%5Cuad6c%22%2C%20%22name_eng%22%3A%20%22Bucheonsisosagu%22%7D%2C%20%22type%22%3A%20%22Feature%22%7D%2C%20%7B%22geometry%22%3A%20%7B%22coordinates%22%3A%20%5B%5B%5B126.76236682035514%2C%2037.51516388559986%5D%2C%20%5B126.74717949233765%2C%2037.511283448979185%5D%2C%20%5B126.74449661749888%2C%2037.48568861244349%5D%2C%20%5B126.80525536231318%2C%2037.479599517462205%5D%2C%20%5B126.82264796791348%2C%2037.4878476492147%5D%2C%20%5B126.82504736331406%2C%2037.50302612640443%5D%2C%20%5B126.79948253277924%2C%2037.50297839620806%5D%2C%20%5B126.76236682035514%2C%2037.51516388559986%5D%5D%5D%2C%20%22type%22%3A%20%22Polygon%22%7D%2C%20%22properties%22%3A%20%7B%22base_year%22%3A%202013%2C%20%22code%22%3A%2031051%2C%20%22name%22%3A%20%22%5Cubd80%5Cucc9c%5Cuc2dc%5Cuc6d0%5Cubbf8%5Cuad6c%22%2C%20%22name_eng%22%3A%20%22Bucheonsiwonmigu%22%7D%2C%20%22type%22%3A%20%22Feature%22%7D%2C%20%7B%22geometry%22%3A%20%7B%22coordinates%22%3A%20%5B%5B%5B126.95000001010182%2C%2037.43613451165719%5D%2C%20%5B126.949527627869%2C%2037.419039331795105%5D%2C%20%5B126.92899112782491%2C%2037.41260755123917%5D%2C%20%5B126.9429122120182%2C%2037.37630880537034%5D%2C%20%5B126.96423328330341%2C%2037.358735102948096%5D%2C%20%5B126.98466887829045%2C%2037.39785909018114%5D%2C%20%5B126.96342494806345%2C%2037.42289846046814%5D%2C%20%5B126.96520439085143%2C%2037.438249784006246%5D%2C%20%5B126.95000001010182%2C%2037.43613451165719%5D%5D%5D%2C%20%22type%22%3A%20%22Polygon%22%7D%2C%20%22properties%22%3A%20%7B%22base_year%22%3A%202013%2C%20%22code%22%3A%2031042%2C%20%22name%22%3A%20%22%5Cuc548%5Cuc591%5Cuc2dc%5Cub3d9%5Cuc548%5Cuad6c%22%2C%20%22name_eng%22%3A%20%22Anyangsidongangu%22%7D%2C%20%22type%22%3A%20%22Feature%22%7D%2C%20%7B%22geometry%22%3A%20%7B%22coordinates%22%3A%20%5B%5B%5B126.93084408056525%2C%2037.447382928333994%5D%2C%20%5B126.9025831711697%2C%2037.434549366349124%5D%2C%20%5B126.879093453746%2C%2037.399239167854816%5D%2C%20%5B126.88400175928666%2C%2037.37340263600163%5D%2C%20%5B126.89932903785872%2C%2037.35524703438324%5D%2C%20%5B126.9163870114383%2C%2037.37253977179312%5D%2C%20%5B126.9429122120182%2C%2037.37630880537034%5D%2C%20%5B126.92899112782491%2C%2037.41260755123917%5D%2C%20%5B126.949527627869%2C%2037.419039331795105%5D%2C%20%5B126.95000001010182%2C%2037.43613451165719%5D%2C%20%5B126.93084408056525%2C%2037.447382928333994%5D%5D%5D%2C%20%22type%22%3A%20%22Polygon%22%7D%2C%20%22properties%22%3A%20%7B%22base_year%22%3A%202013%2C%20%22code%22%3A%2031041%2C%20%22name%22%3A%20%22%5Cuc548%5Cuc591%5Cuc2dc%5Cub9cc%5Cuc548%5Cuad6c%22%2C%20%22name_eng%22%3A%20%22Anyangsimanangu%22%7D%2C%20%22type%22%3A%20%22Feature%22%7D%2C%20%7B%22geometry%22%3A%20%7B%22coordinates%22%3A%20%5B%5B%5B127.10645686970089%2C%2037.776897580693586%5D%2C%20%5B127.05297245855259%2C%2037.75816755994106%5D%2C%20%5B127.02081299427202%2C%2037.76581418787214%5D%2C%20%5B127.00437834122181%2C%2037.75999833868866%5D%2C%20%5B127.00430024727942%2C%2037.73792676357612%5D%2C%20%5B127.01477890845196%2C%2037.722832167524864%5D%2C%20%5B127.01795099203432%2C%2037.69824412775662%5D%2C%20%5B127.05288479710485%2C%2037.68423857084347%5D%2C%20%5B127.0838752703195%2C%2037.69359534202034%5D%2C%20%5B127.12788299600184%2C%2037.72469254066713%5D%2C%20%5B127.13060037316637%2C%2037.74504865443316%5D%2C%20%5B127.14882403466048%2C%2037.75206030443599%5D%2C%20%5B127.14177735342194%2C%2037.76129795333661%5D%2C%20%5B127.10645686970089%2C%2037.776897580693586%5D%5D%5D%2C%20%22type%22%3A%20%22Polygon%22%7D%2C%20%22properties%22%3A%20%7B%22base_year%22%3A%202013%2C%20%22code%22%3A%2031030%2C%20%22name%22%3A%20%22%5Cuc758%5Cuc815%5Cubd80%5Cuc2dc%22%2C%20%22name_eng%22%3A%20%22Uijeongbu-si%22%7D%2C%20%22type%22%3A%20%22Feature%22%7D%2C%20%7B%22geometry%22%3A%20%7B%22coordinates%22%3A%20%5B%5B%5B127.17637586604776%2C%2037.40261052326208%5D%2C%20%5B127.13644513246508%2C%2037.41439912020601%5D%2C%20%5B127.12007310029206%2C%2037.41239460373164%5D%2C%20%5B127.08636547533024%2C%2037.39425612519828%5D%2C%20%5B127.04580444799605%2C%2037.40139072056455%5D%2C%20%5B127.03004539569396%2C%2037.36932312139811%5D%2C%20%5B127.07299151640797%2C%2037.35485426174942%5D%2C%20%5B127.11899182435063%2C%2037.33059044022546%5D%2C%20%5B127.13845652996186%2C%2037.336816804055495%5D%2C%20%5B127.13605700285002%2C%2037.35565614606753%5D%2C%20%5B127.15506886795262%2C%2037.36076173403712%5D%2C%20%5B127.17637586604776%2C%2037.40261052326208%5D%5D%5D%2C%20%22type%22%3A%20%22Polygon%22%7D%2C%20%22properties%22%3A%20%7B%22base_year%22%3A%202013%2C%20%22code%22%3A%2031023%2C%20%22name%22%3A%20%22%5Cuc131%5Cub0a8%5Cuc2dc%5Cubd84%5Cub2f9%5Cuad6c%22%2C%20%22name_eng%22%3A%20%22Seongnamsibundanggu%22%7D%2C%20%22type%22%3A%20%22Feature%22%7D%2C%20%7B%22geometry%22%3A%20%7B%22coordinates%22%3A%20%5B%5B%5B127.17807401290999%2C%2037.46939077799968%5D%2C%20%5B127.1582459546436%2C%2037.44164184148139%5D%2C%20%5B127.12050056435223%2C%2037.429512812695165%5D%2C%20%5B127.12007310029206%2C%2037.41239460373164%5D%2C%20%5B127.13644513246508%2C%2037.41439912020601%5D%2C%20%5B127.17637586604776%2C%2037.40261052326208%5D%2C%20%5B127.19594474070001%2C%2037.421269309284035%5D%2C%20%5B127.19808034941583%2C%2037.441066604883545%5D%2C%20%5B127.1831716097913%2C%2037.47048077053623%5D%2C%20%5B127.17807401290999%2C%2037.46939077799968%5D%5D%5D%2C%20%22type%22%3A%20%22Polygon%22%7D%2C%20%22properties%22%3A%20%7B%22base_year%22%3A%202013%2C%20%22code%22%3A%2031022%2C%20%22name%22%3A%20%22%5Cuc131%5Cub0a8%5Cuc2dc%5Cuc911%5Cuc6d0%5Cuad6c%22%2C%20%22name_eng%22%3A%20%22Seongnamsijungwongu%22%7D%2C%20%22type%22%3A%20%22Feature%22%7D%2C%20%7B%22geometry%22%3A%20%7B%22coordinates%22%3A%20%5B%5B%5B127.17807401290999%2C%2037.46939077799968%5D%2C%20%5B127.14206058413274%2C%2037.47089819098501%5D%2C%20%5B127.12440571080893%2C%2037.46240445587048%5D%2C%20%5B127.09842759318751%2C%2037.45862253857461%5D%2C%20%5B127.09046928565951%2C%2037.44296826114185%5D%2C%20%5B127.06778107605433%2C%2037.426197424057314%5D%2C%20%5B127.04957232987142%2C%2037.42805836845694%5D%2C%20%5B127.04377994345505%2C%2037.41281928664435%5D%2C%20%5B127.04580444799605%2C%2037.40139072056455%5D%2C%20%5B127.08636547533024%2C%2037.39425612519828%5D%2C%20%5B127.12007310029206%2C%2037.41239460373164%5D%2C%20%5B127.12050056435223%2C%2037.429512812695165%5D%2C%20%5B127.1582459546436%2C%2037.44164184148139%5D%2C%20%5B127.17807401290999%2C%2037.46939077799968%5D%5D%5D%2C%20%22type%22%3A%20%22Polygon%22%7D%2C%20%22properties%22%3A%20%7B%22base_year%22%3A%202013%2C%20%22code%22%3A%2031021%2C%20%22name%22%3A%20%22%5Cuc131%5Cub0a8%5Cuc2dc%5Cuc218%5Cuc815%5Cuad6c%22%2C%20%22name_eng%22%3A%20%22Seongnamsisujeonggu%22%7D%2C%20%22type%22%3A%20%22Feature%22%7D%2C%20%7B%22geometry%22%3A%20%7B%22coordinates%22%3A%20%5B%5B%5B127.09199113357242%2C%2037.295585212583866%5D%2C%20%5B127.06269400142102%2C%2037.293755190822594%5D%2C%20%5B127.06304327683587%2C%2037.30610813773979%5D%2C%20%5B127.04202153059128%2C%2037.318511731862884%5D%2C%20%5B127.03603479622558%2C%2037.29037288813064%5D%2C%20%5B127.04615738146016%2C%2037.271876342625866%5D%2C%20%5B127.03877682368464%2C%2037.253688200306506%5D%2C%20%5B127.04178611512381%2C%2037.24066886027782%5D%2C%20%5B127.06878518378286%2C%2037.23731339587258%5D%2C%20%5B127.08680542938673%2C%2037.253775982641194%5D%2C%20%5B127.06718840393803%2C%2037.26860748709257%5D%2C%20%5B127.09104881579566%2C%2037.284308786190785%5D%2C%20%5B127.09199113357242%2C%2037.295585212583866%5D%5D%5D%2C%20%22type%22%3A%20%22Polygon%22%7D%2C%20%22properties%22%3A%20%7B%22base_year%22%3A%202013%2C%20%22code%22%3A%2031014%2C%20%22name%22%3A%20%22%5Cuc218%5Cuc6d0%5Cuc2dc%5Cuc601%5Cud1b5%5Cuad6c%22%2C%20%22name_eng%22%3A%20%22Suwonsiyeongtonggu%22%7D%2C%20%22type%22%3A%20%22Feature%22%7D%2C%20%7B%22geometry%22%3A%20%7B%22coordinates%22%3A%20%5B%5B%5B127.03603479622558%2C%2037.29037288813064%5D%2C%20%5B127.01130838681644%2C%2037.28269167363659%5D%2C%20%5B126.98086459483812%2C%2037.283743689221225%5D%2C%20%5B127.03877682368464%2C%2037.253688200306506%5D%2C%20%5B127.04615738146016%2C%2037.271876342625866%5D%2C%20%5B127.03603479622558%2C%2037.29037288813064%5D%5D%5D%2C%20%22type%22%3A%20%22Polygon%22%7D%2C%20%22properties%22%3A%20%7B%22base_year%22%3A%202013%2C%20%22code%22%3A%2031013%2C%20%22name%22%3A%20%22%5Cuc218%5Cuc6d0%5Cuc2dc%5Cud314%5Cub2ec%5Cuad6c%22%2C%20%22name_eng%22%3A%20%22Suwonsipaldalgu%22%7D%2C%20%22type%22%3A%20%22Feature%22%7D%2C%20%7B%22geometry%22%3A%20%7B%22coordinates%22%3A%20%5B%5B%5B126.96633916587045%2C%2037.29989574204989%5D%2C%20%5B126.93504702033805%2C%2037.3002209928663%5D%2C%20%5B126.92946761531998%2C%2037.275967848758626%5D%2C%20%5B126.93110125729105%2C%2037.260824951129344%5D%2C%20%5B126.95229769733274%2C%2037.2524826245201%5D%2C%20%5B126.97491964707861%2C%2037.22588531228192%5D%2C%20%5B127.02475029106094%2C%2037.22207898080851%5D%2C%20%5B127.04178611512381%2C%2037.24066886027782%5D%2C%20%5B127.03877682368464%2C%2037.253688200306506%5D%2C%20%5B126.98086459483812%2C%2037.283743689221225%5D%2C%20%5B126.96633916587045%2C%2037.29989574204989%5D%5D%5D%2C%20%22type%22%3A%20%22Polygon%22%7D%2C%20%22properties%22%3A%20%7B%22base_year%22%3A%202013%2C%20%22code%22%3A%2031012%2C%20%22name%22%3A%20%22%5Cuc218%5Cuc6d0%5Cuc2dc%5Cuad8c%5Cuc120%5Cuad6c%22%2C%20%22name_eng%22%3A%20%22Suwonsigwonseongu%22%7D%2C%20%22type%22%3A%20%22Feature%22%7D%2C%20%7B%22geometry%22%3A%20%7B%22coordinates%22%3A%20%5B%5B%5B127.02090967499298%2C%2037.348741503905366%5D%2C%20%5B126.98303616696394%2C%2037.32376927812144%5D%2C%20%5B126.96633916587045%2C%2037.29989574204989%5D%2C%20%5B126.98086459483812%2C%2037.283743689221225%5D%2C%20%5B127.01130838681644%2C%2037.28269167363659%5D%2C%20%5B127.03603479622558%2C%2037.29037288813064%5D%2C%20%5B127.04202153059128%2C%2037.318511731862884%5D%2C%20%5B127.03554038078946%2C%2037.341941908872045%5D%2C%20%5B127.02090967499298%2C%2037.348741503905366%5D%5D%5D%2C%20%22type%22%3A%20%22Polygon%22%7D%2C%20%22properties%22%3A%20%7B%22base_year%22%3A%202013%2C%20%22code%22%3A%2031011%2C%20%22name%22%3A%20%22%5Cuc218%5Cuc6d0%5Cuc2dc%5Cuc7a5%5Cuc548%5Cuad6c%22%2C%20%22name_eng%22%3A%20%22Suwonsijangangu%22%7D%2C%20%22type%22%3A%20%22Feature%22%7D%5D%2C%20%22type%22%3A%20%22FeatureCollection%22%7D%29%3B%0A%0A%20%20%20%20%20%20%20%20%0A%20%20%20%20%0A%20%20%20%20var%20color_map_ebe68e3ff0494f0aa426f730e8462dd0%20%3D%20%7B%7D%3B%0A%0A%20%20%20%20%0A%20%20%20%20color_map_ebe68e3ff0494f0aa426f730e8462dd0.color%20%3D%20d3.scale.threshold%28%29%0A%20%20%20%20%20%20%20%20%20%20%20%20%20%20.domain%28%5B10000.0%2C%2011382.765531062125%2C%2012765.531062124248%2C%2014148.296593186373%2C%2015531.062124248496%2C%2016913.827655310623%2C%2018296.593186372746%2C%2019679.358717434872%2C%2021062.12424849699%2C%2022444.88977955912%2C%2023827.655310621245%2C%2025210.420841683364%2C%2026593.18637274549%2C%2027975.951903807614%2C%2029358.71743486974%2C%2030741.482965931864%2C%2032124.248496993987%2C%2033507.01402805612%2C%2034889.77955911824%2C%2036272.545090180356%2C%2037655.31062124249%2C%2039038.07615230461%2C%2040420.84168336673%2C%2041803.60721442886%2C%2043186.37274549098%2C%2044569.13827655311%2C%2045951.90380761523%2C%2047334.669338677355%2C%2048717.43486973948%2C%2050100.2004008016%2C%2051482.96593186373%2C%2052865.731462925854%2C%2054248.496993987974%2C%2055631.2625250501%2C%2057014.02805611223%2C%2058396.79358717435%2C%2059779.55911823647%2C%2061162.3246492986%2C%2062545.09018036072%2C%2063927.855711422846%2C%2065310.62124248497%2C%2066693.3867735471%2C%2068076.15230460922%2C%2069458.91783567134%2C%2070841.68336673346%2C%2072224.44889779559%2C%2073607.21442885773%2C%2074989.97995991984%2C%2076372.74549098196%2C%2077755.51102204408%2C%2079138.27655310622%2C%2080521.04208416834%2C%2081903.80761523046%2C%2083286.57314629259%2C%2084669.33867735471%2C%2086052.10420841683%2C%2087434.86973947896%2C%2088817.63527054108%2C%2090200.4008016032%2C%2091583.16633266534%2C%2092965.93186372746%2C%2094348.69739478957%2C%2095731.46292585171%2C%2097114.22845691383%2C%2098496.99398797595%2C%2099879.75951903808%2C%20101262.5250501002%2C%20102645.29058116232%2C%20104028.05611222445%2C%20105410.82164328657%2C%20106793.5871743487%2C%20108176.35270541083%2C%20109559.11823647295%2C%20110941.88376753507%2C%20112324.6492985972%2C%20113707.41482965932%2C%20115090.18036072144%2C%20116472.94589178357%2C%20117855.71142284569%2C%20119238.47695390781%2C%20120621.24248496995%2C%20122004.00801603206%2C%20123386.77354709418%2C%20124769.53907815632%2C%20126152.30460921844%2C%20127535.07014028056%2C%20128917.83567134269%2C%20130300.60120240481%2C%20131683.36673346692%2C%20133066.13226452906%2C%20134448.89779559118%2C%20135831.6633266533%2C%20137214.42885771545%2C%20138597.19438877754%2C%20139979.9599198397%2C%20141362.7254509018%2C%20142745.49098196393%2C%20144128.25651302605%2C%20145511.02204408817%2C%20146893.7875751503%2C%20148276.55310621244%2C%20149659.31863727455%2C%20151042.08416833667%2C%20152424.8496993988%2C%20153807.6152304609%2C%20155190.38076152303%2C%20156573.14629258518%2C%20157955.9118236473%2C%20159338.67735470942%2C%20160721.44288577154%2C%20162104.20841683366%2C%20163486.97394789578%2C%20164869.73947895793%2C%20166252.50501002005%2C%20167635.27054108217%2C%20169018.03607214428%2C%20170400.8016032064%2C%20171783.56713426852%2C%20173166.33266533067%2C%20174549.0981963928%2C%20175931.8637274549%2C%20177314.62925851703%2C%20178697.39478957915%2C%20180080.16032064127%2C%20181462.92585170342%2C%20182845.69138276554%2C%20184228.45691382766%2C%20185611.22244488978%2C%20186993.9879759519%2C%20188376.75350701401%2C%20189759.51903807616%2C%20191142.28456913828%2C%20192525.0501002004%2C%20193907.81563126252%2C%20195290.58116232464%2C%20196673.34669338676%2C%20198056.1122244489%2C%20199438.87775551103%2C%20200821.64328657315%2C%20202204.40881763527%2C%20203587.1743486974%2C%20204969.9398797595%2C%20206352.70541082165%2C%20207735.47094188377%2C%20209118.2364729459%2C%20210501.002004008%2C%20211883.76753507013%2C%20213266.53306613225%2C%20214649.2985971944%2C%20216032.06412825652%2C%20217414.82965931864%2C%20218797.59519038076%2C%20220180.36072144288%2C%20221563.126252505%2C%20222945.89178356715%2C%20224328.65731462926%2C%20225711.42284569138%2C%20227094.1883767535%2C%20228476.95390781562%2C%20229859.71943887774%2C%20231242.4849699399%2C%20232625.250501002%2C%20234008.01603206413%2C%20235390.78156312625%2C%20236773.54709418837%2C%20238156.3126252505%2C%20239539.07815631264%2C%20240921.84368737476%2C%20242304.60921843688%2C%20243687.374749499%2C%20245070.1402805611%2C%20246452.90581162323%2C%20247835.67134268538%2C%20249218.4368737475%2C%20250601.20240480962%2C%20251983.96793587174%2C%20253366.73346693386%2C%20254749.49899799598%2C%20256132.26452905813%2C%20257515.03006012025%2C%20258897.79559118237%2C%20260280.5611222445%2C%20261663.3266533066%2C%20263046.09218436875%2C%20264428.8577154309%2C%20265811.623246493%2C%20267194.3887775551%2C%20268577.15430861723%2C%20269959.9198396794%2C%20271342.68537074147%2C%20272725.4509018036%2C%20274108.2164328657%2C%20275490.98196392786%2C%20276873.74749499%2C%20278256.5130260521%2C%20279639.27855711424%2C%20281022.04408817634%2C%20282404.8096192385%2C%20283787.5751503006%2C%20285170.3406813627%2C%20286553.1062124249%2C%20287935.87174348696%2C%20289318.6372745491%2C%20290701.4028056112%2C%20292084.16833667335%2C%20293466.9338677355%2C%20294849.6993987976%2C%20296232.46492985974%2C%20297615.2304609218%2C%20298997.995991984%2C%20300380.76152304607%2C%20301763.5270541082%2C%20303146.29258517036%2C%20304529.05811623245%2C%20305911.8236472946%2C%20307294.5891783567%2C%20308677.35470941884%2C%20310060.120240481%2C%20311442.8857715431%2C%20312825.6513026052%2C%20314208.4168336673%2C%20315591.18236472947%2C%20316973.94789579156%2C%20318356.7134268537%2C%20319739.47895791585%2C%20321122.24448897794%2C%20322505.0100200401%2C%20323887.7755511022%2C%20325270.54108216433%2C%20326653.3066132265%2C%20328036.07214428857%2C%20329418.8376753507%2C%20330801.6032064128%2C%20332184.36873747496%2C%20333567.13426853705%2C%20334949.8997995992%2C%20336332.66533066134%2C%20337715.43086172343%2C%20339098.1963927856%2C%20340480.9619238477%2C%20341863.7274549098%2C%20343246.49298597197%2C%20344629.25851703406%2C%20346012.0240480962%2C%20347394.7895791583%2C%20348777.55511022045%2C%20350160.32064128254%2C%20351543.0861723447%2C%20352925.85170340684%2C%20354308.6172344689%2C%20355691.3827655311%2C%20357074.14829659316%2C%20358456.9138276553%2C%20359839.67935871746%2C%20361222.44488977955%2C%20362605.2104208417%2C%20363987.9759519038%2C%20365370.74148296594%2C%20366753.50701402803%2C%20368136.2725450902%2C%20369519.0380761523%2C%20370901.8036072144%2C%20372284.56913827657%2C%20373667.33466933866%2C%20375050.1002004008%2C%20376432.86573146295%2C%20377815.63126252504%2C%20379198.3967935872%2C%20380581.1623246493%2C%20381963.92785571143%2C%20383346.6933867735%2C%20384729.45891783567%2C%20386112.2244488978%2C%20387494.9899799599%2C%20388877.75551102206%2C%20390260.52104208415%2C%20391643.2865731463%2C%20393026.05210420844%2C%20394408.81763527053%2C%20395791.5831663327%2C%20397174.3486973948%2C%20398557.1142284569%2C%20399939.879759519%2C%20401322.64529058116%2C%20402705.4108216433%2C%20404088.1763527054%2C%20405470.94188376755%2C%20406853.70741482964%2C%20408236.4729458918%2C%20409619.23847695393%2C%20411002.004008016%2C%20412384.7695390782%2C%20413767.53507014026%2C%20415150.3006012024%2C%20416533.0661322645%2C%20417915.83166332665%2C%20419298.5971943888%2C%20420681.3627254509%2C%20422064.12825651304%2C%20423446.8937875751%2C%20424829.6593186373%2C%20426212.4248496994%2C%20427595.1903807615%2C%20428977.95591182366%2C%20430360.72144288576%2C%20431743.4869739479%2C%20433126.25250501%2C%20434509.01803607214%2C%20435891.7835671343%2C%20437274.5490981964%2C%20438657.31462925853%2C%20440040.0801603206%2C%20441422.84569138277%2C%20442805.6112224449%2C%20444188.376753507%2C%20445571.14228456916%2C%20446953.90781563125%2C%20448336.6733466934%2C%20449719.4388777555%2C%20451102.20440881763%2C%20452484.9699398798%2C%20453867.7354709419%2C%20455250.501002004%2C%20456633.2665330661%2C%20458016.03206412826%2C%20459398.7975951904%2C%20460781.5631262525%2C%20462164.32865731465%2C%20463547.09418837674%2C%20464929.8597194389%2C%20466312.625250501%2C%20467695.3907815631%2C%20469078.1563126253%2C%20470460.92184368736%2C%20471843.6873747495%2C%20473226.4529058116%2C%20474609.21843687375%2C%20475991.9839679359%2C%20477374.749498998%2C%20478757.51503006014%2C%20480140.2805611222%2C%20481523.0460921844%2C%20482905.81162324647%2C%20484288.5771543086%2C%20485671.34268537076%2C%20487054.10821643285%2C%20488436.873747495%2C%20489819.6392785571%2C%20491202.40480961924%2C%20492585.1703406814%2C%20493967.9358717435%2C%20495350.70140280563%2C%20496733.4669338677%2C%20498116.23246492987%2C%20499498.99799599196%2C%20500881.7635270541%2C%20502264.52905811626%2C%20503647.29458917835%2C%20505030.0601202405%2C%20506412.8256513026%2C%20507795.59118236473%2C%20509178.3567134269%2C%20510561.122244489%2C%20511943.8877755511%2C%20513326.6533066132%2C%20514709.41883767536%2C%20516092.18436873745%2C%20517474.9498997996%2C%20518857.71543086175%2C%20520240.48096192384%2C%20521623.246492986%2C%20523006.0120240481%2C%20524388.7775551102%2C%20525771.5430861723%2C%20527154.3086172345%2C%20528537.0741482966%2C%20529919.8396793588%2C%20531302.6052104209%2C%20532685.3707414829%2C%20534068.1362725451%2C%20535450.9018036072%2C%20536833.6673346694%2C%20538216.4328657314%2C%20539599.1983967936%2C%20540981.9639278557%2C%20542364.7294589179%2C%20543747.49498998%2C%20545130.260521042%2C%20546513.0260521042%2C%20547895.7915831663%2C%20549278.5571142285%2C%20550661.3226452906%2C%20552044.0881763527%2C%20553426.8537074148%2C%20554809.619238477%2C%20556192.3847695391%2C%20557575.1503006011%2C%20558957.9158316633%2C%20560340.6813627254%2C%20561723.4468937876%2C%20563106.2124248497%2C%20564488.9779559118%2C%20565871.7434869739%2C%20567254.5090180361%2C%20568637.2745490982%2C%20570020.0400801604%2C%20571402.8056112224%2C%20572785.5711422845%2C%20574168.3366733467%2C%20575551.1022044088%2C%20576933.867735471%2C%20578316.633266533%2C%20579699.3987975952%2C%20581082.1643286573%2C%20582464.9298597195%2C%20583847.6953907816%2C%20585230.4609218437%2C%20586613.2264529058%2C%20587995.991983968%2C%20589378.7575150301%2C%20590761.5230460921%2C%20592144.2885771543%2C%20593527.0541082164%2C%20594909.8196392786%2C%20596292.5851703407%2C%20597675.3507014028%2C%20599058.1162324649%2C%20600440.881763527%2C%20601823.6472945892%2C%20603206.4128256514%2C%20604589.1783567134%2C%20605971.9438877755%2C%20607354.7094188377%2C%20608737.4749498998%2C%20610120.240480962%2C%20611503.006012024%2C%20612885.7715430862%2C%20614268.5370741483%2C%20615651.3026052105%2C%20617034.0681362726%2C%20618416.8336673346%2C%20619799.5991983968%2C%20621182.3647294589%2C%20622565.1302605211%2C%20623947.8957915831%2C%20625330.6613226453%2C%20626713.4268537074%2C%20628096.1923847696%2C%20629478.9579158317%2C%20630861.7234468937%2C%20632244.4889779559%2C%20633627.254509018%2C%20635010.0200400802%2C%20636392.7855711423%2C%20637775.5511022044%2C%20639158.3166332665%2C%20640541.0821643287%2C%20641923.8476953908%2C%20643306.613226453%2C%20644689.378757515%2C%20646072.1442885771%2C%20647454.9098196393%2C%20648837.6753507014%2C%20650220.4408817636%2C%20651603.2064128256%2C%20652985.9719438878%2C%20654368.7374749499%2C%20655751.5030060121%2C%20657134.2685370741%2C%20658517.0340681362%2C%20659899.7995991984%2C%20661282.5651302605%2C%20662665.3306613227%2C%20664048.0961923847%2C%20665430.8617234469%2C%20666813.627254509%2C%20668196.3927855712%2C%20669579.1583166333%2C%20670961.9238476953%2C%20672344.6893787575%2C%20673727.4549098196%2C%20675110.2204408818%2C%20676492.9859719439%2C%20677875.751503006%2C%20679258.5170340681%2C%20680641.2825651303%2C%20682024.0480961924%2C%20683406.8136272546%2C%20684789.5791583166%2C%20686172.3446893787%2C%20687555.1102204409%2C%20688937.875751503%2C%20690320.6412825651%2C%20691703.4068136272%2C%20693086.1723446894%2C%20694468.9378757515%2C%20695851.7034068137%2C%20697234.4689378757%2C%20698617.2344689379%2C%20700000.0%5D%29%0A%20%20%20%20%20%20%20%20%20%20%20%20%20%20.range%28%5B%27%23ffffb2ff%27%2C%20%27%23ffffb2ff%27%2C%20%27%23ffffb2ff%27%2C%20%27%23ffffb2ff%27%2C%20%27%23ffffb2ff%27%2C%20%27%23ffffb2ff%27%2C%20%27%23ffffb2ff%27%2C%20%27%23ffffb2ff%27%2C%20%27%23ffffb2ff%27%2C%20%27%23ffffb2ff%27%2C%20%27%23ffffb2ff%27%2C%20%27%23ffffb2ff%27%2C%20%27%23ffffb2ff%27%2C%20%27%23ffffb2ff%27%2C%20%27%23ffffb2ff%27%2C%20%27%23ffffb2ff%27%2C%20%27%23ffffb2ff%27%2C%20%27%23ffffb2ff%27%2C%20%27%23ffffb2ff%27%2C%20%27%23ffffb2ff%27%2C%20%27%23ffffb2ff%27%2C%20%27%23ffffb2ff%27%2C%20%27%23ffffb2ff%27%2C%20%27%23ffffb2ff%27%2C%20%27%23ffffb2ff%27%2C%20%27%23ffffb2ff%27%2C%20%27%23ffffb2ff%27%2C%20%27%23ffffb2ff%27%2C%20%27%23ffffb2ff%27%2C%20%27%23ffffb2ff%27%2C%20%27%23ffffb2ff%27%2C%20%27%23ffffb2ff%27%2C%20%27%23ffffb2ff%27%2C%20%27%23ffffb2ff%27%2C%20%27%23ffffb2ff%27%2C%20%27%23ffffb2ff%27%2C%20%27%23ffffb2ff%27%2C%20%27%23ffffb2ff%27%2C%20%27%23ffffb2ff%27%2C%20%27%23ffffb2ff%27%2C%20%27%23ffffb2ff%27%2C%20%27%23ffffb2ff%27%2C%20%27%23ffffb2ff%27%2C%20%27%23ffffb2ff%27%2C%20%27%23ffffb2ff%27%2C%20%27%23ffffb2ff%27%2C%20%27%23ffffb2ff%27%2C%20%27%23ffffb2ff%27%2C%20%27%23ffffb2ff%27%2C%20%27%23ffffb2ff%27%2C%20%27%23ffffb2ff%27%2C%20%27%23ffffb2ff%27%2C%20%27%23ffffb2ff%27%2C%20%27%23ffffb2ff%27%2C%20%27%23ffffb2ff%27%2C%20%27%23ffffb2ff%27%2C%20%27%23ffffb2ff%27%2C%20%27%23ffffb2ff%27%2C%20%27%23ffffb2ff%27%2C%20%27%23ffffb2ff%27%2C%20%27%23ffffb2ff%27%2C%20%27%23ffffb2ff%27%2C%20%27%23ffffb2ff%27%2C%20%27%23ffffb2ff%27%2C%20%27%23ffffb2ff%27%2C%20%27%23ffffb2ff%27%2C%20%27%23fecc5cff%27%2C%20%27%23fecc5cff%27%2C%20%27%23fecc5cff%27%2C%20%27%23fecc5cff%27%2C%20%27%23fecc5cff%27%2C%20%27%23fecc5cff%27%2C%20%27%23fecc5cff%27%2C%20%27%23fecc5cff%27%2C%20%27%23fecc5cff%27%2C%20%27%23fecc5cff%27%2C%20%27%23fecc5cff%27%2C%20%27%23fecc5cff%27%2C%20%27%23fecc5cff%27%2C%20%27%23fecc5cff%27%2C%20%27%23fecc5cff%27%2C%20%27%23fecc5cff%27%2C%20%27%23fecc5cff%27%2C%20%27%23fecc5cff%27%2C%20%27%23fecc5cff%27%2C%20%27%23fecc5cff%27%2C%20%27%23fecc5cff%27%2C%20%27%23fecc5cff%27%2C%20%27%23fecc5cff%27%2C%20%27%23fecc5cff%27%2C%20%27%23fecc5cff%27%2C%20%27%23fecc5cff%27%2C%20%27%23fecc5cff%27%2C%20%27%23fecc5cff%27%2C%20%27%23fecc5cff%27%2C%20%27%23fecc5cff%27%2C%20%27%23fecc5cff%27%2C%20%27%23fecc5cff%27%2C%20%27%23fecc5cff%27%2C%20%27%23fecc5cff%27%2C%20%27%23fecc5cff%27%2C%20%27%23fecc5cff%27%2C%20%27%23fecc5cff%27%2C%20%27%23fecc5cff%27%2C%20%27%23fecc5cff%27%2C%20%27%23fecc5cff%27%2C%20%27%23fecc5cff%27%2C%20%27%23fecc5cff%27%2C%20%27%23fecc5cff%27%2C%20%27%23fecc5cff%27%2C%20%27%23fecc5cff%27%2C%20%27%23fecc5cff%27%2C%20%27%23fecc5cff%27%2C%20%27%23fecc5cff%27%2C%20%27%23fecc5cff%27%2C%20%27%23fecc5cff%27%2C%20%27%23fecc5cff%27%2C%20%27%23fecc5cff%27%2C%20%27%23fecc5cff%27%2C%20%27%23fecc5cff%27%2C%20%27%23fecc5cff%27%2C%20%27%23fecc5cff%27%2C%20%27%23fecc5cff%27%2C%20%27%23fecc5cff%27%2C%20%27%23fecc5cff%27%2C%20%27%23fecc5cff%27%2C%20%27%23fecc5cff%27%2C%20%27%23fecc5cff%27%2C%20%27%23fecc5cff%27%2C%20%27%23fecc5cff%27%2C%20%27%23fecc5cff%27%2C%20%27%23fecc5cff%27%2C%20%27%23fecc5cff%27%2C%20%27%23fecc5cff%27%2C%20%27%23fecc5cff%27%2C%20%27%23fecc5cff%27%2C%20%27%23fecc5cff%27%2C%20%27%23fecc5cff%27%2C%20%27%23fecc5cff%27%2C%20%27%23fecc5cff%27%2C%20%27%23fecc5cff%27%2C%20%27%23fecc5cff%27%2C%20%27%23fecc5cff%27%2C%20%27%23fecc5cff%27%2C%20%27%23fecc5cff%27%2C%20%27%23fecc5cff%27%2C%20%27%23fecc5cff%27%2C%20%27%23fecc5cff%27%2C%20%27%23fecc5cff%27%2C%20%27%23fecc5cff%27%2C%20%27%23fecc5cff%27%2C%20%27%23fecc5cff%27%2C%20%27%23fecc5cff%27%2C%20%27%23fecc5cff%27%2C%20%27%23fecc5cff%27%2C%20%27%23fecc5cff%27%2C%20%27%23fecc5cff%27%2C%20%27%23fecc5cff%27%2C%20%27%23fecc5cff%27%2C%20%27%23fecc5cff%27%2C%20%27%23fecc5cff%27%2C%20%27%23fecc5cff%27%2C%20%27%23fecc5cff%27%2C%20%27%23fecc5cff%27%2C%20%27%23fecc5cff%27%2C%20%27%23fecc5cff%27%2C%20%27%23fecc5cff%27%2C%20%27%23fecc5cff%27%2C%20%27%23fecc5cff%27%2C%20%27%23fecc5cff%27%2C%20%27%23fecc5cff%27%2C%20%27%23fecc5cff%27%2C%20%27%23fecc5cff%27%2C%20%27%23fecc5cff%27%2C%20%27%23fecc5cff%27%2C%20%27%23fecc5cff%27%2C%20%27%23fecc5cff%27%2C%20%27%23fecc5cff%27%2C%20%27%23fecc5cff%27%2C%20%27%23fecc5cff%27%2C%20%27%23fecc5cff%27%2C%20%27%23fecc5cff%27%2C%20%27%23fecc5cff%27%2C%20%27%23fecc5cff%27%2C%20%27%23fecc5cff%27%2C%20%27%23fecc5cff%27%2C%20%27%23fecc5cff%27%2C%20%27%23fecc5cff%27%2C%20%27%23fecc5cff%27%2C%20%27%23fecc5cff%27%2C%20%27%23fecc5cff%27%2C%20%27%23fecc5cff%27%2C%20%27%23fecc5cff%27%2C%20%27%23fecc5cff%27%2C%20%27%23fecc5cff%27%2C%20%27%23fecc5cff%27%2C%20%27%23fecc5cff%27%2C%20%27%23fecc5cff%27%2C%20%27%23fecc5cff%27%2C%20%27%23fecc5cff%27%2C%20%27%23fecc5cff%27%2C%20%27%23fecc5cff%27%2C%20%27%23fecc5cff%27%2C%20%27%23fecc5cff%27%2C%20%27%23fecc5cff%27%2C%20%27%23fecc5cff%27%2C%20%27%23fecc5cff%27%2C%20%27%23fecc5cff%27%2C%20%27%23fecc5cff%27%2C%20%27%23fecc5cff%27%2C%20%27%23fd8d3cff%27%2C%20%27%23fd8d3cff%27%2C%20%27%23fd8d3cff%27%2C%20%27%23fd8d3cff%27%2C%20%27%23fd8d3cff%27%2C%20%27%23fd8d3cff%27%2C%20%27%23fd8d3cff%27%2C%20%27%23fd8d3cff%27%2C%20%27%23fd8d3cff%27%2C%20%27%23fd8d3cff%27%2C%20%27%23fd8d3cff%27%2C%20%27%23fd8d3cff%27%2C%20%27%23fd8d3cff%27%2C%20%27%23fd8d3cff%27%2C%20%27%23fd8d3cff%27%2C%20%27%23fd8d3cff%27%2C%20%27%23fd8d3cff%27%2C%20%27%23fd8d3cff%27%2C%20%27%23fd8d3cff%27%2C%20%27%23fd8d3cff%27%2C%20%27%23fd8d3cff%27%2C%20%27%23fd8d3cff%27%2C%20%27%23fd8d3cff%27%2C%20%27%23fd8d3cff%27%2C%20%27%23fd8d3cff%27%2C%20%27%23fd8d3cff%27%2C%20%27%23fd8d3cff%27%2C%20%27%23fd8d3cff%27%2C%20%27%23fd8d3cff%27%2C%20%27%23fd8d3cff%27%2C%20%27%23fd8d3cff%27%2C%20%27%23fd8d3cff%27%2C%20%27%23fd8d3cff%27%2C%20%27%23fd8d3cff%27%2C%20%27%23fd8d3cff%27%2C%20%27%23fd8d3cff%27%2C%20%27%23fd8d3cff%27%2C%20%27%23fd8d3cff%27%2C%20%27%23fd8d3cff%27%2C%20%27%23fd8d3cff%27%2C%20%27%23fd8d3cff%27%2C%20%27%23fd8d3cff%27%2C%20%27%23fd8d3cff%27%2C%20%27%23fd8d3cff%27%2C%20%27%23fd8d3cff%27%2C%20%27%23fd8d3cff%27%2C%20%27%23fd8d3cff%27%2C%20%27%23fd8d3cff%27%2C%20%27%23fd8d3cff%27%2C%20%27%23fd8d3cff%27%2C%20%27%23fd8d3cff%27%2C%20%27%23fd8d3cff%27%2C%20%27%23fd8d3cff%27%2C%20%27%23fd8d3cff%27%2C%20%27%23fd8d3cff%27%2C%20%27%23fd8d3cff%27%2C%20%27%23fd8d3cff%27%2C%20%27%23fd8d3cff%27%2C%20%27%23fd8d3cff%27%2C%20%27%23fd8d3cff%27%2C%20%27%23fd8d3cff%27%2C%20%27%23fd8d3cff%27%2C%20%27%23fd8d3cff%27%2C%20%27%23fd8d3cff%27%2C%20%27%23fd8d3cff%27%2C%20%27%23fd8d3cff%27%2C%20%27%23fd8d3cff%27%2C%20%27%23fd8d3cff%27%2C%20%27%23fd8d3cff%27%2C%20%27%23fd8d3cff%27%2C%20%27%23fd8d3cff%27%2C%20%27%23fd8d3cff%27%2C%20%27%23fd8d3cff%27%2C%20%27%23fd8d3cff%27%2C%20%27%23fd8d3cff%27%2C%20%27%23fd8d3cff%27%2C%20%27%23fd8d3cff%27%2C%20%27%23fd8d3cff%27%2C%20%27%23fd8d3cff%27%2C%20%27%23fd8d3cff%27%2C%20%27%23fd8d3cff%27%2C%20%27%23fd8d3cff%27%2C%20%27%23fd8d3cff%27%2C%20%27%23fd8d3cff%27%2C%20%27%23fd8d3cff%27%2C%20%27%23fd8d3cff%27%2C%20%27%23fd8d3cff%27%2C%20%27%23fd8d3cff%27%2C%20%27%23fd8d3cff%27%2C%20%27%23fd8d3cff%27%2C%20%27%23fd8d3cff%27%2C%20%27%23fd8d3cff%27%2C%20%27%23fd8d3cff%27%2C%20%27%23fd8d3cff%27%2C%20%27%23fd8d3cff%27%2C%20%27%23fd8d3cff%27%2C%20%27%23fd8d3cff%27%2C%20%27%23fd8d3cff%27%2C%20%27%23fd8d3cff%27%2C%20%27%23fd8d3cff%27%2C%20%27%23fd8d3cff%27%2C%20%27%23fd8d3cff%27%2C%20%27%23fd8d3cff%27%2C%20%27%23fd8d3cff%27%2C%20%27%23fd8d3cff%27%2C%20%27%23fd8d3cff%27%2C%20%27%23fd8d3cff%27%2C%20%27%23fd8d3cff%27%2C%20%27%23fd8d3cff%27%2C%20%27%23fd8d3cff%27%2C%20%27%23fd8d3cff%27%2C%20%27%23fd8d3cff%27%2C%20%27%23fd8d3cff%27%2C%20%27%23fd8d3cff%27%2C%20%27%23fd8d3cff%27%2C%20%27%23fd8d3cff%27%2C%20%27%23fd8d3cff%27%2C%20%27%23fd8d3cff%27%2C%20%27%23fd8d3cff%27%2C%20%27%23fd8d3cff%27%2C%20%27%23fd8d3cff%27%2C%20%27%23fd8d3cff%27%2C%20%27%23fd8d3cff%27%2C%20%27%23fd8d3cff%27%2C%20%27%23fd8d3cff%27%2C%20%27%23fd8d3cff%27%2C%20%27%23fd8d3cff%27%2C%20%27%23fd8d3cff%27%2C%20%27%23fd8d3cff%27%2C%20%27%23fd8d3cff%27%2C%20%27%23fd8d3cff%27%2C%20%27%23fd8d3cff%27%2C%20%27%23fd8d3cff%27%2C%20%27%23fd8d3cff%27%2C%20%27%23fd8d3cff%27%2C%20%27%23fd8d3cff%27%2C%20%27%23fd8d3cff%27%2C%20%27%23fd8d3cff%27%2C%20%27%23fd8d3cff%27%2C%20%27%23fd8d3cff%27%2C%20%27%23fd8d3cff%27%2C%20%27%23fd8d3cff%27%2C%20%27%23fd8d3cff%27%2C%20%27%23fd8d3cff%27%2C%20%27%23fd8d3cff%27%2C%20%27%23e31a1cff%27%2C%20%27%23e31a1cff%27%2C%20%27%23e31a1cff%27%2C%20%27%23e31a1cff%27%2C%20%27%23e31a1cff%27%2C%20%27%23e31a1cff%27%2C%20%27%23e31a1cff%27%2C%20%27%23e31a1cff%27%2C%20%27%23e31a1cff%27%2C%20%27%23e31a1cff%27%2C%20%27%23e31a1cff%27%2C%20%27%23e31a1cff%27%2C%20%27%23e31a1cff%27%2C%20%27%23e31a1cff%27%2C%20%27%23e31a1cff%27%2C%20%27%23e31a1cff%27%2C%20%27%23e31a1cff%27%2C%20%27%23e31a1cff%27%2C%20%27%23e31a1cff%27%2C%20%27%23e31a1cff%27%2C%20%27%23e31a1cff%27%2C%20%27%23e31a1cff%27%2C%20%27%23e31a1cff%27%2C%20%27%23e31a1cff%27%2C%20%27%23e31a1cff%27%2C%20%27%23e31a1cff%27%2C%20%27%23e31a1cff%27%2C%20%27%23e31a1cff%27%2C%20%27%23e31a1cff%27%2C%20%27%23e31a1cff%27%2C%20%27%23e31a1cff%27%2C%20%27%23e31a1cff%27%2C%20%27%23e31a1cff%27%2C%20%27%23e31a1cff%27%2C%20%27%23e31a1cff%27%2C%20%27%23e31a1cff%27%2C%20%27%23e31a1cff%27%2C%20%27%23e31a1cff%27%2C%20%27%23e31a1cff%27%2C%20%27%23e31a1cff%27%2C%20%27%23e31a1cff%27%2C%20%27%23e31a1cff%27%2C%20%27%23e31a1cff%27%2C%20%27%23e31a1cff%27%2C%20%27%23e31a1cff%27%2C%20%27%23e31a1cff%27%2C%20%27%23e31a1cff%27%2C%20%27%23e31a1cff%27%2C%20%27%23e31a1cff%27%2C%20%27%23e31a1cff%27%2C%20%27%23e31a1cff%27%2C%20%27%23e31a1cff%27%2C%20%27%23e31a1cff%27%2C%20%27%23e31a1cff%27%2C%20%27%23e31a1cff%27%2C%20%27%23e31a1cff%27%2C%20%27%23e31a1cff%27%2C%20%27%23e31a1cff%27%2C%20%27%23e31a1cff%27%2C%20%27%23e31a1cff%27%2C%20%27%23e31a1cff%27%2C%20%27%23e31a1cff%27%2C%20%27%23e31a1cff%27%2C%20%27%23e31a1cff%27%2C%20%27%23e31a1cff%27%2C%20%27%23e31a1cff%27%2C%20%27%23e31a1cff%27%2C%20%27%23e31a1cff%27%2C%20%27%23e31a1cff%27%2C%20%27%23e31a1cff%27%2C%20%27%23e31a1cff%27%2C%20%27%23e31a1cff%27%2C%20%27%23e31a1cff%27%2C%20%27%23e31a1cff%27%2C%20%27%23e31a1cff%27%2C%20%27%23e31a1cff%27%2C%20%27%23e31a1cff%27%2C%20%27%23e31a1cff%27%2C%20%27%23e31a1cff%27%2C%20%27%23e31a1cff%27%2C%20%27%23e31a1cff%27%2C%20%27%23e31a1cff%27%2C%20%27%23e31a1cff%27%2C%20%27%23e31a1cff%27%2C%20%27%23e31a1cff%27%2C%20%27%23e31a1cff%27%2C%20%27%23e31a1cff%27%2C%20%27%23e31a1cff%27%2C%20%27%23e31a1cff%27%2C%20%27%23e31a1cff%27%2C%20%27%23e31a1cff%27%2C%20%27%23e31a1cff%27%2C%20%27%23e31a1cff%27%2C%20%27%23e31a1cff%27%2C%20%27%23e31a1cff%27%2C%20%27%23e31a1cff%27%2C%20%27%23e31a1cff%27%2C%20%27%23e31a1cff%27%2C%20%27%23e31a1cff%27%2C%20%27%23e31a1cff%27%2C%20%27%23e31a1cff%27%2C%20%27%23e31a1cff%27%2C%20%27%23e31a1cff%27%2C%20%27%23e31a1cff%27%2C%20%27%23e31a1cff%27%2C%20%27%23e31a1cff%27%2C%20%27%23e31a1cff%27%2C%20%27%23e31a1cff%27%2C%20%27%23e31a1cff%27%2C%20%27%23e31a1cff%27%2C%20%27%23e31a1cff%27%2C%20%27%23e31a1cff%27%2C%20%27%23e31a1cff%27%2C%20%27%23e31a1cff%27%2C%20%27%23e31a1cff%27%2C%20%27%23e31a1cff%27%2C%20%27%23e31a1cff%27%2C%20%27%23e31a1cff%27%2C%20%27%23e31a1cff%27%2C%20%27%23e31a1cff%27%2C%20%27%23e31a1cff%27%2C%20%27%23e31a1cff%27%2C%20%27%23e31a1cff%27%2C%20%27%23e31a1cff%27%2C%20%27%23e31a1cff%27%2C%20%27%23e31a1cff%27%2C%20%27%23e31a1cff%27%2C%20%27%23e31a1cff%27%2C%20%27%23e31a1cff%27%2C%20%27%23e31a1cff%27%2C%20%27%23e31a1cff%27%2C%20%27%23e31a1cff%27%2C%20%27%23e31a1cff%27%2C%20%27%23e31a1cff%27%2C%20%27%23e31a1cff%27%2C%20%27%23e31a1cff%27%2C%20%27%23e31a1cff%27%2C%20%27%23e31a1cff%27%2C%20%27%23e31a1cff%27%2C%20%27%23e31a1cff%27%2C%20%27%23e31a1cff%27%2C%20%27%23e31a1cff%27%2C%20%27%23e31a1cff%27%2C%20%27%23e31a1cff%27%2C%20%27%23e31a1cff%27%5D%29%3B%0A%20%20%20%20%0A%0A%20%20%20%20color_map_ebe68e3ff0494f0aa426f730e8462dd0.x%20%3D%20d3.scale.linear%28%29%0A%20%20%20%20%20%20%20%20%20%20%20%20%20%20.domain%28%5B10000.0%2C%20700000.0%5D%29%0A%20%20%20%20%20%20%20%20%20%20%20%20%20%20.range%28%5B0%2C%20400%5D%29%3B%0A%0A%20%20%20%20color_map_ebe68e3ff0494f0aa426f730e8462dd0.legend%20%3D%20L.control%28%7Bposition%3A%20%27topright%27%7D%29%3B%0A%20%20%20%20color_map_ebe68e3ff0494f0aa426f730e8462dd0.legend.onAdd%20%3D%20function%20%28map%29%20%7Bvar%20div%20%3D%20L.DomUtil.create%28%27div%27%2C%20%27legend%27%29%3B%20return%20div%7D%3B%0A%20%20%20%20color_map_ebe68e3ff0494f0aa426f730e8462dd0.legend.addTo%28map_aac6b804f811498d89fa051efdf11cbf%29%3B%0A%0A%20%20%20%20color_map_ebe68e3ff0494f0aa426f730e8462dd0.xAxis%20%3D%20d3.svg.axis%28%29%0A%20%20%20%20%20%20%20%20.scale%28color_map_ebe68e3ff0494f0aa426f730e8462dd0.x%29%0A%20%20%20%20%20%20%20%20.orient%28%22top%22%29%0A%20%20%20%20%20%20%20%20.tickSize%281%29%0A%20%20%20%20%20%20%20%20.tickValues%28%5B10000%2C%20100000%2C%20300000%2C%20500000%2C%20700000%5D%29%3B%0A%0A%20%20%20%20color_map_ebe68e3ff0494f0aa426f730e8462dd0.svg%20%3D%20d3.select%28%22.legend.leaflet-control%22%29.append%28%22svg%22%29%0A%20%20%20%20%20%20%20%20.attr%28%22id%22%2C%20%27legend%27%29%0A%20%20%20%20%20%20%20%20.attr%28%22width%22%2C%20450%29%0A%20%20%20%20%20%20%20%20.attr%28%22height%22%2C%2040%29%3B%0A%0A%20%20%20%20color_map_ebe68e3ff0494f0aa426f730e8462dd0.g%20%3D%20color_map_ebe68e3ff0494f0aa426f730e8462dd0.svg.append%28%22g%22%29%0A%20%20%20%20%20%20%20%20.attr%28%22class%22%2C%20%22key%22%29%0A%20%20%20%20%20%20%20%20.attr%28%22transform%22%2C%20%22translate%2825%2C16%29%22%29%3B%0A%0A%20%20%20%20color_map_ebe68e3ff0494f0aa426f730e8462dd0.g.selectAll%28%22rect%22%29%0A%20%20%20%20%20%20%20%20.data%28color_map_ebe68e3ff0494f0aa426f730e8462dd0.color.range%28%29.map%28function%28d%2C%20i%29%20%7B%0A%20%20%20%20%20%20%20%20%20%20return%20%7B%0A%20%20%20%20%20%20%20%20%20%20%20%20x0%3A%20i%20%3F%20color_map_ebe68e3ff0494f0aa426f730e8462dd0.x%28color_map_ebe68e3ff0494f0aa426f730e8462dd0.color.domain%28%29%5Bi%20-%201%5D%29%20%3A%20color_map_ebe68e3ff0494f0aa426f730e8462dd0.x.range%28%29%5B0%5D%2C%0A%20%20%20%20%20%20%20%20%20%20%20%20x1%3A%20i%20%3C%20color_map_ebe68e3ff0494f0aa426f730e8462dd0.color.domain%28%29.length%20%3F%20color_map_ebe68e3ff0494f0aa426f730e8462dd0.x%28color_map_ebe68e3ff0494f0aa426f730e8462dd0.color.domain%28%29%5Bi%5D%29%20%3A%20color_map_ebe68e3ff0494f0aa426f730e8462dd0.x.range%28%29%5B1%5D%2C%0A%20%20%20%20%20%20%20%20%20%20%20%20z%3A%20d%0A%20%20%20%20%20%20%20%20%20%20%7D%3B%0A%20%20%20%20%20%20%20%20%7D%29%29%0A%20%20%20%20%20%20.enter%28%29.append%28%22rect%22%29%0A%20%20%20%20%20%20%20%20.attr%28%22height%22%2C%2010%29%0A%20%20%20%20%20%20%20%20.attr%28%22x%22%2C%20function%28d%29%20%7B%20return%20d.x0%3B%20%7D%29%0A%20%20%20%20%20%20%20%20.attr%28%22width%22%2C%20function%28d%29%20%7B%20return%20d.x1%20-%20d.x0%3B%20%7D%29%0A%20%20%20%20%20%20%20%20.style%28%22fill%22%2C%20function%28d%29%20%7B%20return%20d.z%3B%20%7D%29%3B%0A%0A%20%20%20%20color_map_ebe68e3ff0494f0aa426f730e8462dd0.g.call%28color_map_ebe68e3ff0494f0aa426f730e8462dd0.xAxis%29.append%28%22text%22%29%0A%20%20%20%20%20%20%20%20.attr%28%22class%22%2C%20%22caption%22%29%0A%20%20%20%20%20%20%20%20.attr%28%22y%22%2C%2021%29%0A%20%20%20%20%20%20%20%20.text%28%27%27%29%3B%0A%3C/script%3E onload=\"this.contentDocument.open();this.contentDocument.write(    decodeURIComponent(this.getAttribute('data-html')));this.contentDocument.close();\" allowfullscreen webkitallowfullscreen mozallowfullscreen></iframe></div></div>"
      ],
      "text/plain": [
       "<folium.folium.Map at 0x1b7f29906a0>"
      ]
     },
     "metadata": {},
     "output_type": "display_data"
    }
   ],
   "source": [
    "# 예제 4-40\n",
    "# 라이브러리 불러오기\n",
    "import pandas as pd\n",
    "import folium\n",
    "import json\n",
    "\n",
    "# 경기도 인구변화 데이터를 불러와서 데이터프레임으로 변환\n",
    "file_path = 'data/경기도인구데이터.xlsx'\n",
    "df = pd.read_excel(file_path, index_col='구분')  \n",
    "df.columns = df.columns.map(str)\n",
    "\n",
    "# 경기도 시군구 경계 정보를 가진 geo-json 파일 불러오기\n",
    "geo_path = 'data/경기도행정구역경계.json'\n",
    "try:\n",
    "    geo_data = json.load(open(geo_path, encoding='utf-8'))\n",
    "except:\n",
    "    geo_data = json.load(open(geo_path, encoding='utf-8-sig'))\n",
    "\n",
    "# 경기도 지도 만들기\n",
    "g_map = folium.Map(location=[37.5502,126.982], \n",
    "                   tiles='Stamen Terrain', zoom_start=9)\n",
    "\n",
    "\n",
    "\n",
    "# 출력할 연도 선택 (2007 ~ 2017년 중에서 선택)\n",
    "year = '2017'  \n",
    "\n",
    "# Choropleth 클래스로 단계구분도 표시하기\n",
    "folium.Choropleth(geo_data=geo_data,    # 지도 경계\n",
    "                 data = df[year],      # 표시하려는 데이터\n",
    "                 columns = [df.index, df[year]],  # 열 지정\n",
    "                 fill_color='YlOrRd', fill_opacity=0.7, line_opacity=0.3,\n",
    "                 threshold_scale=[10000, 100000, 300000, 500000, 700000],               \n",
    "                 key_on='feature.properties.name',\n",
    "                 ).add_to(g_map)\n",
    "\n",
    "display(g_map)\n",
    "# 지도를 HTML 파일로 저장하기\n",
    "g_map.save('output/gyonggi_population_' + year + '.html')"
   ]
  },
  {
   "cell_type": "code",
   "execution_count": 9,
   "metadata": {},
   "outputs": [
    {
     "data": {
      "text/html": [
       "<div style=\"width:100%;\"><div style=\"position:relative;width:100%;height:0;padding-bottom:60%;\"><span style=\"color:#565656\">Make this Notebook Trusted to load map: File -> Trust Notebook</span><iframe src=\"about:blank\" style=\"position:absolute;width:100%;height:100%;left:0;top:0;border:none !important;\" data-html=%3C%21DOCTYPE%20html%3E%0A%3Chead%3E%20%20%20%20%0A%20%20%20%20%3Cmeta%20http-equiv%3D%22content-type%22%20content%3D%22text/html%3B%20charset%3DUTF-8%22%20/%3E%0A%20%20%20%20%0A%20%20%20%20%20%20%20%20%3Cscript%3E%0A%20%20%20%20%20%20%20%20%20%20%20%20L_NO_TOUCH%20%3D%20false%3B%0A%20%20%20%20%20%20%20%20%20%20%20%20L_DISABLE_3D%20%3D%20false%3B%0A%20%20%20%20%20%20%20%20%3C/script%3E%0A%20%20%20%20%0A%20%20%20%20%3Cstyle%3Ehtml%2C%20body%20%7Bwidth%3A%20100%25%3Bheight%3A%20100%25%3Bmargin%3A%200%3Bpadding%3A%200%3B%7D%3C/style%3E%0A%20%20%20%20%3Cstyle%3E%23map%20%7Bposition%3Aabsolute%3Btop%3A0%3Bbottom%3A0%3Bright%3A0%3Bleft%3A0%3B%7D%3C/style%3E%0A%20%20%20%20%3Cscript%20src%3D%22https%3A//cdn.jsdelivr.net/npm/leaflet%401.6.0/dist/leaflet.js%22%3E%3C/script%3E%0A%20%20%20%20%3Cscript%20src%3D%22https%3A//code.jquery.com/jquery-1.12.4.min.js%22%3E%3C/script%3E%0A%20%20%20%20%3Cscript%20src%3D%22https%3A//maxcdn.bootstrapcdn.com/bootstrap/3.2.0/js/bootstrap.min.js%22%3E%3C/script%3E%0A%20%20%20%20%3Cscript%20src%3D%22https%3A//cdnjs.cloudflare.com/ajax/libs/Leaflet.awesome-markers/2.0.2/leaflet.awesome-markers.js%22%3E%3C/script%3E%0A%20%20%20%20%3Clink%20rel%3D%22stylesheet%22%20href%3D%22https%3A//cdn.jsdelivr.net/npm/leaflet%401.6.0/dist/leaflet.css%22/%3E%0A%20%20%20%20%3Clink%20rel%3D%22stylesheet%22%20href%3D%22https%3A//maxcdn.bootstrapcdn.com/bootstrap/3.2.0/css/bootstrap.min.css%22/%3E%0A%20%20%20%20%3Clink%20rel%3D%22stylesheet%22%20href%3D%22https%3A//maxcdn.bootstrapcdn.com/bootstrap/3.2.0/css/bootstrap-theme.min.css%22/%3E%0A%20%20%20%20%3Clink%20rel%3D%22stylesheet%22%20href%3D%22https%3A//maxcdn.bootstrapcdn.com/font-awesome/4.6.3/css/font-awesome.min.css%22/%3E%0A%20%20%20%20%3Clink%20rel%3D%22stylesheet%22%20href%3D%22https%3A//cdnjs.cloudflare.com/ajax/libs/Leaflet.awesome-markers/2.0.2/leaflet.awesome-markers.css%22/%3E%0A%20%20%20%20%3Clink%20rel%3D%22stylesheet%22%20href%3D%22https%3A//cdn.jsdelivr.net/gh/python-visualization/folium/folium/templates/leaflet.awesome.rotate.min.css%22/%3E%0A%20%20%20%20%0A%20%20%20%20%20%20%20%20%20%20%20%20%3Cmeta%20name%3D%22viewport%22%20content%3D%22width%3Ddevice-width%2C%0A%20%20%20%20%20%20%20%20%20%20%20%20%20%20%20%20initial-scale%3D1.0%2C%20maximum-scale%3D1.0%2C%20user-scalable%3Dno%22%20/%3E%0A%20%20%20%20%20%20%20%20%20%20%20%20%3Cstyle%3E%0A%20%20%20%20%20%20%20%20%20%20%20%20%20%20%20%20%23map_1c042cd09cd140ff85e40a8a60cc338a%20%7B%0A%20%20%20%20%20%20%20%20%20%20%20%20%20%20%20%20%20%20%20%20position%3A%20relative%3B%0A%20%20%20%20%20%20%20%20%20%20%20%20%20%20%20%20%20%20%20%20width%3A%20100.0%25%3B%0A%20%20%20%20%20%20%20%20%20%20%20%20%20%20%20%20%20%20%20%20height%3A%20100.0%25%3B%0A%20%20%20%20%20%20%20%20%20%20%20%20%20%20%20%20%20%20%20%20left%3A%200.0%25%3B%0A%20%20%20%20%20%20%20%20%20%20%20%20%20%20%20%20%20%20%20%20top%3A%200.0%25%3B%0A%20%20%20%20%20%20%20%20%20%20%20%20%20%20%20%20%7D%0A%20%20%20%20%20%20%20%20%20%20%20%20%3C/style%3E%0A%20%20%20%20%20%20%20%20%0A%20%20%20%20%0A%20%20%20%20%20%20%20%20%20%20%20%20%20%20%20%20%20%20%20%20%3Cstyle%3E%0A%20%20%20%20%20%20%20%20%20%20%20%20%20%20%20%20%20%20%20%20%20%20%20%20.foliumtooltip%20%7B%0A%20%20%20%20%20%20%20%20%20%20%20%20%20%20%20%20%20%20%20%20%20%20%20%20%20%20%20%20%0A%20%20%20%20%20%20%20%20%20%20%20%20%20%20%20%20%20%20%20%20%20%20%20%20%7D%0A%20%20%20%20%20%20%20%20%20%20%20%20%20%20%20%20%20%20%20%20%20%20%20.foliumtooltip%20table%7B%0A%20%20%20%20%20%20%20%20%20%20%20%20%20%20%20%20%20%20%20%20%20%20%20%20%20%20%20%20margin%3A%20auto%3B%0A%20%20%20%20%20%20%20%20%20%20%20%20%20%20%20%20%20%20%20%20%20%20%20%20%7D%0A%20%20%20%20%20%20%20%20%20%20%20%20%20%20%20%20%20%20%20%20%20%20%20%20.foliumtooltip%20tr%7B%0A%20%20%20%20%20%20%20%20%20%20%20%20%20%20%20%20%20%20%20%20%20%20%20%20%20%20%20%20text-align%3A%20left%3B%0A%20%20%20%20%20%20%20%20%20%20%20%20%20%20%20%20%20%20%20%20%20%20%20%20%7D%0A%20%20%20%20%20%20%20%20%20%20%20%20%20%20%20%20%20%20%20%20%20%20%20%20.foliumtooltip%20th%7B%0A%20%20%20%20%20%20%20%20%20%20%20%20%20%20%20%20%20%20%20%20%20%20%20%20%20%20%20%20padding%3A%202px%3B%20padding-right%3A%208px%3B%0A%20%20%20%20%20%20%20%20%20%20%20%20%20%20%20%20%20%20%20%20%20%20%20%20%7D%0A%20%20%20%20%20%20%20%20%20%20%20%20%20%20%20%20%20%20%20%20%3C/style%3E%0A%20%20%20%20%20%20%20%20%20%20%20%20%0A%20%20%20%20%3Cscript%20src%3D%22https%3A//cdnjs.cloudflare.com/ajax/libs/d3/3.5.5/d3.min.js%22%3E%3C/script%3E%0A%3C/head%3E%0A%3Cbody%3E%20%20%20%20%0A%20%20%20%20%0A%20%20%20%20%20%20%20%20%20%20%20%20%3Cdiv%20class%3D%22folium-map%22%20id%3D%22map_1c042cd09cd140ff85e40a8a60cc338a%22%20%3E%3C/div%3E%0A%20%20%20%20%20%20%20%20%0A%3C/body%3E%0A%3Cscript%3E%20%20%20%20%0A%20%20%20%20%0A%20%20%20%20%20%20%20%20%20%20%20%20var%20map_1c042cd09cd140ff85e40a8a60cc338a%20%3D%20L.map%28%0A%20%20%20%20%20%20%20%20%20%20%20%20%20%20%20%20%22map_1c042cd09cd140ff85e40a8a60cc338a%22%2C%0A%20%20%20%20%20%20%20%20%20%20%20%20%20%20%20%20%7B%0A%20%20%20%20%20%20%20%20%20%20%20%20%20%20%20%20%20%20%20%20center%3A%20%5B37.5502%2C%20126.982%5D%2C%0A%20%20%20%20%20%20%20%20%20%20%20%20%20%20%20%20%20%20%20%20crs%3A%20L.CRS.EPSG3857%2C%0A%20%20%20%20%20%20%20%20%20%20%20%20%20%20%20%20%20%20%20%20zoom%3A%209%2C%0A%20%20%20%20%20%20%20%20%20%20%20%20%20%20%20%20%20%20%20%20zoomControl%3A%20true%2C%0A%20%20%20%20%20%20%20%20%20%20%20%20%20%20%20%20%20%20%20%20preferCanvas%3A%20false%2C%0A%20%20%20%20%20%20%20%20%20%20%20%20%20%20%20%20%20%20%20%20doubleClickZoom%3A%20false%2C%0A%20%20%20%20%20%20%20%20%20%20%20%20%20%20%20%20%7D%0A%20%20%20%20%20%20%20%20%20%20%20%20%29%3B%0A%0A%20%20%20%20%20%20%20%20%20%20%20%20%0A%0A%20%20%20%20%20%20%20%20%0A%20%20%20%20%0A%20%20%20%20%20%20%20%20%20%20%20%20var%20tile_layer_0ea0adb1da644d619574f6219f613db4%20%3D%20L.tileLayer%28%0A%20%20%20%20%20%20%20%20%20%20%20%20%20%20%20%20%22https%3A//stamen-tiles-%7Bs%7D.a.ssl.fastly.net/terrain/%7Bz%7D/%7Bx%7D/%7By%7D.jpg%22%2C%0A%20%20%20%20%20%20%20%20%20%20%20%20%20%20%20%20%7B%22attribution%22%3A%20%22Map%20tiles%20by%20%5Cu003ca%20href%3D%5C%22http%3A//stamen.com%5C%22%5Cu003eStamen%20Design%5Cu003c/a%5Cu003e%2C%20under%20%5Cu003ca%20href%3D%5C%22http%3A//creativecommons.org/licenses/by/3.0%5C%22%5Cu003eCC%20BY%203.0%5Cu003c/a%5Cu003e.%20Data%20by%20%5Cu0026copy%3B%20%5Cu003ca%20href%3D%5C%22http%3A//openstreetmap.org%5C%22%5Cu003eOpenStreetMap%5Cu003c/a%5Cu003e%2C%20under%20%5Cu003ca%20href%3D%5C%22http%3A//creativecommons.org/licenses/by-sa/3.0%5C%22%5Cu003eCC%20BY%20SA%5Cu003c/a%5Cu003e.%22%2C%20%22detectRetina%22%3A%20false%2C%20%22maxNativeZoom%22%3A%2018%2C%20%22maxZoom%22%3A%2018%2C%20%22minZoom%22%3A%200%2C%20%22noWrap%22%3A%20false%2C%20%22opacity%22%3A%201%2C%20%22subdomains%22%3A%20%22abc%22%2C%20%22tms%22%3A%20false%7D%0A%20%20%20%20%20%20%20%20%20%20%20%20%29.addTo%28map_1c042cd09cd140ff85e40a8a60cc338a%29%3B%0A%20%20%20%20%20%20%20%20%0A%20%20%20%20%0A%20%20%20%20%20%20%20%20%20%20%20%20var%20choropleth_67e86e8f242243ff96da92b1651b615e%20%3D%20L.featureGroup%28%0A%20%20%20%20%20%20%20%20%20%20%20%20%20%20%20%20%7B%7D%0A%20%20%20%20%20%20%20%20%20%20%20%20%29.addTo%28map_1c042cd09cd140ff85e40a8a60cc338a%29%3B%0A%20%20%20%20%20%20%20%20%0A%20%20%20%20%0A%20%20%20%20%20%20%20%20function%20geo_json_ff9df7f3672b47cf9e9a3ee8066f991f_styler%28feature%29%20%7B%0A%20%20%20%20%20%20%20%20%20%20%20%20switch%28feature.properties.code%29%20%7B%0A%20%20%20%20%20%20%20%20%20%20%20%20%20%20%20%20case%2031370%3A%20case%2031350%3A%20case%2031110%3A%20case%2031080%3A%20%0A%20%20%20%20%20%20%20%20%20%20%20%20%20%20%20%20%20%20%20%20return%20%7B%22color%22%3A%20%22black%22%2C%20%22fillColor%22%3A%20%22%23ffffb2%22%2C%20%22fillOpacity%22%3A%200.7%2C%20%22opacity%22%3A%200.3%2C%20%22weight%22%3A%201%7D%3B%0A%20%20%20%20%20%20%20%20%20%20%20%20%20%20%20%20case%2031250%3A%20case%2031230%3A%20case%2031200%3A%20case%2031193%3A%20case%2031192%3A%20case%2031150%3A%20case%2031101%3A%20case%2031092%3A%20case%2031091%3A%20case%2031070%3A%20case%2031060%3A%20case%2031051%3A%20case%2031042%3A%20case%2031030%3A%20case%2031014%3A%20case%2031012%3A%20%0A%20%20%20%20%20%20%20%20%20%20%20%20%20%20%20%20%20%20%20%20return%20%7B%22color%22%3A%20%22black%22%2C%20%22fillColor%22%3A%20%22%23fd8d3c%22%2C%20%22fillOpacity%22%3A%200.7%2C%20%22opacity%22%3A%200.3%2C%20%22weight%22%3A%201%7D%3B%0A%20%20%20%20%20%20%20%20%20%20%20%20%20%20%20%20case%2031240%3A%20case%2031130%3A%20case%2031023%3A%20%0A%20%20%20%20%20%20%20%20%20%20%20%20%20%20%20%20%20%20%20%20return%20%7B%22color%22%3A%20%22black%22%2C%20%22fillColor%22%3A%20%22%23e31a1c%22%2C%20%22fillOpacity%22%3A%200.7%2C%20%22opacity%22%3A%200.3%2C%20%22weight%22%3A%201%7D%3B%0A%20%20%20%20%20%20%20%20%20%20%20%20%20%20%20%20default%3A%0A%20%20%20%20%20%20%20%20%20%20%20%20%20%20%20%20%20%20%20%20return%20%7B%22color%22%3A%20%22black%22%2C%20%22fillColor%22%3A%20%22%23fecc5c%22%2C%20%22fillOpacity%22%3A%200.7%2C%20%22opacity%22%3A%200.3%2C%20%22weight%22%3A%201%7D%3B%0A%20%20%20%20%20%20%20%20%20%20%20%20%7D%0A%20%20%20%20%20%20%20%20%7D%0A%20%20%20%20%20%20%20%20function%20geo_json_ff9df7f3672b47cf9e9a3ee8066f991f_highlighter%28feature%29%20%7B%0A%20%20%20%20%20%20%20%20%20%20%20%20switch%28feature.properties.code%29%20%7B%0A%20%20%20%20%20%20%20%20%20%20%20%20%20%20%20%20default%3A%0A%20%20%20%20%20%20%20%20%20%20%20%20%20%20%20%20%20%20%20%20return%20%7B%22fillOpacity%22%3A%200.8999999999999999%2C%20%22weight%22%3A%203%7D%3B%0A%20%20%20%20%20%20%20%20%20%20%20%20%7D%0A%20%20%20%20%20%20%20%20%7D%0A%0A%20%20%20%20%20%20%20%20function%20geo_json_ff9df7f3672b47cf9e9a3ee8066f991f_onEachFeature%28feature%2C%20layer%29%20%7B%0A%20%20%20%20%20%20%20%20%20%20%20%20layer.on%28%7B%0A%20%20%20%20%20%20%20%20%20%20%20%20%20%20%20%20mouseout%3A%20function%28e%29%20%7B%0A%20%20%20%20%20%20%20%20%20%20%20%20%20%20%20%20%20%20%20%20if%28typeof%20e.target.setStyle%20%3D%3D%3D%20%22function%22%29%7B%0A%20%20%20%20%20%20%20%20%20%20%20%20%20%20%20%20%20%20%20%20%20%20%20%20geo_json_ff9df7f3672b47cf9e9a3ee8066f991f.resetStyle%28e.target%29%3B%0A%20%20%20%20%20%20%20%20%20%20%20%20%20%20%20%20%20%20%20%20%7D%0A%20%20%20%20%20%20%20%20%20%20%20%20%20%20%20%20%7D%2C%0A%20%20%20%20%20%20%20%20%20%20%20%20%20%20%20%20mouseover%3A%20function%28e%29%20%7B%0A%20%20%20%20%20%20%20%20%20%20%20%20%20%20%20%20%20%20%20%20if%28typeof%20e.target.setStyle%20%3D%3D%3D%20%22function%22%29%7B%0A%20%20%20%20%20%20%20%20%20%20%20%20%20%20%20%20%20%20%20%20%20%20%20%20const%20highlightStyle%20%3D%20geo_json_ff9df7f3672b47cf9e9a3ee8066f991f_highlighter%28e.target.feature%29%0A%20%20%20%20%20%20%20%20%20%20%20%20%20%20%20%20%20%20%20%20%20%20%20%20e.target.setStyle%28highlightStyle%29%3B%0A%20%20%20%20%20%20%20%20%20%20%20%20%20%20%20%20%20%20%20%20%7D%0A%20%20%20%20%20%20%20%20%20%20%20%20%20%20%20%20%7D%2C%0A%20%20%20%20%20%20%20%20%20%20%20%20%7D%29%3B%0A%20%20%20%20%20%20%20%20%7D%3B%0A%20%20%20%20%20%20%20%20var%20geo_json_ff9df7f3672b47cf9e9a3ee8066f991f%20%3D%20L.geoJson%28null%2C%20%7B%0A%20%20%20%20%20%20%20%20%20%20%20%20%20%20%20%20onEachFeature%3A%20geo_json_ff9df7f3672b47cf9e9a3ee8066f991f_onEachFeature%2C%0A%20%20%20%20%20%20%20%20%20%20%20%20%0A%20%20%20%20%20%20%20%20%20%20%20%20%20%20%20%20style%3A%20geo_json_ff9df7f3672b47cf9e9a3ee8066f991f_styler%2C%0A%20%20%20%20%20%20%20%20%7D%29%3B%0A%0A%20%20%20%20%20%20%20%20function%20geo_json_ff9df7f3672b47cf9e9a3ee8066f991f_add%20%28data%29%20%7B%0A%20%20%20%20%20%20%20%20%20%20%20%20geo_json_ff9df7f3672b47cf9e9a3ee8066f991f%0A%20%20%20%20%20%20%20%20%20%20%20%20%20%20%20%20.addData%28data%29%0A%20%20%20%20%20%20%20%20%20%20%20%20%20%20%20%20.addTo%28choropleth_67e86e8f242243ff96da92b1651b615e%29%3B%0A%20%20%20%20%20%20%20%20%7D%0A%20%20%20%20%20%20%20%20%20%20%20%20geo_json_ff9df7f3672b47cf9e9a3ee8066f991f_add%28%7B%22features%22%3A%20%5B%7B%22geometry%22%3A%20%7B%22coordinates%22%3A%20%5B%5B%5B127.56113535909492%2C%2037.6256560539258%5D%2C%20%5B127.57290963929243%2C%2037.61087369350498%5D%2C%20%5B127.56366973908277%2C%2037.5842624297699%5D%2C%20%5B127.52226606559191%2C%2037.5828628697518%5D%2C%20%5B127.50048767007603%2C%2037.569036373178626%5D%2C%20%5B127.47687473909174%2C%2037.574448241913856%5D%2C%20%5B127.47565866803647%2C%2037.60512112601634%5D%2C%20%5B127.44699730711024%2C%2037.64497584741164%5D%2C%20%5B127.4272349102434%2C%2037.66284420898682%5D%2C%20%5B127.40156700708162%2C%2037.64806970784708%5D%2C%20%5B127.3732642199939%2C%2037.6453987554284%5D%2C%20%5B127.3542931884407%2C%2037.6250006376975%5D%2C%20%5B127.34360057873045%2C%2037.588997440929354%5D%2C%20%5B127.31002843450217%2C%2037.53523876142835%5D%2C%20%5B127.30923294884336%2C%2037.5135706079458%5D%2C%20%5B127.32809611134748%2C%2037.53133849534739%5D%2C%20%5B127.3663244453597%2C%2037.52716845880826%5D%2C%20%5B127.38286320755414%2C%2037.50147517965334%5D%2C%20%5B127.39046783039153%2C%2037.47413422098595%5D%2C%20%5B127.37490698722792%2C%2037.455072688441305%5D%2C%20%5B127.39174400683049%2C%2037.4256483411369%5D%2C%20%5B127.40276739880215%2C%2037.41856433413549%5D%2C%20%5B127.4250053080982%2C%2037.43669952587185%5D%2C%20%5B127.4817900304572%2C%2037.42084413829662%5D%2C%20%5B127.51015267026155%2C%2037.43699555518635%5D%2C%20%5B127.52501209957308%2C%2037.43192043868044%5D%2C%20%5B127.53910572062166%2C%2037.40849283821634%5D%2C%20%5B127.60528700481163%2C%2037.416969769508924%5D%2C%20%5B127.63754040237271%2C%2037.41065607591271%5D%2C%20%5B127.6491838950862%2C%2037.402042953108506%5D%2C%20%5B127.66976823475012%2C%2037.40884431255766%5D%2C%20%5B127.71071536074867%2C%2037.40736583858037%5D%2C%20%5B127.70347417929173%2C%2037.371054026073324%5D%2C%20%5B127.76165381178268%2C%2037.36421926003675%5D%2C%20%5B127.77952402154285%2C%2037.368441789396854%5D%2C%20%5B127.80397287036232%2C%2037.432516049235865%5D%2C%20%5B127.79833492163134%2C%2037.460500237870505%5D%2C%20%5B127.77664798308412%2C%2037.48883635932707%5D%2C%20%5B127.77611527652192%2C%2037.50328615763377%5D%2C%20%5B127.80855972024105%2C%2037.53220450961153%5D%2C%20%5B127.8445769305193%2C%2037.53621789699497%5D%2C%20%5B127.85162286006927%2C%2037.55037340096326%5D%2C%20%5B127.81507964099751%2C%2037.5618389022189%5D%2C%20%5B127.79492564827493%2C%2037.58252978378627%5D%2C%20%5B127.76838776707211%2C%2037.580178216134605%5D%2C%20%5B127.75614914198108%2C%2037.589477424718204%5D%2C%20%5B127.7102810556826%2C%2037.58360128682645%5D%2C%20%5B127.69869383868397%2C%2037.59757031454811%5D%2C%20%5B127.65553070991882%2C%2037.61954565135447%5D%2C%20%5B127.62972032693943%2C%2037.63983122973888%5D%2C%20%5B127.60450569091653%2C%2037.648548552427314%5D%2C%20%5B127.58166701442097%2C%2037.63033393389168%5D%2C%20%5B127.56113535909492%2C%2037.6256560539258%5D%5D%5D%2C%20%22type%22%3A%20%22Polygon%22%7D%2C%20%22properties%22%3A%20%7B%22base_year%22%3A%202013%2C%20%22code%22%3A%2031380%2C%20%22name%22%3A%20%22%5Cuc591%5Cud3c9%5Cuad70%22%2C%20%22name_eng%22%3A%20%22Yangpyeong-gun%22%7D%2C%20%22type%22%3A%20%22Feature%22%7D%2C%20%7B%22geometry%22%3A%20%7B%22coordinates%22%3A%20%5B%5B%5B127.44780328408541%2C%2038.048238751068475%5D%2C%20%5B127.42042182072485%2C%2038.01200319871128%5D%2C%20%5B127.41516664705571%2C%2037.995046525366845%5D%2C%20%5B127.39194666896421%2C%2037.97992649728499%5D%2C%20%5B127.37828420492166%2C%2037.958773972665476%5D%2C%20%5B127.3864253692493%2C%2037.940789082655876%5D%2C%20%5B127.35796486335995%2C%2037.918888706648104%5D%2C%20%5B127.33112989323685%2C%2037.9192732427266%5D%2C%20%5B127.32585628843694%2C%2037.8708665787365%5D%2C%20%5B127.31427495278925%2C%2037.86338279582678%5D%2C%20%5B127.29023239060183%2C%2037.867156223189305%5D%2C%20%5B127.27621937205707%2C%2037.823925522993584%5D%2C%20%5B127.28134774958465%2C%2037.81350552459983%5D%2C%20%5B127.2686525155809%2C%2037.777676803810074%5D%2C%20%5B127.32070791913966%2C%2037.76445271893134%5D%2C%20%5B127.34501289752937%2C%2037.7266690692075%5D%2C%20%5B127.35759057077398%2C%2037.720909295881434%5D%2C%20%5B127.35557114419971%2C%2037.701041217064585%5D%2C%20%5B127.38133544278186%2C%2037.67180837890239%5D%2C%20%5B127.3732642199939%2C%2037.6453987554284%5D%2C%20%5B127.40156700708162%2C%2037.64806970784708%5D%2C%20%5B127.4272349102434%2C%2037.66284420898682%5D%2C%20%5B127.44699730711024%2C%2037.64497584741164%5D%2C%20%5B127.47565866803647%2C%2037.60512112601634%5D%2C%20%5B127.47687473909174%2C%2037.574448241913856%5D%2C%20%5B127.50048767007603%2C%2037.569036373178626%5D%2C%20%5B127.52226606559191%2C%2037.5828628697518%5D%2C%20%5B127.56366973908277%2C%2037.5842624297699%5D%2C%20%5B127.57290963929243%2C%2037.61087369350498%5D%2C%20%5B127.56113535909492%2C%2037.6256560539258%5D%2C%20%5B127.53917031861263%2C%2037.64021056192394%5D%2C%20%5B127.5549605217701%2C%2037.658757758392326%5D%2C%20%5B127.55230133599949%2C%2037.6826768602848%5D%2C%20%5B127.5620152520609%2C%2037.72573118147031%5D%2C%20%5B127.54295591487076%2C%2037.71630823574417%5D%2C%20%5B127.50979807707056%2C%2037.72791553253582%5D%2C%20%5B127.5466892772679%2C%2037.757547899640265%5D%2C%20%5B127.52374487270039%2C%2037.788564076302706%5D%2C%20%5B127.53790811514408%2C%2037.806297142430786%5D%2C%20%5B127.5278056459557%2C%2037.8205934650677%5D%2C%20%5B127.53467866263196%2C%2037.8391134107185%5D%2C%20%5B127.5645808687282%2C%2037.852710085354005%5D%2C%20%5B127.586513542654%2C%2037.87296654527047%5D%2C%20%5B127.60326048844294%2C%2037.87185797528634%5D%2C%20%5B127.61988365348992%2C%2037.90376621474279%5D%2C%20%5B127.61592274592837%2C%2037.93662873141094%5D%2C%20%5B127.60515472290533%2C%2037.95233960186072%5D%2C%20%5B127.54648191805605%2C%2037.96536690082484%5D%2C%20%5B127.54189684816376%2C%2037.99843118565868%5D%2C%20%5B127.50356426725331%2C%2037.99680815824825%5D%2C%20%5B127.47430810833019%2C%2038.00331531710267%5D%2C%20%5B127.46013793737187%2C%2038.01348603532302%5D%2C%20%5B127.44780328408541%2C%2038.048238751068475%5D%5D%5D%2C%20%22type%22%3A%20%22Polygon%22%7D%2C%20%22properties%22%3A%20%7B%22base_year%22%3A%202013%2C%20%22code%22%3A%2031370%2C%20%22name%22%3A%20%22%5Cuac00%5Cud3c9%5Cuad70%22%2C%20%22name_eng%22%3A%20%22Gapyeong-gun%22%7D%2C%20%22type%22%3A%20%22Feature%22%7D%2C%20%7B%22geometry%22%3A%20%7B%22coordinates%22%3A%20%5B%5B%5B127.1114029794941%2C%2038.289324698353205%5D%2C%20%5B127.07249919657463%2C%2038.26801218962005%5D%2C%20%5B127.02801007414642%2C%2038.254549706273764%5D%2C%20%5B126.99286312502117%2C%2038.234131621017674%5D%2C%20%5B126.97740008434542%2C%2038.23136042526893%5D%2C%20%5B126.98606173199121%2C%2038.209401424377816%5D%2C%20%5B126.96711105593987%2C%2038.19506065700263%5D%2C%20%5B126.95459011862387%2C%2038.20786522832632%5D%2C%20%5B126.92781480981668%2C%2038.200854654628984%5D%2C%20%5B126.8974333001951%2C%2038.20180521598681%5D%2C%20%5B126.87506682979435%2C%2038.220357253330604%5D%2C%20%5B126.8278790877819%2C%2038.195486974451406%5D%2C%20%5B126.77187664076929%2C%2038.15202258772112%5D%2C%20%5B126.75014823067355%2C%2038.125072772241225%5D%2C%20%5B126.78709379586621%2C%2038.09626689678258%5D%2C%20%5B126.79823368085893%2C%2038.079396242822355%5D%2C%20%5B126.85234589355446%2C%2038.09221072381945%5D%2C%20%5B126.86904468579002%2C%2038.077582436479354%5D%2C%20%5B126.89538167413222%2C%2038.071648142471204%5D%2C%20%5B126.89492205681401%2C%2038.04859999954147%5D%2C%20%5B126.87463524911628%2C%2038.01581963256826%5D%2C%20%5B126.85568764143953%2C%2038.02873639803942%5D%2C%20%5B126.83392985136591%2C%2038.03100700061125%5D%2C%20%5B126.8252320653152%2C%2038.00913397816309%5D%2C%20%5B126.83164256576254%2C%2037.99035429677792%5D%2C%20%5B126.8029965558113%2C%2037.989251239637596%5D%2C%20%5B126.80659958939793%2C%2037.9680012097748%5D%2C%20%5B126.8388723334759%2C%2037.96197909365746%5D%2C%20%5B126.8423229135476%2C%2037.97819760433225%5D%2C%20%5B126.85859300440933%2C%2037.98329485669624%5D%2C%20%5B126.8739356423477%2C%2037.968400924665225%5D%2C%20%5B126.89755470110721%2C%2037.9683523617657%5D%2C%20%5B126.90034044420747%2C%2037.99438948257985%5D%2C%20%5B126.93929997962098%2C%2037.9789601448141%5D%2C%20%5B126.97166918547234%2C%2038.000587999007735%5D%2C%20%5B126.99425287672854%2C%2038.000624488107924%5D%2C%20%5B127.01739022262282%2C%2037.989561835400195%5D%2C%20%5B126.97545924731331%2C%2037.93928140597955%5D%2C%20%5B127.01215278654801%2C%2037.924817815480985%5D%2C%20%5B127.02968085272437%2C%2037.9404013715077%5D%2C%20%5B127.05589127856165%2C%2037.978154747876275%5D%2C%20%5B127.09382742820131%2C%2037.968691278173%5D%2C%20%5B127.09290535753887%2C%2037.98459431234087%5D%2C%20%5B127.12231622589134%2C%2037.976745791642564%5D%2C%20%5B127.14982270353039%2C%2037.99413348520078%5D%2C%20%5B127.1474423860908%2C%2038.01290337564081%5D%2C%20%5B127.11440133420174%2C%2038.04821685684721%5D%2C%20%5B127.14326850224882%2C%2038.070002354405226%5D%2C%20%5B127.15086136346409%2C%2038.05496212563221%5D%2C%20%5B127.1888339288906%2C%2038.06204029940796%5D%2C%20%5B127.19437916578538%2C%2038.0797568774465%5D%2C%20%5B127.17503254383571%2C%2038.13882932478672%5D%2C%20%5B127.18150182398624%2C%2038.181927191525546%5D%2C%20%5B127.16857086007771%2C%2038.19681089627724%5D%2C%20%5B127.16461628401596%2C%2038.22949766461027%5D%2C%20%5B127.15063615800273%2C%2038.239791315402336%5D%2C%20%5B127.13243747984255%2C%2038.22986476152822%5D%2C%20%5B127.11224663908298%2C%2038.23944312080941%5D%2C%20%5B127.11610682730382%2C%2038.26255766722931%5D%2C%20%5B127.1114029794941%2C%2038.289324698353205%5D%5D%5D%2C%20%22type%22%3A%20%22Polygon%22%7D%2C%20%22properties%22%3A%20%7B%22base_year%22%3A%202013%2C%20%22code%22%3A%2031350%2C%20%22name%22%3A%20%22%5Cuc5f0%5Cucc9c%5Cuad70%22%2C%20%22name_eng%22%3A%20%22Yeoncheon-gun%22%7D%2C%20%22type%22%3A%20%22Feature%22%7D%2C%20%7B%22geometry%22%3A%20%7B%22coordinates%22%3A%20%5B%5B%5B127.40276739880215%2C%2037.41856433413549%5D%2C%20%5B127.41955611640327%2C%2037.386674887879835%5D%2C%20%5B127.44514756834636%2C%2037.3842770721951%5D%2C%20%5B127.44459662819855%2C%2037.35562085049101%5D%2C%20%5B127.47263652805968%2C%2037.35869263849808%5D%2C%20%5B127.49167370715485%2C%2037.339527598960764%5D%2C%20%5B127.51574229064994%2C%2037.336561285567946%5D%2C%20%5B127.54853754663094%2C%2037.29860192066929%5D%2C%20%5B127.53106721989582%2C%2037.27115011578052%5D%2C%20%5B127.5395160453677%2C%2037.24379045683148%5D%2C%20%5B127.52770097674612%2C%2037.23765094459253%5D%2C%20%5B127.53342604855668%2C%2037.19715010635273%5D%2C%20%5B127.51957698997381%2C%2037.18188687027366%5D%2C%20%5B127.52893461217018%2C%2037.170618598276%5D%2C%20%5B127.55830514005798%2C%2037.17381401041668%5D%2C%20%5B127.5785248984445%2C%2037.186311208078585%5D%2C%20%5B127.5999013564347%2C%2037.1854997199498%5D%2C%20%5B127.63091754409567%2C%2037.150947430524305%5D%2C%20%5B127.66246837559255%2C%2037.13682554779843%5D%2C%20%5B127.69759568854894%2C%2037.137598675963744%5D%2C%20%5B127.6981539994774%2C%2037.14931076846793%5D%2C%20%5B127.73893911466041%2C%2037.20715818139463%5D%2C%20%5B127.75008528183503%2C%2037.21383642183904%5D%2C%20%5B127.75102511570132%2C%2037.24464129242011%5D%2C%20%5B127.76047537750615%2C%2037.25518935399549%5D%2C%20%5B127.75697503302167%2C%2037.29496921027118%5D%2C%20%5B127.77073902372764%2C%2037.30499906774147%5D%2C%20%5B127.76193527300671%2C%2037.32724708852886%5D%2C%20%5B127.76165381178268%2C%2037.36421926003675%5D%2C%20%5B127.70347417929173%2C%2037.371054026073324%5D%2C%20%5B127.71071536074867%2C%2037.40736583858037%5D%2C%20%5B127.66976823475012%2C%2037.40884431255766%5D%2C%20%5B127.6491838950862%2C%2037.402042953108506%5D%2C%20%5B127.63754040237271%2C%2037.41065607591271%5D%2C%20%5B127.60528700481163%2C%2037.416969769508924%5D%2C%20%5B127.53910572062166%2C%2037.40849283821634%5D%2C%20%5B127.52501209957308%2C%2037.43192043868044%5D%2C%20%5B127.51015267026155%2C%2037.43699555518635%5D%2C%20%5B127.4817900304572%2C%2037.42084413829662%5D%2C%20%5B127.4250053080982%2C%2037.43669952587185%5D%2C%20%5B127.40276739880215%2C%2037.41856433413549%5D%5D%5D%2C%20%22type%22%3A%20%22Polygon%22%7D%2C%20%22properties%22%3A%20%7B%22base_year%22%3A%202013%2C%20%22code%22%3A%2031280%2C%20%22name%22%3A%20%22%5Cuc5ec%5Cuc8fc%5Cuc2dc%22%2C%20%22name_eng%22%3A%20%22Yeoju-si%22%7D%2C%20%22type%22%3A%20%22Feature%22%7D%2C%20%7B%22geometry%22%3A%20%7B%22coordinates%22%3A%20%5B%5B%5B127.18150182398624%2C%2038.181927191525546%5D%2C%20%5B127.17503254383571%2C%2038.13882932478672%5D%2C%20%5B127.19437916578538%2C%2038.0797568774465%5D%2C%20%5B127.1888339288906%2C%2038.06204029940796%5D%2C%20%5B127.15086136346409%2C%2038.05496212563221%5D%2C%20%5B127.14326850224882%2C%2038.070002354405226%5D%2C%20%5B127.11440133420174%2C%2038.04821685684721%5D%2C%20%5B127.1474423860908%2C%2038.01290337564081%5D%2C%20%5B127.14982270353039%2C%2037.99413348520078%5D%2C%20%5B127.12231622589134%2C%2037.976745791642564%5D%2C%20%5B127.09290535753887%2C%2037.98459431234087%5D%2C%20%5B127.09382742820131%2C%2037.968691278173%5D%2C%20%5B127.1240834119586%2C%2037.913726790414486%5D%2C%20%5B127.1480788721724%2C%2037.909108279220675%5D%2C%20%5B127.15777209998105%2C%2037.89291633342494%5D%2C%20%5B127.14908802054492%2C%2037.87326470277757%5D%2C%20%5B127.13067707221735%2C%2037.87115064756639%5D%2C%20%5B127.1113003891929%2C%2037.85708813371199%5D%2C%20%5B127.12400943178396%2C%2037.82538075264934%5D%2C%20%5B127.12412178020936%2C%2037.80931541475853%5D%2C%20%5B127.10645686970089%2C%2037.776897580693586%5D%2C%20%5B127.14177735342194%2C%2037.76129795333661%5D%2C%20%5B127.14882403466048%2C%2037.75206030443599%5D%2C%20%5B127.17524551122212%2C%2037.751938183429424%5D%2C%20%5B127.18575971970597%2C%2037.76186443408089%5D%2C%20%5B127.21510645674604%2C%2037.75873586709106%5D%2C%20%5B127.22719439323131%2C%2037.750666435161854%5D%2C%20%5B127.26186907661463%2C%2037.765678541736996%5D%2C%20%5B127.2686525155809%2C%2037.777676803810074%5D%2C%20%5B127.28134774958465%2C%2037.81350552459983%5D%2C%20%5B127.27621937205707%2C%2037.823925522993584%5D%2C%20%5B127.29023239060183%2C%2037.867156223189305%5D%2C%20%5B127.31427495278925%2C%2037.86338279582678%5D%2C%20%5B127.32585628843694%2C%2037.8708665787365%5D%2C%20%5B127.33112989323685%2C%2037.9192732427266%5D%2C%20%5B127.35796486335995%2C%2037.918888706648104%5D%2C%20%5B127.3864253692493%2C%2037.940789082655876%5D%2C%20%5B127.37828420492166%2C%2037.958773972665476%5D%2C%20%5B127.39194666896421%2C%2037.97992649728499%5D%2C%20%5B127.41516664705571%2C%2037.995046525366845%5D%2C%20%5B127.42042182072485%2C%2038.01200319871128%5D%2C%20%5B127.44780328408541%2C%2038.048238751068475%5D%2C%20%5B127.44645416125843%2C%2038.09506926769056%5D%2C%20%5B127.43271157644212%2C%2038.11254491261849%5D%2C%20%5B127.38575924845978%2C%2038.111650021865444%5D%2C%20%5B127.32332897924549%2C%2038.09248746131129%5D%2C%20%5B127.31342794935864%2C%2038.113239178580145%5D%2C%20%5B127.28533797240796%2C%2038.11374536112377%5D%2C%20%5B127.27790641954418%2C%2038.13449032094295%5D%2C%20%5B127.28937067741944%2C%2038.1495974983685%5D%2C%20%5B127.29146727692374%2C%2038.17417076323154%5D%2C%20%5B127.27319981021783%2C%2038.1790866530056%5D%2C%20%5B127.25802935713429%2C%2038.16048880005979%5D%2C%20%5B127.22539552047925%2C%2038.144128217872485%5D%2C%20%5B127.19211744512407%2C%2038.157963139766544%5D%2C%20%5B127.18150182398624%2C%2038.181927191525546%5D%5D%5D%2C%20%22type%22%3A%20%22Polygon%22%7D%2C%20%22properties%22%3A%20%7B%22base_year%22%3A%202013%2C%20%22code%22%3A%2031270%2C%20%22name%22%3A%20%22%5Cud3ec%5Cucc9c%5Cuc2dc%22%2C%20%22name_eng%22%3A%20%22Pocheonsi%22%7D%2C%20%22type%22%3A%20%22Feature%22%7D%2C%20%7B%22geometry%22%3A%20%7B%22coordinates%22%3A%20%5B%5B%5B126.97545924731331%2C%2037.93928140597955%5D%2C%20%5B126.94883433502994%2C%2037.89688479787927%5D%2C%20%5B126.9484401545115%2C%2037.86422401203834%5D%2C%20%5B126.93661135445112%2C%2037.843479475117995%5D%2C%20%5B126.9160273881691%2C%2037.83830532663158%5D%2C%20%5B126.9073114617216%2C%2037.790560159793145%5D%2C%20%5B126.93838979622467%2C%2037.771436009953916%5D%2C%20%5B126.93180653905974%2C%2037.74575671706106%5D%2C%20%5B126.92470886562188%2C%2037.72916078041937%5D%2C%20%5B126.92290257733573%2C%2037.66907383915535%5D%2C%20%5B126.94191948970435%2C%2037.66797237250146%5D%2C%20%5B126.94689093217877%2C%2037.68234333447953%5D%2C%20%5B126.96734461801938%2C%2037.68969305565268%5D%2C%20%5B126.99383903424%2C%2037.676681761199085%5D%2C%20%5B127.01039666042071%2C%2037.681894589603594%5D%2C%20%5B127.01795099203432%2C%2037.69824412775662%5D%2C%20%5B127.01477890845196%2C%2037.722832167524864%5D%2C%20%5B127.00430024727942%2C%2037.73792676357612%5D%2C%20%5B127.00437834122181%2C%2037.75999833868866%5D%2C%20%5B127.02081299427202%2C%2037.76581418787214%5D%2C%20%5B127.05297245855259%2C%2037.75816755994106%5D%2C%20%5B127.10645686970089%2C%2037.776897580693586%5D%2C%20%5B127.12412178020936%2C%2037.80931541475853%5D%2C%20%5B127.12400943178396%2C%2037.82538075264934%5D%2C%20%5B127.1113003891929%2C%2037.85708813371199%5D%2C%20%5B127.09509254572018%2C%2037.86843288571378%5D%2C%20%5B127.06250430862417%2C%2037.86658619508279%5D%2C%20%5B127.04837406784853%2C%2037.891090496591005%5D%2C%20%5B127.01281974367026%2C%2037.90171539201257%5D%2C%20%5B127.01215278654801%2C%2037.924817815480985%5D%2C%20%5B126.97545924731331%2C%2037.93928140597955%5D%5D%5D%2C%20%22type%22%3A%20%22Polygon%22%7D%2C%20%22properties%22%3A%20%7B%22base_year%22%3A%202013%2C%20%22code%22%3A%2031260%2C%20%22name%22%3A%20%22%5Cuc591%5Cuc8fc%5Cuc2dc%22%2C%20%22name_eng%22%3A%20%22Yangjusi%22%7D%2C%20%22type%22%3A%20%22Feature%22%7D%2C%20%7B%22geometry%22%3A%20%7B%22coordinates%22%3A%20%5B%5B%5B127.30923294884336%2C%2037.5135706079458%5D%2C%20%5B127.28971082577908%2C%2037.51069218442014%5D%2C%20%5B127.25539313999657%2C%2037.50044702706516%5D%2C%20%5B127.26066872639333%2C%2037.4867746581613%5D%2C%20%5B127.23892819551556%2C%2037.47240158876339%5D%2C%20%5B127.21785285379218%2C%2037.479493796173465%5D%2C%20%5B127.1831716097913%2C%2037.47048077053623%5D%2C%20%5B127.19808034941583%2C%2037.441066604883545%5D%2C%20%5B127.19594474070001%2C%2037.421269309284035%5D%2C%20%5B127.17637586604776%2C%2037.40261052326208%5D%2C%20%5B127.15506886795262%2C%2037.36076173403712%5D%2C%20%5B127.13605700285002%2C%2037.35565614606753%5D%2C%20%5B127.13845652996186%2C%2037.336816804055495%5D%2C%20%5B127.1439713536275%2C%2037.33349026702227%5D%2C%20%5B127.19373839709431%2C%2037.34441869868583%5D%2C%20%5B127.21042746205282%2C%2037.32805374935785%5D%2C%20%5B127.23072982952925%2C%2037.35607967407726%5D%2C%20%5B127.26708575818817%2C%2037.33990127392118%5D%2C%20%5B127.28543362549937%2C%2037.3425335272208%5D%2C%20%5B127.2795205391003%2C%2037.306809952638524%5D%2C%20%5B127.28383871402815%2C%2037.2658807760632%5D%2C%20%5B127.32142008240551%2C%2037.27215636613311%5D%2C%20%5B127.34092967480524%2C%2037.26770614318737%5D%2C%20%5B127.34227600003884%2C%2037.28528169366774%5D%2C%20%5B127.37829628277709%2C%2037.317936247676194%5D%2C%20%5B127.38906532153541%2C%2037.31608103967859%5D%2C%20%5B127.42277946655206%2C%2037.33526375647856%5D%2C%20%5B127.44459662819855%2C%2037.35562085049101%5D%2C%20%5B127.44514756834636%2C%2037.3842770721951%5D%2C%20%5B127.41955611640327%2C%2037.386674887879835%5D%2C%20%5B127.40276739880215%2C%2037.41856433413549%5D%2C%20%5B127.39174400683049%2C%2037.4256483411369%5D%2C%20%5B127.37490698722792%2C%2037.455072688441305%5D%2C%20%5B127.39046783039153%2C%2037.47413422098595%5D%2C%20%5B127.38286320755414%2C%2037.50147517965334%5D%2C%20%5B127.3663244453597%2C%2037.52716845880826%5D%2C%20%5B127.32809611134748%2C%2037.53133849534739%5D%2C%20%5B127.30923294884336%2C%2037.5135706079458%5D%5D%5D%2C%20%22type%22%3A%20%22Polygon%22%7D%2C%20%22properties%22%3A%20%7B%22base_year%22%3A%202013%2C%20%22code%22%3A%2031250%2C%20%22name%22%3A%20%22%5Cuad11%5Cuc8fc%5Cuc2dc%22%2C%20%22name_eng%22%3A%20%22Gwangju%22%7D%2C%20%22type%22%3A%20%22Feature%22%7D%2C%20%7B%22geometry%22%3A%20%7B%22coordinates%22%3A%20%5B%5B%5B126.92946761531998%2C%2037.275967848758626%5D%2C%20%5B126.9159468889861%2C%2037.28864104563552%5D%2C%20%5B126.84641021832398%2C%2037.26433293772644%5D%2C%20%5B126.81930541992186%2C%2037.29590550406618%5D%2C%20%5B126.77604675292967%2C%2037.28552626562424%5D%2C%20%5B126.76918029785156%2C%2037.28334098034544%5D%2C%20%5B126.73210144042969%2C%2037.29098920118597%5D%2C%20%5B126.71836853027344%2C%2037.286072577028555%5D%2C%20%5B126.68403625488283%2C%2037.267495764381856%5D%2C%20%5B126.6510772705078%2C%2037.25328687335229%5D%2C%20%5B126.66481018066405%2C%2037.21994010868952%5D%2C%20%5B126.65794372558594%2C%2037.19478361329807%5D%2C%20%5B126.66271935011406%2C%2037.15926986163073%5D%2C%20%5B126.6846290670714%2C%2037.14600860455114%5D%2C%20%5B126.67514463500929%2C%2037.13507063838445%5D%2C%20%5B126.69054868899676%2C%2037.11326932983634%5D%2C%20%5B126.7301407699343%2C%2037.135914524793805%5D%2C%20%5B126.74720764160156%2C%2037.14225609389272%5D%2C%20%5B126.7719268798828%2C%2037.14663478158564%5D%2C%20%5B126.79458618164062%2C%2037.14827672411748%5D%2C%20%5B126.80659259648279%2C%2037.148624224069174%5D%2C%20%5B126.7547607421875%2C%2037.137329767248794%5D%2C%20%5B126.72454833984374%2C%2037.11543110112874%5D%2C%20%5B126.73072814941408%2C%2037.092430683283474%5D%2C%20%5B126.7327880859375%2C%2037.07544970503028%5D%2C%20%5B126.75132751464844%2C%2037.0601087778919%5D%2C%20%5B126.75044219493901%2C%2037.04618007006251%5D%2C%20%5B126.75308052062115%2C%2037.02639369248519%5D%2C%20%5B126.79113814421088%2C%2037.02631450535446%5D%2C%20%5B126.79899352215931%2C%2037.0092005991418%5D%2C%20%5B126.84014623559027%2C%2037.01079503386266%5D%2C%20%5B126.85940022959993%2C%2037.022131594683266%5D%2C%20%5B126.8846211892453%2C%2037.05795114472113%5D%2C%20%5B126.90291323437098%2C%2037.06724127811693%5D%2C%20%5B126.94247588185057%2C%2037.057958386286046%5D%2C%20%5B126.95290081243859%2C%2037.06545814826726%5D%2C%20%5B126.98672297136514%2C%2037.06879655242586%5D%2C%20%5B127.00102521866197%2C%2037.08973596266607%5D%2C%20%5B127.00593012741142%2C%2037.124105707924144%5D%2C%20%5B127.03746950511537%2C%2037.13336771678679%5D%2C%20%5B127.03019615684671%2C%2037.16027870494751%5D%2C%20%5B127.00186863458882%2C%2037.1747343711991%5D%2C%20%5B127.02929563655235%2C%2037.19787494412135%5D%2C%20%5B127.06660498380589%2C%2037.19589230774365%5D%2C%20%5B127.07609473440765%2C%2037.16092553278145%5D%2C%20%5B127.09596808287752%2C%2037.1566082978686%5D%2C%20%5B127.10575417734016%2C%2037.1407283236673%5D%2C%20%5B127.12480483538663%2C%2037.14166379699704%5D%2C%20%5B127.13469226704495%2C%2037.165565916914176%5D%2C%20%5B127.16278322754954%2C%2037.17771519608909%5D%2C%20%5B127.15371679380591%2C%2037.215705679231036%5D%2C%20%5B127.09106338919456%2C%2037.21351968359228%5D%2C%20%5B127.06878518378286%2C%2037.23731339587258%5D%2C%20%5B127.04178611512381%2C%2037.24066886027782%5D%2C%20%5B127.02475029106094%2C%2037.22207898080851%5D%2C%20%5B126.97491964707861%2C%2037.22588531228192%5D%2C%20%5B126.95229769733274%2C%2037.2524826245201%5D%2C%20%5B126.93110125729105%2C%2037.260824951129344%5D%2C%20%5B126.92946761531998%2C%2037.275967848758626%5D%5D%5D%2C%20%22type%22%3A%20%22Polygon%22%7D%2C%20%22properties%22%3A%20%7B%22base_year%22%3A%202013%2C%20%22code%22%3A%2031240%2C%20%22name%22%3A%20%22%5Cud654%5Cuc131%5Cuc2dc%22%2C%20%22name_eng%22%3A%20%22Hwaseongsi%22%7D%2C%20%22type%22%3A%20%22Feature%22%7D%2C%20%7B%22geometry%22%3A%20%7B%22coordinates%22%3A%20%5B%5B%5B126.67862254618308%2C%2037.697305342702336%5D%2C%20%5B126.68687028203884%2C%2037.72287270233232%5D%2C%20%5B126.66907840308846%2C%2037.78174793493798%5D%2C%20%5B126.64101439012131%2C%2037.77566349630024%5D%2C%20%5B126.61153655783419%2C%2037.75013666485523%5D%2C%20%5B126.56882602841813%2C%2037.7532565431125%5D%2C%20%5B126.55721894228033%2C%2037.76621180168271%5D%2C%20%5B126.51662409600848%2C%2037.76417822326665%5D%2C%20%5B126.52807816920034%2C%2037.73531846953613%5D%2C%20%5B126.52057497424896%2C%2037.70995131425922%5D%2C%20%5B126.5293420651622%2C%2037.70036377653783%5D%2C%20%5B126.52504262045373%2C%2037.67373626287928%5D%2C%20%5B126.53101689696972%2C%2037.65019057730887%5D%2C%20%5B126.55161765645468%2C%2037.624298554715594%5D%2C%20%5B126.55623106969898%2C%2037.60651221746275%5D%2C%20%5B126.57464273966109%2C%2037.58499252358352%5D%2C%20%5B126.61067265871806%2C%2037.601000735347455%5D%2C%20%5B126.6298186792055%2C%2037.60410987353396%5D%2C%20%5B126.63835822769396%2C%2037.62500980457943%5D%2C%20%5B126.6591800896809%2C%2037.63521787385032%5D%2C%20%5B126.70070861456485%2C%2037.6146734329379%5D%2C%20%5B126.72720375328538%2C%2037.589208895921956%5D%2C%20%5B126.74570339076207%2C%2037.59055779256247%5D%2C%20%5B126.79575768552907%2C%2037.57881087633202%5D%2C%20%5B126.80702115023597%2C%2037.60123001013228%5D%2C%20%5B126.77608157956732%2C%2037.61940269153496%5D%2C%20%5B126.74300328815525%2C%2037.63613822400079%5D%2C%20%5B126.6733552623039%2C%2037.67370888254625%5D%2C%20%5B126.67862254618308%2C%2037.697305342702336%5D%5D%5D%2C%20%22type%22%3A%20%22Polygon%22%7D%2C%20%22properties%22%3A%20%7B%22base_year%22%3A%202013%2C%20%22code%22%3A%2031230%2C%20%22name%22%3A%20%22%5Cuae40%5Cud3ec%5Cuc2dc%22%2C%20%22name_eng%22%3A%20%22Gimpo-si%22%7D%2C%20%22type%22%3A%20%22Feature%22%7D%2C%20%7B%22geometry%22%3A%20%7B%22coordinates%22%3A%20%5B%5B%5B127.4921007211045%2C%2037.04995601187854%5D%2C%20%5B127.50695269820937%2C%2037.05753483878351%5D%2C%20%5B127.5183736840388%2C%2037.08503753187909%5D%2C%20%5B127.50508537419512%2C%2037.115382889205684%5D%2C%20%5B127.45481750751989%2C%2037.132580597361105%5D%2C%20%5B127.43195960102275%2C%2037.144888798316245%5D%2C%20%5B127.4230458143012%2C%2037.123216212193206%5D%2C%20%5B127.42631296061737%2C%2037.09684636395198%5D%2C%20%5B127.40130784690913%2C%2037.09245087525459%5D%2C%20%5B127.36035341650685%2C%2037.104395022706164%5D%2C%20%5B127.34555940652085%2C%2037.10116608411004%5D%2C%20%5B127.32884755687247%2C%2037.11659174326816%5D%2C%20%5B127.3127600393989%2C%2037.10253147019345%5D%2C%20%5B127.29016455856019%2C%2037.1284169582523%5D%2C%20%5B127.2524045686932%2C%2037.142247323045744%5D%2C%20%5B127.25314613987028%2C%2037.120146872115946%5D%2C%20%5B127.23808463453801%2C%2037.11859194998404%5D%2C%20%5B127.21070673321714%2C%2037.1015342900424%5D%2C%20%5B127.19738813790079%2C%2037.08621655572156%5D%2C%20%5B127.16831604852223%2C%2037.083742477354726%5D%2C%20%5B127.12516729074011%2C%2037.08849523189945%5D%2C%20%5B127.12948838054707%2C%2037.04966079815856%5D%2C%20%5B127.10740090841584%2C%2037.0328875639127%5D%2C%20%5B127.15517998352519%2C%2037.026613262831916%5D%2C%20%5B127.14747724307254%2C%2037.0138188945719%5D%2C%20%5B127.15496570056612%2C%2036.99487383420599%5D%2C%20%5B127.13779801966723%2C%2036.99041291045364%5D%2C%20%5B127.1216062947912%2C%2036.96626164975953%5D%2C%20%5B127.1464102583773%2C%2036.96864576891614%5D%2C%20%5B127.20400548086619%2C%2036.94924588348929%5D%2C%20%5B127.2223238977499%2C%2036.92742980980818%5D%2C%20%5B127.24613652503862%2C%2036.91453164371645%5D%2C%20%5B127.27227784491541%2C%2036.910372298119825%5D%2C%20%5B127.2919237698698%2C%2036.89094292918124%5D%2C%20%5B127.31127137227124%2C%2036.92622202120876%5D%2C%20%5B127.35186324388168%2C%2036.94969761594173%5D%2C%20%5B127.38065822509601%2C%2036.94859652718182%5D%2C%20%5B127.40398967704995%2C%2036.96488092382215%5D%2C%20%5B127.38707184117484%2C%2036.981534293776996%5D%2C%20%5B127.39617030040874%2C%2036.99507985079591%5D%2C%20%5B127.43189913129159%2C%2036.99902770852865%5D%2C%20%5B127.4488413674345%2C%2037.008168187910805%5D%2C%20%5B127.46014553759977%2C%2037.01772149607737%5D%2C%20%5B127.45985706240288%2C%2037.0407398003885%5D%2C%20%5B127.4921007211045%2C%2037.04995601187854%5D%5D%5D%2C%20%22type%22%3A%20%22Polygon%22%7D%2C%20%22properties%22%3A%20%7B%22base_year%22%3A%202013%2C%20%22code%22%3A%2031220%2C%20%22name%22%3A%20%22%5Cuc548%5Cuc131%5Cuc2dc%22%2C%20%22name_eng%22%3A%20%22Anseong-si%22%7D%2C%20%22type%22%3A%20%22Feature%22%7D%2C%20%7B%22geometry%22%3A%20%7B%22coordinates%22%3A%20%5B%5B%5B127.44459662819855%2C%2037.35562085049101%5D%2C%20%5B127.42277946655206%2C%2037.33526375647856%5D%2C%20%5B127.38906532153541%2C%2037.31608103967859%5D%2C%20%5B127.37829628277709%2C%2037.317936247676194%5D%2C%20%5B127.34227600003884%2C%2037.28528169366774%5D%2C%20%5B127.34092967480524%2C%2037.26770614318737%5D%2C%20%5B127.33185727826834%2C%2037.21877880590886%5D%2C%20%5B127.3504254442421%2C%2037.20158943522061%5D%2C%20%5B127.38033957366586%2C%2037.19271119046181%5D%2C%20%5B127.38451468391715%2C%2037.17989930552182%5D%2C%20%5B127.41620898203362%2C%2037.17029801090558%5D%2C%20%5B127.41445191048162%2C%2037.152220061925426%5D%2C%20%5B127.43195960102275%2C%2037.144888798316245%5D%2C%20%5B127.45481750751989%2C%2037.132580597361105%5D%2C%20%5B127.50508537419512%2C%2037.115382889205684%5D%2C%20%5B127.5183736840388%2C%2037.08503753187909%5D%2C%20%5B127.50695269820937%2C%2037.05753483878351%5D%2C%20%5B127.4921007211045%2C%2037.04995601187854%5D%2C%20%5B127.5328452994501%2C%2037.052947456094785%5D%2C%20%5B127.55489094869193%2C%2037.04147062932325%5D%2C%20%5B127.56834352033556%2C%2037.06015560613134%5D%2C%20%5B127.60303992687903%2C%2037.08267817797425%5D%2C%20%5B127.63326599440494%2C%2037.09343317631327%5D%2C%20%5B127.6399897481202%2C%2037.13818503173906%5D%2C%20%5B127.63091754409567%2C%2037.150947430524305%5D%2C%20%5B127.5999013564347%2C%2037.1854997199498%5D%2C%20%5B127.5785248984445%2C%2037.186311208078585%5D%2C%20%5B127.55830514005798%2C%2037.17381401041668%5D%2C%20%5B127.52893461217018%2C%2037.170618598276%5D%2C%20%5B127.51957698997381%2C%2037.18188687027366%5D%2C%20%5B127.53342604855668%2C%2037.19715010635273%5D%2C%20%5B127.52770097674612%2C%2037.23765094459253%5D%2C%20%5B127.5395160453677%2C%2037.24379045683148%5D%2C%20%5B127.53106721989582%2C%2037.27115011578052%5D%2C%20%5B127.54853754663094%2C%2037.29860192066929%5D%2C%20%5B127.51574229064994%2C%2037.336561285567946%5D%2C%20%5B127.49167370715485%2C%2037.339527598960764%5D%2C%20%5B127.47263652805968%2C%2037.35869263849808%5D%2C%20%5B127.44459662819855%2C%2037.35562085049101%5D%5D%5D%2C%20%22type%22%3A%20%22Polygon%22%7D%2C%20%22properties%22%3A%20%7B%22base_year%22%3A%202013%2C%20%22code%22%3A%2031210%2C%20%22name%22%3A%20%22%5Cuc774%5Cucc9c%5Cuc2dc%22%2C%20%22name_eng%22%3A%20%22Icheon-si%22%7D%2C%20%22type%22%3A%20%22Feature%22%7D%2C%20%7B%22geometry%22%3A%20%7B%22coordinates%22%3A%20%5B%5B%5B126.8029965558113%2C%2037.989251239637596%5D%2C%20%5B126.78238542753242%2C%2037.980043641136376%5D%2C%20%5B126.76520529808869%2C%2037.98230780004701%5D%2C%20%5B126.7420462951568%2C%2037.96995265840659%5D%2C%20%5B126.74668441679131%2C%2037.94913356897888%5D%2C%20%5B126.71646858457899%2C%2037.93722236122983%5D%2C%20%5B126.69257364928472%2C%2037.941147151072606%5D%2C%20%5B126.67501771549766%2C%2037.95271495350346%5D%2C%20%5B126.66763541566303%2C%2037.91838340624898%5D%2C%20%5B126.67945067210682%2C%2037.89497402505224%5D%2C%20%5B126.67382346217423%2C%2037.88401755835065%5D%2C%20%5B126.69348896006609%2C%2037.86442957434648%5D%2C%20%5B126.6622706417164%2C%2037.83606410322825%5D%2C%20%5B126.67603874694878%2C%2037.82828427203144%5D%2C%20%5B126.66423330880171%2C%2037.78738456951397%5D%2C%20%5B126.66907840308846%2C%2037.78174793493798%5D%2C%20%5B126.68687028203884%2C%2037.72287270233232%5D%2C%20%5B126.67862254618308%2C%2037.697305342702336%5D%2C%20%5B126.69372674409394%2C%2037.687413022894034%5D%2C%20%5B126.72711651649912%2C%2037.70166318681986%5D%2C%20%5B126.77635483402547%2C%2037.70188604497484%5D%2C%20%5B126.79766531143225%2C%2037.730785143520876%5D%2C%20%5B126.81634118925638%2C%2037.72071803262515%5D%2C%20%5B126.83772078982989%2C%2037.72529130369535%5D%2C%20%5B126.85856020555829%2C%2037.73179451375736%5D%2C%20%5B126.88536540501534%2C%2037.717034664244366%5D%2C%20%5B126.90425036668735%2C%2037.72565605361581%5D%2C%20%5B126.91088793086112%2C%2037.74418199544871%5D%2C%20%5B126.93180653905974%2C%2037.74575671706106%5D%2C%20%5B126.93838979622467%2C%2037.771436009953916%5D%2C%20%5B126.9073114617216%2C%2037.790560159793145%5D%2C%20%5B126.9160273881691%2C%2037.83830532663158%5D%2C%20%5B126.93661135445112%2C%2037.843479475117995%5D%2C%20%5B126.9484401545115%2C%2037.86422401203834%5D%2C%20%5B126.94883433502994%2C%2037.89688479787927%5D%2C%20%5B126.97545924731331%2C%2037.93928140597955%5D%2C%20%5B127.01739022262282%2C%2037.989561835400195%5D%2C%20%5B126.99425287672854%2C%2038.000624488107924%5D%2C%20%5B126.97166918547234%2C%2038.000587999007735%5D%2C%20%5B126.93929997962098%2C%2037.9789601448141%5D%2C%20%5B126.90034044420747%2C%2037.99438948257985%5D%2C%20%5B126.89755470110721%2C%2037.9683523617657%5D%2C%20%5B126.8739356423477%2C%2037.968400924665225%5D%2C%20%5B126.85859300440933%2C%2037.98329485669624%5D%2C%20%5B126.8423229135476%2C%2037.97819760433225%5D%2C%20%5B126.8388723334759%2C%2037.96197909365746%5D%2C%20%5B126.80659958939793%2C%2037.9680012097748%5D%2C%20%5B126.8029965558113%2C%2037.989251239637596%5D%5D%5D%2C%20%22type%22%3A%20%22Polygon%22%7D%2C%20%22properties%22%3A%20%7B%22base_year%22%3A%202013%2C%20%22code%22%3A%2031200%2C%20%22name%22%3A%20%22%5Cud30c%5Cuc8fc%5Cuc2dc%22%2C%20%22name_eng%22%3A%20%22Paju-si%22%7D%2C%20%22type%22%3A%20%22Feature%22%7D%2C%20%7B%22geometry%22%3A%20%7B%22coordinates%22%3A%20%5B%5B%5B127.03004539569396%2C%2037.36932312139811%5D%2C%20%5B127.02090967499298%2C%2037.348741503905366%5D%2C%20%5B127.03554038078946%2C%2037.341941908872045%5D%2C%20%5B127.04202153059128%2C%2037.318511731862884%5D%2C%20%5B127.06304327683587%2C%2037.30610813773979%5D%2C%20%5B127.06269400142102%2C%2037.293755190822594%5D%2C%20%5B127.09199113357242%2C%2037.295585212583866%5D%2C%20%5B127.10392750030913%2C%2037.31946377620277%5D%2C%20%5B127.13936654068314%2C%2037.321564168361974%5D%2C%20%5B127.1439713536275%2C%2037.33349026702227%5D%2C%20%5B127.13845652996186%2C%2037.336816804055495%5D%2C%20%5B127.11899182435063%2C%2037.33059044022546%5D%2C%20%5B127.07299151640797%2C%2037.35485426174942%5D%2C%20%5B127.03004539569396%2C%2037.36932312139811%5D%5D%5D%2C%20%22type%22%3A%20%22Polygon%22%7D%2C%20%22properties%22%3A%20%7B%22base_year%22%3A%202013%2C%20%22code%22%3A%2031193%2C%20%22name%22%3A%20%22%5Cuc6a9%5Cuc778%5Cuc2dc%5Cuc218%5Cuc9c0%5Cuad6c%22%2C%20%22name_eng%22%3A%20%22Yonginsisujigu%22%7D%2C%20%22type%22%3A%20%22Feature%22%7D%2C%20%7B%22geometry%22%3A%20%7B%22coordinates%22%3A%20%5B%5B%5B127.09199113357242%2C%2037.295585212583866%5D%2C%20%5B127.09104881579566%2C%2037.284308786190785%5D%2C%20%5B127.06718840393803%2C%2037.26860748709257%5D%2C%20%5B127.08680542938673%2C%2037.253775982641194%5D%2C%20%5B127.06878518378286%2C%2037.23731339587258%5D%2C%20%5B127.09106338919456%2C%2037.21351968359228%5D%2C%20%5B127.15371679380591%2C%2037.215705679231036%5D%2C%20%5B127.15133830848096%2C%2037.23783513168847%5D%2C%20%5B127.17714136480691%2C%2037.255352775734025%5D%2C%20%5B127.17921513238925%2C%2037.282153169636494%5D%2C%20%5B127.13936654068314%2C%2037.321564168361974%5D%2C%20%5B127.10392750030913%2C%2037.31946377620277%5D%2C%20%5B127.09199113357242%2C%2037.295585212583866%5D%5D%5D%2C%20%22type%22%3A%20%22Polygon%22%7D%2C%20%22properties%22%3A%20%7B%22base_year%22%3A%202013%2C%20%22code%22%3A%2031192%2C%20%22name%22%3A%20%22%5Cuc6a9%5Cuc778%5Cuc2dc%5Cuae30%5Cud765%5Cuad6c%22%2C%20%22name_eng%22%3A%20%22Yonginsigiheunggu%22%7D%2C%20%22type%22%3A%20%22Feature%22%7D%2C%20%7B%22geometry%22%3A%20%7B%22coordinates%22%3A%20%5B%5B%5B127.34092967480524%2C%2037.26770614318737%5D%2C%20%5B127.32142008240551%2C%2037.27215636613311%5D%2C%20%5B127.28383871402815%2C%2037.2658807760632%5D%2C%20%5B127.2795205391003%2C%2037.306809952638524%5D%2C%20%5B127.28543362549937%2C%2037.3425335272208%5D%2C%20%5B127.26708575818817%2C%2037.33990127392118%5D%2C%20%5B127.23072982952925%2C%2037.35607967407726%5D%2C%20%5B127.21042746205282%2C%2037.32805374935785%5D%2C%20%5B127.19373839709431%2C%2037.34441869868583%5D%2C%20%5B127.1439713536275%2C%2037.33349026702227%5D%2C%20%5B127.13936654068314%2C%2037.321564168361974%5D%2C%20%5B127.17921513238925%2C%2037.282153169636494%5D%2C%20%5B127.17714136480691%2C%2037.255352775734025%5D%2C%20%5B127.15133830848096%2C%2037.23783513168847%5D%2C%20%5B127.15371679380591%2C%2037.215705679231036%5D%2C%20%5B127.16278322754954%2C%2037.17771519608909%5D%2C%20%5B127.13469226704495%2C%2037.165565916914176%5D%2C%20%5B127.12480483538663%2C%2037.14166379699704%5D%2C%20%5B127.11116461643066%2C%2037.123859739458304%5D%2C%20%5B127.12516729074011%2C%2037.08849523189945%5D%2C%20%5B127.16831604852223%2C%2037.083742477354726%5D%2C%20%5B127.19738813790079%2C%2037.08621655572156%5D%2C%20%5B127.21070673321714%2C%2037.1015342900424%5D%2C%20%5B127.23808463453801%2C%2037.11859194998404%5D%2C%20%5B127.25314613987028%2C%2037.120146872115946%5D%2C%20%5B127.2524045686932%2C%2037.142247323045744%5D%2C%20%5B127.29016455856019%2C%2037.1284169582523%5D%2C%20%5B127.3127600393989%2C%2037.10253147019345%5D%2C%20%5B127.32884755687247%2C%2037.11659174326816%5D%2C%20%5B127.34555940652085%2C%2037.10116608411004%5D%2C%20%5B127.36035341650685%2C%2037.104395022706164%5D%2C%20%5B127.40130784690913%2C%2037.09245087525459%5D%2C%20%5B127.42631296061737%2C%2037.09684636395198%5D%2C%20%5B127.4230458143012%2C%2037.123216212193206%5D%2C%20%5B127.43195960102275%2C%2037.144888798316245%5D%2C%20%5B127.41445191048162%2C%2037.152220061925426%5D%2C%20%5B127.41620898203362%2C%2037.17029801090558%5D%2C%20%5B127.38451468391715%2C%2037.17989930552182%5D%2C%20%5B127.38033957366586%2C%2037.19271119046181%5D%2C%20%5B127.3504254442421%2C%2037.20158943522061%5D%2C%20%5B127.33185727826834%2C%2037.21877880590886%5D%2C%20%5B127.34092967480524%2C%2037.26770614318737%5D%5D%5D%2C%20%22type%22%3A%20%22Polygon%22%7D%2C%20%22properties%22%3A%20%7B%22base_year%22%3A%202013%2C%20%22code%22%3A%2031191%2C%20%22name%22%3A%20%22%5Cuc6a9%5Cuc778%5Cuc2dc%5Cucc98%5Cuc778%5Cuad6c%22%2C%20%22name_eng%22%3A%20%22Yonginsicheoingu%22%7D%2C%20%22type%22%3A%20%22Feature%22%7D%2C%20%7B%22geometry%22%3A%20%7B%22coordinates%22%3A%20%5B%5B%5B127.16683184366129%2C%2037.57672487388627%5D%2C%20%5B127.18408792330152%2C%2037.55814280369575%5D%2C%20%5B127.16530984307447%2C%2037.54221851258693%5D%2C%20%5B127.14672806823502%2C%2037.51415680680291%5D%2C%20%5B127.1634944215765%2C%2037.497445406097484%5D%2C%20%5B127.14206058413274%2C%2037.47089819098501%5D%2C%20%5B127.17807401290999%2C%2037.46939077799968%5D%2C%20%5B127.1831716097913%2C%2037.47048077053623%5D%2C%20%5B127.21785285379218%2C%2037.479493796173465%5D%2C%20%5B127.23892819551556%2C%2037.47240158876339%5D%2C%20%5B127.26066872639333%2C%2037.4867746581613%5D%2C%20%5B127.25539313999657%2C%2037.50044702706516%5D%2C%20%5B127.28971082577908%2C%2037.51069218442014%5D%2C%20%5B127.28111702399318%2C%2037.523561821461996%5D%2C%20%5B127.23688890922413%2C%2037.546307321113254%5D%2C%20%5B127.23635034049964%2C%2037.55494536243556%5D%2C%20%5B127.20140811211739%2C%2037.58834877432742%5D%2C%20%5B127.16683184366129%2C%2037.57672487388627%5D%5D%5D%2C%20%22type%22%3A%20%22Polygon%22%7D%2C%20%22properties%22%3A%20%7B%22base_year%22%3A%202013%2C%20%22code%22%3A%2031180%2C%20%22name%22%3A%20%22%5Cud558%5Cub0a8%5Cuc2dc%22%2C%20%22name_eng%22%3A%20%22Hanam-si%22%7D%2C%20%22type%22%3A%20%22Feature%22%7D%2C%20%7B%22geometry%22%3A%20%7B%22coordinates%22%3A%20%5B%5B%5B127.04377994345505%2C%2037.41281928664435%5D%2C%20%5B127.0154646349186%2C%2037.411005997724835%5D%2C%20%5B126.98466887829045%2C%2037.39785909018114%5D%2C%20%5B126.96423328330341%2C%2037.358735102948096%5D%2C%20%5B126.94893535067122%2C%2037.32100738175514%5D%2C%20%5B126.93252071350132%2C%2037.30423856869929%5D%2C%20%5B126.93504702033805%2C%2037.3002209928663%5D%2C%20%5B126.96633916587045%2C%2037.29989574204989%5D%2C%20%5B126.98303616696394%2C%2037.32376927812144%5D%2C%20%5B127.02090967499298%2C%2037.348741503905366%5D%2C%20%5B127.03004539569396%2C%2037.36932312139811%5D%2C%20%5B127.04580444799605%2C%2037.40139072056455%5D%2C%20%5B127.04377994345505%2C%2037.41281928664435%5D%5D%5D%2C%20%22type%22%3A%20%22Polygon%22%7D%2C%20%22properties%22%3A%20%7B%22base_year%22%3A%202013%2C%20%22code%22%3A%2031170%2C%20%22name%22%3A%20%22%5Cuc758%5Cuc655%5Cuc2dc%22%2C%20%22name_eng%22%3A%20%22Uiwang-si%22%7D%2C%20%22type%22%3A%20%22Feature%22%7D%2C%20%7B%22geometry%22%3A%20%7B%22coordinates%22%3A%20%5B%5B%5B126.96423328330341%2C%2037.358735102948096%5D%2C%20%5B126.9429122120182%2C%2037.37630880537034%5D%2C%20%5B126.9163870114383%2C%2037.37253977179312%5D%2C%20%5B126.89932903785872%2C%2037.35524703438324%5D%2C%20%5B126.88015838809775%2C%2037.316795632219964%5D%2C%20%5B126.9092771218202%2C%2037.318694910599305%5D%2C%20%5B126.93252071350132%2C%2037.30423856869929%5D%2C%20%5B126.94893535067122%2C%2037.32100738175514%5D%2C%20%5B126.96423328330341%2C%2037.358735102948096%5D%5D%5D%2C%20%22type%22%3A%20%22Polygon%22%7D%2C%20%22properties%22%3A%20%7B%22base_year%22%3A%202013%2C%20%22code%22%3A%2031160%2C%20%22name%22%3A%20%22%5Cuad70%5Cud3ec%5Cuc2dc%22%2C%20%22name_eng%22%3A%20%22Gunpo-si%22%7D%2C%20%22type%22%3A%20%22Feature%22%7D%2C%20%7B%22geometry%22%3A%20%7B%22coordinates%22%3A%20%5B%5B%5B126.78024890848009%2C%2037.469000573789124%5D%2C%20%5B126.78043371089171%2C%2037.44800343708732%5D%2C%20%5B126.77110599967482%2C%2037.42452961090748%5D%2C%20%5B126.75529287233691%2C%2037.41984217802103%5D%2C%20%5B126.73861862061078%2C%2037.39261185865545%5D%2C%20%5B126.7029884306089%2C%2037.352119573644295%5D%2C%20%5B126.69453406156698%2C%2037.331064777919245%5D%2C%20%5B126.7248752674955%2C%2037.31058440885402%5D%2C%20%5B126.74059726902762%2C%2037.32685692943894%5D%2C%20%5B126.76357575956314%2C%2037.33864505297868%5D%2C%20%5B126.79105964941944%2C%2037.33699094698096%5D%2C%20%5B126.82580289305967%2C%2037.360321842249355%5D%2C%20%5B126.84283747134161%2C%2037.360869895636554%5D%2C%20%5B126.86691937294266%2C%2037.358697064350324%5D%2C%20%5B126.88400175928666%2C%2037.37340263600163%5D%2C%20%5B126.879093453746%2C%2037.399239167854816%5D%2C%20%5B126.85964157227416%2C%2037.398615706957116%5D%2C%20%5B126.8484052155556%2C%2037.40965572330444%5D%2C%20%5B126.8280587234361%2C%2037.456596986921056%5D%2C%20%5B126.78024890848009%2C%2037.469000573789124%5D%5D%5D%2C%20%22type%22%3A%20%22Polygon%22%7D%2C%20%22properties%22%3A%20%7B%22base_year%22%3A%202013%2C%20%22code%22%3A%2031150%2C%20%22name%22%3A%20%22%5Cuc2dc%5Cud765%5Cuc2dc%22%2C%20%22name_eng%22%3A%20%22Siheung-si%22%7D%2C%20%22type%22%3A%20%22Feature%22%7D%2C%20%7B%22geometry%22%3A%20%7B%22coordinates%22%3A%20%5B%5B%5B127.10575417734016%2C%2037.1407283236673%5D%2C%20%5B127.09596808287752%2C%2037.1566082978686%5D%2C%20%5B127.07609473440765%2C%2037.16092553278145%5D%2C%20%5B127.06660498380589%2C%2037.19589230774365%5D%2C%20%5B127.02929563655235%2C%2037.19787494412135%5D%2C%20%5B127.00186863458882%2C%2037.1747343711991%5D%2C%20%5B127.03019615684671%2C%2037.16027870494751%5D%2C%20%5B127.03746950511537%2C%2037.13336771678679%5D%2C%20%5B127.04304406837494%2C%2037.126222304219084%5D%2C%20%5B127.09127893510457%2C%2037.12882078023335%5D%2C%20%5B127.10575417734016%2C%2037.1407283236673%5D%5D%5D%2C%20%22type%22%3A%20%22Polygon%22%7D%2C%20%22properties%22%3A%20%7B%22base_year%22%3A%202013%2C%20%22code%22%3A%2031140%2C%20%22name%22%3A%20%22%5Cuc624%5Cuc0b0%5Cuc2dc%22%2C%20%22name_eng%22%3A%20%22Osan-si%22%7D%2C%20%22type%22%3A%20%22Feature%22%7D%2C%20%7B%22geometry%22%3A%20%7B%22coordinates%22%3A%20%5B%5B%5B127.2686525155809%2C%2037.777676803810074%5D%2C%20%5B127.26186907661463%2C%2037.765678541736996%5D%2C%20%5B127.22719439323131%2C%2037.750666435161854%5D%2C%20%5B127.21510645674604%2C%2037.75873586709106%5D%2C%20%5B127.18575971970597%2C%2037.76186443408089%5D%2C%20%5B127.17524551122212%2C%2037.751938183429424%5D%2C%20%5B127.14882403466048%2C%2037.75206030443599%5D%2C%20%5B127.13060037316637%2C%2037.74504865443316%5D%2C%20%5B127.12788299600184%2C%2037.72469254066713%5D%2C%20%5B127.0838752703195%2C%2037.69359534202034%5D%2C%20%5B127.09706391309695%2C%2037.686383719372294%5D%2C%20%5B127.09440766298717%2C%2037.64713490473045%5D%2C%20%5B127.11326795855199%2C%2037.639622905315925%5D%2C%20%5B127.1523782881412%2C%2037.63663639743511%5D%2C%20%5B127.14554907981939%2C%2037.61784095180692%5D%2C%20%5B127.16683184366129%2C%2037.57672487388627%5D%2C%20%5B127.20140811211739%2C%2037.58834877432742%5D%2C%20%5B127.23635034049964%2C%2037.55494536243556%5D%2C%20%5B127.23688890922413%2C%2037.546307321113254%5D%2C%20%5B127.28111702399318%2C%2037.523561821461996%5D%2C%20%5B127.28971082577908%2C%2037.51069218442014%5D%2C%20%5B127.30923294884336%2C%2037.5135706079458%5D%2C%20%5B127.31002843450217%2C%2037.53523876142835%5D%2C%20%5B127.34360057873045%2C%2037.588997440929354%5D%2C%20%5B127.3542931884407%2C%2037.6250006376975%5D%2C%20%5B127.3732642199939%2C%2037.6453987554284%5D%2C%20%5B127.38133544278186%2C%2037.67180837890239%5D%2C%20%5B127.35557114419971%2C%2037.701041217064585%5D%2C%20%5B127.35759057077398%2C%2037.720909295881434%5D%2C%20%5B127.34501289752937%2C%2037.7266690692075%5D%2C%20%5B127.32070791913966%2C%2037.76445271893134%5D%2C%20%5B127.2686525155809%2C%2037.777676803810074%5D%5D%5D%2C%20%22type%22%3A%20%22Polygon%22%7D%2C%20%22properties%22%3A%20%7B%22base_year%22%3A%202013%2C%20%22code%22%3A%2031130%2C%20%22name%22%3A%20%22%5Cub0a8%5Cuc591%5Cuc8fc%5Cuc2dc%22%2C%20%22name_eng%22%3A%20%22Namyangju-si%22%7D%2C%20%22type%22%3A%20%22Feature%22%7D%2C%20%7B%22geometry%22%3A%20%7B%22coordinates%22%3A%20%5B%5B%5B127.11326795855199%2C%2037.639622905315925%5D%2C%20%5B127.10782277688129%2C%2037.61804244241069%5D%2C%20%5B127.1201246020114%2C%2037.60178457598188%5D%2C%20%5B127.10304174249214%2C%2037.57076342290955%5D%2C%20%5B127.11519584981606%2C%2037.557533180704915%5D%2C%20%5B127.16683184366129%2C%2037.57672487388627%5D%2C%20%5B127.14554907981939%2C%2037.61784095180692%5D%2C%20%5B127.1523782881412%2C%2037.63663639743511%5D%2C%20%5B127.11326795855199%2C%2037.639622905315925%5D%5D%5D%2C%20%22type%22%3A%20%22Polygon%22%7D%2C%20%22properties%22%3A%20%7B%22base_year%22%3A%202013%2C%20%22code%22%3A%2031120%2C%20%22name%22%3A%20%22%5Cuad6c%5Cub9ac%5Cuc2dc%22%2C%20%22name_eng%22%3A%20%22Guri-si%22%7D%2C%20%22type%22%3A%20%22Feature%22%7D%2C%20%7B%22geometry%22%3A%20%7B%22coordinates%22%3A%20%5B%5B%5B126.99072073195462%2C%2037.455326143310025%5D%2C%20%5B126.96520439085143%2C%2037.438249784006246%5D%2C%20%5B126.96342494806345%2C%2037.42289846046814%5D%2C%20%5B126.98466887829045%2C%2037.39785909018114%5D%2C%20%5B127.0154646349186%2C%2037.411005997724835%5D%2C%20%5B127.04377994345505%2C%2037.41281928664435%5D%2C%20%5B127.04957232987142%2C%2037.42805836845694%5D%2C%20%5B127.03881782597922%2C%2037.45382039851715%5D%2C%20%5B126.99072073195462%2C%2037.455326143310025%5D%5D%5D%2C%20%22type%22%3A%20%22Polygon%22%7D%2C%20%22properties%22%3A%20%7B%22base_year%22%3A%202013%2C%20%22code%22%3A%2031110%2C%20%22name%22%3A%20%22%5Cuacfc%5Cucc9c%5Cuc2dc%22%2C%20%22name_eng%22%3A%20%22Gwacheon-si%22%7D%2C%20%22type%22%3A%20%22Feature%22%7D%2C%20%7B%22geometry%22%3A%20%7B%22coordinates%22%3A%20%5B%5B%5B126.67862254618308%2C%2037.697305342702336%5D%2C%20%5B126.6733552623039%2C%2037.67370888254625%5D%2C%20%5B126.74300328815525%2C%2037.63613822400079%5D%2C%20%5B126.74294383613385%2C%2037.6511173927548%5D%2C%20%5B126.77194259250199%2C%2037.665292527690774%5D%2C%20%5B126.78018904849759%2C%2037.678448868614744%5D%2C%20%5B126.77635483402547%2C%2037.70188604497484%5D%2C%20%5B126.72711651649912%2C%2037.70166318681986%5D%2C%20%5B126.69372674409394%2C%2037.687413022894034%5D%2C%20%5B126.67862254618308%2C%2037.697305342702336%5D%5D%5D%2C%20%22type%22%3A%20%22Polygon%22%7D%2C%20%22properties%22%3A%20%7B%22base_year%22%3A%202013%2C%20%22code%22%3A%2031104%2C%20%22name%22%3A%20%22%5Cuace0%5Cuc591%5Cuc2dc%5Cuc77c%5Cuc0b0%5Cuc11c%5Cuad6c%22%2C%20%22name_eng%22%3A%20%22Goyangsiilsanseogu%22%7D%2C%20%22type%22%3A%20%22Feature%22%7D%2C%20%7B%22geometry%22%3A%20%7B%22coordinates%22%3A%20%5B%5B%5B126.77635483402547%2C%2037.70188604497484%5D%2C%20%5B126.78018904849759%2C%2037.678448868614744%5D%2C%20%5B126.77194259250199%2C%2037.665292527690774%5D%2C%20%5B126.74294383613385%2C%2037.6511173927548%5D%2C%20%5B126.74300328815525%2C%2037.63613822400079%5D%2C%20%5B126.77608157956732%2C%2037.61940269153496%5D%2C%20%5B126.79710848915354%2C%2037.6372950352041%5D%2C%20%5B126.83512162789108%2C%2037.680020660541864%5D%2C%20%5B126.85703023929057%2C%2037.68935027811791%5D%2C%20%5B126.83772078982989%2C%2037.72529130369535%5D%2C%20%5B126.81634118925638%2C%2037.72071803262515%5D%2C%20%5B126.79766531143225%2C%2037.730785143520876%5D%2C%20%5B126.77635483402547%2C%2037.70188604497484%5D%5D%5D%2C%20%22type%22%3A%20%22Polygon%22%7D%2C%20%22properties%22%3A%20%7B%22base_year%22%3A%202013%2C%20%22code%22%3A%2031103%2C%20%22name%22%3A%20%22%5Cuace0%5Cuc591%5Cuc2dc%5Cuc77c%5Cuc0b0%5Cub3d9%5Cuad6c%22%2C%20%22name_eng%22%3A%20%22Goyangsiilsandonggu%22%7D%2C%20%22type%22%3A%20%22Feature%22%7D%2C%20%7B%22geometry%22%3A%20%7B%22coordinates%22%3A%20%5B%5B%5B126.83772078982989%2C%2037.72529130369535%5D%2C%20%5B126.85703023929057%2C%2037.68935027811791%5D%2C%20%5B126.83512162789108%2C%2037.680020660541864%5D%2C%20%5B126.79710848915354%2C%2037.6372950352041%5D%2C%20%5B126.77608157956732%2C%2037.61940269153496%5D%2C%20%5B126.80702115023597%2C%2037.60123001013228%5D%2C%20%5B126.82251438477105%2C%2037.5880430810082%5D%2C%20%5B126.85984199399667%2C%2037.571847855292745%5D%2C%20%5B126.88433284773288%2C%2037.588143322880526%5D%2C%20%5B126.90396681003595%2C%2037.59227403419942%5D%2C%20%5B126.90303066177668%2C%2037.609977911401344%5D%2C%20%5B126.91455481429648%2C%2037.64150050996935%5D%2C%20%5B126.956473797387%2C%2037.652480737339445%5D%2C%20%5B126.9738864128702%2C%2037.62949634786888%5D%2C%20%5B126.977175406416%2C%2037.62859715400388%5D%2C%20%5B126.98672705513869%2C%2037.63377641288196%5D%2C%20%5B126.9817452676551%2C%2037.65209769387776%5D%2C%20%5B126.99383903424%2C%2037.676681761199085%5D%2C%20%5B126.96734461801938%2C%2037.68969305565268%5D%2C%20%5B126.94689093217877%2C%2037.68234333447953%5D%2C%20%5B126.94191948970435%2C%2037.66797237250146%5D%2C%20%5B126.92290257733573%2C%2037.66907383915535%5D%2C%20%5B126.92470886562188%2C%2037.72916078041937%5D%2C%20%5B126.93180653905974%2C%2037.74575671706106%5D%2C%20%5B126.91088793086112%2C%2037.74418199544871%5D%2C%20%5B126.90425036668735%2C%2037.72565605361581%5D%2C%20%5B126.88536540501534%2C%2037.717034664244366%5D%2C%20%5B126.85856020555829%2C%2037.73179451375736%5D%2C%20%5B126.83772078982989%2C%2037.72529130369535%5D%5D%5D%2C%20%22type%22%3A%20%22Polygon%22%7D%2C%20%22properties%22%3A%20%7B%22base_year%22%3A%202013%2C%20%22code%22%3A%2031101%2C%20%22name%22%3A%20%22%5Cuace0%5Cuc591%5Cuc2dc%5Cub355%5Cuc591%5Cuad6c%22%2C%20%22name_eng%22%3A%20%22Goyangsideogyanggu%22%7D%2C%20%22type%22%3A%20%22Feature%22%7D%2C%20%7B%22geometry%22%3A%20%7B%22coordinates%22%3A%20%5B%5B%5B%5B126.61008573444688%2C%2037.30616739414492%5D%2C%20%5B126.58105759521007%2C%2037.2931329422869%5D%2C%20%5B126.5698046807071%2C%2037.27852472009729%5D%2C%20%5B126.55067246352256%2C%2037.27712401368454%5D%2C%20%5B126.56507568780702%2C%2037.25336773744705%5D%2C%20%5B126.56255063831487%2C%2037.239416423702146%5D%2C%20%5B126.54375626154638%2C%2037.22229105408503%5D%2C%20%5B126.546463851695%2C%2037.20350714902179%5D%2C%20%5B126.5705815554123%2C%2037.2014655738836%5D%2C%20%5B126.58721308393721%2C%2037.21775435498544%5D%2C%20%5B126.64889918632674%2C%2037.20793069915704%5D%2C%20%5B126.65235349062866%2C%2037.22264393643188%5D%2C%20%5B126.62465751982253%2C%2037.233811135502776%5D%2C%20%5B126.61085741500113%2C%2037.260209230779175%5D%2C%20%5B126.59892279766748%2C%2037.25959717398652%5D%2C%20%5B126.57228115154807%2C%2037.277020701082655%5D%2C%20%5B126.61008573444688%2C%2037.30616739414492%5D%5D%5D%2C%20%5B%5B%5B126.84283747134161%2C%2037.360869895636554%5D%2C%20%5B126.82580289305967%2C%2037.360321842249355%5D%2C%20%5B126.79105964941944%2C%2037.33699094698096%5D%2C%20%5B126.76357575956314%2C%2037.33864505297868%5D%2C%20%5B126.74059726902762%2C%2037.32685692943894%5D%2C%20%5B126.7248752674955%2C%2037.31058440885402%5D%2C%20%5B126.72765029203323%2C%2037.29949771063766%5D%2C%20%5B126.77466340206773%2C%2037.286577751987956%5D%2C%20%5B126.8184033400877%2C%2037.295179006004226%5D%2C%20%5B126.84357462735869%2C%2037.30283998653071%5D%2C%20%5B126.84283747134161%2C%2037.360869895636554%5D%5D%5D%5D%2C%20%22type%22%3A%20%22MultiPolygon%22%7D%2C%20%22properties%22%3A%20%7B%22base_year%22%3A%202013%2C%20%22code%22%3A%2031092%2C%20%22name%22%3A%20%22%5Cuc548%5Cuc0b0%5Cuc2dc%5Cub2e8%5Cuc6d0%5Cuad6c%22%2C%20%22name_eng%22%3A%20%22Ansansidanwongu%22%7D%2C%20%22type%22%3A%20%22Feature%22%7D%2C%20%7B%22geometry%22%3A%20%7B%22coordinates%22%3A%20%5B%5B%5B126.84283747134161%2C%2037.360869895636554%5D%2C%20%5B126.84357462735869%2C%2037.30283998653071%5D%2C%20%5B126.8184033400877%2C%2037.295179006004226%5D%2C%20%5B126.84641021832398%2C%2037.26433293772644%5D%2C%20%5B126.9159468889861%2C%2037.28864104563552%5D%2C%20%5B126.92946761531998%2C%2037.275967848758626%5D%2C%20%5B126.93504702033805%2C%2037.3002209928663%5D%2C%20%5B126.93252071350132%2C%2037.30423856869929%5D%2C%20%5B126.9092771218202%2C%2037.318694910599305%5D%2C%20%5B126.88015838809775%2C%2037.316795632219964%5D%2C%20%5B126.89932903785872%2C%2037.35524703438324%5D%2C%20%5B126.88400175928666%2C%2037.37340263600163%5D%2C%20%5B126.86691937294266%2C%2037.358697064350324%5D%2C%20%5B126.84283747134161%2C%2037.360869895636554%5D%5D%5D%2C%20%22type%22%3A%20%22Polygon%22%7D%2C%20%22properties%22%3A%20%7B%22base_year%22%3A%202013%2C%20%22code%22%3A%2031091%2C%20%22name%22%3A%20%22%5Cuc548%5Cuc0b0%5Cuc2dc%5Cuc0c1%5Cub85d%5Cuad6c%22%2C%20%22name_eng%22%3A%20%22Ansansisangnokgu%22%7D%2C%20%22type%22%3A%20%22Feature%22%7D%2C%20%7B%22geometry%22%3A%20%7B%22coordinates%22%3A%20%5B%5B%5B127.01215278654801%2C%2037.924817815480985%5D%2C%20%5B127.01281974367026%2C%2037.90171539201257%5D%2C%20%5B127.04837406784853%2C%2037.891090496591005%5D%2C%20%5B127.06250430862417%2C%2037.86658619508279%5D%2C%20%5B127.09509254572018%2C%2037.86843288571378%5D%2C%20%5B127.1113003891929%2C%2037.85708813371199%5D%2C%20%5B127.13067707221735%2C%2037.87115064756639%5D%2C%20%5B127.14908802054492%2C%2037.87326470277757%5D%2C%20%5B127.15777209998105%2C%2037.89291633342494%5D%2C%20%5B127.1480788721724%2C%2037.909108279220675%5D%2C%20%5B127.1240834119586%2C%2037.913726790414486%5D%2C%20%5B127.09382742820131%2C%2037.968691278173%5D%2C%20%5B127.05589127856165%2C%2037.978154747876275%5D%2C%20%5B127.02968085272437%2C%2037.9404013715077%5D%2C%20%5B127.01215278654801%2C%2037.924817815480985%5D%5D%5D%2C%20%22type%22%3A%20%22Polygon%22%7D%2C%20%22properties%22%3A%20%7B%22base_year%22%3A%202013%2C%20%22code%22%3A%2031080%2C%20%22name%22%3A%20%22%5Cub3d9%5Cub450%5Cucc9c%5Cuc2dc%22%2C%20%22name_eng%22%3A%20%22Dongducheon-si%22%7D%2C%20%22type%22%3A%20%22Feature%22%7D%2C%20%7B%22geometry%22%3A%20%7B%22coordinates%22%3A%20%5B%5B%5B127.10575417734016%2C%2037.1407283236673%5D%2C%20%5B127.09127893510457%2C%2037.12882078023335%5D%2C%20%5B127.04304406837494%2C%2037.126222304219084%5D%2C%20%5B127.03746950511537%2C%2037.13336771678679%5D%2C%20%5B127.00593012741142%2C%2037.124105707924144%5D%2C%20%5B127.00102521866197%2C%2037.08973596266607%5D%2C%20%5B126.98672297136514%2C%2037.06879655242586%5D%2C%20%5B126.95290081243859%2C%2037.06545814826726%5D%2C%20%5B126.94247588185057%2C%2037.057958386286046%5D%2C%20%5B126.90291323437098%2C%2037.06724127811693%5D%2C%20%5B126.8846211892453%2C%2037.05795114472113%5D%2C%20%5B126.85940022959993%2C%2037.022131594683266%5D%2C%20%5B126.84014623559027%2C%2037.01079503386266%5D%2C%20%5B126.79899352215931%2C%2037.0092005991418%5D%2C%20%5B126.79429045878248%2C%2037.002375311346476%5D%2C%20%5B126.82743835677269%2C%2036.984262588052744%5D%2C%20%5B126.84836832892641%2C%2036.9565513163949%5D%2C%20%5B126.86448993272457%2C%2036.94597945683675%5D%2C%20%5B126.86630821363053%2C%2036.92982214702114%5D%2C%20%5B126.88907059918661%2C%2036.933221090048846%5D%2C%20%5B126.90658712032098%2C%2036.92311369494381%5D%2C%20%5B126.91083667953751%2C%2036.90208156398722%5D%2C%20%5B126.99750165503437%2C%2036.93264776697853%5D%2C%20%5B127.03383288513524%2C%2036.925469265383704%5D%2C%20%5B127.07603768486679%2C%2036.935523531907464%5D%2C%20%5B127.11553676419611%2C%2036.969747255651924%5D%2C%20%5B127.1216062947912%2C%2036.96626164975953%5D%2C%20%5B127.13779801966723%2C%2036.99041291045364%5D%2C%20%5B127.15496570056612%2C%2036.99487383420599%5D%2C%20%5B127.14747724307254%2C%2037.0138188945719%5D%2C%20%5B127.15517998352519%2C%2037.026613262831916%5D%2C%20%5B127.10740090841584%2C%2037.0328875639127%5D%2C%20%5B127.12948838054707%2C%2037.04966079815856%5D%2C%20%5B127.12516729074011%2C%2037.08849523189945%5D%2C%20%5B127.11116461643066%2C%2037.123859739458304%5D%2C%20%5B127.12480483538663%2C%2037.14166379699704%5D%2C%20%5B127.10575417734016%2C%2037.1407283236673%5D%5D%5D%2C%20%22type%22%3A%20%22Polygon%22%7D%2C%20%22properties%22%3A%20%7B%22base_year%22%3A%202013%2C%20%22code%22%3A%2031070%2C%20%22name%22%3A%20%22%5Cud3c9%5Cud0dd%5Cuc2dc%22%2C%20%22name_eng%22%3A%20%22Pyeongtaek-si%22%7D%2C%20%22type%22%3A%20%22Feature%22%7D%2C%20%7B%22geometry%22%3A%20%7B%22coordinates%22%3A%20%5B%5B%5B126.83549485076196%2C%2037.474098236975095%5D%2C%20%5B126.8280587234361%2C%2037.456596986921056%5D%2C%20%5B126.8484052155556%2C%2037.40965572330444%5D%2C%20%5B126.85964157227416%2C%2037.398615706957116%5D%2C%20%5B126.879093453746%2C%2037.399239167854816%5D%2C%20%5B126.9025831711697%2C%2037.434549366349124%5D%2C%20%5B126.87683271502428%2C%2037.482576591607305%5D%2C%20%5B126.84762676054953%2C%2037.47146723936323%5D%2C%20%5B126.83549485076196%2C%2037.474098236975095%5D%5D%5D%2C%20%22type%22%3A%20%22Polygon%22%7D%2C%20%22properties%22%3A%20%7B%22base_year%22%3A%202013%2C%20%22code%22%3A%2031060%2C%20%22name%22%3A%20%22%5Cuad11%5Cuba85%5Cuc2dc%22%2C%20%22name_eng%22%3A%20%22Gwangmyeong-si%22%7D%2C%20%22type%22%3A%20%22Feature%22%7D%2C%20%7B%22geometry%22%3A%20%7B%22coordinates%22%3A%20%5B%5B%5B126.76979180579352%2C%2037.55139183008809%5D%2C%20%5B126.76241572251033%2C%2037.52129679978721%5D%2C%20%5B126.76236682035514%2C%2037.51516388559986%5D%2C%20%5B126.79948253277924%2C%2037.50297839620806%5D%2C%20%5B126.82504736331406%2C%2037.50302612640443%5D%2C%20%5B126.82688081517314%2C%2037.50548972232896%5D%2C%20%5B126.8242331426722%2C%2037.53788078753248%5D%2C%20%5B126.77324417717703%2C%2037.5459123450554%5D%2C%20%5B126.76979180579352%2C%2037.55139183008809%5D%5D%5D%2C%20%22type%22%3A%20%22Polygon%22%7D%2C%20%22properties%22%3A%20%7B%22base_year%22%3A%202013%2C%20%22code%22%3A%2031053%2C%20%22name%22%3A%20%22%5Cubd80%5Cucc9c%5Cuc2dc%5Cuc624%5Cuc815%5Cuad6c%22%2C%20%22name_eng%22%3A%20%22Bucheonsiojeonggu%22%7D%2C%20%22type%22%3A%20%22Feature%22%7D%2C%20%7B%22geometry%22%3A%20%7B%22coordinates%22%3A%20%5B%5B%5B126.82264796791348%2C%2037.4878476492147%5D%2C%20%5B126.80525536231318%2C%2037.479599517462205%5D%2C%20%5B126.74449661749888%2C%2037.48568861244349%5D%2C%20%5B126.76982226270037%2C%2037.468955688388995%5D%2C%20%5B126.78024890848009%2C%2037.469000573789124%5D%2C%20%5B126.8280587234361%2C%2037.456596986921056%5D%2C%20%5B126.83549485076196%2C%2037.474098236975095%5D%2C%20%5B126.82264796791348%2C%2037.4878476492147%5D%5D%5D%2C%20%22type%22%3A%20%22Polygon%22%7D%2C%20%22properties%22%3A%20%7B%22base_year%22%3A%202013%2C%20%22code%22%3A%2031052%2C%20%22name%22%3A%20%22%5Cubd80%5Cucc9c%5Cuc2dc%5Cuc18c%5Cuc0ac%5Cuad6c%22%2C%20%22name_eng%22%3A%20%22Bucheonsisosagu%22%7D%2C%20%22type%22%3A%20%22Feature%22%7D%2C%20%7B%22geometry%22%3A%20%7B%22coordinates%22%3A%20%5B%5B%5B126.76236682035514%2C%2037.51516388559986%5D%2C%20%5B126.74717949233765%2C%2037.511283448979185%5D%2C%20%5B126.74449661749888%2C%2037.48568861244349%5D%2C%20%5B126.80525536231318%2C%2037.479599517462205%5D%2C%20%5B126.82264796791348%2C%2037.4878476492147%5D%2C%20%5B126.82504736331406%2C%2037.50302612640443%5D%2C%20%5B126.79948253277924%2C%2037.50297839620806%5D%2C%20%5B126.76236682035514%2C%2037.51516388559986%5D%5D%5D%2C%20%22type%22%3A%20%22Polygon%22%7D%2C%20%22properties%22%3A%20%7B%22base_year%22%3A%202013%2C%20%22code%22%3A%2031051%2C%20%22name%22%3A%20%22%5Cubd80%5Cucc9c%5Cuc2dc%5Cuc6d0%5Cubbf8%5Cuad6c%22%2C%20%22name_eng%22%3A%20%22Bucheonsiwonmigu%22%7D%2C%20%22type%22%3A%20%22Feature%22%7D%2C%20%7B%22geometry%22%3A%20%7B%22coordinates%22%3A%20%5B%5B%5B126.95000001010182%2C%2037.43613451165719%5D%2C%20%5B126.949527627869%2C%2037.419039331795105%5D%2C%20%5B126.92899112782491%2C%2037.41260755123917%5D%2C%20%5B126.9429122120182%2C%2037.37630880537034%5D%2C%20%5B126.96423328330341%2C%2037.358735102948096%5D%2C%20%5B126.98466887829045%2C%2037.39785909018114%5D%2C%20%5B126.96342494806345%2C%2037.42289846046814%5D%2C%20%5B126.96520439085143%2C%2037.438249784006246%5D%2C%20%5B126.95000001010182%2C%2037.43613451165719%5D%5D%5D%2C%20%22type%22%3A%20%22Polygon%22%7D%2C%20%22properties%22%3A%20%7B%22base_year%22%3A%202013%2C%20%22code%22%3A%2031042%2C%20%22name%22%3A%20%22%5Cuc548%5Cuc591%5Cuc2dc%5Cub3d9%5Cuc548%5Cuad6c%22%2C%20%22name_eng%22%3A%20%22Anyangsidongangu%22%7D%2C%20%22type%22%3A%20%22Feature%22%7D%2C%20%7B%22geometry%22%3A%20%7B%22coordinates%22%3A%20%5B%5B%5B126.93084408056525%2C%2037.447382928333994%5D%2C%20%5B126.9025831711697%2C%2037.434549366349124%5D%2C%20%5B126.879093453746%2C%2037.399239167854816%5D%2C%20%5B126.88400175928666%2C%2037.37340263600163%5D%2C%20%5B126.89932903785872%2C%2037.35524703438324%5D%2C%20%5B126.9163870114383%2C%2037.37253977179312%5D%2C%20%5B126.9429122120182%2C%2037.37630880537034%5D%2C%20%5B126.92899112782491%2C%2037.41260755123917%5D%2C%20%5B126.949527627869%2C%2037.419039331795105%5D%2C%20%5B126.95000001010182%2C%2037.43613451165719%5D%2C%20%5B126.93084408056525%2C%2037.447382928333994%5D%5D%5D%2C%20%22type%22%3A%20%22Polygon%22%7D%2C%20%22properties%22%3A%20%7B%22base_year%22%3A%202013%2C%20%22code%22%3A%2031041%2C%20%22name%22%3A%20%22%5Cuc548%5Cuc591%5Cuc2dc%5Cub9cc%5Cuc548%5Cuad6c%22%2C%20%22name_eng%22%3A%20%22Anyangsimanangu%22%7D%2C%20%22type%22%3A%20%22Feature%22%7D%2C%20%7B%22geometry%22%3A%20%7B%22coordinates%22%3A%20%5B%5B%5B127.10645686970089%2C%2037.776897580693586%5D%2C%20%5B127.05297245855259%2C%2037.75816755994106%5D%2C%20%5B127.02081299427202%2C%2037.76581418787214%5D%2C%20%5B127.00437834122181%2C%2037.75999833868866%5D%2C%20%5B127.00430024727942%2C%2037.73792676357612%5D%2C%20%5B127.01477890845196%2C%2037.722832167524864%5D%2C%20%5B127.01795099203432%2C%2037.69824412775662%5D%2C%20%5B127.05288479710485%2C%2037.68423857084347%5D%2C%20%5B127.0838752703195%2C%2037.69359534202034%5D%2C%20%5B127.12788299600184%2C%2037.72469254066713%5D%2C%20%5B127.13060037316637%2C%2037.74504865443316%5D%2C%20%5B127.14882403466048%2C%2037.75206030443599%5D%2C%20%5B127.14177735342194%2C%2037.76129795333661%5D%2C%20%5B127.10645686970089%2C%2037.776897580693586%5D%5D%5D%2C%20%22type%22%3A%20%22Polygon%22%7D%2C%20%22properties%22%3A%20%7B%22base_year%22%3A%202013%2C%20%22code%22%3A%2031030%2C%20%22name%22%3A%20%22%5Cuc758%5Cuc815%5Cubd80%5Cuc2dc%22%2C%20%22name_eng%22%3A%20%22Uijeongbu-si%22%7D%2C%20%22type%22%3A%20%22Feature%22%7D%2C%20%7B%22geometry%22%3A%20%7B%22coordinates%22%3A%20%5B%5B%5B127.17637586604776%2C%2037.40261052326208%5D%2C%20%5B127.13644513246508%2C%2037.41439912020601%5D%2C%20%5B127.12007310029206%2C%2037.41239460373164%5D%2C%20%5B127.08636547533024%2C%2037.39425612519828%5D%2C%20%5B127.04580444799605%2C%2037.40139072056455%5D%2C%20%5B127.03004539569396%2C%2037.36932312139811%5D%2C%20%5B127.07299151640797%2C%2037.35485426174942%5D%2C%20%5B127.11899182435063%2C%2037.33059044022546%5D%2C%20%5B127.13845652996186%2C%2037.336816804055495%5D%2C%20%5B127.13605700285002%2C%2037.35565614606753%5D%2C%20%5B127.15506886795262%2C%2037.36076173403712%5D%2C%20%5B127.17637586604776%2C%2037.40261052326208%5D%5D%5D%2C%20%22type%22%3A%20%22Polygon%22%7D%2C%20%22properties%22%3A%20%7B%22base_year%22%3A%202013%2C%20%22code%22%3A%2031023%2C%20%22name%22%3A%20%22%5Cuc131%5Cub0a8%5Cuc2dc%5Cubd84%5Cub2f9%5Cuad6c%22%2C%20%22name_eng%22%3A%20%22Seongnamsibundanggu%22%7D%2C%20%22type%22%3A%20%22Feature%22%7D%2C%20%7B%22geometry%22%3A%20%7B%22coordinates%22%3A%20%5B%5B%5B127.17807401290999%2C%2037.46939077799968%5D%2C%20%5B127.1582459546436%2C%2037.44164184148139%5D%2C%20%5B127.12050056435223%2C%2037.429512812695165%5D%2C%20%5B127.12007310029206%2C%2037.41239460373164%5D%2C%20%5B127.13644513246508%2C%2037.41439912020601%5D%2C%20%5B127.17637586604776%2C%2037.40261052326208%5D%2C%20%5B127.19594474070001%2C%2037.421269309284035%5D%2C%20%5B127.19808034941583%2C%2037.441066604883545%5D%2C%20%5B127.1831716097913%2C%2037.47048077053623%5D%2C%20%5B127.17807401290999%2C%2037.46939077799968%5D%5D%5D%2C%20%22type%22%3A%20%22Polygon%22%7D%2C%20%22properties%22%3A%20%7B%22base_year%22%3A%202013%2C%20%22code%22%3A%2031022%2C%20%22name%22%3A%20%22%5Cuc131%5Cub0a8%5Cuc2dc%5Cuc911%5Cuc6d0%5Cuad6c%22%2C%20%22name_eng%22%3A%20%22Seongnamsijungwongu%22%7D%2C%20%22type%22%3A%20%22Feature%22%7D%2C%20%7B%22geometry%22%3A%20%7B%22coordinates%22%3A%20%5B%5B%5B127.17807401290999%2C%2037.46939077799968%5D%2C%20%5B127.14206058413274%2C%2037.47089819098501%5D%2C%20%5B127.12440571080893%2C%2037.46240445587048%5D%2C%20%5B127.09842759318751%2C%2037.45862253857461%5D%2C%20%5B127.09046928565951%2C%2037.44296826114185%5D%2C%20%5B127.06778107605433%2C%2037.426197424057314%5D%2C%20%5B127.04957232987142%2C%2037.42805836845694%5D%2C%20%5B127.04377994345505%2C%2037.41281928664435%5D%2C%20%5B127.04580444799605%2C%2037.40139072056455%5D%2C%20%5B127.08636547533024%2C%2037.39425612519828%5D%2C%20%5B127.12007310029206%2C%2037.41239460373164%5D%2C%20%5B127.12050056435223%2C%2037.429512812695165%5D%2C%20%5B127.1582459546436%2C%2037.44164184148139%5D%2C%20%5B127.17807401290999%2C%2037.46939077799968%5D%5D%5D%2C%20%22type%22%3A%20%22Polygon%22%7D%2C%20%22properties%22%3A%20%7B%22base_year%22%3A%202013%2C%20%22code%22%3A%2031021%2C%20%22name%22%3A%20%22%5Cuc131%5Cub0a8%5Cuc2dc%5Cuc218%5Cuc815%5Cuad6c%22%2C%20%22name_eng%22%3A%20%22Seongnamsisujeonggu%22%7D%2C%20%22type%22%3A%20%22Feature%22%7D%2C%20%7B%22geometry%22%3A%20%7B%22coordinates%22%3A%20%5B%5B%5B127.09199113357242%2C%2037.295585212583866%5D%2C%20%5B127.06269400142102%2C%2037.293755190822594%5D%2C%20%5B127.06304327683587%2C%2037.30610813773979%5D%2C%20%5B127.04202153059128%2C%2037.318511731862884%5D%2C%20%5B127.03603479622558%2C%2037.29037288813064%5D%2C%20%5B127.04615738146016%2C%2037.271876342625866%5D%2C%20%5B127.03877682368464%2C%2037.253688200306506%5D%2C%20%5B127.04178611512381%2C%2037.24066886027782%5D%2C%20%5B127.06878518378286%2C%2037.23731339587258%5D%2C%20%5B127.08680542938673%2C%2037.253775982641194%5D%2C%20%5B127.06718840393803%2C%2037.26860748709257%5D%2C%20%5B127.09104881579566%2C%2037.284308786190785%5D%2C%20%5B127.09199113357242%2C%2037.295585212583866%5D%5D%5D%2C%20%22type%22%3A%20%22Polygon%22%7D%2C%20%22properties%22%3A%20%7B%22base_year%22%3A%202013%2C%20%22code%22%3A%2031014%2C%20%22name%22%3A%20%22%5Cuc218%5Cuc6d0%5Cuc2dc%5Cuc601%5Cud1b5%5Cuad6c%22%2C%20%22name_eng%22%3A%20%22Suwonsiyeongtonggu%22%7D%2C%20%22type%22%3A%20%22Feature%22%7D%2C%20%7B%22geometry%22%3A%20%7B%22coordinates%22%3A%20%5B%5B%5B127.03603479622558%2C%2037.29037288813064%5D%2C%20%5B127.01130838681644%2C%2037.28269167363659%5D%2C%20%5B126.98086459483812%2C%2037.283743689221225%5D%2C%20%5B127.03877682368464%2C%2037.253688200306506%5D%2C%20%5B127.04615738146016%2C%2037.271876342625866%5D%2C%20%5B127.03603479622558%2C%2037.29037288813064%5D%5D%5D%2C%20%22type%22%3A%20%22Polygon%22%7D%2C%20%22properties%22%3A%20%7B%22base_year%22%3A%202013%2C%20%22code%22%3A%2031013%2C%20%22name%22%3A%20%22%5Cuc218%5Cuc6d0%5Cuc2dc%5Cud314%5Cub2ec%5Cuad6c%22%2C%20%22name_eng%22%3A%20%22Suwonsipaldalgu%22%7D%2C%20%22type%22%3A%20%22Feature%22%7D%2C%20%7B%22geometry%22%3A%20%7B%22coordinates%22%3A%20%5B%5B%5B126.96633916587045%2C%2037.29989574204989%5D%2C%20%5B126.93504702033805%2C%2037.3002209928663%5D%2C%20%5B126.92946761531998%2C%2037.275967848758626%5D%2C%20%5B126.93110125729105%2C%2037.260824951129344%5D%2C%20%5B126.95229769733274%2C%2037.2524826245201%5D%2C%20%5B126.97491964707861%2C%2037.22588531228192%5D%2C%20%5B127.02475029106094%2C%2037.22207898080851%5D%2C%20%5B127.04178611512381%2C%2037.24066886027782%5D%2C%20%5B127.03877682368464%2C%2037.253688200306506%5D%2C%20%5B126.98086459483812%2C%2037.283743689221225%5D%2C%20%5B126.96633916587045%2C%2037.29989574204989%5D%5D%5D%2C%20%22type%22%3A%20%22Polygon%22%7D%2C%20%22properties%22%3A%20%7B%22base_year%22%3A%202013%2C%20%22code%22%3A%2031012%2C%20%22name%22%3A%20%22%5Cuc218%5Cuc6d0%5Cuc2dc%5Cuad8c%5Cuc120%5Cuad6c%22%2C%20%22name_eng%22%3A%20%22Suwonsigwonseongu%22%7D%2C%20%22type%22%3A%20%22Feature%22%7D%2C%20%7B%22geometry%22%3A%20%7B%22coordinates%22%3A%20%5B%5B%5B127.02090967499298%2C%2037.348741503905366%5D%2C%20%5B126.98303616696394%2C%2037.32376927812144%5D%2C%20%5B126.96633916587045%2C%2037.29989574204989%5D%2C%20%5B126.98086459483812%2C%2037.283743689221225%5D%2C%20%5B127.01130838681644%2C%2037.28269167363659%5D%2C%20%5B127.03603479622558%2C%2037.29037288813064%5D%2C%20%5B127.04202153059128%2C%2037.318511731862884%5D%2C%20%5B127.03554038078946%2C%2037.341941908872045%5D%2C%20%5B127.02090967499298%2C%2037.348741503905366%5D%5D%5D%2C%20%22type%22%3A%20%22Polygon%22%7D%2C%20%22properties%22%3A%20%7B%22base_year%22%3A%202013%2C%20%22code%22%3A%2031011%2C%20%22name%22%3A%20%22%5Cuc218%5Cuc6d0%5Cuc2dc%5Cuc7a5%5Cuc548%5Cuad6c%22%2C%20%22name_eng%22%3A%20%22Suwonsijangangu%22%7D%2C%20%22type%22%3A%20%22Feature%22%7D%5D%2C%20%22type%22%3A%20%22FeatureCollection%22%7D%29%3B%0A%0A%20%20%20%20%20%20%20%20%0A%20%20%20%20%0A%20%20%20%20geo_json_ff9df7f3672b47cf9e9a3ee8066f991f.bindTooltip%28%0A%20%20%20%20function%28layer%29%7B%0A%20%20%20%20let%20div%20%3D%20L.DomUtil.create%28%27div%27%29%3B%0A%20%20%20%20%0A%20%20%20%20let%20handleObject%20%3D%20feature%3D%3Etypeof%28feature%29%3D%3D%27object%27%20%3F%20JSON.stringify%28feature%29%20%3A%20feature%3B%0A%20%20%20%20let%20fields%20%3D%20%5B%22name%22%5D%3B%0A%20%20%20%20let%20aliases%20%3D%20%5B%22name%22%5D%3B%0A%20%20%20%20let%20table%20%3D%20%27%3Ctable%3E%27%20%2B%0A%20%20%20%20%20%20%20%20String%28%0A%20%20%20%20%20%20%20%20fields.map%28%0A%20%20%20%20%20%20%20%20%28v%2Ci%29%3D%3E%0A%20%20%20%20%20%20%20%20%60%3Ctr%3E%0A%20%20%20%20%20%20%20%20%20%20%20%20%3Ctd%3E%24%7BhandleObject%28layer.feature.properties%5Bv%5D%29%7D%3C/td%3E%0A%20%20%20%20%20%20%20%20%3C/tr%3E%60%29.join%28%27%27%29%29%0A%20%20%20%20%2B%27%3C/table%3E%27%3B%0A%20%20%20%20div.innerHTML%3Dtable%3B%0A%20%20%20%20%0A%20%20%20%20return%20div%0A%20%20%20%20%7D%0A%20%20%20%20%2C%7B%22className%22%3A%20%22foliumtooltip%22%2C%20%22sticky%22%3A%20true%7D%29%3B%0A%20%20%20%20%20%20%20%20%20%20%20%20%20%20%20%20%20%20%20%20%20%0A%20%20%20%20%0A%20%20%20%20var%20color_map_b77e1de68f014d95afb697afbafbf7b3%20%3D%20%7B%7D%3B%0A%0A%20%20%20%20%0A%20%20%20%20color_map_b77e1de68f014d95afb697afbafbf7b3.color%20%3D%20d3.scale.threshold%28%29%0A%20%20%20%20%20%20%20%20%20%20%20%20%20%20.domain%28%5B10000.0%2C%2011382.765531062125%2C%2012765.531062124248%2C%2014148.296593186373%2C%2015531.062124248496%2C%2016913.827655310623%2C%2018296.593186372746%2C%2019679.358717434872%2C%2021062.12424849699%2C%2022444.88977955912%2C%2023827.655310621245%2C%2025210.420841683364%2C%2026593.18637274549%2C%2027975.951903807614%2C%2029358.71743486974%2C%2030741.482965931864%2C%2032124.248496993987%2C%2033507.01402805612%2C%2034889.77955911824%2C%2036272.545090180356%2C%2037655.31062124249%2C%2039038.07615230461%2C%2040420.84168336673%2C%2041803.60721442886%2C%2043186.37274549098%2C%2044569.13827655311%2C%2045951.90380761523%2C%2047334.669338677355%2C%2048717.43486973948%2C%2050100.2004008016%2C%2051482.96593186373%2C%2052865.731462925854%2C%2054248.496993987974%2C%2055631.2625250501%2C%2057014.02805611223%2C%2058396.79358717435%2C%2059779.55911823647%2C%2061162.3246492986%2C%2062545.09018036072%2C%2063927.855711422846%2C%2065310.62124248497%2C%2066693.3867735471%2C%2068076.15230460922%2C%2069458.91783567134%2C%2070841.68336673346%2C%2072224.44889779559%2C%2073607.21442885773%2C%2074989.97995991984%2C%2076372.74549098196%2C%2077755.51102204408%2C%2079138.27655310622%2C%2080521.04208416834%2C%2081903.80761523046%2C%2083286.57314629259%2C%2084669.33867735471%2C%2086052.10420841683%2C%2087434.86973947896%2C%2088817.63527054108%2C%2090200.4008016032%2C%2091583.16633266534%2C%2092965.93186372746%2C%2094348.69739478957%2C%2095731.46292585171%2C%2097114.22845691383%2C%2098496.99398797595%2C%2099879.75951903808%2C%20101262.5250501002%2C%20102645.29058116232%2C%20104028.05611222445%2C%20105410.82164328657%2C%20106793.5871743487%2C%20108176.35270541083%2C%20109559.11823647295%2C%20110941.88376753507%2C%20112324.6492985972%2C%20113707.41482965932%2C%20115090.18036072144%2C%20116472.94589178357%2C%20117855.71142284569%2C%20119238.47695390781%2C%20120621.24248496995%2C%20122004.00801603206%2C%20123386.77354709418%2C%20124769.53907815632%2C%20126152.30460921844%2C%20127535.07014028056%2C%20128917.83567134269%2C%20130300.60120240481%2C%20131683.36673346692%2C%20133066.13226452906%2C%20134448.89779559118%2C%20135831.6633266533%2C%20137214.42885771545%2C%20138597.19438877754%2C%20139979.9599198397%2C%20141362.7254509018%2C%20142745.49098196393%2C%20144128.25651302605%2C%20145511.02204408817%2C%20146893.7875751503%2C%20148276.55310621244%2C%20149659.31863727455%2C%20151042.08416833667%2C%20152424.8496993988%2C%20153807.6152304609%2C%20155190.38076152303%2C%20156573.14629258518%2C%20157955.9118236473%2C%20159338.67735470942%2C%20160721.44288577154%2C%20162104.20841683366%2C%20163486.97394789578%2C%20164869.73947895793%2C%20166252.50501002005%2C%20167635.27054108217%2C%20169018.03607214428%2C%20170400.8016032064%2C%20171783.56713426852%2C%20173166.33266533067%2C%20174549.0981963928%2C%20175931.8637274549%2C%20177314.62925851703%2C%20178697.39478957915%2C%20180080.16032064127%2C%20181462.92585170342%2C%20182845.69138276554%2C%20184228.45691382766%2C%20185611.22244488978%2C%20186993.9879759519%2C%20188376.75350701401%2C%20189759.51903807616%2C%20191142.28456913828%2C%20192525.0501002004%2C%20193907.81563126252%2C%20195290.58116232464%2C%20196673.34669338676%2C%20198056.1122244489%2C%20199438.87775551103%2C%20200821.64328657315%2C%20202204.40881763527%2C%20203587.1743486974%2C%20204969.9398797595%2C%20206352.70541082165%2C%20207735.47094188377%2C%20209118.2364729459%2C%20210501.002004008%2C%20211883.76753507013%2C%20213266.53306613225%2C%20214649.2985971944%2C%20216032.06412825652%2C%20217414.82965931864%2C%20218797.59519038076%2C%20220180.36072144288%2C%20221563.126252505%2C%20222945.89178356715%2C%20224328.65731462926%2C%20225711.42284569138%2C%20227094.1883767535%2C%20228476.95390781562%2C%20229859.71943887774%2C%20231242.4849699399%2C%20232625.250501002%2C%20234008.01603206413%2C%20235390.78156312625%2C%20236773.54709418837%2C%20238156.3126252505%2C%20239539.07815631264%2C%20240921.84368737476%2C%20242304.60921843688%2C%20243687.374749499%2C%20245070.1402805611%2C%20246452.90581162323%2C%20247835.67134268538%2C%20249218.4368737475%2C%20250601.20240480962%2C%20251983.96793587174%2C%20253366.73346693386%2C%20254749.49899799598%2C%20256132.26452905813%2C%20257515.03006012025%2C%20258897.79559118237%2C%20260280.5611222445%2C%20261663.3266533066%2C%20263046.09218436875%2C%20264428.8577154309%2C%20265811.623246493%2C%20267194.3887775551%2C%20268577.15430861723%2C%20269959.9198396794%2C%20271342.68537074147%2C%20272725.4509018036%2C%20274108.2164328657%2C%20275490.98196392786%2C%20276873.74749499%2C%20278256.5130260521%2C%20279639.27855711424%2C%20281022.04408817634%2C%20282404.8096192385%2C%20283787.5751503006%2C%20285170.3406813627%2C%20286553.1062124249%2C%20287935.87174348696%2C%20289318.6372745491%2C%20290701.4028056112%2C%20292084.16833667335%2C%20293466.9338677355%2C%20294849.6993987976%2C%20296232.46492985974%2C%20297615.2304609218%2C%20298997.995991984%2C%20300380.76152304607%2C%20301763.5270541082%2C%20303146.29258517036%2C%20304529.05811623245%2C%20305911.8236472946%2C%20307294.5891783567%2C%20308677.35470941884%2C%20310060.120240481%2C%20311442.8857715431%2C%20312825.6513026052%2C%20314208.4168336673%2C%20315591.18236472947%2C%20316973.94789579156%2C%20318356.7134268537%2C%20319739.47895791585%2C%20321122.24448897794%2C%20322505.0100200401%2C%20323887.7755511022%2C%20325270.54108216433%2C%20326653.3066132265%2C%20328036.07214428857%2C%20329418.8376753507%2C%20330801.6032064128%2C%20332184.36873747496%2C%20333567.13426853705%2C%20334949.8997995992%2C%20336332.66533066134%2C%20337715.43086172343%2C%20339098.1963927856%2C%20340480.9619238477%2C%20341863.7274549098%2C%20343246.49298597197%2C%20344629.25851703406%2C%20346012.0240480962%2C%20347394.7895791583%2C%20348777.55511022045%2C%20350160.32064128254%2C%20351543.0861723447%2C%20352925.85170340684%2C%20354308.6172344689%2C%20355691.3827655311%2C%20357074.14829659316%2C%20358456.9138276553%2C%20359839.67935871746%2C%20361222.44488977955%2C%20362605.2104208417%2C%20363987.9759519038%2C%20365370.74148296594%2C%20366753.50701402803%2C%20368136.2725450902%2C%20369519.0380761523%2C%20370901.8036072144%2C%20372284.56913827657%2C%20373667.33466933866%2C%20375050.1002004008%2C%20376432.86573146295%2C%20377815.63126252504%2C%20379198.3967935872%2C%20380581.1623246493%2C%20381963.92785571143%2C%20383346.6933867735%2C%20384729.45891783567%2C%20386112.2244488978%2C%20387494.9899799599%2C%20388877.75551102206%2C%20390260.52104208415%2C%20391643.2865731463%2C%20393026.05210420844%2C%20394408.81763527053%2C%20395791.5831663327%2C%20397174.3486973948%2C%20398557.1142284569%2C%20399939.879759519%2C%20401322.64529058116%2C%20402705.4108216433%2C%20404088.1763527054%2C%20405470.94188376755%2C%20406853.70741482964%2C%20408236.4729458918%2C%20409619.23847695393%2C%20411002.004008016%2C%20412384.7695390782%2C%20413767.53507014026%2C%20415150.3006012024%2C%20416533.0661322645%2C%20417915.83166332665%2C%20419298.5971943888%2C%20420681.3627254509%2C%20422064.12825651304%2C%20423446.8937875751%2C%20424829.6593186373%2C%20426212.4248496994%2C%20427595.1903807615%2C%20428977.95591182366%2C%20430360.72144288576%2C%20431743.4869739479%2C%20433126.25250501%2C%20434509.01803607214%2C%20435891.7835671343%2C%20437274.5490981964%2C%20438657.31462925853%2C%20440040.0801603206%2C%20441422.84569138277%2C%20442805.6112224449%2C%20444188.376753507%2C%20445571.14228456916%2C%20446953.90781563125%2C%20448336.6733466934%2C%20449719.4388777555%2C%20451102.20440881763%2C%20452484.9699398798%2C%20453867.7354709419%2C%20455250.501002004%2C%20456633.2665330661%2C%20458016.03206412826%2C%20459398.7975951904%2C%20460781.5631262525%2C%20462164.32865731465%2C%20463547.09418837674%2C%20464929.8597194389%2C%20466312.625250501%2C%20467695.3907815631%2C%20469078.1563126253%2C%20470460.92184368736%2C%20471843.6873747495%2C%20473226.4529058116%2C%20474609.21843687375%2C%20475991.9839679359%2C%20477374.749498998%2C%20478757.51503006014%2C%20480140.2805611222%2C%20481523.0460921844%2C%20482905.81162324647%2C%20484288.5771543086%2C%20485671.34268537076%2C%20487054.10821643285%2C%20488436.873747495%2C%20489819.6392785571%2C%20491202.40480961924%2C%20492585.1703406814%2C%20493967.9358717435%2C%20495350.70140280563%2C%20496733.4669338677%2C%20498116.23246492987%2C%20499498.99799599196%2C%20500881.7635270541%2C%20502264.52905811626%2C%20503647.29458917835%2C%20505030.0601202405%2C%20506412.8256513026%2C%20507795.59118236473%2C%20509178.3567134269%2C%20510561.122244489%2C%20511943.8877755511%2C%20513326.6533066132%2C%20514709.41883767536%2C%20516092.18436873745%2C%20517474.9498997996%2C%20518857.71543086175%2C%20520240.48096192384%2C%20521623.246492986%2C%20523006.0120240481%2C%20524388.7775551102%2C%20525771.5430861723%2C%20527154.3086172345%2C%20528537.0741482966%2C%20529919.8396793588%2C%20531302.6052104209%2C%20532685.3707414829%2C%20534068.1362725451%2C%20535450.9018036072%2C%20536833.6673346694%2C%20538216.4328657314%2C%20539599.1983967936%2C%20540981.9639278557%2C%20542364.7294589179%2C%20543747.49498998%2C%20545130.260521042%2C%20546513.0260521042%2C%20547895.7915831663%2C%20549278.5571142285%2C%20550661.3226452906%2C%20552044.0881763527%2C%20553426.8537074148%2C%20554809.619238477%2C%20556192.3847695391%2C%20557575.1503006011%2C%20558957.9158316633%2C%20560340.6813627254%2C%20561723.4468937876%2C%20563106.2124248497%2C%20564488.9779559118%2C%20565871.7434869739%2C%20567254.5090180361%2C%20568637.2745490982%2C%20570020.0400801604%2C%20571402.8056112224%2C%20572785.5711422845%2C%20574168.3366733467%2C%20575551.1022044088%2C%20576933.867735471%2C%20578316.633266533%2C%20579699.3987975952%2C%20581082.1643286573%2C%20582464.9298597195%2C%20583847.6953907816%2C%20585230.4609218437%2C%20586613.2264529058%2C%20587995.991983968%2C%20589378.7575150301%2C%20590761.5230460921%2C%20592144.2885771543%2C%20593527.0541082164%2C%20594909.8196392786%2C%20596292.5851703407%2C%20597675.3507014028%2C%20599058.1162324649%2C%20600440.881763527%2C%20601823.6472945892%2C%20603206.4128256514%2C%20604589.1783567134%2C%20605971.9438877755%2C%20607354.7094188377%2C%20608737.4749498998%2C%20610120.240480962%2C%20611503.006012024%2C%20612885.7715430862%2C%20614268.5370741483%2C%20615651.3026052105%2C%20617034.0681362726%2C%20618416.8336673346%2C%20619799.5991983968%2C%20621182.3647294589%2C%20622565.1302605211%2C%20623947.8957915831%2C%20625330.6613226453%2C%20626713.4268537074%2C%20628096.1923847696%2C%20629478.9579158317%2C%20630861.7234468937%2C%20632244.4889779559%2C%20633627.254509018%2C%20635010.0200400802%2C%20636392.7855711423%2C%20637775.5511022044%2C%20639158.3166332665%2C%20640541.0821643287%2C%20641923.8476953908%2C%20643306.613226453%2C%20644689.378757515%2C%20646072.1442885771%2C%20647454.9098196393%2C%20648837.6753507014%2C%20650220.4408817636%2C%20651603.2064128256%2C%20652985.9719438878%2C%20654368.7374749499%2C%20655751.5030060121%2C%20657134.2685370741%2C%20658517.0340681362%2C%20659899.7995991984%2C%20661282.5651302605%2C%20662665.3306613227%2C%20664048.0961923847%2C%20665430.8617234469%2C%20666813.627254509%2C%20668196.3927855712%2C%20669579.1583166333%2C%20670961.9238476953%2C%20672344.6893787575%2C%20673727.4549098196%2C%20675110.2204408818%2C%20676492.9859719439%2C%20677875.751503006%2C%20679258.5170340681%2C%20680641.2825651303%2C%20682024.0480961924%2C%20683406.8136272546%2C%20684789.5791583166%2C%20686172.3446893787%2C%20687555.1102204409%2C%20688937.875751503%2C%20690320.6412825651%2C%20691703.4068136272%2C%20693086.1723446894%2C%20694468.9378757515%2C%20695851.7034068137%2C%20697234.4689378757%2C%20698617.2344689379%2C%20700000.0%5D%29%0A%20%20%20%20%20%20%20%20%20%20%20%20%20%20.range%28%5B%27%23ffffb2ff%27%2C%20%27%23ffffb2ff%27%2C%20%27%23ffffb2ff%27%2C%20%27%23ffffb2ff%27%2C%20%27%23ffffb2ff%27%2C%20%27%23ffffb2ff%27%2C%20%27%23ffffb2ff%27%2C%20%27%23ffffb2ff%27%2C%20%27%23ffffb2ff%27%2C%20%27%23ffffb2ff%27%2C%20%27%23ffffb2ff%27%2C%20%27%23ffffb2ff%27%2C%20%27%23ffffb2ff%27%2C%20%27%23ffffb2ff%27%2C%20%27%23ffffb2ff%27%2C%20%27%23ffffb2ff%27%2C%20%27%23ffffb2ff%27%2C%20%27%23ffffb2ff%27%2C%20%27%23ffffb2ff%27%2C%20%27%23ffffb2ff%27%2C%20%27%23ffffb2ff%27%2C%20%27%23ffffb2ff%27%2C%20%27%23ffffb2ff%27%2C%20%27%23ffffb2ff%27%2C%20%27%23ffffb2ff%27%2C%20%27%23ffffb2ff%27%2C%20%27%23ffffb2ff%27%2C%20%27%23ffffb2ff%27%2C%20%27%23ffffb2ff%27%2C%20%27%23ffffb2ff%27%2C%20%27%23ffffb2ff%27%2C%20%27%23ffffb2ff%27%2C%20%27%23ffffb2ff%27%2C%20%27%23ffffb2ff%27%2C%20%27%23ffffb2ff%27%2C%20%27%23ffffb2ff%27%2C%20%27%23ffffb2ff%27%2C%20%27%23ffffb2ff%27%2C%20%27%23ffffb2ff%27%2C%20%27%23ffffb2ff%27%2C%20%27%23ffffb2ff%27%2C%20%27%23ffffb2ff%27%2C%20%27%23ffffb2ff%27%2C%20%27%23ffffb2ff%27%2C%20%27%23ffffb2ff%27%2C%20%27%23ffffb2ff%27%2C%20%27%23ffffb2ff%27%2C%20%27%23ffffb2ff%27%2C%20%27%23ffffb2ff%27%2C%20%27%23ffffb2ff%27%2C%20%27%23ffffb2ff%27%2C%20%27%23ffffb2ff%27%2C%20%27%23ffffb2ff%27%2C%20%27%23ffffb2ff%27%2C%20%27%23ffffb2ff%27%2C%20%27%23ffffb2ff%27%2C%20%27%23ffffb2ff%27%2C%20%27%23ffffb2ff%27%2C%20%27%23ffffb2ff%27%2C%20%27%23ffffb2ff%27%2C%20%27%23ffffb2ff%27%2C%20%27%23ffffb2ff%27%2C%20%27%23ffffb2ff%27%2C%20%27%23ffffb2ff%27%2C%20%27%23ffffb2ff%27%2C%20%27%23ffffb2ff%27%2C%20%27%23fecc5cff%27%2C%20%27%23fecc5cff%27%2C%20%27%23fecc5cff%27%2C%20%27%23fecc5cff%27%2C%20%27%23fecc5cff%27%2C%20%27%23fecc5cff%27%2C%20%27%23fecc5cff%27%2C%20%27%23fecc5cff%27%2C%20%27%23fecc5cff%27%2C%20%27%23fecc5cff%27%2C%20%27%23fecc5cff%27%2C%20%27%23fecc5cff%27%2C%20%27%23fecc5cff%27%2C%20%27%23fecc5cff%27%2C%20%27%23fecc5cff%27%2C%20%27%23fecc5cff%27%2C%20%27%23fecc5cff%27%2C%20%27%23fecc5cff%27%2C%20%27%23fecc5cff%27%2C%20%27%23fecc5cff%27%2C%20%27%23fecc5cff%27%2C%20%27%23fecc5cff%27%2C%20%27%23fecc5cff%27%2C%20%27%23fecc5cff%27%2C%20%27%23fecc5cff%27%2C%20%27%23fecc5cff%27%2C%20%27%23fecc5cff%27%2C%20%27%23fecc5cff%27%2C%20%27%23fecc5cff%27%2C%20%27%23fecc5cff%27%2C%20%27%23fecc5cff%27%2C%20%27%23fecc5cff%27%2C%20%27%23fecc5cff%27%2C%20%27%23fecc5cff%27%2C%20%27%23fecc5cff%27%2C%20%27%23fecc5cff%27%2C%20%27%23fecc5cff%27%2C%20%27%23fecc5cff%27%2C%20%27%23fecc5cff%27%2C%20%27%23fecc5cff%27%2C%20%27%23fecc5cff%27%2C%20%27%23fecc5cff%27%2C%20%27%23fecc5cff%27%2C%20%27%23fecc5cff%27%2C%20%27%23fecc5cff%27%2C%20%27%23fecc5cff%27%2C%20%27%23fecc5cff%27%2C%20%27%23fecc5cff%27%2C%20%27%23fecc5cff%27%2C%20%27%23fecc5cff%27%2C%20%27%23fecc5cff%27%2C%20%27%23fecc5cff%27%2C%20%27%23fecc5cff%27%2C%20%27%23fecc5cff%27%2C%20%27%23fecc5cff%27%2C%20%27%23fecc5cff%27%2C%20%27%23fecc5cff%27%2C%20%27%23fecc5cff%27%2C%20%27%23fecc5cff%27%2C%20%27%23fecc5cff%27%2C%20%27%23fecc5cff%27%2C%20%27%23fecc5cff%27%2C%20%27%23fecc5cff%27%2C%20%27%23fecc5cff%27%2C%20%27%23fecc5cff%27%2C%20%27%23fecc5cff%27%2C%20%27%23fecc5cff%27%2C%20%27%23fecc5cff%27%2C%20%27%23fecc5cff%27%2C%20%27%23fecc5cff%27%2C%20%27%23fecc5cff%27%2C%20%27%23fecc5cff%27%2C%20%27%23fecc5cff%27%2C%20%27%23fecc5cff%27%2C%20%27%23fecc5cff%27%2C%20%27%23fecc5cff%27%2C%20%27%23fecc5cff%27%2C%20%27%23fecc5cff%27%2C%20%27%23fecc5cff%27%2C%20%27%23fecc5cff%27%2C%20%27%23fecc5cff%27%2C%20%27%23fecc5cff%27%2C%20%27%23fecc5cff%27%2C%20%27%23fecc5cff%27%2C%20%27%23fecc5cff%27%2C%20%27%23fecc5cff%27%2C%20%27%23fecc5cff%27%2C%20%27%23fecc5cff%27%2C%20%27%23fecc5cff%27%2C%20%27%23fecc5cff%27%2C%20%27%23fecc5cff%27%2C%20%27%23fecc5cff%27%2C%20%27%23fecc5cff%27%2C%20%27%23fecc5cff%27%2C%20%27%23fecc5cff%27%2C%20%27%23fecc5cff%27%2C%20%27%23fecc5cff%27%2C%20%27%23fecc5cff%27%2C%20%27%23fecc5cff%27%2C%20%27%23fecc5cff%27%2C%20%27%23fecc5cff%27%2C%20%27%23fecc5cff%27%2C%20%27%23fecc5cff%27%2C%20%27%23fecc5cff%27%2C%20%27%23fecc5cff%27%2C%20%27%23fecc5cff%27%2C%20%27%23fecc5cff%27%2C%20%27%23fecc5cff%27%2C%20%27%23fecc5cff%27%2C%20%27%23fecc5cff%27%2C%20%27%23fecc5cff%27%2C%20%27%23fecc5cff%27%2C%20%27%23fecc5cff%27%2C%20%27%23fecc5cff%27%2C%20%27%23fecc5cff%27%2C%20%27%23fecc5cff%27%2C%20%27%23fecc5cff%27%2C%20%27%23fecc5cff%27%2C%20%27%23fecc5cff%27%2C%20%27%23fecc5cff%27%2C%20%27%23fecc5cff%27%2C%20%27%23fecc5cff%27%2C%20%27%23fecc5cff%27%2C%20%27%23fecc5cff%27%2C%20%27%23fecc5cff%27%2C%20%27%23fecc5cff%27%2C%20%27%23fecc5cff%27%2C%20%27%23fecc5cff%27%2C%20%27%23fecc5cff%27%2C%20%27%23fecc5cff%27%2C%20%27%23fecc5cff%27%2C%20%27%23fecc5cff%27%2C%20%27%23fecc5cff%27%2C%20%27%23fecc5cff%27%2C%20%27%23fecc5cff%27%2C%20%27%23fecc5cff%27%2C%20%27%23fecc5cff%27%2C%20%27%23fecc5cff%27%2C%20%27%23fecc5cff%27%2C%20%27%23fecc5cff%27%2C%20%27%23fecc5cff%27%2C%20%27%23fecc5cff%27%2C%20%27%23fecc5cff%27%2C%20%27%23fecc5cff%27%2C%20%27%23fd8d3cff%27%2C%20%27%23fd8d3cff%27%2C%20%27%23fd8d3cff%27%2C%20%27%23fd8d3cff%27%2C%20%27%23fd8d3cff%27%2C%20%27%23fd8d3cff%27%2C%20%27%23fd8d3cff%27%2C%20%27%23fd8d3cff%27%2C%20%27%23fd8d3cff%27%2C%20%27%23fd8d3cff%27%2C%20%27%23fd8d3cff%27%2C%20%27%23fd8d3cff%27%2C%20%27%23fd8d3cff%27%2C%20%27%23fd8d3cff%27%2C%20%27%23fd8d3cff%27%2C%20%27%23fd8d3cff%27%2C%20%27%23fd8d3cff%27%2C%20%27%23fd8d3cff%27%2C%20%27%23fd8d3cff%27%2C%20%27%23fd8d3cff%27%2C%20%27%23fd8d3cff%27%2C%20%27%23fd8d3cff%27%2C%20%27%23fd8d3cff%27%2C%20%27%23fd8d3cff%27%2C%20%27%23fd8d3cff%27%2C%20%27%23fd8d3cff%27%2C%20%27%23fd8d3cff%27%2C%20%27%23fd8d3cff%27%2C%20%27%23fd8d3cff%27%2C%20%27%23fd8d3cff%27%2C%20%27%23fd8d3cff%27%2C%20%27%23fd8d3cff%27%2C%20%27%23fd8d3cff%27%2C%20%27%23fd8d3cff%27%2C%20%27%23fd8d3cff%27%2C%20%27%23fd8d3cff%27%2C%20%27%23fd8d3cff%27%2C%20%27%23fd8d3cff%27%2C%20%27%23fd8d3cff%27%2C%20%27%23fd8d3cff%27%2C%20%27%23fd8d3cff%27%2C%20%27%23fd8d3cff%27%2C%20%27%23fd8d3cff%27%2C%20%27%23fd8d3cff%27%2C%20%27%23fd8d3cff%27%2C%20%27%23fd8d3cff%27%2C%20%27%23fd8d3cff%27%2C%20%27%23fd8d3cff%27%2C%20%27%23fd8d3cff%27%2C%20%27%23fd8d3cff%27%2C%20%27%23fd8d3cff%27%2C%20%27%23fd8d3cff%27%2C%20%27%23fd8d3cff%27%2C%20%27%23fd8d3cff%27%2C%20%27%23fd8d3cff%27%2C%20%27%23fd8d3cff%27%2C%20%27%23fd8d3cff%27%2C%20%27%23fd8d3cff%27%2C%20%27%23fd8d3cff%27%2C%20%27%23fd8d3cff%27%2C%20%27%23fd8d3cff%27%2C%20%27%23fd8d3cff%27%2C%20%27%23fd8d3cff%27%2C%20%27%23fd8d3cff%27%2C%20%27%23fd8d3cff%27%2C%20%27%23fd8d3cff%27%2C%20%27%23fd8d3cff%27%2C%20%27%23fd8d3cff%27%2C%20%27%23fd8d3cff%27%2C%20%27%23fd8d3cff%27%2C%20%27%23fd8d3cff%27%2C%20%27%23fd8d3cff%27%2C%20%27%23fd8d3cff%27%2C%20%27%23fd8d3cff%27%2C%20%27%23fd8d3cff%27%2C%20%27%23fd8d3cff%27%2C%20%27%23fd8d3cff%27%2C%20%27%23fd8d3cff%27%2C%20%27%23fd8d3cff%27%2C%20%27%23fd8d3cff%27%2C%20%27%23fd8d3cff%27%2C%20%27%23fd8d3cff%27%2C%20%27%23fd8d3cff%27%2C%20%27%23fd8d3cff%27%2C%20%27%23fd8d3cff%27%2C%20%27%23fd8d3cff%27%2C%20%27%23fd8d3cff%27%2C%20%27%23fd8d3cff%27%2C%20%27%23fd8d3cff%27%2C%20%27%23fd8d3cff%27%2C%20%27%23fd8d3cff%27%2C%20%27%23fd8d3cff%27%2C%20%27%23fd8d3cff%27%2C%20%27%23fd8d3cff%27%2C%20%27%23fd8d3cff%27%2C%20%27%23fd8d3cff%27%2C%20%27%23fd8d3cff%27%2C%20%27%23fd8d3cff%27%2C%20%27%23fd8d3cff%27%2C%20%27%23fd8d3cff%27%2C%20%27%23fd8d3cff%27%2C%20%27%23fd8d3cff%27%2C%20%27%23fd8d3cff%27%2C%20%27%23fd8d3cff%27%2C%20%27%23fd8d3cff%27%2C%20%27%23fd8d3cff%27%2C%20%27%23fd8d3cff%27%2C%20%27%23fd8d3cff%27%2C%20%27%23fd8d3cff%27%2C%20%27%23fd8d3cff%27%2C%20%27%23fd8d3cff%27%2C%20%27%23fd8d3cff%27%2C%20%27%23fd8d3cff%27%2C%20%27%23fd8d3cff%27%2C%20%27%23fd8d3cff%27%2C%20%27%23fd8d3cff%27%2C%20%27%23fd8d3cff%27%2C%20%27%23fd8d3cff%27%2C%20%27%23fd8d3cff%27%2C%20%27%23fd8d3cff%27%2C%20%27%23fd8d3cff%27%2C%20%27%23fd8d3cff%27%2C%20%27%23fd8d3cff%27%2C%20%27%23fd8d3cff%27%2C%20%27%23fd8d3cff%27%2C%20%27%23fd8d3cff%27%2C%20%27%23fd8d3cff%27%2C%20%27%23fd8d3cff%27%2C%20%27%23fd8d3cff%27%2C%20%27%23fd8d3cff%27%2C%20%27%23fd8d3cff%27%2C%20%27%23fd8d3cff%27%2C%20%27%23fd8d3cff%27%2C%20%27%23fd8d3cff%27%2C%20%27%23fd8d3cff%27%2C%20%27%23fd8d3cff%27%2C%20%27%23fd8d3cff%27%2C%20%27%23fd8d3cff%27%2C%20%27%23fd8d3cff%27%2C%20%27%23fd8d3cff%27%2C%20%27%23fd8d3cff%27%2C%20%27%23fd8d3cff%27%2C%20%27%23fd8d3cff%27%2C%20%27%23fd8d3cff%27%2C%20%27%23fd8d3cff%27%2C%20%27%23e31a1cff%27%2C%20%27%23e31a1cff%27%2C%20%27%23e31a1cff%27%2C%20%27%23e31a1cff%27%2C%20%27%23e31a1cff%27%2C%20%27%23e31a1cff%27%2C%20%27%23e31a1cff%27%2C%20%27%23e31a1cff%27%2C%20%27%23e31a1cff%27%2C%20%27%23e31a1cff%27%2C%20%27%23e31a1cff%27%2C%20%27%23e31a1cff%27%2C%20%27%23e31a1cff%27%2C%20%27%23e31a1cff%27%2C%20%27%23e31a1cff%27%2C%20%27%23e31a1cff%27%2C%20%27%23e31a1cff%27%2C%20%27%23e31a1cff%27%2C%20%27%23e31a1cff%27%2C%20%27%23e31a1cff%27%2C%20%27%23e31a1cff%27%2C%20%27%23e31a1cff%27%2C%20%27%23e31a1cff%27%2C%20%27%23e31a1cff%27%2C%20%27%23e31a1cff%27%2C%20%27%23e31a1cff%27%2C%20%27%23e31a1cff%27%2C%20%27%23e31a1cff%27%2C%20%27%23e31a1cff%27%2C%20%27%23e31a1cff%27%2C%20%27%23e31a1cff%27%2C%20%27%23e31a1cff%27%2C%20%27%23e31a1cff%27%2C%20%27%23e31a1cff%27%2C%20%27%23e31a1cff%27%2C%20%27%23e31a1cff%27%2C%20%27%23e31a1cff%27%2C%20%27%23e31a1cff%27%2C%20%27%23e31a1cff%27%2C%20%27%23e31a1cff%27%2C%20%27%23e31a1cff%27%2C%20%27%23e31a1cff%27%2C%20%27%23e31a1cff%27%2C%20%27%23e31a1cff%27%2C%20%27%23e31a1cff%27%2C%20%27%23e31a1cff%27%2C%20%27%23e31a1cff%27%2C%20%27%23e31a1cff%27%2C%20%27%23e31a1cff%27%2C%20%27%23e31a1cff%27%2C%20%27%23e31a1cff%27%2C%20%27%23e31a1cff%27%2C%20%27%23e31a1cff%27%2C%20%27%23e31a1cff%27%2C%20%27%23e31a1cff%27%2C%20%27%23e31a1cff%27%2C%20%27%23e31a1cff%27%2C%20%27%23e31a1cff%27%2C%20%27%23e31a1cff%27%2C%20%27%23e31a1cff%27%2C%20%27%23e31a1cff%27%2C%20%27%23e31a1cff%27%2C%20%27%23e31a1cff%27%2C%20%27%23e31a1cff%27%2C%20%27%23e31a1cff%27%2C%20%27%23e31a1cff%27%2C%20%27%23e31a1cff%27%2C%20%27%23e31a1cff%27%2C%20%27%23e31a1cff%27%2C%20%27%23e31a1cff%27%2C%20%27%23e31a1cff%27%2C%20%27%23e31a1cff%27%2C%20%27%23e31a1cff%27%2C%20%27%23e31a1cff%27%2C%20%27%23e31a1cff%27%2C%20%27%23e31a1cff%27%2C%20%27%23e31a1cff%27%2C%20%27%23e31a1cff%27%2C%20%27%23e31a1cff%27%2C%20%27%23e31a1cff%27%2C%20%27%23e31a1cff%27%2C%20%27%23e31a1cff%27%2C%20%27%23e31a1cff%27%2C%20%27%23e31a1cff%27%2C%20%27%23e31a1cff%27%2C%20%27%23e31a1cff%27%2C%20%27%23e31a1cff%27%2C%20%27%23e31a1cff%27%2C%20%27%23e31a1cff%27%2C%20%27%23e31a1cff%27%2C%20%27%23e31a1cff%27%2C%20%27%23e31a1cff%27%2C%20%27%23e31a1cff%27%2C%20%27%23e31a1cff%27%2C%20%27%23e31a1cff%27%2C%20%27%23e31a1cff%27%2C%20%27%23e31a1cff%27%2C%20%27%23e31a1cff%27%2C%20%27%23e31a1cff%27%2C%20%27%23e31a1cff%27%2C%20%27%23e31a1cff%27%2C%20%27%23e31a1cff%27%2C%20%27%23e31a1cff%27%2C%20%27%23e31a1cff%27%2C%20%27%23e31a1cff%27%2C%20%27%23e31a1cff%27%2C%20%27%23e31a1cff%27%2C%20%27%23e31a1cff%27%2C%20%27%23e31a1cff%27%2C%20%27%23e31a1cff%27%2C%20%27%23e31a1cff%27%2C%20%27%23e31a1cff%27%2C%20%27%23e31a1cff%27%2C%20%27%23e31a1cff%27%2C%20%27%23e31a1cff%27%2C%20%27%23e31a1cff%27%2C%20%27%23e31a1cff%27%2C%20%27%23e31a1cff%27%2C%20%27%23e31a1cff%27%2C%20%27%23e31a1cff%27%2C%20%27%23e31a1cff%27%2C%20%27%23e31a1cff%27%2C%20%27%23e31a1cff%27%2C%20%27%23e31a1cff%27%2C%20%27%23e31a1cff%27%2C%20%27%23e31a1cff%27%2C%20%27%23e31a1cff%27%2C%20%27%23e31a1cff%27%2C%20%27%23e31a1cff%27%2C%20%27%23e31a1cff%27%2C%20%27%23e31a1cff%27%2C%20%27%23e31a1cff%27%2C%20%27%23e31a1cff%27%2C%20%27%23e31a1cff%27%2C%20%27%23e31a1cff%27%2C%20%27%23e31a1cff%27%2C%20%27%23e31a1cff%27%2C%20%27%23e31a1cff%27%2C%20%27%23e31a1cff%27%2C%20%27%23e31a1cff%27%2C%20%27%23e31a1cff%27%2C%20%27%23e31a1cff%27%2C%20%27%23e31a1cff%27%2C%20%27%23e31a1cff%27%2C%20%27%23e31a1cff%27%5D%29%3B%0A%20%20%20%20%0A%0A%20%20%20%20color_map_b77e1de68f014d95afb697afbafbf7b3.x%20%3D%20d3.scale.linear%28%29%0A%20%20%20%20%20%20%20%20%20%20%20%20%20%20.domain%28%5B10000.0%2C%20700000.0%5D%29%0A%20%20%20%20%20%20%20%20%20%20%20%20%20%20.range%28%5B0%2C%20400%5D%29%3B%0A%0A%20%20%20%20color_map_b77e1de68f014d95afb697afbafbf7b3.legend%20%3D%20L.control%28%7Bposition%3A%20%27topright%27%7D%29%3B%0A%20%20%20%20color_map_b77e1de68f014d95afb697afbafbf7b3.legend.onAdd%20%3D%20function%20%28map%29%20%7Bvar%20div%20%3D%20L.DomUtil.create%28%27div%27%2C%20%27legend%27%29%3B%20return%20div%7D%3B%0A%20%20%20%20color_map_b77e1de68f014d95afb697afbafbf7b3.legend.addTo%28map_1c042cd09cd140ff85e40a8a60cc338a%29%3B%0A%0A%20%20%20%20color_map_b77e1de68f014d95afb697afbafbf7b3.xAxis%20%3D%20d3.svg.axis%28%29%0A%20%20%20%20%20%20%20%20.scale%28color_map_b77e1de68f014d95afb697afbafbf7b3.x%29%0A%20%20%20%20%20%20%20%20.orient%28%22top%22%29%0A%20%20%20%20%20%20%20%20.tickSize%281%29%0A%20%20%20%20%20%20%20%20.tickValues%28%5B10000%2C%20100000%2C%20300000%2C%20500000%2C%20700000%5D%29%3B%0A%0A%20%20%20%20color_map_b77e1de68f014d95afb697afbafbf7b3.svg%20%3D%20d3.select%28%22.legend.leaflet-control%22%29.append%28%22svg%22%29%0A%20%20%20%20%20%20%20%20.attr%28%22id%22%2C%20%27legend%27%29%0A%20%20%20%20%20%20%20%20.attr%28%22width%22%2C%20450%29%0A%20%20%20%20%20%20%20%20.attr%28%22height%22%2C%2040%29%3B%0A%0A%20%20%20%20color_map_b77e1de68f014d95afb697afbafbf7b3.g%20%3D%20color_map_b77e1de68f014d95afb697afbafbf7b3.svg.append%28%22g%22%29%0A%20%20%20%20%20%20%20%20.attr%28%22class%22%2C%20%22key%22%29%0A%20%20%20%20%20%20%20%20.attr%28%22transform%22%2C%20%22translate%2825%2C16%29%22%29%3B%0A%0A%20%20%20%20color_map_b77e1de68f014d95afb697afbafbf7b3.g.selectAll%28%22rect%22%29%0A%20%20%20%20%20%20%20%20.data%28color_map_b77e1de68f014d95afb697afbafbf7b3.color.range%28%29.map%28function%28d%2C%20i%29%20%7B%0A%20%20%20%20%20%20%20%20%20%20return%20%7B%0A%20%20%20%20%20%20%20%20%20%20%20%20x0%3A%20i%20%3F%20color_map_b77e1de68f014d95afb697afbafbf7b3.x%28color_map_b77e1de68f014d95afb697afbafbf7b3.color.domain%28%29%5Bi%20-%201%5D%29%20%3A%20color_map_b77e1de68f014d95afb697afbafbf7b3.x.range%28%29%5B0%5D%2C%0A%20%20%20%20%20%20%20%20%20%20%20%20x1%3A%20i%20%3C%20color_map_b77e1de68f014d95afb697afbafbf7b3.color.domain%28%29.length%20%3F%20color_map_b77e1de68f014d95afb697afbafbf7b3.x%28color_map_b77e1de68f014d95afb697afbafbf7b3.color.domain%28%29%5Bi%5D%29%20%3A%20color_map_b77e1de68f014d95afb697afbafbf7b3.x.range%28%29%5B1%5D%2C%0A%20%20%20%20%20%20%20%20%20%20%20%20z%3A%20d%0A%20%20%20%20%20%20%20%20%20%20%7D%3B%0A%20%20%20%20%20%20%20%20%7D%29%29%0A%20%20%20%20%20%20.enter%28%29.append%28%22rect%22%29%0A%20%20%20%20%20%20%20%20.attr%28%22height%22%2C%2010%29%0A%20%20%20%20%20%20%20%20.attr%28%22x%22%2C%20function%28d%29%20%7B%20return%20d.x0%3B%20%7D%29%0A%20%20%20%20%20%20%20%20.attr%28%22width%22%2C%20function%28d%29%20%7B%20return%20d.x1%20-%20d.x0%3B%20%7D%29%0A%20%20%20%20%20%20%20%20.style%28%22fill%22%2C%20function%28d%29%20%7B%20return%20d.z%3B%20%7D%29%3B%0A%0A%20%20%20%20color_map_b77e1de68f014d95afb697afbafbf7b3.g.call%28color_map_b77e1de68f014d95afb697afbafbf7b3.xAxis%29.append%28%22text%22%29%0A%20%20%20%20%20%20%20%20.attr%28%22class%22%2C%20%22caption%22%29%0A%20%20%20%20%20%20%20%20.attr%28%22y%22%2C%2021%29%0A%20%20%20%20%20%20%20%20.text%28%27%27%29%3B%0A%3C/script%3E onload=\"this.contentDocument.open();this.contentDocument.write(    decodeURIComponent(this.getAttribute('data-html')));this.contentDocument.close();\" allowfullscreen webkitallowfullscreen mozallowfullscreen></iframe></div></div>"
      ],
      "text/plain": [
       "<folium.folium.Map at 0x1b7f5c47550>"
      ]
     },
     "metadata": {},
     "output_type": "display_data"
    }
   ],
   "source": [
    "# 팝업처리 추가\n",
    "import pandas as pd\n",
    "import folium\n",
    "import json\n",
    "\n",
    "# 경기도 인구변화 데이터를 불러와서 데이터프레임으로 변환\n",
    "file_path = 'data/경기도인구데이터.xlsx'\n",
    "df = pd.read_excel(file_path, index_col='구분')  \n",
    "df.columns = df.columns.map(str)\n",
    "\n",
    "# 경기도 시군구 경계 정보를 가진 geo-json 파일 불러오기\n",
    "geo_path = 'data/경기도행정구역경계.json'\n",
    "try:\n",
    "    geo_data = json.load(open(geo_path, encoding='utf-8'))\n",
    "except:\n",
    "    geo_data = json.load(open(geo_path, encoding='utf-8-sig'))\n",
    "\n",
    "#print(geo_data)\n",
    "\n",
    "# 경기도 지도 만들기\n",
    "g_map = folium.Map(location=[37.5502,126.982], \n",
    "                   tiles='Stamen Terrain', zoom_start=9, doubleClickZoom=False)\n",
    "\n",
    "test = folium.Html('<b>Hello world</b>', script=True)\n",
    "\n",
    "popup = folium.Popup(test, max_width=2650)\n",
    "\n",
    "# 출력할 연도 선택 (2007 ~ 2017년 중에서 선택)\n",
    "year = '2017'  \n",
    "\n",
    "# Choropleth 클래스로 단계구분도 표시하기\n",
    "fmap=folium.Choropleth(geo_data=geo_data,    # 지도 경계\n",
    "                 data = df[year],      # 표시하려는 데이터\n",
    "                 columns = [df.index, df[year]],  # 열 지정\n",
    "                 fill_color='YlOrRd', fill_opacity=0.7, line_opacity=0.3,\n",
    "                 threshold_scale=[10000, 100000, 300000, 500000, 700000],               \n",
    "                 key_on='feature.properties.name',\n",
    "                 highlight=True\n",
    "                 \n",
    "                 ).add_to(g_map)\n",
    "fmap.geojson.zoom_on_click = False\n",
    "fmap.geojson.add_child(\n",
    "     folium.features.GeoJsonTooltip(['name'],labels=False)\n",
    ")\n",
    "\n",
    "display(g_map)\n",
    "# 지도를 HTML 파일로 저장하기\n",
    "g_map.save('output/gyonggi_population_' + year + '_2.html')\n"
   ]
  },
  {
   "cell_type": "code",
   "execution_count": 7,
   "metadata": {},
   "outputs": [
    {
     "data": {
      "text/html": [
       "<div style=\"width:100%;\"><div style=\"position:relative;width:100%;height:0;padding-bottom:60%;\"><span style=\"color:#565656\">Make this Notebook Trusted to load map: File -> Trust Notebook</span><iframe src=\"about:blank\" style=\"position:absolute;width:100%;height:100%;left:0;top:0;border:none !important;\" data-html=%3C%21DOCTYPE%20html%3E%0A%3Chead%3E%20%20%20%20%0A%20%20%20%20%3Cmeta%20http-equiv%3D%22content-type%22%20content%3D%22text/html%3B%20charset%3DUTF-8%22%20/%3E%0A%20%20%20%20%0A%20%20%20%20%20%20%20%20%3Cscript%3E%0A%20%20%20%20%20%20%20%20%20%20%20%20L_NO_TOUCH%20%3D%20false%3B%0A%20%20%20%20%20%20%20%20%20%20%20%20L_DISABLE_3D%20%3D%20false%3B%0A%20%20%20%20%20%20%20%20%3C/script%3E%0A%20%20%20%20%0A%20%20%20%20%3Cstyle%3Ehtml%2C%20body%20%7Bwidth%3A%20100%25%3Bheight%3A%20100%25%3Bmargin%3A%200%3Bpadding%3A%200%3B%7D%3C/style%3E%0A%20%20%20%20%3Cstyle%3E%23map%20%7Bposition%3Aabsolute%3Btop%3A0%3Bbottom%3A0%3Bright%3A0%3Bleft%3A0%3B%7D%3C/style%3E%0A%20%20%20%20%3Cscript%20src%3D%22https%3A//cdn.jsdelivr.net/npm/leaflet%401.6.0/dist/leaflet.js%22%3E%3C/script%3E%0A%20%20%20%20%3Cscript%20src%3D%22https%3A//code.jquery.com/jquery-1.12.4.min.js%22%3E%3C/script%3E%0A%20%20%20%20%3Cscript%20src%3D%22https%3A//maxcdn.bootstrapcdn.com/bootstrap/3.2.0/js/bootstrap.min.js%22%3E%3C/script%3E%0A%20%20%20%20%3Cscript%20src%3D%22https%3A//cdnjs.cloudflare.com/ajax/libs/Leaflet.awesome-markers/2.0.2/leaflet.awesome-markers.js%22%3E%3C/script%3E%0A%20%20%20%20%3Clink%20rel%3D%22stylesheet%22%20href%3D%22https%3A//cdn.jsdelivr.net/npm/leaflet%401.6.0/dist/leaflet.css%22/%3E%0A%20%20%20%20%3Clink%20rel%3D%22stylesheet%22%20href%3D%22https%3A//maxcdn.bootstrapcdn.com/bootstrap/3.2.0/css/bootstrap.min.css%22/%3E%0A%20%20%20%20%3Clink%20rel%3D%22stylesheet%22%20href%3D%22https%3A//maxcdn.bootstrapcdn.com/bootstrap/3.2.0/css/bootstrap-theme.min.css%22/%3E%0A%20%20%20%20%3Clink%20rel%3D%22stylesheet%22%20href%3D%22https%3A//maxcdn.bootstrapcdn.com/font-awesome/4.6.3/css/font-awesome.min.css%22/%3E%0A%20%20%20%20%3Clink%20rel%3D%22stylesheet%22%20href%3D%22https%3A//cdnjs.cloudflare.com/ajax/libs/Leaflet.awesome-markers/2.0.2/leaflet.awesome-markers.css%22/%3E%0A%20%20%20%20%3Clink%20rel%3D%22stylesheet%22%20href%3D%22https%3A//cdn.jsdelivr.net/gh/python-visualization/folium/folium/templates/leaflet.awesome.rotate.min.css%22/%3E%0A%20%20%20%20%0A%20%20%20%20%20%20%20%20%20%20%20%20%3Cmeta%20name%3D%22viewport%22%20content%3D%22width%3Ddevice-width%2C%0A%20%20%20%20%20%20%20%20%20%20%20%20%20%20%20%20initial-scale%3D1.0%2C%20maximum-scale%3D1.0%2C%20user-scalable%3Dno%22%20/%3E%0A%20%20%20%20%20%20%20%20%20%20%20%20%3Cstyle%3E%0A%20%20%20%20%20%20%20%20%20%20%20%20%20%20%20%20%23map_a1b90258aba244a5ad4d9ae1f88751eb%20%7B%0A%20%20%20%20%20%20%20%20%20%20%20%20%20%20%20%20%20%20%20%20position%3A%20relative%3B%0A%20%20%20%20%20%20%20%20%20%20%20%20%20%20%20%20%20%20%20%20width%3A%20100.0%25%3B%0A%20%20%20%20%20%20%20%20%20%20%20%20%20%20%20%20%20%20%20%20height%3A%20100.0%25%3B%0A%20%20%20%20%20%20%20%20%20%20%20%20%20%20%20%20%20%20%20%20left%3A%200.0%25%3B%0A%20%20%20%20%20%20%20%20%20%20%20%20%20%20%20%20%20%20%20%20top%3A%200.0%25%3B%0A%20%20%20%20%20%20%20%20%20%20%20%20%20%20%20%20%7D%0A%20%20%20%20%20%20%20%20%20%20%20%20%3C/style%3E%0A%20%20%20%20%20%20%20%20%0A%20%20%20%20%0A%20%20%20%20%20%20%20%20%20%20%20%20%20%20%20%20%20%20%20%20%3Cstyle%3E%0A%20%20%20%20%20%20%20%20%20%20%20%20%20%20%20%20%20%20%20%20%20%20%20%20.foliumpopup%20%7B%0A%20%20%20%20%20%20%20%20%20%20%20%20%20%20%20%20%20%20%20%20%20%20%20%20%20%20%20%20margin%3A%20auto%3B%0A%20%20%20%20%20%20%20%20%20%20%20%20%20%20%20%20%20%20%20%20%20%20%20%20%7D%0A%20%20%20%20%20%20%20%20%20%20%20%20%20%20%20%20%20%20%20%20%20%20%20.foliumpopup%20table%7B%0A%20%20%20%20%20%20%20%20%20%20%20%20%20%20%20%20%20%20%20%20%20%20%20%20%20%20%20%20margin%3A%20auto%3B%0A%20%20%20%20%20%20%20%20%20%20%20%20%20%20%20%20%20%20%20%20%20%20%20%20%7D%0A%20%20%20%20%20%20%20%20%20%20%20%20%20%20%20%20%20%20%20%20%20%20%20%20.foliumpopup%20tr%7B%0A%20%20%20%20%20%20%20%20%20%20%20%20%20%20%20%20%20%20%20%20%20%20%20%20%20%20%20%20text-align%3A%20left%3B%0A%20%20%20%20%20%20%20%20%20%20%20%20%20%20%20%20%20%20%20%20%20%20%20%20%7D%0A%20%20%20%20%20%20%20%20%20%20%20%20%20%20%20%20%20%20%20%20%20%20%20%20.foliumpopup%20th%7B%0A%20%20%20%20%20%20%20%20%20%20%20%20%20%20%20%20%20%20%20%20%20%20%20%20%20%20%20%20padding%3A%202px%3B%20padding-right%3A%208px%3B%0A%20%20%20%20%20%20%20%20%20%20%20%20%20%20%20%20%20%20%20%20%20%20%20%20%7D%0A%20%20%20%20%20%20%20%20%20%20%20%20%20%20%20%20%20%20%20%20%3C/style%3E%0A%20%20%20%20%20%20%20%20%20%20%20%20%0A%20%20%20%20%3Cscript%20src%3D%22https%3A//cdnjs.cloudflare.com/ajax/libs/d3/3.5.5/d3.min.js%22%3E%3C/script%3E%0A%3C/head%3E%0A%3Cbody%3E%20%20%20%20%0A%20%20%20%20%0A%20%20%20%20%20%20%20%20%20%20%20%20%3Cdiv%20class%3D%22folium-map%22%20id%3D%22map_a1b90258aba244a5ad4d9ae1f88751eb%22%20%3E%3C/div%3E%0A%20%20%20%20%20%20%20%20%0A%3C/body%3E%0A%3Cscript%3E%20%20%20%20%0A%20%20%20%20%0A%20%20%20%20%20%20%20%20%20%20%20%20var%20map_a1b90258aba244a5ad4d9ae1f88751eb%20%3D%20L.map%28%0A%20%20%20%20%20%20%20%20%20%20%20%20%20%20%20%20%22map_a1b90258aba244a5ad4d9ae1f88751eb%22%2C%0A%20%20%20%20%20%20%20%20%20%20%20%20%20%20%20%20%7B%0A%20%20%20%20%20%20%20%20%20%20%20%20%20%20%20%20%20%20%20%20center%3A%20%5B37.5502%2C%20126.982%5D%2C%0A%20%20%20%20%20%20%20%20%20%20%20%20%20%20%20%20%20%20%20%20crs%3A%20L.CRS.EPSG3857%2C%0A%20%20%20%20%20%20%20%20%20%20%20%20%20%20%20%20%20%20%20%20zoom%3A%209%2C%0A%20%20%20%20%20%20%20%20%20%20%20%20%20%20%20%20%20%20%20%20zoomControl%3A%20true%2C%0A%20%20%20%20%20%20%20%20%20%20%20%20%20%20%20%20%20%20%20%20preferCanvas%3A%20false%2C%0A%20%20%20%20%20%20%20%20%20%20%20%20%20%20%20%20%20%20%20%20doubleClickZoom%3A%20false%2C%0A%20%20%20%20%20%20%20%20%20%20%20%20%20%20%20%20%7D%0A%20%20%20%20%20%20%20%20%20%20%20%20%29%3B%0A%0A%20%20%20%20%20%20%20%20%20%20%20%20%0A%0A%20%20%20%20%20%20%20%20%0A%20%20%20%20%0A%20%20%20%20%20%20%20%20%20%20%20%20var%20tile_layer_17bc3a3814894526a325de492d4c2793%20%3D%20L.tileLayer%28%0A%20%20%20%20%20%20%20%20%20%20%20%20%20%20%20%20%22https%3A//stamen-tiles-%7Bs%7D.a.ssl.fastly.net/terrain/%7Bz%7D/%7Bx%7D/%7By%7D.jpg%22%2C%0A%20%20%20%20%20%20%20%20%20%20%20%20%20%20%20%20%7B%22attribution%22%3A%20%22Map%20tiles%20by%20%5Cu003ca%20href%3D%5C%22http%3A//stamen.com%5C%22%5Cu003eStamen%20Design%5Cu003c/a%5Cu003e%2C%20under%20%5Cu003ca%20href%3D%5C%22http%3A//creativecommons.org/licenses/by/3.0%5C%22%5Cu003eCC%20BY%203.0%5Cu003c/a%5Cu003e.%20Data%20by%20%5Cu0026copy%3B%20%5Cu003ca%20href%3D%5C%22http%3A//openstreetmap.org%5C%22%5Cu003eOpenStreetMap%5Cu003c/a%5Cu003e%2C%20under%20%5Cu003ca%20href%3D%5C%22http%3A//creativecommons.org/licenses/by-sa/3.0%5C%22%5Cu003eCC%20BY%20SA%5Cu003c/a%5Cu003e.%22%2C%20%22detectRetina%22%3A%20false%2C%20%22maxNativeZoom%22%3A%2018%2C%20%22maxZoom%22%3A%2018%2C%20%22minZoom%22%3A%200%2C%20%22noWrap%22%3A%20false%2C%20%22opacity%22%3A%201%2C%20%22subdomains%22%3A%20%22abc%22%2C%20%22tms%22%3A%20false%7D%0A%20%20%20%20%20%20%20%20%20%20%20%20%29.addTo%28map_a1b90258aba244a5ad4d9ae1f88751eb%29%3B%0A%20%20%20%20%20%20%20%20%0A%20%20%20%20%0A%20%20%20%20%20%20%20%20%20%20%20%20var%20choropleth_b07b53a4745b426599d70897fe22f338%20%3D%20L.featureGroup%28%0A%20%20%20%20%20%20%20%20%20%20%20%20%20%20%20%20%7B%7D%0A%20%20%20%20%20%20%20%20%20%20%20%20%29.addTo%28map_a1b90258aba244a5ad4d9ae1f88751eb%29%3B%0A%20%20%20%20%20%20%20%20%0A%20%20%20%20%0A%20%20%20%20%20%20%20%20function%20geo_json_e81829ee470140389c1f0f325d1641ce_styler%28feature%29%20%7B%0A%20%20%20%20%20%20%20%20%20%20%20%20switch%28feature.properties.code%29%20%7B%0A%20%20%20%20%20%20%20%20%20%20%20%20%20%20%20%20case%2031370%3A%20case%2031350%3A%20case%2031110%3A%20case%2031080%3A%20%0A%20%20%20%20%20%20%20%20%20%20%20%20%20%20%20%20%20%20%20%20return%20%7B%22color%22%3A%20%22black%22%2C%20%22fillColor%22%3A%20%22%23ffffb2%22%2C%20%22fillOpacity%22%3A%200.7%2C%20%22opacity%22%3A%200.3%2C%20%22weight%22%3A%201%7D%3B%0A%20%20%20%20%20%20%20%20%20%20%20%20%20%20%20%20case%2031250%3A%20case%2031230%3A%20case%2031200%3A%20case%2031193%3A%20case%2031192%3A%20case%2031150%3A%20case%2031101%3A%20case%2031092%3A%20case%2031091%3A%20case%2031070%3A%20case%2031060%3A%20case%2031051%3A%20case%2031042%3A%20case%2031030%3A%20case%2031014%3A%20case%2031012%3A%20%0A%20%20%20%20%20%20%20%20%20%20%20%20%20%20%20%20%20%20%20%20return%20%7B%22color%22%3A%20%22black%22%2C%20%22fillColor%22%3A%20%22%23fd8d3c%22%2C%20%22fillOpacity%22%3A%200.7%2C%20%22opacity%22%3A%200.3%2C%20%22weight%22%3A%201%7D%3B%0A%20%20%20%20%20%20%20%20%20%20%20%20%20%20%20%20case%2031240%3A%20case%2031130%3A%20case%2031023%3A%20%0A%20%20%20%20%20%20%20%20%20%20%20%20%20%20%20%20%20%20%20%20return%20%7B%22color%22%3A%20%22black%22%2C%20%22fillColor%22%3A%20%22%23e31a1c%22%2C%20%22fillOpacity%22%3A%200.7%2C%20%22opacity%22%3A%200.3%2C%20%22weight%22%3A%201%7D%3B%0A%20%20%20%20%20%20%20%20%20%20%20%20%20%20%20%20default%3A%0A%20%20%20%20%20%20%20%20%20%20%20%20%20%20%20%20%20%20%20%20return%20%7B%22color%22%3A%20%22black%22%2C%20%22fillColor%22%3A%20%22%23fecc5c%22%2C%20%22fillOpacity%22%3A%200.7%2C%20%22opacity%22%3A%200.3%2C%20%22weight%22%3A%201%7D%3B%0A%20%20%20%20%20%20%20%20%20%20%20%20%7D%0A%20%20%20%20%20%20%20%20%7D%0A%20%20%20%20%20%20%20%20function%20geo_json_e81829ee470140389c1f0f325d1641ce_highlighter%28feature%29%20%7B%0A%20%20%20%20%20%20%20%20%20%20%20%20switch%28feature.properties.code%29%20%7B%0A%20%20%20%20%20%20%20%20%20%20%20%20%20%20%20%20default%3A%0A%20%20%20%20%20%20%20%20%20%20%20%20%20%20%20%20%20%20%20%20return%20%7B%22fillOpacity%22%3A%200.8999999999999999%2C%20%22weight%22%3A%203%7D%3B%0A%20%20%20%20%20%20%20%20%20%20%20%20%7D%0A%20%20%20%20%20%20%20%20%7D%0A%0A%20%20%20%20%20%20%20%20function%20geo_json_e81829ee470140389c1f0f325d1641ce_onEachFeature%28feature%2C%20layer%29%20%7B%0A%20%20%20%20%20%20%20%20%20%20%20%20layer.on%28%7B%0A%20%20%20%20%20%20%20%20%20%20%20%20%20%20%20%20mouseout%3A%20function%28e%29%20%7B%0A%20%20%20%20%20%20%20%20%20%20%20%20%20%20%20%20%20%20%20%20if%28typeof%20e.target.setStyle%20%3D%3D%3D%20%22function%22%29%7B%0A%20%20%20%20%20%20%20%20%20%20%20%20%20%20%20%20%20%20%20%20%20%20%20%20geo_json_e81829ee470140389c1f0f325d1641ce.resetStyle%28e.target%29%3B%0A%20%20%20%20%20%20%20%20%20%20%20%20%20%20%20%20%20%20%20%20%7D%0A%20%20%20%20%20%20%20%20%20%20%20%20%20%20%20%20%7D%2C%0A%20%20%20%20%20%20%20%20%20%20%20%20%20%20%20%20mouseover%3A%20function%28e%29%20%7B%0A%20%20%20%20%20%20%20%20%20%20%20%20%20%20%20%20%20%20%20%20if%28typeof%20e.target.setStyle%20%3D%3D%3D%20%22function%22%29%7B%0A%20%20%20%20%20%20%20%20%20%20%20%20%20%20%20%20%20%20%20%20%20%20%20%20const%20highlightStyle%20%3D%20geo_json_e81829ee470140389c1f0f325d1641ce_highlighter%28e.target.feature%29%0A%20%20%20%20%20%20%20%20%20%20%20%20%20%20%20%20%20%20%20%20%20%20%20%20e.target.setStyle%28highlightStyle%29%3B%0A%20%20%20%20%20%20%20%20%20%20%20%20%20%20%20%20%20%20%20%20%7D%0A%20%20%20%20%20%20%20%20%20%20%20%20%20%20%20%20%7D%2C%0A%20%20%20%20%20%20%20%20%20%20%20%20%7D%29%3B%0A%20%20%20%20%20%20%20%20%7D%3B%0A%20%20%20%20%20%20%20%20var%20geo_json_e81829ee470140389c1f0f325d1641ce%20%3D%20L.geoJson%28null%2C%20%7B%0A%20%20%20%20%20%20%20%20%20%20%20%20%20%20%20%20onEachFeature%3A%20geo_json_e81829ee470140389c1f0f325d1641ce_onEachFeature%2C%0A%20%20%20%20%20%20%20%20%20%20%20%20%0A%20%20%20%20%20%20%20%20%20%20%20%20%20%20%20%20style%3A%20geo_json_e81829ee470140389c1f0f325d1641ce_styler%2C%0A%20%20%20%20%20%20%20%20%7D%29%3B%0A%0A%20%20%20%20%20%20%20%20function%20geo_json_e81829ee470140389c1f0f325d1641ce_add%20%28data%29%20%7B%0A%20%20%20%20%20%20%20%20%20%20%20%20geo_json_e81829ee470140389c1f0f325d1641ce%0A%20%20%20%20%20%20%20%20%20%20%20%20%20%20%20%20.addData%28data%29%0A%20%20%20%20%20%20%20%20%20%20%20%20%20%20%20%20.addTo%28choropleth_b07b53a4745b426599d70897fe22f338%29%3B%0A%20%20%20%20%20%20%20%20%7D%0A%20%20%20%20%20%20%20%20%20%20%20%20geo_json_e81829ee470140389c1f0f325d1641ce_add%28%7B%22features%22%3A%20%5B%7B%22geometry%22%3A%20%7B%22coordinates%22%3A%20%5B%5B%5B127.56113535909492%2C%2037.6256560539258%5D%2C%20%5B127.57290963929243%2C%2037.61087369350498%5D%2C%20%5B127.56366973908277%2C%2037.5842624297699%5D%2C%20%5B127.52226606559191%2C%2037.5828628697518%5D%2C%20%5B127.50048767007603%2C%2037.569036373178626%5D%2C%20%5B127.47687473909174%2C%2037.574448241913856%5D%2C%20%5B127.47565866803647%2C%2037.60512112601634%5D%2C%20%5B127.44699730711024%2C%2037.64497584741164%5D%2C%20%5B127.4272349102434%2C%2037.66284420898682%5D%2C%20%5B127.40156700708162%2C%2037.64806970784708%5D%2C%20%5B127.3732642199939%2C%2037.6453987554284%5D%2C%20%5B127.3542931884407%2C%2037.6250006376975%5D%2C%20%5B127.34360057873045%2C%2037.588997440929354%5D%2C%20%5B127.31002843450217%2C%2037.53523876142835%5D%2C%20%5B127.30923294884336%2C%2037.5135706079458%5D%2C%20%5B127.32809611134748%2C%2037.53133849534739%5D%2C%20%5B127.3663244453597%2C%2037.52716845880826%5D%2C%20%5B127.38286320755414%2C%2037.50147517965334%5D%2C%20%5B127.39046783039153%2C%2037.47413422098595%5D%2C%20%5B127.37490698722792%2C%2037.455072688441305%5D%2C%20%5B127.39174400683049%2C%2037.4256483411369%5D%2C%20%5B127.40276739880215%2C%2037.41856433413549%5D%2C%20%5B127.4250053080982%2C%2037.43669952587185%5D%2C%20%5B127.4817900304572%2C%2037.42084413829662%5D%2C%20%5B127.51015267026155%2C%2037.43699555518635%5D%2C%20%5B127.52501209957308%2C%2037.43192043868044%5D%2C%20%5B127.53910572062166%2C%2037.40849283821634%5D%2C%20%5B127.60528700481163%2C%2037.416969769508924%5D%2C%20%5B127.63754040237271%2C%2037.41065607591271%5D%2C%20%5B127.6491838950862%2C%2037.402042953108506%5D%2C%20%5B127.66976823475012%2C%2037.40884431255766%5D%2C%20%5B127.71071536074867%2C%2037.40736583858037%5D%2C%20%5B127.70347417929173%2C%2037.371054026073324%5D%2C%20%5B127.76165381178268%2C%2037.36421926003675%5D%2C%20%5B127.77952402154285%2C%2037.368441789396854%5D%2C%20%5B127.80397287036232%2C%2037.432516049235865%5D%2C%20%5B127.79833492163134%2C%2037.460500237870505%5D%2C%20%5B127.77664798308412%2C%2037.48883635932707%5D%2C%20%5B127.77611527652192%2C%2037.50328615763377%5D%2C%20%5B127.80855972024105%2C%2037.53220450961153%5D%2C%20%5B127.8445769305193%2C%2037.53621789699497%5D%2C%20%5B127.85162286006927%2C%2037.55037340096326%5D%2C%20%5B127.81507964099751%2C%2037.5618389022189%5D%2C%20%5B127.79492564827493%2C%2037.58252978378627%5D%2C%20%5B127.76838776707211%2C%2037.580178216134605%5D%2C%20%5B127.75614914198108%2C%2037.589477424718204%5D%2C%20%5B127.7102810556826%2C%2037.58360128682645%5D%2C%20%5B127.69869383868397%2C%2037.59757031454811%5D%2C%20%5B127.65553070991882%2C%2037.61954565135447%5D%2C%20%5B127.62972032693943%2C%2037.63983122973888%5D%2C%20%5B127.60450569091653%2C%2037.648548552427314%5D%2C%20%5B127.58166701442097%2C%2037.63033393389168%5D%2C%20%5B127.56113535909492%2C%2037.6256560539258%5D%5D%5D%2C%20%22type%22%3A%20%22Polygon%22%7D%2C%20%22properties%22%3A%20%7B%22base_year%22%3A%202013%2C%20%22code%22%3A%2031380%2C%20%22name%22%3A%20%22%5Cuc591%5Cud3c9%5Cuad70%22%2C%20%22name_eng%22%3A%20%22Yangpyeong-gun%22%7D%2C%20%22type%22%3A%20%22Feature%22%7D%2C%20%7B%22geometry%22%3A%20%7B%22coordinates%22%3A%20%5B%5B%5B127.44780328408541%2C%2038.048238751068475%5D%2C%20%5B127.42042182072485%2C%2038.01200319871128%5D%2C%20%5B127.41516664705571%2C%2037.995046525366845%5D%2C%20%5B127.39194666896421%2C%2037.97992649728499%5D%2C%20%5B127.37828420492166%2C%2037.958773972665476%5D%2C%20%5B127.3864253692493%2C%2037.940789082655876%5D%2C%20%5B127.35796486335995%2C%2037.918888706648104%5D%2C%20%5B127.33112989323685%2C%2037.9192732427266%5D%2C%20%5B127.32585628843694%2C%2037.8708665787365%5D%2C%20%5B127.31427495278925%2C%2037.86338279582678%5D%2C%20%5B127.29023239060183%2C%2037.867156223189305%5D%2C%20%5B127.27621937205707%2C%2037.823925522993584%5D%2C%20%5B127.28134774958465%2C%2037.81350552459983%5D%2C%20%5B127.2686525155809%2C%2037.777676803810074%5D%2C%20%5B127.32070791913966%2C%2037.76445271893134%5D%2C%20%5B127.34501289752937%2C%2037.7266690692075%5D%2C%20%5B127.35759057077398%2C%2037.720909295881434%5D%2C%20%5B127.35557114419971%2C%2037.701041217064585%5D%2C%20%5B127.38133544278186%2C%2037.67180837890239%5D%2C%20%5B127.3732642199939%2C%2037.6453987554284%5D%2C%20%5B127.40156700708162%2C%2037.64806970784708%5D%2C%20%5B127.4272349102434%2C%2037.66284420898682%5D%2C%20%5B127.44699730711024%2C%2037.64497584741164%5D%2C%20%5B127.47565866803647%2C%2037.60512112601634%5D%2C%20%5B127.47687473909174%2C%2037.574448241913856%5D%2C%20%5B127.50048767007603%2C%2037.569036373178626%5D%2C%20%5B127.52226606559191%2C%2037.5828628697518%5D%2C%20%5B127.56366973908277%2C%2037.5842624297699%5D%2C%20%5B127.57290963929243%2C%2037.61087369350498%5D%2C%20%5B127.56113535909492%2C%2037.6256560539258%5D%2C%20%5B127.53917031861263%2C%2037.64021056192394%5D%2C%20%5B127.5549605217701%2C%2037.658757758392326%5D%2C%20%5B127.55230133599949%2C%2037.6826768602848%5D%2C%20%5B127.5620152520609%2C%2037.72573118147031%5D%2C%20%5B127.54295591487076%2C%2037.71630823574417%5D%2C%20%5B127.50979807707056%2C%2037.72791553253582%5D%2C%20%5B127.5466892772679%2C%2037.757547899640265%5D%2C%20%5B127.52374487270039%2C%2037.788564076302706%5D%2C%20%5B127.53790811514408%2C%2037.806297142430786%5D%2C%20%5B127.5278056459557%2C%2037.8205934650677%5D%2C%20%5B127.53467866263196%2C%2037.8391134107185%5D%2C%20%5B127.5645808687282%2C%2037.852710085354005%5D%2C%20%5B127.586513542654%2C%2037.87296654527047%5D%2C%20%5B127.60326048844294%2C%2037.87185797528634%5D%2C%20%5B127.61988365348992%2C%2037.90376621474279%5D%2C%20%5B127.61592274592837%2C%2037.93662873141094%5D%2C%20%5B127.60515472290533%2C%2037.95233960186072%5D%2C%20%5B127.54648191805605%2C%2037.96536690082484%5D%2C%20%5B127.54189684816376%2C%2037.99843118565868%5D%2C%20%5B127.50356426725331%2C%2037.99680815824825%5D%2C%20%5B127.47430810833019%2C%2038.00331531710267%5D%2C%20%5B127.46013793737187%2C%2038.01348603532302%5D%2C%20%5B127.44780328408541%2C%2038.048238751068475%5D%5D%5D%2C%20%22type%22%3A%20%22Polygon%22%7D%2C%20%22properties%22%3A%20%7B%22base_year%22%3A%202013%2C%20%22code%22%3A%2031370%2C%20%22name%22%3A%20%22%5Cuac00%5Cud3c9%5Cuad70%22%2C%20%22name_eng%22%3A%20%22Gapyeong-gun%22%7D%2C%20%22type%22%3A%20%22Feature%22%7D%2C%20%7B%22geometry%22%3A%20%7B%22coordinates%22%3A%20%5B%5B%5B127.1114029794941%2C%2038.289324698353205%5D%2C%20%5B127.07249919657463%2C%2038.26801218962005%5D%2C%20%5B127.02801007414642%2C%2038.254549706273764%5D%2C%20%5B126.99286312502117%2C%2038.234131621017674%5D%2C%20%5B126.97740008434542%2C%2038.23136042526893%5D%2C%20%5B126.98606173199121%2C%2038.209401424377816%5D%2C%20%5B126.96711105593987%2C%2038.19506065700263%5D%2C%20%5B126.95459011862387%2C%2038.20786522832632%5D%2C%20%5B126.92781480981668%2C%2038.200854654628984%5D%2C%20%5B126.8974333001951%2C%2038.20180521598681%5D%2C%20%5B126.87506682979435%2C%2038.220357253330604%5D%2C%20%5B126.8278790877819%2C%2038.195486974451406%5D%2C%20%5B126.77187664076929%2C%2038.15202258772112%5D%2C%20%5B126.75014823067355%2C%2038.125072772241225%5D%2C%20%5B126.78709379586621%2C%2038.09626689678258%5D%2C%20%5B126.79823368085893%2C%2038.079396242822355%5D%2C%20%5B126.85234589355446%2C%2038.09221072381945%5D%2C%20%5B126.86904468579002%2C%2038.077582436479354%5D%2C%20%5B126.89538167413222%2C%2038.071648142471204%5D%2C%20%5B126.89492205681401%2C%2038.04859999954147%5D%2C%20%5B126.87463524911628%2C%2038.01581963256826%5D%2C%20%5B126.85568764143953%2C%2038.02873639803942%5D%2C%20%5B126.83392985136591%2C%2038.03100700061125%5D%2C%20%5B126.8252320653152%2C%2038.00913397816309%5D%2C%20%5B126.83164256576254%2C%2037.99035429677792%5D%2C%20%5B126.8029965558113%2C%2037.989251239637596%5D%2C%20%5B126.80659958939793%2C%2037.9680012097748%5D%2C%20%5B126.8388723334759%2C%2037.96197909365746%5D%2C%20%5B126.8423229135476%2C%2037.97819760433225%5D%2C%20%5B126.85859300440933%2C%2037.98329485669624%5D%2C%20%5B126.8739356423477%2C%2037.968400924665225%5D%2C%20%5B126.89755470110721%2C%2037.9683523617657%5D%2C%20%5B126.90034044420747%2C%2037.99438948257985%5D%2C%20%5B126.93929997962098%2C%2037.9789601448141%5D%2C%20%5B126.97166918547234%2C%2038.000587999007735%5D%2C%20%5B126.99425287672854%2C%2038.000624488107924%5D%2C%20%5B127.01739022262282%2C%2037.989561835400195%5D%2C%20%5B126.97545924731331%2C%2037.93928140597955%5D%2C%20%5B127.01215278654801%2C%2037.924817815480985%5D%2C%20%5B127.02968085272437%2C%2037.9404013715077%5D%2C%20%5B127.05589127856165%2C%2037.978154747876275%5D%2C%20%5B127.09382742820131%2C%2037.968691278173%5D%2C%20%5B127.09290535753887%2C%2037.98459431234087%5D%2C%20%5B127.12231622589134%2C%2037.976745791642564%5D%2C%20%5B127.14982270353039%2C%2037.99413348520078%5D%2C%20%5B127.1474423860908%2C%2038.01290337564081%5D%2C%20%5B127.11440133420174%2C%2038.04821685684721%5D%2C%20%5B127.14326850224882%2C%2038.070002354405226%5D%2C%20%5B127.15086136346409%2C%2038.05496212563221%5D%2C%20%5B127.1888339288906%2C%2038.06204029940796%5D%2C%20%5B127.19437916578538%2C%2038.0797568774465%5D%2C%20%5B127.17503254383571%2C%2038.13882932478672%5D%2C%20%5B127.18150182398624%2C%2038.181927191525546%5D%2C%20%5B127.16857086007771%2C%2038.19681089627724%5D%2C%20%5B127.16461628401596%2C%2038.22949766461027%5D%2C%20%5B127.15063615800273%2C%2038.239791315402336%5D%2C%20%5B127.13243747984255%2C%2038.22986476152822%5D%2C%20%5B127.11224663908298%2C%2038.23944312080941%5D%2C%20%5B127.11610682730382%2C%2038.26255766722931%5D%2C%20%5B127.1114029794941%2C%2038.289324698353205%5D%5D%5D%2C%20%22type%22%3A%20%22Polygon%22%7D%2C%20%22properties%22%3A%20%7B%22base_year%22%3A%202013%2C%20%22code%22%3A%2031350%2C%20%22name%22%3A%20%22%5Cuc5f0%5Cucc9c%5Cuad70%22%2C%20%22name_eng%22%3A%20%22Yeoncheon-gun%22%7D%2C%20%22type%22%3A%20%22Feature%22%7D%2C%20%7B%22geometry%22%3A%20%7B%22coordinates%22%3A%20%5B%5B%5B127.40276739880215%2C%2037.41856433413549%5D%2C%20%5B127.41955611640327%2C%2037.386674887879835%5D%2C%20%5B127.44514756834636%2C%2037.3842770721951%5D%2C%20%5B127.44459662819855%2C%2037.35562085049101%5D%2C%20%5B127.47263652805968%2C%2037.35869263849808%5D%2C%20%5B127.49167370715485%2C%2037.339527598960764%5D%2C%20%5B127.51574229064994%2C%2037.336561285567946%5D%2C%20%5B127.54853754663094%2C%2037.29860192066929%5D%2C%20%5B127.53106721989582%2C%2037.27115011578052%5D%2C%20%5B127.5395160453677%2C%2037.24379045683148%5D%2C%20%5B127.52770097674612%2C%2037.23765094459253%5D%2C%20%5B127.53342604855668%2C%2037.19715010635273%5D%2C%20%5B127.51957698997381%2C%2037.18188687027366%5D%2C%20%5B127.52893461217018%2C%2037.170618598276%5D%2C%20%5B127.55830514005798%2C%2037.17381401041668%5D%2C%20%5B127.5785248984445%2C%2037.186311208078585%5D%2C%20%5B127.5999013564347%2C%2037.1854997199498%5D%2C%20%5B127.63091754409567%2C%2037.150947430524305%5D%2C%20%5B127.66246837559255%2C%2037.13682554779843%5D%2C%20%5B127.69759568854894%2C%2037.137598675963744%5D%2C%20%5B127.6981539994774%2C%2037.14931076846793%5D%2C%20%5B127.73893911466041%2C%2037.20715818139463%5D%2C%20%5B127.75008528183503%2C%2037.21383642183904%5D%2C%20%5B127.75102511570132%2C%2037.24464129242011%5D%2C%20%5B127.76047537750615%2C%2037.25518935399549%5D%2C%20%5B127.75697503302167%2C%2037.29496921027118%5D%2C%20%5B127.77073902372764%2C%2037.30499906774147%5D%2C%20%5B127.76193527300671%2C%2037.32724708852886%5D%2C%20%5B127.76165381178268%2C%2037.36421926003675%5D%2C%20%5B127.70347417929173%2C%2037.371054026073324%5D%2C%20%5B127.71071536074867%2C%2037.40736583858037%5D%2C%20%5B127.66976823475012%2C%2037.40884431255766%5D%2C%20%5B127.6491838950862%2C%2037.402042953108506%5D%2C%20%5B127.63754040237271%2C%2037.41065607591271%5D%2C%20%5B127.60528700481163%2C%2037.416969769508924%5D%2C%20%5B127.53910572062166%2C%2037.40849283821634%5D%2C%20%5B127.52501209957308%2C%2037.43192043868044%5D%2C%20%5B127.51015267026155%2C%2037.43699555518635%5D%2C%20%5B127.4817900304572%2C%2037.42084413829662%5D%2C%20%5B127.4250053080982%2C%2037.43669952587185%5D%2C%20%5B127.40276739880215%2C%2037.41856433413549%5D%5D%5D%2C%20%22type%22%3A%20%22Polygon%22%7D%2C%20%22properties%22%3A%20%7B%22base_year%22%3A%202013%2C%20%22code%22%3A%2031280%2C%20%22name%22%3A%20%22%5Cuc5ec%5Cuc8fc%5Cuc2dc%22%2C%20%22name_eng%22%3A%20%22Yeoju-si%22%7D%2C%20%22type%22%3A%20%22Feature%22%7D%2C%20%7B%22geometry%22%3A%20%7B%22coordinates%22%3A%20%5B%5B%5B127.18150182398624%2C%2038.181927191525546%5D%2C%20%5B127.17503254383571%2C%2038.13882932478672%5D%2C%20%5B127.19437916578538%2C%2038.0797568774465%5D%2C%20%5B127.1888339288906%2C%2038.06204029940796%5D%2C%20%5B127.15086136346409%2C%2038.05496212563221%5D%2C%20%5B127.14326850224882%2C%2038.070002354405226%5D%2C%20%5B127.11440133420174%2C%2038.04821685684721%5D%2C%20%5B127.1474423860908%2C%2038.01290337564081%5D%2C%20%5B127.14982270353039%2C%2037.99413348520078%5D%2C%20%5B127.12231622589134%2C%2037.976745791642564%5D%2C%20%5B127.09290535753887%2C%2037.98459431234087%5D%2C%20%5B127.09382742820131%2C%2037.968691278173%5D%2C%20%5B127.1240834119586%2C%2037.913726790414486%5D%2C%20%5B127.1480788721724%2C%2037.909108279220675%5D%2C%20%5B127.15777209998105%2C%2037.89291633342494%5D%2C%20%5B127.14908802054492%2C%2037.87326470277757%5D%2C%20%5B127.13067707221735%2C%2037.87115064756639%5D%2C%20%5B127.1113003891929%2C%2037.85708813371199%5D%2C%20%5B127.12400943178396%2C%2037.82538075264934%5D%2C%20%5B127.12412178020936%2C%2037.80931541475853%5D%2C%20%5B127.10645686970089%2C%2037.776897580693586%5D%2C%20%5B127.14177735342194%2C%2037.76129795333661%5D%2C%20%5B127.14882403466048%2C%2037.75206030443599%5D%2C%20%5B127.17524551122212%2C%2037.751938183429424%5D%2C%20%5B127.18575971970597%2C%2037.76186443408089%5D%2C%20%5B127.21510645674604%2C%2037.75873586709106%5D%2C%20%5B127.22719439323131%2C%2037.750666435161854%5D%2C%20%5B127.26186907661463%2C%2037.765678541736996%5D%2C%20%5B127.2686525155809%2C%2037.777676803810074%5D%2C%20%5B127.28134774958465%2C%2037.81350552459983%5D%2C%20%5B127.27621937205707%2C%2037.823925522993584%5D%2C%20%5B127.29023239060183%2C%2037.867156223189305%5D%2C%20%5B127.31427495278925%2C%2037.86338279582678%5D%2C%20%5B127.32585628843694%2C%2037.8708665787365%5D%2C%20%5B127.33112989323685%2C%2037.9192732427266%5D%2C%20%5B127.35796486335995%2C%2037.918888706648104%5D%2C%20%5B127.3864253692493%2C%2037.940789082655876%5D%2C%20%5B127.37828420492166%2C%2037.958773972665476%5D%2C%20%5B127.39194666896421%2C%2037.97992649728499%5D%2C%20%5B127.41516664705571%2C%2037.995046525366845%5D%2C%20%5B127.42042182072485%2C%2038.01200319871128%5D%2C%20%5B127.44780328408541%2C%2038.048238751068475%5D%2C%20%5B127.44645416125843%2C%2038.09506926769056%5D%2C%20%5B127.43271157644212%2C%2038.11254491261849%5D%2C%20%5B127.38575924845978%2C%2038.111650021865444%5D%2C%20%5B127.32332897924549%2C%2038.09248746131129%5D%2C%20%5B127.31342794935864%2C%2038.113239178580145%5D%2C%20%5B127.28533797240796%2C%2038.11374536112377%5D%2C%20%5B127.27790641954418%2C%2038.13449032094295%5D%2C%20%5B127.28937067741944%2C%2038.1495974983685%5D%2C%20%5B127.29146727692374%2C%2038.17417076323154%5D%2C%20%5B127.27319981021783%2C%2038.1790866530056%5D%2C%20%5B127.25802935713429%2C%2038.16048880005979%5D%2C%20%5B127.22539552047925%2C%2038.144128217872485%5D%2C%20%5B127.19211744512407%2C%2038.157963139766544%5D%2C%20%5B127.18150182398624%2C%2038.181927191525546%5D%5D%5D%2C%20%22type%22%3A%20%22Polygon%22%7D%2C%20%22properties%22%3A%20%7B%22base_year%22%3A%202013%2C%20%22code%22%3A%2031270%2C%20%22name%22%3A%20%22%5Cud3ec%5Cucc9c%5Cuc2dc%22%2C%20%22name_eng%22%3A%20%22Pocheonsi%22%7D%2C%20%22type%22%3A%20%22Feature%22%7D%2C%20%7B%22geometry%22%3A%20%7B%22coordinates%22%3A%20%5B%5B%5B126.97545924731331%2C%2037.93928140597955%5D%2C%20%5B126.94883433502994%2C%2037.89688479787927%5D%2C%20%5B126.9484401545115%2C%2037.86422401203834%5D%2C%20%5B126.93661135445112%2C%2037.843479475117995%5D%2C%20%5B126.9160273881691%2C%2037.83830532663158%5D%2C%20%5B126.9073114617216%2C%2037.790560159793145%5D%2C%20%5B126.93838979622467%2C%2037.771436009953916%5D%2C%20%5B126.93180653905974%2C%2037.74575671706106%5D%2C%20%5B126.92470886562188%2C%2037.72916078041937%5D%2C%20%5B126.92290257733573%2C%2037.66907383915535%5D%2C%20%5B126.94191948970435%2C%2037.66797237250146%5D%2C%20%5B126.94689093217877%2C%2037.68234333447953%5D%2C%20%5B126.96734461801938%2C%2037.68969305565268%5D%2C%20%5B126.99383903424%2C%2037.676681761199085%5D%2C%20%5B127.01039666042071%2C%2037.681894589603594%5D%2C%20%5B127.01795099203432%2C%2037.69824412775662%5D%2C%20%5B127.01477890845196%2C%2037.722832167524864%5D%2C%20%5B127.00430024727942%2C%2037.73792676357612%5D%2C%20%5B127.00437834122181%2C%2037.75999833868866%5D%2C%20%5B127.02081299427202%2C%2037.76581418787214%5D%2C%20%5B127.05297245855259%2C%2037.75816755994106%5D%2C%20%5B127.10645686970089%2C%2037.776897580693586%5D%2C%20%5B127.12412178020936%2C%2037.80931541475853%5D%2C%20%5B127.12400943178396%2C%2037.82538075264934%5D%2C%20%5B127.1113003891929%2C%2037.85708813371199%5D%2C%20%5B127.09509254572018%2C%2037.86843288571378%5D%2C%20%5B127.06250430862417%2C%2037.86658619508279%5D%2C%20%5B127.04837406784853%2C%2037.891090496591005%5D%2C%20%5B127.01281974367026%2C%2037.90171539201257%5D%2C%20%5B127.01215278654801%2C%2037.924817815480985%5D%2C%20%5B126.97545924731331%2C%2037.93928140597955%5D%5D%5D%2C%20%22type%22%3A%20%22Polygon%22%7D%2C%20%22properties%22%3A%20%7B%22base_year%22%3A%202013%2C%20%22code%22%3A%2031260%2C%20%22name%22%3A%20%22%5Cuc591%5Cuc8fc%5Cuc2dc%22%2C%20%22name_eng%22%3A%20%22Yangjusi%22%7D%2C%20%22type%22%3A%20%22Feature%22%7D%2C%20%7B%22geometry%22%3A%20%7B%22coordinates%22%3A%20%5B%5B%5B127.30923294884336%2C%2037.5135706079458%5D%2C%20%5B127.28971082577908%2C%2037.51069218442014%5D%2C%20%5B127.25539313999657%2C%2037.50044702706516%5D%2C%20%5B127.26066872639333%2C%2037.4867746581613%5D%2C%20%5B127.23892819551556%2C%2037.47240158876339%5D%2C%20%5B127.21785285379218%2C%2037.479493796173465%5D%2C%20%5B127.1831716097913%2C%2037.47048077053623%5D%2C%20%5B127.19808034941583%2C%2037.441066604883545%5D%2C%20%5B127.19594474070001%2C%2037.421269309284035%5D%2C%20%5B127.17637586604776%2C%2037.40261052326208%5D%2C%20%5B127.15506886795262%2C%2037.36076173403712%5D%2C%20%5B127.13605700285002%2C%2037.35565614606753%5D%2C%20%5B127.13845652996186%2C%2037.336816804055495%5D%2C%20%5B127.1439713536275%2C%2037.33349026702227%5D%2C%20%5B127.19373839709431%2C%2037.34441869868583%5D%2C%20%5B127.21042746205282%2C%2037.32805374935785%5D%2C%20%5B127.23072982952925%2C%2037.35607967407726%5D%2C%20%5B127.26708575818817%2C%2037.33990127392118%5D%2C%20%5B127.28543362549937%2C%2037.3425335272208%5D%2C%20%5B127.2795205391003%2C%2037.306809952638524%5D%2C%20%5B127.28383871402815%2C%2037.2658807760632%5D%2C%20%5B127.32142008240551%2C%2037.27215636613311%5D%2C%20%5B127.34092967480524%2C%2037.26770614318737%5D%2C%20%5B127.34227600003884%2C%2037.28528169366774%5D%2C%20%5B127.37829628277709%2C%2037.317936247676194%5D%2C%20%5B127.38906532153541%2C%2037.31608103967859%5D%2C%20%5B127.42277946655206%2C%2037.33526375647856%5D%2C%20%5B127.44459662819855%2C%2037.35562085049101%5D%2C%20%5B127.44514756834636%2C%2037.3842770721951%5D%2C%20%5B127.41955611640327%2C%2037.386674887879835%5D%2C%20%5B127.40276739880215%2C%2037.41856433413549%5D%2C%20%5B127.39174400683049%2C%2037.4256483411369%5D%2C%20%5B127.37490698722792%2C%2037.455072688441305%5D%2C%20%5B127.39046783039153%2C%2037.47413422098595%5D%2C%20%5B127.38286320755414%2C%2037.50147517965334%5D%2C%20%5B127.3663244453597%2C%2037.52716845880826%5D%2C%20%5B127.32809611134748%2C%2037.53133849534739%5D%2C%20%5B127.30923294884336%2C%2037.5135706079458%5D%5D%5D%2C%20%22type%22%3A%20%22Polygon%22%7D%2C%20%22properties%22%3A%20%7B%22base_year%22%3A%202013%2C%20%22code%22%3A%2031250%2C%20%22name%22%3A%20%22%5Cuad11%5Cuc8fc%5Cuc2dc%22%2C%20%22name_eng%22%3A%20%22Gwangju%22%7D%2C%20%22type%22%3A%20%22Feature%22%7D%2C%20%7B%22geometry%22%3A%20%7B%22coordinates%22%3A%20%5B%5B%5B126.92946761531998%2C%2037.275967848758626%5D%2C%20%5B126.9159468889861%2C%2037.28864104563552%5D%2C%20%5B126.84641021832398%2C%2037.26433293772644%5D%2C%20%5B126.81930541992186%2C%2037.29590550406618%5D%2C%20%5B126.77604675292967%2C%2037.28552626562424%5D%2C%20%5B126.76918029785156%2C%2037.28334098034544%5D%2C%20%5B126.73210144042969%2C%2037.29098920118597%5D%2C%20%5B126.71836853027344%2C%2037.286072577028555%5D%2C%20%5B126.68403625488283%2C%2037.267495764381856%5D%2C%20%5B126.6510772705078%2C%2037.25328687335229%5D%2C%20%5B126.66481018066405%2C%2037.21994010868952%5D%2C%20%5B126.65794372558594%2C%2037.19478361329807%5D%2C%20%5B126.66271935011406%2C%2037.15926986163073%5D%2C%20%5B126.6846290670714%2C%2037.14600860455114%5D%2C%20%5B126.67514463500929%2C%2037.13507063838445%5D%2C%20%5B126.69054868899676%2C%2037.11326932983634%5D%2C%20%5B126.7301407699343%2C%2037.135914524793805%5D%2C%20%5B126.74720764160156%2C%2037.14225609389272%5D%2C%20%5B126.7719268798828%2C%2037.14663478158564%5D%2C%20%5B126.79458618164062%2C%2037.14827672411748%5D%2C%20%5B126.80659259648279%2C%2037.148624224069174%5D%2C%20%5B126.7547607421875%2C%2037.137329767248794%5D%2C%20%5B126.72454833984374%2C%2037.11543110112874%5D%2C%20%5B126.73072814941408%2C%2037.092430683283474%5D%2C%20%5B126.7327880859375%2C%2037.07544970503028%5D%2C%20%5B126.75132751464844%2C%2037.0601087778919%5D%2C%20%5B126.75044219493901%2C%2037.04618007006251%5D%2C%20%5B126.75308052062115%2C%2037.02639369248519%5D%2C%20%5B126.79113814421088%2C%2037.02631450535446%5D%2C%20%5B126.79899352215931%2C%2037.0092005991418%5D%2C%20%5B126.84014623559027%2C%2037.01079503386266%5D%2C%20%5B126.85940022959993%2C%2037.022131594683266%5D%2C%20%5B126.8846211892453%2C%2037.05795114472113%5D%2C%20%5B126.90291323437098%2C%2037.06724127811693%5D%2C%20%5B126.94247588185057%2C%2037.057958386286046%5D%2C%20%5B126.95290081243859%2C%2037.06545814826726%5D%2C%20%5B126.98672297136514%2C%2037.06879655242586%5D%2C%20%5B127.00102521866197%2C%2037.08973596266607%5D%2C%20%5B127.00593012741142%2C%2037.124105707924144%5D%2C%20%5B127.03746950511537%2C%2037.13336771678679%5D%2C%20%5B127.03019615684671%2C%2037.16027870494751%5D%2C%20%5B127.00186863458882%2C%2037.1747343711991%5D%2C%20%5B127.02929563655235%2C%2037.19787494412135%5D%2C%20%5B127.06660498380589%2C%2037.19589230774365%5D%2C%20%5B127.07609473440765%2C%2037.16092553278145%5D%2C%20%5B127.09596808287752%2C%2037.1566082978686%5D%2C%20%5B127.10575417734016%2C%2037.1407283236673%5D%2C%20%5B127.12480483538663%2C%2037.14166379699704%5D%2C%20%5B127.13469226704495%2C%2037.165565916914176%5D%2C%20%5B127.16278322754954%2C%2037.17771519608909%5D%2C%20%5B127.15371679380591%2C%2037.215705679231036%5D%2C%20%5B127.09106338919456%2C%2037.21351968359228%5D%2C%20%5B127.06878518378286%2C%2037.23731339587258%5D%2C%20%5B127.04178611512381%2C%2037.24066886027782%5D%2C%20%5B127.02475029106094%2C%2037.22207898080851%5D%2C%20%5B126.97491964707861%2C%2037.22588531228192%5D%2C%20%5B126.95229769733274%2C%2037.2524826245201%5D%2C%20%5B126.93110125729105%2C%2037.260824951129344%5D%2C%20%5B126.92946761531998%2C%2037.275967848758626%5D%5D%5D%2C%20%22type%22%3A%20%22Polygon%22%7D%2C%20%22properties%22%3A%20%7B%22base_year%22%3A%202013%2C%20%22code%22%3A%2031240%2C%20%22name%22%3A%20%22%5Cud654%5Cuc131%5Cuc2dc%22%2C%20%22name_eng%22%3A%20%22Hwaseongsi%22%7D%2C%20%22type%22%3A%20%22Feature%22%7D%2C%20%7B%22geometry%22%3A%20%7B%22coordinates%22%3A%20%5B%5B%5B126.67862254618308%2C%2037.697305342702336%5D%2C%20%5B126.68687028203884%2C%2037.72287270233232%5D%2C%20%5B126.66907840308846%2C%2037.78174793493798%5D%2C%20%5B126.64101439012131%2C%2037.77566349630024%5D%2C%20%5B126.61153655783419%2C%2037.75013666485523%5D%2C%20%5B126.56882602841813%2C%2037.7532565431125%5D%2C%20%5B126.55721894228033%2C%2037.76621180168271%5D%2C%20%5B126.51662409600848%2C%2037.76417822326665%5D%2C%20%5B126.52807816920034%2C%2037.73531846953613%5D%2C%20%5B126.52057497424896%2C%2037.70995131425922%5D%2C%20%5B126.5293420651622%2C%2037.70036377653783%5D%2C%20%5B126.52504262045373%2C%2037.67373626287928%5D%2C%20%5B126.53101689696972%2C%2037.65019057730887%5D%2C%20%5B126.55161765645468%2C%2037.624298554715594%5D%2C%20%5B126.55623106969898%2C%2037.60651221746275%5D%2C%20%5B126.57464273966109%2C%2037.58499252358352%5D%2C%20%5B126.61067265871806%2C%2037.601000735347455%5D%2C%20%5B126.6298186792055%2C%2037.60410987353396%5D%2C%20%5B126.63835822769396%2C%2037.62500980457943%5D%2C%20%5B126.6591800896809%2C%2037.63521787385032%5D%2C%20%5B126.70070861456485%2C%2037.6146734329379%5D%2C%20%5B126.72720375328538%2C%2037.589208895921956%5D%2C%20%5B126.74570339076207%2C%2037.59055779256247%5D%2C%20%5B126.79575768552907%2C%2037.57881087633202%5D%2C%20%5B126.80702115023597%2C%2037.60123001013228%5D%2C%20%5B126.77608157956732%2C%2037.61940269153496%5D%2C%20%5B126.74300328815525%2C%2037.63613822400079%5D%2C%20%5B126.6733552623039%2C%2037.67370888254625%5D%2C%20%5B126.67862254618308%2C%2037.697305342702336%5D%5D%5D%2C%20%22type%22%3A%20%22Polygon%22%7D%2C%20%22properties%22%3A%20%7B%22base_year%22%3A%202013%2C%20%22code%22%3A%2031230%2C%20%22name%22%3A%20%22%5Cuae40%5Cud3ec%5Cuc2dc%22%2C%20%22name_eng%22%3A%20%22Gimpo-si%22%7D%2C%20%22type%22%3A%20%22Feature%22%7D%2C%20%7B%22geometry%22%3A%20%7B%22coordinates%22%3A%20%5B%5B%5B127.4921007211045%2C%2037.04995601187854%5D%2C%20%5B127.50695269820937%2C%2037.05753483878351%5D%2C%20%5B127.5183736840388%2C%2037.08503753187909%5D%2C%20%5B127.50508537419512%2C%2037.115382889205684%5D%2C%20%5B127.45481750751989%2C%2037.132580597361105%5D%2C%20%5B127.43195960102275%2C%2037.144888798316245%5D%2C%20%5B127.4230458143012%2C%2037.123216212193206%5D%2C%20%5B127.42631296061737%2C%2037.09684636395198%5D%2C%20%5B127.40130784690913%2C%2037.09245087525459%5D%2C%20%5B127.36035341650685%2C%2037.104395022706164%5D%2C%20%5B127.34555940652085%2C%2037.10116608411004%5D%2C%20%5B127.32884755687247%2C%2037.11659174326816%5D%2C%20%5B127.3127600393989%2C%2037.10253147019345%5D%2C%20%5B127.29016455856019%2C%2037.1284169582523%5D%2C%20%5B127.2524045686932%2C%2037.142247323045744%5D%2C%20%5B127.25314613987028%2C%2037.120146872115946%5D%2C%20%5B127.23808463453801%2C%2037.11859194998404%5D%2C%20%5B127.21070673321714%2C%2037.1015342900424%5D%2C%20%5B127.19738813790079%2C%2037.08621655572156%5D%2C%20%5B127.16831604852223%2C%2037.083742477354726%5D%2C%20%5B127.12516729074011%2C%2037.08849523189945%5D%2C%20%5B127.12948838054707%2C%2037.04966079815856%5D%2C%20%5B127.10740090841584%2C%2037.0328875639127%5D%2C%20%5B127.15517998352519%2C%2037.026613262831916%5D%2C%20%5B127.14747724307254%2C%2037.0138188945719%5D%2C%20%5B127.15496570056612%2C%2036.99487383420599%5D%2C%20%5B127.13779801966723%2C%2036.99041291045364%5D%2C%20%5B127.1216062947912%2C%2036.96626164975953%5D%2C%20%5B127.1464102583773%2C%2036.96864576891614%5D%2C%20%5B127.20400548086619%2C%2036.94924588348929%5D%2C%20%5B127.2223238977499%2C%2036.92742980980818%5D%2C%20%5B127.24613652503862%2C%2036.91453164371645%5D%2C%20%5B127.27227784491541%2C%2036.910372298119825%5D%2C%20%5B127.2919237698698%2C%2036.89094292918124%5D%2C%20%5B127.31127137227124%2C%2036.92622202120876%5D%2C%20%5B127.35186324388168%2C%2036.94969761594173%5D%2C%20%5B127.38065822509601%2C%2036.94859652718182%5D%2C%20%5B127.40398967704995%2C%2036.96488092382215%5D%2C%20%5B127.38707184117484%2C%2036.981534293776996%5D%2C%20%5B127.39617030040874%2C%2036.99507985079591%5D%2C%20%5B127.43189913129159%2C%2036.99902770852865%5D%2C%20%5B127.4488413674345%2C%2037.008168187910805%5D%2C%20%5B127.46014553759977%2C%2037.01772149607737%5D%2C%20%5B127.45985706240288%2C%2037.0407398003885%5D%2C%20%5B127.4921007211045%2C%2037.04995601187854%5D%5D%5D%2C%20%22type%22%3A%20%22Polygon%22%7D%2C%20%22properties%22%3A%20%7B%22base_year%22%3A%202013%2C%20%22code%22%3A%2031220%2C%20%22name%22%3A%20%22%5Cuc548%5Cuc131%5Cuc2dc%22%2C%20%22name_eng%22%3A%20%22Anseong-si%22%7D%2C%20%22type%22%3A%20%22Feature%22%7D%2C%20%7B%22geometry%22%3A%20%7B%22coordinates%22%3A%20%5B%5B%5B127.44459662819855%2C%2037.35562085049101%5D%2C%20%5B127.42277946655206%2C%2037.33526375647856%5D%2C%20%5B127.38906532153541%2C%2037.31608103967859%5D%2C%20%5B127.37829628277709%2C%2037.317936247676194%5D%2C%20%5B127.34227600003884%2C%2037.28528169366774%5D%2C%20%5B127.34092967480524%2C%2037.26770614318737%5D%2C%20%5B127.33185727826834%2C%2037.21877880590886%5D%2C%20%5B127.3504254442421%2C%2037.20158943522061%5D%2C%20%5B127.38033957366586%2C%2037.19271119046181%5D%2C%20%5B127.38451468391715%2C%2037.17989930552182%5D%2C%20%5B127.41620898203362%2C%2037.17029801090558%5D%2C%20%5B127.41445191048162%2C%2037.152220061925426%5D%2C%20%5B127.43195960102275%2C%2037.144888798316245%5D%2C%20%5B127.45481750751989%2C%2037.132580597361105%5D%2C%20%5B127.50508537419512%2C%2037.115382889205684%5D%2C%20%5B127.5183736840388%2C%2037.08503753187909%5D%2C%20%5B127.50695269820937%2C%2037.05753483878351%5D%2C%20%5B127.4921007211045%2C%2037.04995601187854%5D%2C%20%5B127.5328452994501%2C%2037.052947456094785%5D%2C%20%5B127.55489094869193%2C%2037.04147062932325%5D%2C%20%5B127.56834352033556%2C%2037.06015560613134%5D%2C%20%5B127.60303992687903%2C%2037.08267817797425%5D%2C%20%5B127.63326599440494%2C%2037.09343317631327%5D%2C%20%5B127.6399897481202%2C%2037.13818503173906%5D%2C%20%5B127.63091754409567%2C%2037.150947430524305%5D%2C%20%5B127.5999013564347%2C%2037.1854997199498%5D%2C%20%5B127.5785248984445%2C%2037.186311208078585%5D%2C%20%5B127.55830514005798%2C%2037.17381401041668%5D%2C%20%5B127.52893461217018%2C%2037.170618598276%5D%2C%20%5B127.51957698997381%2C%2037.18188687027366%5D%2C%20%5B127.53342604855668%2C%2037.19715010635273%5D%2C%20%5B127.52770097674612%2C%2037.23765094459253%5D%2C%20%5B127.5395160453677%2C%2037.24379045683148%5D%2C%20%5B127.53106721989582%2C%2037.27115011578052%5D%2C%20%5B127.54853754663094%2C%2037.29860192066929%5D%2C%20%5B127.51574229064994%2C%2037.336561285567946%5D%2C%20%5B127.49167370715485%2C%2037.339527598960764%5D%2C%20%5B127.47263652805968%2C%2037.35869263849808%5D%2C%20%5B127.44459662819855%2C%2037.35562085049101%5D%5D%5D%2C%20%22type%22%3A%20%22Polygon%22%7D%2C%20%22properties%22%3A%20%7B%22base_year%22%3A%202013%2C%20%22code%22%3A%2031210%2C%20%22name%22%3A%20%22%5Cuc774%5Cucc9c%5Cuc2dc%22%2C%20%22name_eng%22%3A%20%22Icheon-si%22%7D%2C%20%22type%22%3A%20%22Feature%22%7D%2C%20%7B%22geometry%22%3A%20%7B%22coordinates%22%3A%20%5B%5B%5B126.8029965558113%2C%2037.989251239637596%5D%2C%20%5B126.78238542753242%2C%2037.980043641136376%5D%2C%20%5B126.76520529808869%2C%2037.98230780004701%5D%2C%20%5B126.7420462951568%2C%2037.96995265840659%5D%2C%20%5B126.74668441679131%2C%2037.94913356897888%5D%2C%20%5B126.71646858457899%2C%2037.93722236122983%5D%2C%20%5B126.69257364928472%2C%2037.941147151072606%5D%2C%20%5B126.67501771549766%2C%2037.95271495350346%5D%2C%20%5B126.66763541566303%2C%2037.91838340624898%5D%2C%20%5B126.67945067210682%2C%2037.89497402505224%5D%2C%20%5B126.67382346217423%2C%2037.88401755835065%5D%2C%20%5B126.69348896006609%2C%2037.86442957434648%5D%2C%20%5B126.6622706417164%2C%2037.83606410322825%5D%2C%20%5B126.67603874694878%2C%2037.82828427203144%5D%2C%20%5B126.66423330880171%2C%2037.78738456951397%5D%2C%20%5B126.66907840308846%2C%2037.78174793493798%5D%2C%20%5B126.68687028203884%2C%2037.72287270233232%5D%2C%20%5B126.67862254618308%2C%2037.697305342702336%5D%2C%20%5B126.69372674409394%2C%2037.687413022894034%5D%2C%20%5B126.72711651649912%2C%2037.70166318681986%5D%2C%20%5B126.77635483402547%2C%2037.70188604497484%5D%2C%20%5B126.79766531143225%2C%2037.730785143520876%5D%2C%20%5B126.81634118925638%2C%2037.72071803262515%5D%2C%20%5B126.83772078982989%2C%2037.72529130369535%5D%2C%20%5B126.85856020555829%2C%2037.73179451375736%5D%2C%20%5B126.88536540501534%2C%2037.717034664244366%5D%2C%20%5B126.90425036668735%2C%2037.72565605361581%5D%2C%20%5B126.91088793086112%2C%2037.74418199544871%5D%2C%20%5B126.93180653905974%2C%2037.74575671706106%5D%2C%20%5B126.93838979622467%2C%2037.771436009953916%5D%2C%20%5B126.9073114617216%2C%2037.790560159793145%5D%2C%20%5B126.9160273881691%2C%2037.83830532663158%5D%2C%20%5B126.93661135445112%2C%2037.843479475117995%5D%2C%20%5B126.9484401545115%2C%2037.86422401203834%5D%2C%20%5B126.94883433502994%2C%2037.89688479787927%5D%2C%20%5B126.97545924731331%2C%2037.93928140597955%5D%2C%20%5B127.01739022262282%2C%2037.989561835400195%5D%2C%20%5B126.99425287672854%2C%2038.000624488107924%5D%2C%20%5B126.97166918547234%2C%2038.000587999007735%5D%2C%20%5B126.93929997962098%2C%2037.9789601448141%5D%2C%20%5B126.90034044420747%2C%2037.99438948257985%5D%2C%20%5B126.89755470110721%2C%2037.9683523617657%5D%2C%20%5B126.8739356423477%2C%2037.968400924665225%5D%2C%20%5B126.85859300440933%2C%2037.98329485669624%5D%2C%20%5B126.8423229135476%2C%2037.97819760433225%5D%2C%20%5B126.8388723334759%2C%2037.96197909365746%5D%2C%20%5B126.80659958939793%2C%2037.9680012097748%5D%2C%20%5B126.8029965558113%2C%2037.989251239637596%5D%5D%5D%2C%20%22type%22%3A%20%22Polygon%22%7D%2C%20%22properties%22%3A%20%7B%22base_year%22%3A%202013%2C%20%22code%22%3A%2031200%2C%20%22name%22%3A%20%22%5Cud30c%5Cuc8fc%5Cuc2dc%22%2C%20%22name_eng%22%3A%20%22Paju-si%22%7D%2C%20%22type%22%3A%20%22Feature%22%7D%2C%20%7B%22geometry%22%3A%20%7B%22coordinates%22%3A%20%5B%5B%5B127.03004539569396%2C%2037.36932312139811%5D%2C%20%5B127.02090967499298%2C%2037.348741503905366%5D%2C%20%5B127.03554038078946%2C%2037.341941908872045%5D%2C%20%5B127.04202153059128%2C%2037.318511731862884%5D%2C%20%5B127.06304327683587%2C%2037.30610813773979%5D%2C%20%5B127.06269400142102%2C%2037.293755190822594%5D%2C%20%5B127.09199113357242%2C%2037.295585212583866%5D%2C%20%5B127.10392750030913%2C%2037.31946377620277%5D%2C%20%5B127.13936654068314%2C%2037.321564168361974%5D%2C%20%5B127.1439713536275%2C%2037.33349026702227%5D%2C%20%5B127.13845652996186%2C%2037.336816804055495%5D%2C%20%5B127.11899182435063%2C%2037.33059044022546%5D%2C%20%5B127.07299151640797%2C%2037.35485426174942%5D%2C%20%5B127.03004539569396%2C%2037.36932312139811%5D%5D%5D%2C%20%22type%22%3A%20%22Polygon%22%7D%2C%20%22properties%22%3A%20%7B%22base_year%22%3A%202013%2C%20%22code%22%3A%2031193%2C%20%22name%22%3A%20%22%5Cuc6a9%5Cuc778%5Cuc2dc%5Cuc218%5Cuc9c0%5Cuad6c%22%2C%20%22name_eng%22%3A%20%22Yonginsisujigu%22%7D%2C%20%22type%22%3A%20%22Feature%22%7D%2C%20%7B%22geometry%22%3A%20%7B%22coordinates%22%3A%20%5B%5B%5B127.09199113357242%2C%2037.295585212583866%5D%2C%20%5B127.09104881579566%2C%2037.284308786190785%5D%2C%20%5B127.06718840393803%2C%2037.26860748709257%5D%2C%20%5B127.08680542938673%2C%2037.253775982641194%5D%2C%20%5B127.06878518378286%2C%2037.23731339587258%5D%2C%20%5B127.09106338919456%2C%2037.21351968359228%5D%2C%20%5B127.15371679380591%2C%2037.215705679231036%5D%2C%20%5B127.15133830848096%2C%2037.23783513168847%5D%2C%20%5B127.17714136480691%2C%2037.255352775734025%5D%2C%20%5B127.17921513238925%2C%2037.282153169636494%5D%2C%20%5B127.13936654068314%2C%2037.321564168361974%5D%2C%20%5B127.10392750030913%2C%2037.31946377620277%5D%2C%20%5B127.09199113357242%2C%2037.295585212583866%5D%5D%5D%2C%20%22type%22%3A%20%22Polygon%22%7D%2C%20%22properties%22%3A%20%7B%22base_year%22%3A%202013%2C%20%22code%22%3A%2031192%2C%20%22name%22%3A%20%22%5Cuc6a9%5Cuc778%5Cuc2dc%5Cuae30%5Cud765%5Cuad6c%22%2C%20%22name_eng%22%3A%20%22Yonginsigiheunggu%22%7D%2C%20%22type%22%3A%20%22Feature%22%7D%2C%20%7B%22geometry%22%3A%20%7B%22coordinates%22%3A%20%5B%5B%5B127.34092967480524%2C%2037.26770614318737%5D%2C%20%5B127.32142008240551%2C%2037.27215636613311%5D%2C%20%5B127.28383871402815%2C%2037.2658807760632%5D%2C%20%5B127.2795205391003%2C%2037.306809952638524%5D%2C%20%5B127.28543362549937%2C%2037.3425335272208%5D%2C%20%5B127.26708575818817%2C%2037.33990127392118%5D%2C%20%5B127.23072982952925%2C%2037.35607967407726%5D%2C%20%5B127.21042746205282%2C%2037.32805374935785%5D%2C%20%5B127.19373839709431%2C%2037.34441869868583%5D%2C%20%5B127.1439713536275%2C%2037.33349026702227%5D%2C%20%5B127.13936654068314%2C%2037.321564168361974%5D%2C%20%5B127.17921513238925%2C%2037.282153169636494%5D%2C%20%5B127.17714136480691%2C%2037.255352775734025%5D%2C%20%5B127.15133830848096%2C%2037.23783513168847%5D%2C%20%5B127.15371679380591%2C%2037.215705679231036%5D%2C%20%5B127.16278322754954%2C%2037.17771519608909%5D%2C%20%5B127.13469226704495%2C%2037.165565916914176%5D%2C%20%5B127.12480483538663%2C%2037.14166379699704%5D%2C%20%5B127.11116461643066%2C%2037.123859739458304%5D%2C%20%5B127.12516729074011%2C%2037.08849523189945%5D%2C%20%5B127.16831604852223%2C%2037.083742477354726%5D%2C%20%5B127.19738813790079%2C%2037.08621655572156%5D%2C%20%5B127.21070673321714%2C%2037.1015342900424%5D%2C%20%5B127.23808463453801%2C%2037.11859194998404%5D%2C%20%5B127.25314613987028%2C%2037.120146872115946%5D%2C%20%5B127.2524045686932%2C%2037.142247323045744%5D%2C%20%5B127.29016455856019%2C%2037.1284169582523%5D%2C%20%5B127.3127600393989%2C%2037.10253147019345%5D%2C%20%5B127.32884755687247%2C%2037.11659174326816%5D%2C%20%5B127.34555940652085%2C%2037.10116608411004%5D%2C%20%5B127.36035341650685%2C%2037.104395022706164%5D%2C%20%5B127.40130784690913%2C%2037.09245087525459%5D%2C%20%5B127.42631296061737%2C%2037.09684636395198%5D%2C%20%5B127.4230458143012%2C%2037.123216212193206%5D%2C%20%5B127.43195960102275%2C%2037.144888798316245%5D%2C%20%5B127.41445191048162%2C%2037.152220061925426%5D%2C%20%5B127.41620898203362%2C%2037.17029801090558%5D%2C%20%5B127.38451468391715%2C%2037.17989930552182%5D%2C%20%5B127.38033957366586%2C%2037.19271119046181%5D%2C%20%5B127.3504254442421%2C%2037.20158943522061%5D%2C%20%5B127.33185727826834%2C%2037.21877880590886%5D%2C%20%5B127.34092967480524%2C%2037.26770614318737%5D%5D%5D%2C%20%22type%22%3A%20%22Polygon%22%7D%2C%20%22properties%22%3A%20%7B%22base_year%22%3A%202013%2C%20%22code%22%3A%2031191%2C%20%22name%22%3A%20%22%5Cuc6a9%5Cuc778%5Cuc2dc%5Cucc98%5Cuc778%5Cuad6c%22%2C%20%22name_eng%22%3A%20%22Yonginsicheoingu%22%7D%2C%20%22type%22%3A%20%22Feature%22%7D%2C%20%7B%22geometry%22%3A%20%7B%22coordinates%22%3A%20%5B%5B%5B127.16683184366129%2C%2037.57672487388627%5D%2C%20%5B127.18408792330152%2C%2037.55814280369575%5D%2C%20%5B127.16530984307447%2C%2037.54221851258693%5D%2C%20%5B127.14672806823502%2C%2037.51415680680291%5D%2C%20%5B127.1634944215765%2C%2037.497445406097484%5D%2C%20%5B127.14206058413274%2C%2037.47089819098501%5D%2C%20%5B127.17807401290999%2C%2037.46939077799968%5D%2C%20%5B127.1831716097913%2C%2037.47048077053623%5D%2C%20%5B127.21785285379218%2C%2037.479493796173465%5D%2C%20%5B127.23892819551556%2C%2037.47240158876339%5D%2C%20%5B127.26066872639333%2C%2037.4867746581613%5D%2C%20%5B127.25539313999657%2C%2037.50044702706516%5D%2C%20%5B127.28971082577908%2C%2037.51069218442014%5D%2C%20%5B127.28111702399318%2C%2037.523561821461996%5D%2C%20%5B127.23688890922413%2C%2037.546307321113254%5D%2C%20%5B127.23635034049964%2C%2037.55494536243556%5D%2C%20%5B127.20140811211739%2C%2037.58834877432742%5D%2C%20%5B127.16683184366129%2C%2037.57672487388627%5D%5D%5D%2C%20%22type%22%3A%20%22Polygon%22%7D%2C%20%22properties%22%3A%20%7B%22base_year%22%3A%202013%2C%20%22code%22%3A%2031180%2C%20%22name%22%3A%20%22%5Cud558%5Cub0a8%5Cuc2dc%22%2C%20%22name_eng%22%3A%20%22Hanam-si%22%7D%2C%20%22type%22%3A%20%22Feature%22%7D%2C%20%7B%22geometry%22%3A%20%7B%22coordinates%22%3A%20%5B%5B%5B127.04377994345505%2C%2037.41281928664435%5D%2C%20%5B127.0154646349186%2C%2037.411005997724835%5D%2C%20%5B126.98466887829045%2C%2037.39785909018114%5D%2C%20%5B126.96423328330341%2C%2037.358735102948096%5D%2C%20%5B126.94893535067122%2C%2037.32100738175514%5D%2C%20%5B126.93252071350132%2C%2037.30423856869929%5D%2C%20%5B126.93504702033805%2C%2037.3002209928663%5D%2C%20%5B126.96633916587045%2C%2037.29989574204989%5D%2C%20%5B126.98303616696394%2C%2037.32376927812144%5D%2C%20%5B127.02090967499298%2C%2037.348741503905366%5D%2C%20%5B127.03004539569396%2C%2037.36932312139811%5D%2C%20%5B127.04580444799605%2C%2037.40139072056455%5D%2C%20%5B127.04377994345505%2C%2037.41281928664435%5D%5D%5D%2C%20%22type%22%3A%20%22Polygon%22%7D%2C%20%22properties%22%3A%20%7B%22base_year%22%3A%202013%2C%20%22code%22%3A%2031170%2C%20%22name%22%3A%20%22%5Cuc758%5Cuc655%5Cuc2dc%22%2C%20%22name_eng%22%3A%20%22Uiwang-si%22%7D%2C%20%22type%22%3A%20%22Feature%22%7D%2C%20%7B%22geometry%22%3A%20%7B%22coordinates%22%3A%20%5B%5B%5B126.96423328330341%2C%2037.358735102948096%5D%2C%20%5B126.9429122120182%2C%2037.37630880537034%5D%2C%20%5B126.9163870114383%2C%2037.37253977179312%5D%2C%20%5B126.89932903785872%2C%2037.35524703438324%5D%2C%20%5B126.88015838809775%2C%2037.316795632219964%5D%2C%20%5B126.9092771218202%2C%2037.318694910599305%5D%2C%20%5B126.93252071350132%2C%2037.30423856869929%5D%2C%20%5B126.94893535067122%2C%2037.32100738175514%5D%2C%20%5B126.96423328330341%2C%2037.358735102948096%5D%5D%5D%2C%20%22type%22%3A%20%22Polygon%22%7D%2C%20%22properties%22%3A%20%7B%22base_year%22%3A%202013%2C%20%22code%22%3A%2031160%2C%20%22name%22%3A%20%22%5Cuad70%5Cud3ec%5Cuc2dc%22%2C%20%22name_eng%22%3A%20%22Gunpo-si%22%7D%2C%20%22type%22%3A%20%22Feature%22%7D%2C%20%7B%22geometry%22%3A%20%7B%22coordinates%22%3A%20%5B%5B%5B126.78024890848009%2C%2037.469000573789124%5D%2C%20%5B126.78043371089171%2C%2037.44800343708732%5D%2C%20%5B126.77110599967482%2C%2037.42452961090748%5D%2C%20%5B126.75529287233691%2C%2037.41984217802103%5D%2C%20%5B126.73861862061078%2C%2037.39261185865545%5D%2C%20%5B126.7029884306089%2C%2037.352119573644295%5D%2C%20%5B126.69453406156698%2C%2037.331064777919245%5D%2C%20%5B126.7248752674955%2C%2037.31058440885402%5D%2C%20%5B126.74059726902762%2C%2037.32685692943894%5D%2C%20%5B126.76357575956314%2C%2037.33864505297868%5D%2C%20%5B126.79105964941944%2C%2037.33699094698096%5D%2C%20%5B126.82580289305967%2C%2037.360321842249355%5D%2C%20%5B126.84283747134161%2C%2037.360869895636554%5D%2C%20%5B126.86691937294266%2C%2037.358697064350324%5D%2C%20%5B126.88400175928666%2C%2037.37340263600163%5D%2C%20%5B126.879093453746%2C%2037.399239167854816%5D%2C%20%5B126.85964157227416%2C%2037.398615706957116%5D%2C%20%5B126.8484052155556%2C%2037.40965572330444%5D%2C%20%5B126.8280587234361%2C%2037.456596986921056%5D%2C%20%5B126.78024890848009%2C%2037.469000573789124%5D%5D%5D%2C%20%22type%22%3A%20%22Polygon%22%7D%2C%20%22properties%22%3A%20%7B%22base_year%22%3A%202013%2C%20%22code%22%3A%2031150%2C%20%22name%22%3A%20%22%5Cuc2dc%5Cud765%5Cuc2dc%22%2C%20%22name_eng%22%3A%20%22Siheung-si%22%7D%2C%20%22type%22%3A%20%22Feature%22%7D%2C%20%7B%22geometry%22%3A%20%7B%22coordinates%22%3A%20%5B%5B%5B127.10575417734016%2C%2037.1407283236673%5D%2C%20%5B127.09596808287752%2C%2037.1566082978686%5D%2C%20%5B127.07609473440765%2C%2037.16092553278145%5D%2C%20%5B127.06660498380589%2C%2037.19589230774365%5D%2C%20%5B127.02929563655235%2C%2037.19787494412135%5D%2C%20%5B127.00186863458882%2C%2037.1747343711991%5D%2C%20%5B127.03019615684671%2C%2037.16027870494751%5D%2C%20%5B127.03746950511537%2C%2037.13336771678679%5D%2C%20%5B127.04304406837494%2C%2037.126222304219084%5D%2C%20%5B127.09127893510457%2C%2037.12882078023335%5D%2C%20%5B127.10575417734016%2C%2037.1407283236673%5D%5D%5D%2C%20%22type%22%3A%20%22Polygon%22%7D%2C%20%22properties%22%3A%20%7B%22base_year%22%3A%202013%2C%20%22code%22%3A%2031140%2C%20%22name%22%3A%20%22%5Cuc624%5Cuc0b0%5Cuc2dc%22%2C%20%22name_eng%22%3A%20%22Osan-si%22%7D%2C%20%22type%22%3A%20%22Feature%22%7D%2C%20%7B%22geometry%22%3A%20%7B%22coordinates%22%3A%20%5B%5B%5B127.2686525155809%2C%2037.777676803810074%5D%2C%20%5B127.26186907661463%2C%2037.765678541736996%5D%2C%20%5B127.22719439323131%2C%2037.750666435161854%5D%2C%20%5B127.21510645674604%2C%2037.75873586709106%5D%2C%20%5B127.18575971970597%2C%2037.76186443408089%5D%2C%20%5B127.17524551122212%2C%2037.751938183429424%5D%2C%20%5B127.14882403466048%2C%2037.75206030443599%5D%2C%20%5B127.13060037316637%2C%2037.74504865443316%5D%2C%20%5B127.12788299600184%2C%2037.72469254066713%5D%2C%20%5B127.0838752703195%2C%2037.69359534202034%5D%2C%20%5B127.09706391309695%2C%2037.686383719372294%5D%2C%20%5B127.09440766298717%2C%2037.64713490473045%5D%2C%20%5B127.11326795855199%2C%2037.639622905315925%5D%2C%20%5B127.1523782881412%2C%2037.63663639743511%5D%2C%20%5B127.14554907981939%2C%2037.61784095180692%5D%2C%20%5B127.16683184366129%2C%2037.57672487388627%5D%2C%20%5B127.20140811211739%2C%2037.58834877432742%5D%2C%20%5B127.23635034049964%2C%2037.55494536243556%5D%2C%20%5B127.23688890922413%2C%2037.546307321113254%5D%2C%20%5B127.28111702399318%2C%2037.523561821461996%5D%2C%20%5B127.28971082577908%2C%2037.51069218442014%5D%2C%20%5B127.30923294884336%2C%2037.5135706079458%5D%2C%20%5B127.31002843450217%2C%2037.53523876142835%5D%2C%20%5B127.34360057873045%2C%2037.588997440929354%5D%2C%20%5B127.3542931884407%2C%2037.6250006376975%5D%2C%20%5B127.3732642199939%2C%2037.6453987554284%5D%2C%20%5B127.38133544278186%2C%2037.67180837890239%5D%2C%20%5B127.35557114419971%2C%2037.701041217064585%5D%2C%20%5B127.35759057077398%2C%2037.720909295881434%5D%2C%20%5B127.34501289752937%2C%2037.7266690692075%5D%2C%20%5B127.32070791913966%2C%2037.76445271893134%5D%2C%20%5B127.2686525155809%2C%2037.777676803810074%5D%5D%5D%2C%20%22type%22%3A%20%22Polygon%22%7D%2C%20%22properties%22%3A%20%7B%22base_year%22%3A%202013%2C%20%22code%22%3A%2031130%2C%20%22name%22%3A%20%22%5Cub0a8%5Cuc591%5Cuc8fc%5Cuc2dc%22%2C%20%22name_eng%22%3A%20%22Namyangju-si%22%7D%2C%20%22type%22%3A%20%22Feature%22%7D%2C%20%7B%22geometry%22%3A%20%7B%22coordinates%22%3A%20%5B%5B%5B127.11326795855199%2C%2037.639622905315925%5D%2C%20%5B127.10782277688129%2C%2037.61804244241069%5D%2C%20%5B127.1201246020114%2C%2037.60178457598188%5D%2C%20%5B127.10304174249214%2C%2037.57076342290955%5D%2C%20%5B127.11519584981606%2C%2037.557533180704915%5D%2C%20%5B127.16683184366129%2C%2037.57672487388627%5D%2C%20%5B127.14554907981939%2C%2037.61784095180692%5D%2C%20%5B127.1523782881412%2C%2037.63663639743511%5D%2C%20%5B127.11326795855199%2C%2037.639622905315925%5D%5D%5D%2C%20%22type%22%3A%20%22Polygon%22%7D%2C%20%22properties%22%3A%20%7B%22base_year%22%3A%202013%2C%20%22code%22%3A%2031120%2C%20%22name%22%3A%20%22%5Cuad6c%5Cub9ac%5Cuc2dc%22%2C%20%22name_eng%22%3A%20%22Guri-si%22%7D%2C%20%22type%22%3A%20%22Feature%22%7D%2C%20%7B%22geometry%22%3A%20%7B%22coordinates%22%3A%20%5B%5B%5B126.99072073195462%2C%2037.455326143310025%5D%2C%20%5B126.96520439085143%2C%2037.438249784006246%5D%2C%20%5B126.96342494806345%2C%2037.42289846046814%5D%2C%20%5B126.98466887829045%2C%2037.39785909018114%5D%2C%20%5B127.0154646349186%2C%2037.411005997724835%5D%2C%20%5B127.04377994345505%2C%2037.41281928664435%5D%2C%20%5B127.04957232987142%2C%2037.42805836845694%5D%2C%20%5B127.03881782597922%2C%2037.45382039851715%5D%2C%20%5B126.99072073195462%2C%2037.455326143310025%5D%5D%5D%2C%20%22type%22%3A%20%22Polygon%22%7D%2C%20%22properties%22%3A%20%7B%22base_year%22%3A%202013%2C%20%22code%22%3A%2031110%2C%20%22name%22%3A%20%22%5Cuacfc%5Cucc9c%5Cuc2dc%22%2C%20%22name_eng%22%3A%20%22Gwacheon-si%22%7D%2C%20%22type%22%3A%20%22Feature%22%7D%2C%20%7B%22geometry%22%3A%20%7B%22coordinates%22%3A%20%5B%5B%5B126.67862254618308%2C%2037.697305342702336%5D%2C%20%5B126.6733552623039%2C%2037.67370888254625%5D%2C%20%5B126.74300328815525%2C%2037.63613822400079%5D%2C%20%5B126.74294383613385%2C%2037.6511173927548%5D%2C%20%5B126.77194259250199%2C%2037.665292527690774%5D%2C%20%5B126.78018904849759%2C%2037.678448868614744%5D%2C%20%5B126.77635483402547%2C%2037.70188604497484%5D%2C%20%5B126.72711651649912%2C%2037.70166318681986%5D%2C%20%5B126.69372674409394%2C%2037.687413022894034%5D%2C%20%5B126.67862254618308%2C%2037.697305342702336%5D%5D%5D%2C%20%22type%22%3A%20%22Polygon%22%7D%2C%20%22properties%22%3A%20%7B%22base_year%22%3A%202013%2C%20%22code%22%3A%2031104%2C%20%22name%22%3A%20%22%5Cuace0%5Cuc591%5Cuc2dc%5Cuc77c%5Cuc0b0%5Cuc11c%5Cuad6c%22%2C%20%22name_eng%22%3A%20%22Goyangsiilsanseogu%22%7D%2C%20%22type%22%3A%20%22Feature%22%7D%2C%20%7B%22geometry%22%3A%20%7B%22coordinates%22%3A%20%5B%5B%5B126.77635483402547%2C%2037.70188604497484%5D%2C%20%5B126.78018904849759%2C%2037.678448868614744%5D%2C%20%5B126.77194259250199%2C%2037.665292527690774%5D%2C%20%5B126.74294383613385%2C%2037.6511173927548%5D%2C%20%5B126.74300328815525%2C%2037.63613822400079%5D%2C%20%5B126.77608157956732%2C%2037.61940269153496%5D%2C%20%5B126.79710848915354%2C%2037.6372950352041%5D%2C%20%5B126.83512162789108%2C%2037.680020660541864%5D%2C%20%5B126.85703023929057%2C%2037.68935027811791%5D%2C%20%5B126.83772078982989%2C%2037.72529130369535%5D%2C%20%5B126.81634118925638%2C%2037.72071803262515%5D%2C%20%5B126.79766531143225%2C%2037.730785143520876%5D%2C%20%5B126.77635483402547%2C%2037.70188604497484%5D%5D%5D%2C%20%22type%22%3A%20%22Polygon%22%7D%2C%20%22properties%22%3A%20%7B%22base_year%22%3A%202013%2C%20%22code%22%3A%2031103%2C%20%22name%22%3A%20%22%5Cuace0%5Cuc591%5Cuc2dc%5Cuc77c%5Cuc0b0%5Cub3d9%5Cuad6c%22%2C%20%22name_eng%22%3A%20%22Goyangsiilsandonggu%22%7D%2C%20%22type%22%3A%20%22Feature%22%7D%2C%20%7B%22geometry%22%3A%20%7B%22coordinates%22%3A%20%5B%5B%5B126.83772078982989%2C%2037.72529130369535%5D%2C%20%5B126.85703023929057%2C%2037.68935027811791%5D%2C%20%5B126.83512162789108%2C%2037.680020660541864%5D%2C%20%5B126.79710848915354%2C%2037.6372950352041%5D%2C%20%5B126.77608157956732%2C%2037.61940269153496%5D%2C%20%5B126.80702115023597%2C%2037.60123001013228%5D%2C%20%5B126.82251438477105%2C%2037.5880430810082%5D%2C%20%5B126.85984199399667%2C%2037.571847855292745%5D%2C%20%5B126.88433284773288%2C%2037.588143322880526%5D%2C%20%5B126.90396681003595%2C%2037.59227403419942%5D%2C%20%5B126.90303066177668%2C%2037.609977911401344%5D%2C%20%5B126.91455481429648%2C%2037.64150050996935%5D%2C%20%5B126.956473797387%2C%2037.652480737339445%5D%2C%20%5B126.9738864128702%2C%2037.62949634786888%5D%2C%20%5B126.977175406416%2C%2037.62859715400388%5D%2C%20%5B126.98672705513869%2C%2037.63377641288196%5D%2C%20%5B126.9817452676551%2C%2037.65209769387776%5D%2C%20%5B126.99383903424%2C%2037.676681761199085%5D%2C%20%5B126.96734461801938%2C%2037.68969305565268%5D%2C%20%5B126.94689093217877%2C%2037.68234333447953%5D%2C%20%5B126.94191948970435%2C%2037.66797237250146%5D%2C%20%5B126.92290257733573%2C%2037.66907383915535%5D%2C%20%5B126.92470886562188%2C%2037.72916078041937%5D%2C%20%5B126.93180653905974%2C%2037.74575671706106%5D%2C%20%5B126.91088793086112%2C%2037.74418199544871%5D%2C%20%5B126.90425036668735%2C%2037.72565605361581%5D%2C%20%5B126.88536540501534%2C%2037.717034664244366%5D%2C%20%5B126.85856020555829%2C%2037.73179451375736%5D%2C%20%5B126.83772078982989%2C%2037.72529130369535%5D%5D%5D%2C%20%22type%22%3A%20%22Polygon%22%7D%2C%20%22properties%22%3A%20%7B%22base_year%22%3A%202013%2C%20%22code%22%3A%2031101%2C%20%22name%22%3A%20%22%5Cuace0%5Cuc591%5Cuc2dc%5Cub355%5Cuc591%5Cuad6c%22%2C%20%22name_eng%22%3A%20%22Goyangsideogyanggu%22%7D%2C%20%22type%22%3A%20%22Feature%22%7D%2C%20%7B%22geometry%22%3A%20%7B%22coordinates%22%3A%20%5B%5B%5B%5B126.61008573444688%2C%2037.30616739414492%5D%2C%20%5B126.58105759521007%2C%2037.2931329422869%5D%2C%20%5B126.5698046807071%2C%2037.27852472009729%5D%2C%20%5B126.55067246352256%2C%2037.27712401368454%5D%2C%20%5B126.56507568780702%2C%2037.25336773744705%5D%2C%20%5B126.56255063831487%2C%2037.239416423702146%5D%2C%20%5B126.54375626154638%2C%2037.22229105408503%5D%2C%20%5B126.546463851695%2C%2037.20350714902179%5D%2C%20%5B126.5705815554123%2C%2037.2014655738836%5D%2C%20%5B126.58721308393721%2C%2037.21775435498544%5D%2C%20%5B126.64889918632674%2C%2037.20793069915704%5D%2C%20%5B126.65235349062866%2C%2037.22264393643188%5D%2C%20%5B126.62465751982253%2C%2037.233811135502776%5D%2C%20%5B126.61085741500113%2C%2037.260209230779175%5D%2C%20%5B126.59892279766748%2C%2037.25959717398652%5D%2C%20%5B126.57228115154807%2C%2037.277020701082655%5D%2C%20%5B126.61008573444688%2C%2037.30616739414492%5D%5D%5D%2C%20%5B%5B%5B126.84283747134161%2C%2037.360869895636554%5D%2C%20%5B126.82580289305967%2C%2037.360321842249355%5D%2C%20%5B126.79105964941944%2C%2037.33699094698096%5D%2C%20%5B126.76357575956314%2C%2037.33864505297868%5D%2C%20%5B126.74059726902762%2C%2037.32685692943894%5D%2C%20%5B126.7248752674955%2C%2037.31058440885402%5D%2C%20%5B126.72765029203323%2C%2037.29949771063766%5D%2C%20%5B126.77466340206773%2C%2037.286577751987956%5D%2C%20%5B126.8184033400877%2C%2037.295179006004226%5D%2C%20%5B126.84357462735869%2C%2037.30283998653071%5D%2C%20%5B126.84283747134161%2C%2037.360869895636554%5D%5D%5D%5D%2C%20%22type%22%3A%20%22MultiPolygon%22%7D%2C%20%22properties%22%3A%20%7B%22base_year%22%3A%202013%2C%20%22code%22%3A%2031092%2C%20%22name%22%3A%20%22%5Cuc548%5Cuc0b0%5Cuc2dc%5Cub2e8%5Cuc6d0%5Cuad6c%22%2C%20%22name_eng%22%3A%20%22Ansansidanwongu%22%7D%2C%20%22type%22%3A%20%22Feature%22%7D%2C%20%7B%22geometry%22%3A%20%7B%22coordinates%22%3A%20%5B%5B%5B126.84283747134161%2C%2037.360869895636554%5D%2C%20%5B126.84357462735869%2C%2037.30283998653071%5D%2C%20%5B126.8184033400877%2C%2037.295179006004226%5D%2C%20%5B126.84641021832398%2C%2037.26433293772644%5D%2C%20%5B126.9159468889861%2C%2037.28864104563552%5D%2C%20%5B126.92946761531998%2C%2037.275967848758626%5D%2C%20%5B126.93504702033805%2C%2037.3002209928663%5D%2C%20%5B126.93252071350132%2C%2037.30423856869929%5D%2C%20%5B126.9092771218202%2C%2037.318694910599305%5D%2C%20%5B126.88015838809775%2C%2037.316795632219964%5D%2C%20%5B126.89932903785872%2C%2037.35524703438324%5D%2C%20%5B126.88400175928666%2C%2037.37340263600163%5D%2C%20%5B126.86691937294266%2C%2037.358697064350324%5D%2C%20%5B126.84283747134161%2C%2037.360869895636554%5D%5D%5D%2C%20%22type%22%3A%20%22Polygon%22%7D%2C%20%22properties%22%3A%20%7B%22base_year%22%3A%202013%2C%20%22code%22%3A%2031091%2C%20%22name%22%3A%20%22%5Cuc548%5Cuc0b0%5Cuc2dc%5Cuc0c1%5Cub85d%5Cuad6c%22%2C%20%22name_eng%22%3A%20%22Ansansisangnokgu%22%7D%2C%20%22type%22%3A%20%22Feature%22%7D%2C%20%7B%22geometry%22%3A%20%7B%22coordinates%22%3A%20%5B%5B%5B127.01215278654801%2C%2037.924817815480985%5D%2C%20%5B127.01281974367026%2C%2037.90171539201257%5D%2C%20%5B127.04837406784853%2C%2037.891090496591005%5D%2C%20%5B127.06250430862417%2C%2037.86658619508279%5D%2C%20%5B127.09509254572018%2C%2037.86843288571378%5D%2C%20%5B127.1113003891929%2C%2037.85708813371199%5D%2C%20%5B127.13067707221735%2C%2037.87115064756639%5D%2C%20%5B127.14908802054492%2C%2037.87326470277757%5D%2C%20%5B127.15777209998105%2C%2037.89291633342494%5D%2C%20%5B127.1480788721724%2C%2037.909108279220675%5D%2C%20%5B127.1240834119586%2C%2037.913726790414486%5D%2C%20%5B127.09382742820131%2C%2037.968691278173%5D%2C%20%5B127.05589127856165%2C%2037.978154747876275%5D%2C%20%5B127.02968085272437%2C%2037.9404013715077%5D%2C%20%5B127.01215278654801%2C%2037.924817815480985%5D%5D%5D%2C%20%22type%22%3A%20%22Polygon%22%7D%2C%20%22properties%22%3A%20%7B%22base_year%22%3A%202013%2C%20%22code%22%3A%2031080%2C%20%22name%22%3A%20%22%5Cub3d9%5Cub450%5Cucc9c%5Cuc2dc%22%2C%20%22name_eng%22%3A%20%22Dongducheon-si%22%7D%2C%20%22type%22%3A%20%22Feature%22%7D%2C%20%7B%22geometry%22%3A%20%7B%22coordinates%22%3A%20%5B%5B%5B127.10575417734016%2C%2037.1407283236673%5D%2C%20%5B127.09127893510457%2C%2037.12882078023335%5D%2C%20%5B127.04304406837494%2C%2037.126222304219084%5D%2C%20%5B127.03746950511537%2C%2037.13336771678679%5D%2C%20%5B127.00593012741142%2C%2037.124105707924144%5D%2C%20%5B127.00102521866197%2C%2037.08973596266607%5D%2C%20%5B126.98672297136514%2C%2037.06879655242586%5D%2C%20%5B126.95290081243859%2C%2037.06545814826726%5D%2C%20%5B126.94247588185057%2C%2037.057958386286046%5D%2C%20%5B126.90291323437098%2C%2037.06724127811693%5D%2C%20%5B126.8846211892453%2C%2037.05795114472113%5D%2C%20%5B126.85940022959993%2C%2037.022131594683266%5D%2C%20%5B126.84014623559027%2C%2037.01079503386266%5D%2C%20%5B126.79899352215931%2C%2037.0092005991418%5D%2C%20%5B126.79429045878248%2C%2037.002375311346476%5D%2C%20%5B126.82743835677269%2C%2036.984262588052744%5D%2C%20%5B126.84836832892641%2C%2036.9565513163949%5D%2C%20%5B126.86448993272457%2C%2036.94597945683675%5D%2C%20%5B126.86630821363053%2C%2036.92982214702114%5D%2C%20%5B126.88907059918661%2C%2036.933221090048846%5D%2C%20%5B126.90658712032098%2C%2036.92311369494381%5D%2C%20%5B126.91083667953751%2C%2036.90208156398722%5D%2C%20%5B126.99750165503437%2C%2036.93264776697853%5D%2C%20%5B127.03383288513524%2C%2036.925469265383704%5D%2C%20%5B127.07603768486679%2C%2036.935523531907464%5D%2C%20%5B127.11553676419611%2C%2036.969747255651924%5D%2C%20%5B127.1216062947912%2C%2036.96626164975953%5D%2C%20%5B127.13779801966723%2C%2036.99041291045364%5D%2C%20%5B127.15496570056612%2C%2036.99487383420599%5D%2C%20%5B127.14747724307254%2C%2037.0138188945719%5D%2C%20%5B127.15517998352519%2C%2037.026613262831916%5D%2C%20%5B127.10740090841584%2C%2037.0328875639127%5D%2C%20%5B127.12948838054707%2C%2037.04966079815856%5D%2C%20%5B127.12516729074011%2C%2037.08849523189945%5D%2C%20%5B127.11116461643066%2C%2037.123859739458304%5D%2C%20%5B127.12480483538663%2C%2037.14166379699704%5D%2C%20%5B127.10575417734016%2C%2037.1407283236673%5D%5D%5D%2C%20%22type%22%3A%20%22Polygon%22%7D%2C%20%22properties%22%3A%20%7B%22base_year%22%3A%202013%2C%20%22code%22%3A%2031070%2C%20%22name%22%3A%20%22%5Cud3c9%5Cud0dd%5Cuc2dc%22%2C%20%22name_eng%22%3A%20%22Pyeongtaek-si%22%7D%2C%20%22type%22%3A%20%22Feature%22%7D%2C%20%7B%22geometry%22%3A%20%7B%22coordinates%22%3A%20%5B%5B%5B126.83549485076196%2C%2037.474098236975095%5D%2C%20%5B126.8280587234361%2C%2037.456596986921056%5D%2C%20%5B126.8484052155556%2C%2037.40965572330444%5D%2C%20%5B126.85964157227416%2C%2037.398615706957116%5D%2C%20%5B126.879093453746%2C%2037.399239167854816%5D%2C%20%5B126.9025831711697%2C%2037.434549366349124%5D%2C%20%5B126.87683271502428%2C%2037.482576591607305%5D%2C%20%5B126.84762676054953%2C%2037.47146723936323%5D%2C%20%5B126.83549485076196%2C%2037.474098236975095%5D%5D%5D%2C%20%22type%22%3A%20%22Polygon%22%7D%2C%20%22properties%22%3A%20%7B%22base_year%22%3A%202013%2C%20%22code%22%3A%2031060%2C%20%22name%22%3A%20%22%5Cuad11%5Cuba85%5Cuc2dc%22%2C%20%22name_eng%22%3A%20%22Gwangmyeong-si%22%7D%2C%20%22type%22%3A%20%22Feature%22%7D%2C%20%7B%22geometry%22%3A%20%7B%22coordinates%22%3A%20%5B%5B%5B126.76979180579352%2C%2037.55139183008809%5D%2C%20%5B126.76241572251033%2C%2037.52129679978721%5D%2C%20%5B126.76236682035514%2C%2037.51516388559986%5D%2C%20%5B126.79948253277924%2C%2037.50297839620806%5D%2C%20%5B126.82504736331406%2C%2037.50302612640443%5D%2C%20%5B126.82688081517314%2C%2037.50548972232896%5D%2C%20%5B126.8242331426722%2C%2037.53788078753248%5D%2C%20%5B126.77324417717703%2C%2037.5459123450554%5D%2C%20%5B126.76979180579352%2C%2037.55139183008809%5D%5D%5D%2C%20%22type%22%3A%20%22Polygon%22%7D%2C%20%22properties%22%3A%20%7B%22base_year%22%3A%202013%2C%20%22code%22%3A%2031053%2C%20%22name%22%3A%20%22%5Cubd80%5Cucc9c%5Cuc2dc%5Cuc624%5Cuc815%5Cuad6c%22%2C%20%22name_eng%22%3A%20%22Bucheonsiojeonggu%22%7D%2C%20%22type%22%3A%20%22Feature%22%7D%2C%20%7B%22geometry%22%3A%20%7B%22coordinates%22%3A%20%5B%5B%5B126.82264796791348%2C%2037.4878476492147%5D%2C%20%5B126.80525536231318%2C%2037.479599517462205%5D%2C%20%5B126.74449661749888%2C%2037.48568861244349%5D%2C%20%5B126.76982226270037%2C%2037.468955688388995%5D%2C%20%5B126.78024890848009%2C%2037.469000573789124%5D%2C%20%5B126.8280587234361%2C%2037.456596986921056%5D%2C%20%5B126.83549485076196%2C%2037.474098236975095%5D%2C%20%5B126.82264796791348%2C%2037.4878476492147%5D%5D%5D%2C%20%22type%22%3A%20%22Polygon%22%7D%2C%20%22properties%22%3A%20%7B%22base_year%22%3A%202013%2C%20%22code%22%3A%2031052%2C%20%22name%22%3A%20%22%5Cubd80%5Cucc9c%5Cuc2dc%5Cuc18c%5Cuc0ac%5Cuad6c%22%2C%20%22name_eng%22%3A%20%22Bucheonsisosagu%22%7D%2C%20%22type%22%3A%20%22Feature%22%7D%2C%20%7B%22geometry%22%3A%20%7B%22coordinates%22%3A%20%5B%5B%5B126.76236682035514%2C%2037.51516388559986%5D%2C%20%5B126.74717949233765%2C%2037.511283448979185%5D%2C%20%5B126.74449661749888%2C%2037.48568861244349%5D%2C%20%5B126.80525536231318%2C%2037.479599517462205%5D%2C%20%5B126.82264796791348%2C%2037.4878476492147%5D%2C%20%5B126.82504736331406%2C%2037.50302612640443%5D%2C%20%5B126.79948253277924%2C%2037.50297839620806%5D%2C%20%5B126.76236682035514%2C%2037.51516388559986%5D%5D%5D%2C%20%22type%22%3A%20%22Polygon%22%7D%2C%20%22properties%22%3A%20%7B%22base_year%22%3A%202013%2C%20%22code%22%3A%2031051%2C%20%22name%22%3A%20%22%5Cubd80%5Cucc9c%5Cuc2dc%5Cuc6d0%5Cubbf8%5Cuad6c%22%2C%20%22name_eng%22%3A%20%22Bucheonsiwonmigu%22%7D%2C%20%22type%22%3A%20%22Feature%22%7D%2C%20%7B%22geometry%22%3A%20%7B%22coordinates%22%3A%20%5B%5B%5B126.95000001010182%2C%2037.43613451165719%5D%2C%20%5B126.949527627869%2C%2037.419039331795105%5D%2C%20%5B126.92899112782491%2C%2037.41260755123917%5D%2C%20%5B126.9429122120182%2C%2037.37630880537034%5D%2C%20%5B126.96423328330341%2C%2037.358735102948096%5D%2C%20%5B126.98466887829045%2C%2037.39785909018114%5D%2C%20%5B126.96342494806345%2C%2037.42289846046814%5D%2C%20%5B126.96520439085143%2C%2037.438249784006246%5D%2C%20%5B126.95000001010182%2C%2037.43613451165719%5D%5D%5D%2C%20%22type%22%3A%20%22Polygon%22%7D%2C%20%22properties%22%3A%20%7B%22base_year%22%3A%202013%2C%20%22code%22%3A%2031042%2C%20%22name%22%3A%20%22%5Cuc548%5Cuc591%5Cuc2dc%5Cub3d9%5Cuc548%5Cuad6c%22%2C%20%22name_eng%22%3A%20%22Anyangsidongangu%22%7D%2C%20%22type%22%3A%20%22Feature%22%7D%2C%20%7B%22geometry%22%3A%20%7B%22coordinates%22%3A%20%5B%5B%5B126.93084408056525%2C%2037.447382928333994%5D%2C%20%5B126.9025831711697%2C%2037.434549366349124%5D%2C%20%5B126.879093453746%2C%2037.399239167854816%5D%2C%20%5B126.88400175928666%2C%2037.37340263600163%5D%2C%20%5B126.89932903785872%2C%2037.35524703438324%5D%2C%20%5B126.9163870114383%2C%2037.37253977179312%5D%2C%20%5B126.9429122120182%2C%2037.37630880537034%5D%2C%20%5B126.92899112782491%2C%2037.41260755123917%5D%2C%20%5B126.949527627869%2C%2037.419039331795105%5D%2C%20%5B126.95000001010182%2C%2037.43613451165719%5D%2C%20%5B126.93084408056525%2C%2037.447382928333994%5D%5D%5D%2C%20%22type%22%3A%20%22Polygon%22%7D%2C%20%22properties%22%3A%20%7B%22base_year%22%3A%202013%2C%20%22code%22%3A%2031041%2C%20%22name%22%3A%20%22%5Cuc548%5Cuc591%5Cuc2dc%5Cub9cc%5Cuc548%5Cuad6c%22%2C%20%22name_eng%22%3A%20%22Anyangsimanangu%22%7D%2C%20%22type%22%3A%20%22Feature%22%7D%2C%20%7B%22geometry%22%3A%20%7B%22coordinates%22%3A%20%5B%5B%5B127.10645686970089%2C%2037.776897580693586%5D%2C%20%5B127.05297245855259%2C%2037.75816755994106%5D%2C%20%5B127.02081299427202%2C%2037.76581418787214%5D%2C%20%5B127.00437834122181%2C%2037.75999833868866%5D%2C%20%5B127.00430024727942%2C%2037.73792676357612%5D%2C%20%5B127.01477890845196%2C%2037.722832167524864%5D%2C%20%5B127.01795099203432%2C%2037.69824412775662%5D%2C%20%5B127.05288479710485%2C%2037.68423857084347%5D%2C%20%5B127.0838752703195%2C%2037.69359534202034%5D%2C%20%5B127.12788299600184%2C%2037.72469254066713%5D%2C%20%5B127.13060037316637%2C%2037.74504865443316%5D%2C%20%5B127.14882403466048%2C%2037.75206030443599%5D%2C%20%5B127.14177735342194%2C%2037.76129795333661%5D%2C%20%5B127.10645686970089%2C%2037.776897580693586%5D%5D%5D%2C%20%22type%22%3A%20%22Polygon%22%7D%2C%20%22properties%22%3A%20%7B%22base_year%22%3A%202013%2C%20%22code%22%3A%2031030%2C%20%22name%22%3A%20%22%5Cuc758%5Cuc815%5Cubd80%5Cuc2dc%22%2C%20%22name_eng%22%3A%20%22Uijeongbu-si%22%7D%2C%20%22type%22%3A%20%22Feature%22%7D%2C%20%7B%22geometry%22%3A%20%7B%22coordinates%22%3A%20%5B%5B%5B127.17637586604776%2C%2037.40261052326208%5D%2C%20%5B127.13644513246508%2C%2037.41439912020601%5D%2C%20%5B127.12007310029206%2C%2037.41239460373164%5D%2C%20%5B127.08636547533024%2C%2037.39425612519828%5D%2C%20%5B127.04580444799605%2C%2037.40139072056455%5D%2C%20%5B127.03004539569396%2C%2037.36932312139811%5D%2C%20%5B127.07299151640797%2C%2037.35485426174942%5D%2C%20%5B127.11899182435063%2C%2037.33059044022546%5D%2C%20%5B127.13845652996186%2C%2037.336816804055495%5D%2C%20%5B127.13605700285002%2C%2037.35565614606753%5D%2C%20%5B127.15506886795262%2C%2037.36076173403712%5D%2C%20%5B127.17637586604776%2C%2037.40261052326208%5D%5D%5D%2C%20%22type%22%3A%20%22Polygon%22%7D%2C%20%22properties%22%3A%20%7B%22base_year%22%3A%202013%2C%20%22code%22%3A%2031023%2C%20%22name%22%3A%20%22%5Cuc131%5Cub0a8%5Cuc2dc%5Cubd84%5Cub2f9%5Cuad6c%22%2C%20%22name_eng%22%3A%20%22Seongnamsibundanggu%22%7D%2C%20%22type%22%3A%20%22Feature%22%7D%2C%20%7B%22geometry%22%3A%20%7B%22coordinates%22%3A%20%5B%5B%5B127.17807401290999%2C%2037.46939077799968%5D%2C%20%5B127.1582459546436%2C%2037.44164184148139%5D%2C%20%5B127.12050056435223%2C%2037.429512812695165%5D%2C%20%5B127.12007310029206%2C%2037.41239460373164%5D%2C%20%5B127.13644513246508%2C%2037.41439912020601%5D%2C%20%5B127.17637586604776%2C%2037.40261052326208%5D%2C%20%5B127.19594474070001%2C%2037.421269309284035%5D%2C%20%5B127.19808034941583%2C%2037.441066604883545%5D%2C%20%5B127.1831716097913%2C%2037.47048077053623%5D%2C%20%5B127.17807401290999%2C%2037.46939077799968%5D%5D%5D%2C%20%22type%22%3A%20%22Polygon%22%7D%2C%20%22properties%22%3A%20%7B%22base_year%22%3A%202013%2C%20%22code%22%3A%2031022%2C%20%22name%22%3A%20%22%5Cuc131%5Cub0a8%5Cuc2dc%5Cuc911%5Cuc6d0%5Cuad6c%22%2C%20%22name_eng%22%3A%20%22Seongnamsijungwongu%22%7D%2C%20%22type%22%3A%20%22Feature%22%7D%2C%20%7B%22geometry%22%3A%20%7B%22coordinates%22%3A%20%5B%5B%5B127.17807401290999%2C%2037.46939077799968%5D%2C%20%5B127.14206058413274%2C%2037.47089819098501%5D%2C%20%5B127.12440571080893%2C%2037.46240445587048%5D%2C%20%5B127.09842759318751%2C%2037.45862253857461%5D%2C%20%5B127.09046928565951%2C%2037.44296826114185%5D%2C%20%5B127.06778107605433%2C%2037.426197424057314%5D%2C%20%5B127.04957232987142%2C%2037.42805836845694%5D%2C%20%5B127.04377994345505%2C%2037.41281928664435%5D%2C%20%5B127.04580444799605%2C%2037.40139072056455%5D%2C%20%5B127.08636547533024%2C%2037.39425612519828%5D%2C%20%5B127.12007310029206%2C%2037.41239460373164%5D%2C%20%5B127.12050056435223%2C%2037.429512812695165%5D%2C%20%5B127.1582459546436%2C%2037.44164184148139%5D%2C%20%5B127.17807401290999%2C%2037.46939077799968%5D%5D%5D%2C%20%22type%22%3A%20%22Polygon%22%7D%2C%20%22properties%22%3A%20%7B%22base_year%22%3A%202013%2C%20%22code%22%3A%2031021%2C%20%22name%22%3A%20%22%5Cuc131%5Cub0a8%5Cuc2dc%5Cuc218%5Cuc815%5Cuad6c%22%2C%20%22name_eng%22%3A%20%22Seongnamsisujeonggu%22%7D%2C%20%22type%22%3A%20%22Feature%22%7D%2C%20%7B%22geometry%22%3A%20%7B%22coordinates%22%3A%20%5B%5B%5B127.09199113357242%2C%2037.295585212583866%5D%2C%20%5B127.06269400142102%2C%2037.293755190822594%5D%2C%20%5B127.06304327683587%2C%2037.30610813773979%5D%2C%20%5B127.04202153059128%2C%2037.318511731862884%5D%2C%20%5B127.03603479622558%2C%2037.29037288813064%5D%2C%20%5B127.04615738146016%2C%2037.271876342625866%5D%2C%20%5B127.03877682368464%2C%2037.253688200306506%5D%2C%20%5B127.04178611512381%2C%2037.24066886027782%5D%2C%20%5B127.06878518378286%2C%2037.23731339587258%5D%2C%20%5B127.08680542938673%2C%2037.253775982641194%5D%2C%20%5B127.06718840393803%2C%2037.26860748709257%5D%2C%20%5B127.09104881579566%2C%2037.284308786190785%5D%2C%20%5B127.09199113357242%2C%2037.295585212583866%5D%5D%5D%2C%20%22type%22%3A%20%22Polygon%22%7D%2C%20%22properties%22%3A%20%7B%22base_year%22%3A%202013%2C%20%22code%22%3A%2031014%2C%20%22name%22%3A%20%22%5Cuc218%5Cuc6d0%5Cuc2dc%5Cuc601%5Cud1b5%5Cuad6c%22%2C%20%22name_eng%22%3A%20%22Suwonsiyeongtonggu%22%7D%2C%20%22type%22%3A%20%22Feature%22%7D%2C%20%7B%22geometry%22%3A%20%7B%22coordinates%22%3A%20%5B%5B%5B127.03603479622558%2C%2037.29037288813064%5D%2C%20%5B127.01130838681644%2C%2037.28269167363659%5D%2C%20%5B126.98086459483812%2C%2037.283743689221225%5D%2C%20%5B127.03877682368464%2C%2037.253688200306506%5D%2C%20%5B127.04615738146016%2C%2037.271876342625866%5D%2C%20%5B127.03603479622558%2C%2037.29037288813064%5D%5D%5D%2C%20%22type%22%3A%20%22Polygon%22%7D%2C%20%22properties%22%3A%20%7B%22base_year%22%3A%202013%2C%20%22code%22%3A%2031013%2C%20%22name%22%3A%20%22%5Cuc218%5Cuc6d0%5Cuc2dc%5Cud314%5Cub2ec%5Cuad6c%22%2C%20%22name_eng%22%3A%20%22Suwonsipaldalgu%22%7D%2C%20%22type%22%3A%20%22Feature%22%7D%2C%20%7B%22geometry%22%3A%20%7B%22coordinates%22%3A%20%5B%5B%5B126.96633916587045%2C%2037.29989574204989%5D%2C%20%5B126.93504702033805%2C%2037.3002209928663%5D%2C%20%5B126.92946761531998%2C%2037.275967848758626%5D%2C%20%5B126.93110125729105%2C%2037.260824951129344%5D%2C%20%5B126.95229769733274%2C%2037.2524826245201%5D%2C%20%5B126.97491964707861%2C%2037.22588531228192%5D%2C%20%5B127.02475029106094%2C%2037.22207898080851%5D%2C%20%5B127.04178611512381%2C%2037.24066886027782%5D%2C%20%5B127.03877682368464%2C%2037.253688200306506%5D%2C%20%5B126.98086459483812%2C%2037.283743689221225%5D%2C%20%5B126.96633916587045%2C%2037.29989574204989%5D%5D%5D%2C%20%22type%22%3A%20%22Polygon%22%7D%2C%20%22properties%22%3A%20%7B%22base_year%22%3A%202013%2C%20%22code%22%3A%2031012%2C%20%22name%22%3A%20%22%5Cuc218%5Cuc6d0%5Cuc2dc%5Cuad8c%5Cuc120%5Cuad6c%22%2C%20%22name_eng%22%3A%20%22Suwonsigwonseongu%22%7D%2C%20%22type%22%3A%20%22Feature%22%7D%2C%20%7B%22geometry%22%3A%20%7B%22coordinates%22%3A%20%5B%5B%5B127.02090967499298%2C%2037.348741503905366%5D%2C%20%5B126.98303616696394%2C%2037.32376927812144%5D%2C%20%5B126.96633916587045%2C%2037.29989574204989%5D%2C%20%5B126.98086459483812%2C%2037.283743689221225%5D%2C%20%5B127.01130838681644%2C%2037.28269167363659%5D%2C%20%5B127.03603479622558%2C%2037.29037288813064%5D%2C%20%5B127.04202153059128%2C%2037.318511731862884%5D%2C%20%5B127.03554038078946%2C%2037.341941908872045%5D%2C%20%5B127.02090967499298%2C%2037.348741503905366%5D%5D%5D%2C%20%22type%22%3A%20%22Polygon%22%7D%2C%20%22properties%22%3A%20%7B%22base_year%22%3A%202013%2C%20%22code%22%3A%2031011%2C%20%22name%22%3A%20%22%5Cuc218%5Cuc6d0%5Cuc2dc%5Cuc7a5%5Cuc548%5Cuad6c%22%2C%20%22name_eng%22%3A%20%22Suwonsijangangu%22%7D%2C%20%22type%22%3A%20%22Feature%22%7D%5D%2C%20%22type%22%3A%20%22FeatureCollection%22%7D%29%3B%0A%0A%20%20%20%20%20%20%20%20%0A%20%20%20%20%0A%20%20%20%20geo_json_e81829ee470140389c1f0f325d1641ce.bindPopup%28%0A%20%20%20%20function%28layer%29%7B%0A%20%20%20%20let%20div%20%3D%20L.DomUtil.create%28%27div%27%29%3B%0A%20%20%20%20%0A%20%20%20%20let%20handleObject%20%3D%20feature%3D%3Etypeof%28feature%29%3D%3D%27object%27%20%3F%20JSON.stringify%28feature%29%20%3A%20feature%3B%0A%20%20%20%20let%20fields%20%3D%20%5B%22name%22%5D%3B%0A%20%20%20%20let%20aliases%20%3D%20%5B%22name%22%5D%3B%0A%20%20%20%20let%20table%20%3D%20%27%3Ctable%3E%27%20%2B%0A%20%20%20%20%20%20%20%20String%28%0A%20%20%20%20%20%20%20%20fields.map%28%0A%20%20%20%20%20%20%20%20%28v%2Ci%29%3D%3E%0A%20%20%20%20%20%20%20%20%60%3Ctr%3E%0A%20%20%20%20%20%20%20%20%20%20%20%20%3Ctd%3E%24%7BhandleObject%28layer.feature.properties%5Bv%5D%29.toLocaleString%28%29%7D%3C/td%3E%0A%20%20%20%20%20%20%20%20%3C/tr%3E%60%29.join%28%27%27%29%29%0A%20%20%20%20%2B%27%3C/table%3E%27%3B%0A%20%20%20%20div.innerHTML%3Dtable%3B%0A%20%20%20%20%0A%20%20%20%20return%20div%0A%20%20%20%20%7D%0A%20%20%20%20%2C%7B%22className%22%3A%20%22foliumpopup%22%7D%29%3B%0A%20%20%20%20%20%20%20%20%20%20%20%20%20%20%20%20%20%20%20%20%20%0A%20%20%20%20%0A%20%20%20%20var%20color_map_0d06b3bbfdeb406484ed3a00016dcc91%20%3D%20%7B%7D%3B%0A%0A%20%20%20%20%0A%20%20%20%20color_map_0d06b3bbfdeb406484ed3a00016dcc91.color%20%3D%20d3.scale.threshold%28%29%0A%20%20%20%20%20%20%20%20%20%20%20%20%20%20.domain%28%5B10000.0%2C%2011382.765531062125%2C%2012765.531062124248%2C%2014148.296593186373%2C%2015531.062124248496%2C%2016913.827655310623%2C%2018296.593186372746%2C%2019679.358717434872%2C%2021062.12424849699%2C%2022444.88977955912%2C%2023827.655310621245%2C%2025210.420841683364%2C%2026593.18637274549%2C%2027975.951903807614%2C%2029358.71743486974%2C%2030741.482965931864%2C%2032124.248496993987%2C%2033507.01402805612%2C%2034889.77955911824%2C%2036272.545090180356%2C%2037655.31062124249%2C%2039038.07615230461%2C%2040420.84168336673%2C%2041803.60721442886%2C%2043186.37274549098%2C%2044569.13827655311%2C%2045951.90380761523%2C%2047334.669338677355%2C%2048717.43486973948%2C%2050100.2004008016%2C%2051482.96593186373%2C%2052865.731462925854%2C%2054248.496993987974%2C%2055631.2625250501%2C%2057014.02805611223%2C%2058396.79358717435%2C%2059779.55911823647%2C%2061162.3246492986%2C%2062545.09018036072%2C%2063927.855711422846%2C%2065310.62124248497%2C%2066693.3867735471%2C%2068076.15230460922%2C%2069458.91783567134%2C%2070841.68336673346%2C%2072224.44889779559%2C%2073607.21442885773%2C%2074989.97995991984%2C%2076372.74549098196%2C%2077755.51102204408%2C%2079138.27655310622%2C%2080521.04208416834%2C%2081903.80761523046%2C%2083286.57314629259%2C%2084669.33867735471%2C%2086052.10420841683%2C%2087434.86973947896%2C%2088817.63527054108%2C%2090200.4008016032%2C%2091583.16633266534%2C%2092965.93186372746%2C%2094348.69739478957%2C%2095731.46292585171%2C%2097114.22845691383%2C%2098496.99398797595%2C%2099879.75951903808%2C%20101262.5250501002%2C%20102645.29058116232%2C%20104028.05611222445%2C%20105410.82164328657%2C%20106793.5871743487%2C%20108176.35270541083%2C%20109559.11823647295%2C%20110941.88376753507%2C%20112324.6492985972%2C%20113707.41482965932%2C%20115090.18036072144%2C%20116472.94589178357%2C%20117855.71142284569%2C%20119238.47695390781%2C%20120621.24248496995%2C%20122004.00801603206%2C%20123386.77354709418%2C%20124769.53907815632%2C%20126152.30460921844%2C%20127535.07014028056%2C%20128917.83567134269%2C%20130300.60120240481%2C%20131683.36673346692%2C%20133066.13226452906%2C%20134448.89779559118%2C%20135831.6633266533%2C%20137214.42885771545%2C%20138597.19438877754%2C%20139979.9599198397%2C%20141362.7254509018%2C%20142745.49098196393%2C%20144128.25651302605%2C%20145511.02204408817%2C%20146893.7875751503%2C%20148276.55310621244%2C%20149659.31863727455%2C%20151042.08416833667%2C%20152424.8496993988%2C%20153807.6152304609%2C%20155190.38076152303%2C%20156573.14629258518%2C%20157955.9118236473%2C%20159338.67735470942%2C%20160721.44288577154%2C%20162104.20841683366%2C%20163486.97394789578%2C%20164869.73947895793%2C%20166252.50501002005%2C%20167635.27054108217%2C%20169018.03607214428%2C%20170400.8016032064%2C%20171783.56713426852%2C%20173166.33266533067%2C%20174549.0981963928%2C%20175931.8637274549%2C%20177314.62925851703%2C%20178697.39478957915%2C%20180080.16032064127%2C%20181462.92585170342%2C%20182845.69138276554%2C%20184228.45691382766%2C%20185611.22244488978%2C%20186993.9879759519%2C%20188376.75350701401%2C%20189759.51903807616%2C%20191142.28456913828%2C%20192525.0501002004%2C%20193907.81563126252%2C%20195290.58116232464%2C%20196673.34669338676%2C%20198056.1122244489%2C%20199438.87775551103%2C%20200821.64328657315%2C%20202204.40881763527%2C%20203587.1743486974%2C%20204969.9398797595%2C%20206352.70541082165%2C%20207735.47094188377%2C%20209118.2364729459%2C%20210501.002004008%2C%20211883.76753507013%2C%20213266.53306613225%2C%20214649.2985971944%2C%20216032.06412825652%2C%20217414.82965931864%2C%20218797.59519038076%2C%20220180.36072144288%2C%20221563.126252505%2C%20222945.89178356715%2C%20224328.65731462926%2C%20225711.42284569138%2C%20227094.1883767535%2C%20228476.95390781562%2C%20229859.71943887774%2C%20231242.4849699399%2C%20232625.250501002%2C%20234008.01603206413%2C%20235390.78156312625%2C%20236773.54709418837%2C%20238156.3126252505%2C%20239539.07815631264%2C%20240921.84368737476%2C%20242304.60921843688%2C%20243687.374749499%2C%20245070.1402805611%2C%20246452.90581162323%2C%20247835.67134268538%2C%20249218.4368737475%2C%20250601.20240480962%2C%20251983.96793587174%2C%20253366.73346693386%2C%20254749.49899799598%2C%20256132.26452905813%2C%20257515.03006012025%2C%20258897.79559118237%2C%20260280.5611222445%2C%20261663.3266533066%2C%20263046.09218436875%2C%20264428.8577154309%2C%20265811.623246493%2C%20267194.3887775551%2C%20268577.15430861723%2C%20269959.9198396794%2C%20271342.68537074147%2C%20272725.4509018036%2C%20274108.2164328657%2C%20275490.98196392786%2C%20276873.74749499%2C%20278256.5130260521%2C%20279639.27855711424%2C%20281022.04408817634%2C%20282404.8096192385%2C%20283787.5751503006%2C%20285170.3406813627%2C%20286553.1062124249%2C%20287935.87174348696%2C%20289318.6372745491%2C%20290701.4028056112%2C%20292084.16833667335%2C%20293466.9338677355%2C%20294849.6993987976%2C%20296232.46492985974%2C%20297615.2304609218%2C%20298997.995991984%2C%20300380.76152304607%2C%20301763.5270541082%2C%20303146.29258517036%2C%20304529.05811623245%2C%20305911.8236472946%2C%20307294.5891783567%2C%20308677.35470941884%2C%20310060.120240481%2C%20311442.8857715431%2C%20312825.6513026052%2C%20314208.4168336673%2C%20315591.18236472947%2C%20316973.94789579156%2C%20318356.7134268537%2C%20319739.47895791585%2C%20321122.24448897794%2C%20322505.0100200401%2C%20323887.7755511022%2C%20325270.54108216433%2C%20326653.3066132265%2C%20328036.07214428857%2C%20329418.8376753507%2C%20330801.6032064128%2C%20332184.36873747496%2C%20333567.13426853705%2C%20334949.8997995992%2C%20336332.66533066134%2C%20337715.43086172343%2C%20339098.1963927856%2C%20340480.9619238477%2C%20341863.7274549098%2C%20343246.49298597197%2C%20344629.25851703406%2C%20346012.0240480962%2C%20347394.7895791583%2C%20348777.55511022045%2C%20350160.32064128254%2C%20351543.0861723447%2C%20352925.85170340684%2C%20354308.6172344689%2C%20355691.3827655311%2C%20357074.14829659316%2C%20358456.9138276553%2C%20359839.67935871746%2C%20361222.44488977955%2C%20362605.2104208417%2C%20363987.9759519038%2C%20365370.74148296594%2C%20366753.50701402803%2C%20368136.2725450902%2C%20369519.0380761523%2C%20370901.8036072144%2C%20372284.56913827657%2C%20373667.33466933866%2C%20375050.1002004008%2C%20376432.86573146295%2C%20377815.63126252504%2C%20379198.3967935872%2C%20380581.1623246493%2C%20381963.92785571143%2C%20383346.6933867735%2C%20384729.45891783567%2C%20386112.2244488978%2C%20387494.9899799599%2C%20388877.75551102206%2C%20390260.52104208415%2C%20391643.2865731463%2C%20393026.05210420844%2C%20394408.81763527053%2C%20395791.5831663327%2C%20397174.3486973948%2C%20398557.1142284569%2C%20399939.879759519%2C%20401322.64529058116%2C%20402705.4108216433%2C%20404088.1763527054%2C%20405470.94188376755%2C%20406853.70741482964%2C%20408236.4729458918%2C%20409619.23847695393%2C%20411002.004008016%2C%20412384.7695390782%2C%20413767.53507014026%2C%20415150.3006012024%2C%20416533.0661322645%2C%20417915.83166332665%2C%20419298.5971943888%2C%20420681.3627254509%2C%20422064.12825651304%2C%20423446.8937875751%2C%20424829.6593186373%2C%20426212.4248496994%2C%20427595.1903807615%2C%20428977.95591182366%2C%20430360.72144288576%2C%20431743.4869739479%2C%20433126.25250501%2C%20434509.01803607214%2C%20435891.7835671343%2C%20437274.5490981964%2C%20438657.31462925853%2C%20440040.0801603206%2C%20441422.84569138277%2C%20442805.6112224449%2C%20444188.376753507%2C%20445571.14228456916%2C%20446953.90781563125%2C%20448336.6733466934%2C%20449719.4388777555%2C%20451102.20440881763%2C%20452484.9699398798%2C%20453867.7354709419%2C%20455250.501002004%2C%20456633.2665330661%2C%20458016.03206412826%2C%20459398.7975951904%2C%20460781.5631262525%2C%20462164.32865731465%2C%20463547.09418837674%2C%20464929.8597194389%2C%20466312.625250501%2C%20467695.3907815631%2C%20469078.1563126253%2C%20470460.92184368736%2C%20471843.6873747495%2C%20473226.4529058116%2C%20474609.21843687375%2C%20475991.9839679359%2C%20477374.749498998%2C%20478757.51503006014%2C%20480140.2805611222%2C%20481523.0460921844%2C%20482905.81162324647%2C%20484288.5771543086%2C%20485671.34268537076%2C%20487054.10821643285%2C%20488436.873747495%2C%20489819.6392785571%2C%20491202.40480961924%2C%20492585.1703406814%2C%20493967.9358717435%2C%20495350.70140280563%2C%20496733.4669338677%2C%20498116.23246492987%2C%20499498.99799599196%2C%20500881.7635270541%2C%20502264.52905811626%2C%20503647.29458917835%2C%20505030.0601202405%2C%20506412.8256513026%2C%20507795.59118236473%2C%20509178.3567134269%2C%20510561.122244489%2C%20511943.8877755511%2C%20513326.6533066132%2C%20514709.41883767536%2C%20516092.18436873745%2C%20517474.9498997996%2C%20518857.71543086175%2C%20520240.48096192384%2C%20521623.246492986%2C%20523006.0120240481%2C%20524388.7775551102%2C%20525771.5430861723%2C%20527154.3086172345%2C%20528537.0741482966%2C%20529919.8396793588%2C%20531302.6052104209%2C%20532685.3707414829%2C%20534068.1362725451%2C%20535450.9018036072%2C%20536833.6673346694%2C%20538216.4328657314%2C%20539599.1983967936%2C%20540981.9639278557%2C%20542364.7294589179%2C%20543747.49498998%2C%20545130.260521042%2C%20546513.0260521042%2C%20547895.7915831663%2C%20549278.5571142285%2C%20550661.3226452906%2C%20552044.0881763527%2C%20553426.8537074148%2C%20554809.619238477%2C%20556192.3847695391%2C%20557575.1503006011%2C%20558957.9158316633%2C%20560340.6813627254%2C%20561723.4468937876%2C%20563106.2124248497%2C%20564488.9779559118%2C%20565871.7434869739%2C%20567254.5090180361%2C%20568637.2745490982%2C%20570020.0400801604%2C%20571402.8056112224%2C%20572785.5711422845%2C%20574168.3366733467%2C%20575551.1022044088%2C%20576933.867735471%2C%20578316.633266533%2C%20579699.3987975952%2C%20581082.1643286573%2C%20582464.9298597195%2C%20583847.6953907816%2C%20585230.4609218437%2C%20586613.2264529058%2C%20587995.991983968%2C%20589378.7575150301%2C%20590761.5230460921%2C%20592144.2885771543%2C%20593527.0541082164%2C%20594909.8196392786%2C%20596292.5851703407%2C%20597675.3507014028%2C%20599058.1162324649%2C%20600440.881763527%2C%20601823.6472945892%2C%20603206.4128256514%2C%20604589.1783567134%2C%20605971.9438877755%2C%20607354.7094188377%2C%20608737.4749498998%2C%20610120.240480962%2C%20611503.006012024%2C%20612885.7715430862%2C%20614268.5370741483%2C%20615651.3026052105%2C%20617034.0681362726%2C%20618416.8336673346%2C%20619799.5991983968%2C%20621182.3647294589%2C%20622565.1302605211%2C%20623947.8957915831%2C%20625330.6613226453%2C%20626713.4268537074%2C%20628096.1923847696%2C%20629478.9579158317%2C%20630861.7234468937%2C%20632244.4889779559%2C%20633627.254509018%2C%20635010.0200400802%2C%20636392.7855711423%2C%20637775.5511022044%2C%20639158.3166332665%2C%20640541.0821643287%2C%20641923.8476953908%2C%20643306.613226453%2C%20644689.378757515%2C%20646072.1442885771%2C%20647454.9098196393%2C%20648837.6753507014%2C%20650220.4408817636%2C%20651603.2064128256%2C%20652985.9719438878%2C%20654368.7374749499%2C%20655751.5030060121%2C%20657134.2685370741%2C%20658517.0340681362%2C%20659899.7995991984%2C%20661282.5651302605%2C%20662665.3306613227%2C%20664048.0961923847%2C%20665430.8617234469%2C%20666813.627254509%2C%20668196.3927855712%2C%20669579.1583166333%2C%20670961.9238476953%2C%20672344.6893787575%2C%20673727.4549098196%2C%20675110.2204408818%2C%20676492.9859719439%2C%20677875.751503006%2C%20679258.5170340681%2C%20680641.2825651303%2C%20682024.0480961924%2C%20683406.8136272546%2C%20684789.5791583166%2C%20686172.3446893787%2C%20687555.1102204409%2C%20688937.875751503%2C%20690320.6412825651%2C%20691703.4068136272%2C%20693086.1723446894%2C%20694468.9378757515%2C%20695851.7034068137%2C%20697234.4689378757%2C%20698617.2344689379%2C%20700000.0%5D%29%0A%20%20%20%20%20%20%20%20%20%20%20%20%20%20.range%28%5B%27%23ffffb2ff%27%2C%20%27%23ffffb2ff%27%2C%20%27%23ffffb2ff%27%2C%20%27%23ffffb2ff%27%2C%20%27%23ffffb2ff%27%2C%20%27%23ffffb2ff%27%2C%20%27%23ffffb2ff%27%2C%20%27%23ffffb2ff%27%2C%20%27%23ffffb2ff%27%2C%20%27%23ffffb2ff%27%2C%20%27%23ffffb2ff%27%2C%20%27%23ffffb2ff%27%2C%20%27%23ffffb2ff%27%2C%20%27%23ffffb2ff%27%2C%20%27%23ffffb2ff%27%2C%20%27%23ffffb2ff%27%2C%20%27%23ffffb2ff%27%2C%20%27%23ffffb2ff%27%2C%20%27%23ffffb2ff%27%2C%20%27%23ffffb2ff%27%2C%20%27%23ffffb2ff%27%2C%20%27%23ffffb2ff%27%2C%20%27%23ffffb2ff%27%2C%20%27%23ffffb2ff%27%2C%20%27%23ffffb2ff%27%2C%20%27%23ffffb2ff%27%2C%20%27%23ffffb2ff%27%2C%20%27%23ffffb2ff%27%2C%20%27%23ffffb2ff%27%2C%20%27%23ffffb2ff%27%2C%20%27%23ffffb2ff%27%2C%20%27%23ffffb2ff%27%2C%20%27%23ffffb2ff%27%2C%20%27%23ffffb2ff%27%2C%20%27%23ffffb2ff%27%2C%20%27%23ffffb2ff%27%2C%20%27%23ffffb2ff%27%2C%20%27%23ffffb2ff%27%2C%20%27%23ffffb2ff%27%2C%20%27%23ffffb2ff%27%2C%20%27%23ffffb2ff%27%2C%20%27%23ffffb2ff%27%2C%20%27%23ffffb2ff%27%2C%20%27%23ffffb2ff%27%2C%20%27%23ffffb2ff%27%2C%20%27%23ffffb2ff%27%2C%20%27%23ffffb2ff%27%2C%20%27%23ffffb2ff%27%2C%20%27%23ffffb2ff%27%2C%20%27%23ffffb2ff%27%2C%20%27%23ffffb2ff%27%2C%20%27%23ffffb2ff%27%2C%20%27%23ffffb2ff%27%2C%20%27%23ffffb2ff%27%2C%20%27%23ffffb2ff%27%2C%20%27%23ffffb2ff%27%2C%20%27%23ffffb2ff%27%2C%20%27%23ffffb2ff%27%2C%20%27%23ffffb2ff%27%2C%20%27%23ffffb2ff%27%2C%20%27%23ffffb2ff%27%2C%20%27%23ffffb2ff%27%2C%20%27%23ffffb2ff%27%2C%20%27%23ffffb2ff%27%2C%20%27%23ffffb2ff%27%2C%20%27%23ffffb2ff%27%2C%20%27%23fecc5cff%27%2C%20%27%23fecc5cff%27%2C%20%27%23fecc5cff%27%2C%20%27%23fecc5cff%27%2C%20%27%23fecc5cff%27%2C%20%27%23fecc5cff%27%2C%20%27%23fecc5cff%27%2C%20%27%23fecc5cff%27%2C%20%27%23fecc5cff%27%2C%20%27%23fecc5cff%27%2C%20%27%23fecc5cff%27%2C%20%27%23fecc5cff%27%2C%20%27%23fecc5cff%27%2C%20%27%23fecc5cff%27%2C%20%27%23fecc5cff%27%2C%20%27%23fecc5cff%27%2C%20%27%23fecc5cff%27%2C%20%27%23fecc5cff%27%2C%20%27%23fecc5cff%27%2C%20%27%23fecc5cff%27%2C%20%27%23fecc5cff%27%2C%20%27%23fecc5cff%27%2C%20%27%23fecc5cff%27%2C%20%27%23fecc5cff%27%2C%20%27%23fecc5cff%27%2C%20%27%23fecc5cff%27%2C%20%27%23fecc5cff%27%2C%20%27%23fecc5cff%27%2C%20%27%23fecc5cff%27%2C%20%27%23fecc5cff%27%2C%20%27%23fecc5cff%27%2C%20%27%23fecc5cff%27%2C%20%27%23fecc5cff%27%2C%20%27%23fecc5cff%27%2C%20%27%23fecc5cff%27%2C%20%27%23fecc5cff%27%2C%20%27%23fecc5cff%27%2C%20%27%23fecc5cff%27%2C%20%27%23fecc5cff%27%2C%20%27%23fecc5cff%27%2C%20%27%23fecc5cff%27%2C%20%27%23fecc5cff%27%2C%20%27%23fecc5cff%27%2C%20%27%23fecc5cff%27%2C%20%27%23fecc5cff%27%2C%20%27%23fecc5cff%27%2C%20%27%23fecc5cff%27%2C%20%27%23fecc5cff%27%2C%20%27%23fecc5cff%27%2C%20%27%23fecc5cff%27%2C%20%27%23fecc5cff%27%2C%20%27%23fecc5cff%27%2C%20%27%23fecc5cff%27%2C%20%27%23fecc5cff%27%2C%20%27%23fecc5cff%27%2C%20%27%23fecc5cff%27%2C%20%27%23fecc5cff%27%2C%20%27%23fecc5cff%27%2C%20%27%23fecc5cff%27%2C%20%27%23fecc5cff%27%2C%20%27%23fecc5cff%27%2C%20%27%23fecc5cff%27%2C%20%27%23fecc5cff%27%2C%20%27%23fecc5cff%27%2C%20%27%23fecc5cff%27%2C%20%27%23fecc5cff%27%2C%20%27%23fecc5cff%27%2C%20%27%23fecc5cff%27%2C%20%27%23fecc5cff%27%2C%20%27%23fecc5cff%27%2C%20%27%23fecc5cff%27%2C%20%27%23fecc5cff%27%2C%20%27%23fecc5cff%27%2C%20%27%23fecc5cff%27%2C%20%27%23fecc5cff%27%2C%20%27%23fecc5cff%27%2C%20%27%23fecc5cff%27%2C%20%27%23fecc5cff%27%2C%20%27%23fecc5cff%27%2C%20%27%23fecc5cff%27%2C%20%27%23fecc5cff%27%2C%20%27%23fecc5cff%27%2C%20%27%23fecc5cff%27%2C%20%27%23fecc5cff%27%2C%20%27%23fecc5cff%27%2C%20%27%23fecc5cff%27%2C%20%27%23fecc5cff%27%2C%20%27%23fecc5cff%27%2C%20%27%23fecc5cff%27%2C%20%27%23fecc5cff%27%2C%20%27%23fecc5cff%27%2C%20%27%23fecc5cff%27%2C%20%27%23fecc5cff%27%2C%20%27%23fecc5cff%27%2C%20%27%23fecc5cff%27%2C%20%27%23fecc5cff%27%2C%20%27%23fecc5cff%27%2C%20%27%23fecc5cff%27%2C%20%27%23fecc5cff%27%2C%20%27%23fecc5cff%27%2C%20%27%23fecc5cff%27%2C%20%27%23fecc5cff%27%2C%20%27%23fecc5cff%27%2C%20%27%23fecc5cff%27%2C%20%27%23fecc5cff%27%2C%20%27%23fecc5cff%27%2C%20%27%23fecc5cff%27%2C%20%27%23fecc5cff%27%2C%20%27%23fecc5cff%27%2C%20%27%23fecc5cff%27%2C%20%27%23fecc5cff%27%2C%20%27%23fecc5cff%27%2C%20%27%23fecc5cff%27%2C%20%27%23fecc5cff%27%2C%20%27%23fecc5cff%27%2C%20%27%23fecc5cff%27%2C%20%27%23fecc5cff%27%2C%20%27%23fecc5cff%27%2C%20%27%23fecc5cff%27%2C%20%27%23fecc5cff%27%2C%20%27%23fecc5cff%27%2C%20%27%23fecc5cff%27%2C%20%27%23fecc5cff%27%2C%20%27%23fecc5cff%27%2C%20%27%23fecc5cff%27%2C%20%27%23fecc5cff%27%2C%20%27%23fecc5cff%27%2C%20%27%23fecc5cff%27%2C%20%27%23fecc5cff%27%2C%20%27%23fecc5cff%27%2C%20%27%23fecc5cff%27%2C%20%27%23fecc5cff%27%2C%20%27%23fecc5cff%27%2C%20%27%23fecc5cff%27%2C%20%27%23fecc5cff%27%2C%20%27%23fecc5cff%27%2C%20%27%23fecc5cff%27%2C%20%27%23fecc5cff%27%2C%20%27%23fecc5cff%27%2C%20%27%23fecc5cff%27%2C%20%27%23fecc5cff%27%2C%20%27%23fecc5cff%27%2C%20%27%23fecc5cff%27%2C%20%27%23fecc5cff%27%2C%20%27%23fd8d3cff%27%2C%20%27%23fd8d3cff%27%2C%20%27%23fd8d3cff%27%2C%20%27%23fd8d3cff%27%2C%20%27%23fd8d3cff%27%2C%20%27%23fd8d3cff%27%2C%20%27%23fd8d3cff%27%2C%20%27%23fd8d3cff%27%2C%20%27%23fd8d3cff%27%2C%20%27%23fd8d3cff%27%2C%20%27%23fd8d3cff%27%2C%20%27%23fd8d3cff%27%2C%20%27%23fd8d3cff%27%2C%20%27%23fd8d3cff%27%2C%20%27%23fd8d3cff%27%2C%20%27%23fd8d3cff%27%2C%20%27%23fd8d3cff%27%2C%20%27%23fd8d3cff%27%2C%20%27%23fd8d3cff%27%2C%20%27%23fd8d3cff%27%2C%20%27%23fd8d3cff%27%2C%20%27%23fd8d3cff%27%2C%20%27%23fd8d3cff%27%2C%20%27%23fd8d3cff%27%2C%20%27%23fd8d3cff%27%2C%20%27%23fd8d3cff%27%2C%20%27%23fd8d3cff%27%2C%20%27%23fd8d3cff%27%2C%20%27%23fd8d3cff%27%2C%20%27%23fd8d3cff%27%2C%20%27%23fd8d3cff%27%2C%20%27%23fd8d3cff%27%2C%20%27%23fd8d3cff%27%2C%20%27%23fd8d3cff%27%2C%20%27%23fd8d3cff%27%2C%20%27%23fd8d3cff%27%2C%20%27%23fd8d3cff%27%2C%20%27%23fd8d3cff%27%2C%20%27%23fd8d3cff%27%2C%20%27%23fd8d3cff%27%2C%20%27%23fd8d3cff%27%2C%20%27%23fd8d3cff%27%2C%20%27%23fd8d3cff%27%2C%20%27%23fd8d3cff%27%2C%20%27%23fd8d3cff%27%2C%20%27%23fd8d3cff%27%2C%20%27%23fd8d3cff%27%2C%20%27%23fd8d3cff%27%2C%20%27%23fd8d3cff%27%2C%20%27%23fd8d3cff%27%2C%20%27%23fd8d3cff%27%2C%20%27%23fd8d3cff%27%2C%20%27%23fd8d3cff%27%2C%20%27%23fd8d3cff%27%2C%20%27%23fd8d3cff%27%2C%20%27%23fd8d3cff%27%2C%20%27%23fd8d3cff%27%2C%20%27%23fd8d3cff%27%2C%20%27%23fd8d3cff%27%2C%20%27%23fd8d3cff%27%2C%20%27%23fd8d3cff%27%2C%20%27%23fd8d3cff%27%2C%20%27%23fd8d3cff%27%2C%20%27%23fd8d3cff%27%2C%20%27%23fd8d3cff%27%2C%20%27%23fd8d3cff%27%2C%20%27%23fd8d3cff%27%2C%20%27%23fd8d3cff%27%2C%20%27%23fd8d3cff%27%2C%20%27%23fd8d3cff%27%2C%20%27%23fd8d3cff%27%2C%20%27%23fd8d3cff%27%2C%20%27%23fd8d3cff%27%2C%20%27%23fd8d3cff%27%2C%20%27%23fd8d3cff%27%2C%20%27%23fd8d3cff%27%2C%20%27%23fd8d3cff%27%2C%20%27%23fd8d3cff%27%2C%20%27%23fd8d3cff%27%2C%20%27%23fd8d3cff%27%2C%20%27%23fd8d3cff%27%2C%20%27%23fd8d3cff%27%2C%20%27%23fd8d3cff%27%2C%20%27%23fd8d3cff%27%2C%20%27%23fd8d3cff%27%2C%20%27%23fd8d3cff%27%2C%20%27%23fd8d3cff%27%2C%20%27%23fd8d3cff%27%2C%20%27%23fd8d3cff%27%2C%20%27%23fd8d3cff%27%2C%20%27%23fd8d3cff%27%2C%20%27%23fd8d3cff%27%2C%20%27%23fd8d3cff%27%2C%20%27%23fd8d3cff%27%2C%20%27%23fd8d3cff%27%2C%20%27%23fd8d3cff%27%2C%20%27%23fd8d3cff%27%2C%20%27%23fd8d3cff%27%2C%20%27%23fd8d3cff%27%2C%20%27%23fd8d3cff%27%2C%20%27%23fd8d3cff%27%2C%20%27%23fd8d3cff%27%2C%20%27%23fd8d3cff%27%2C%20%27%23fd8d3cff%27%2C%20%27%23fd8d3cff%27%2C%20%27%23fd8d3cff%27%2C%20%27%23fd8d3cff%27%2C%20%27%23fd8d3cff%27%2C%20%27%23fd8d3cff%27%2C%20%27%23fd8d3cff%27%2C%20%27%23fd8d3cff%27%2C%20%27%23fd8d3cff%27%2C%20%27%23fd8d3cff%27%2C%20%27%23fd8d3cff%27%2C%20%27%23fd8d3cff%27%2C%20%27%23fd8d3cff%27%2C%20%27%23fd8d3cff%27%2C%20%27%23fd8d3cff%27%2C%20%27%23fd8d3cff%27%2C%20%27%23fd8d3cff%27%2C%20%27%23fd8d3cff%27%2C%20%27%23fd8d3cff%27%2C%20%27%23fd8d3cff%27%2C%20%27%23fd8d3cff%27%2C%20%27%23fd8d3cff%27%2C%20%27%23fd8d3cff%27%2C%20%27%23fd8d3cff%27%2C%20%27%23fd8d3cff%27%2C%20%27%23fd8d3cff%27%2C%20%27%23fd8d3cff%27%2C%20%27%23fd8d3cff%27%2C%20%27%23fd8d3cff%27%2C%20%27%23fd8d3cff%27%2C%20%27%23fd8d3cff%27%2C%20%27%23fd8d3cff%27%2C%20%27%23fd8d3cff%27%2C%20%27%23fd8d3cff%27%2C%20%27%23fd8d3cff%27%2C%20%27%23fd8d3cff%27%2C%20%27%23fd8d3cff%27%2C%20%27%23fd8d3cff%27%2C%20%27%23fd8d3cff%27%2C%20%27%23fd8d3cff%27%2C%20%27%23fd8d3cff%27%2C%20%27%23fd8d3cff%27%2C%20%27%23e31a1cff%27%2C%20%27%23e31a1cff%27%2C%20%27%23e31a1cff%27%2C%20%27%23e31a1cff%27%2C%20%27%23e31a1cff%27%2C%20%27%23e31a1cff%27%2C%20%27%23e31a1cff%27%2C%20%27%23e31a1cff%27%2C%20%27%23e31a1cff%27%2C%20%27%23e31a1cff%27%2C%20%27%23e31a1cff%27%2C%20%27%23e31a1cff%27%2C%20%27%23e31a1cff%27%2C%20%27%23e31a1cff%27%2C%20%27%23e31a1cff%27%2C%20%27%23e31a1cff%27%2C%20%27%23e31a1cff%27%2C%20%27%23e31a1cff%27%2C%20%27%23e31a1cff%27%2C%20%27%23e31a1cff%27%2C%20%27%23e31a1cff%27%2C%20%27%23e31a1cff%27%2C%20%27%23e31a1cff%27%2C%20%27%23e31a1cff%27%2C%20%27%23e31a1cff%27%2C%20%27%23e31a1cff%27%2C%20%27%23e31a1cff%27%2C%20%27%23e31a1cff%27%2C%20%27%23e31a1cff%27%2C%20%27%23e31a1cff%27%2C%20%27%23e31a1cff%27%2C%20%27%23e31a1cff%27%2C%20%27%23e31a1cff%27%2C%20%27%23e31a1cff%27%2C%20%27%23e31a1cff%27%2C%20%27%23e31a1cff%27%2C%20%27%23e31a1cff%27%2C%20%27%23e31a1cff%27%2C%20%27%23e31a1cff%27%2C%20%27%23e31a1cff%27%2C%20%27%23e31a1cff%27%2C%20%27%23e31a1cff%27%2C%20%27%23e31a1cff%27%2C%20%27%23e31a1cff%27%2C%20%27%23e31a1cff%27%2C%20%27%23e31a1cff%27%2C%20%27%23e31a1cff%27%2C%20%27%23e31a1cff%27%2C%20%27%23e31a1cff%27%2C%20%27%23e31a1cff%27%2C%20%27%23e31a1cff%27%2C%20%27%23e31a1cff%27%2C%20%27%23e31a1cff%27%2C%20%27%23e31a1cff%27%2C%20%27%23e31a1cff%27%2C%20%27%23e31a1cff%27%2C%20%27%23e31a1cff%27%2C%20%27%23e31a1cff%27%2C%20%27%23e31a1cff%27%2C%20%27%23e31a1cff%27%2C%20%27%23e31a1cff%27%2C%20%27%23e31a1cff%27%2C%20%27%23e31a1cff%27%2C%20%27%23e31a1cff%27%2C%20%27%23e31a1cff%27%2C%20%27%23e31a1cff%27%2C%20%27%23e31a1cff%27%2C%20%27%23e31a1cff%27%2C%20%27%23e31a1cff%27%2C%20%27%23e31a1cff%27%2C%20%27%23e31a1cff%27%2C%20%27%23e31a1cff%27%2C%20%27%23e31a1cff%27%2C%20%27%23e31a1cff%27%2C%20%27%23e31a1cff%27%2C%20%27%23e31a1cff%27%2C%20%27%23e31a1cff%27%2C%20%27%23e31a1cff%27%2C%20%27%23e31a1cff%27%2C%20%27%23e31a1cff%27%2C%20%27%23e31a1cff%27%2C%20%27%23e31a1cff%27%2C%20%27%23e31a1cff%27%2C%20%27%23e31a1cff%27%2C%20%27%23e31a1cff%27%2C%20%27%23e31a1cff%27%2C%20%27%23e31a1cff%27%2C%20%27%23e31a1cff%27%2C%20%27%23e31a1cff%27%2C%20%27%23e31a1cff%27%2C%20%27%23e31a1cff%27%2C%20%27%23e31a1cff%27%2C%20%27%23e31a1cff%27%2C%20%27%23e31a1cff%27%2C%20%27%23e31a1cff%27%2C%20%27%23e31a1cff%27%2C%20%27%23e31a1cff%27%2C%20%27%23e31a1cff%27%2C%20%27%23e31a1cff%27%2C%20%27%23e31a1cff%27%2C%20%27%23e31a1cff%27%2C%20%27%23e31a1cff%27%2C%20%27%23e31a1cff%27%2C%20%27%23e31a1cff%27%2C%20%27%23e31a1cff%27%2C%20%27%23e31a1cff%27%2C%20%27%23e31a1cff%27%2C%20%27%23e31a1cff%27%2C%20%27%23e31a1cff%27%2C%20%27%23e31a1cff%27%2C%20%27%23e31a1cff%27%2C%20%27%23e31a1cff%27%2C%20%27%23e31a1cff%27%2C%20%27%23e31a1cff%27%2C%20%27%23e31a1cff%27%2C%20%27%23e31a1cff%27%2C%20%27%23e31a1cff%27%2C%20%27%23e31a1cff%27%2C%20%27%23e31a1cff%27%2C%20%27%23e31a1cff%27%2C%20%27%23e31a1cff%27%2C%20%27%23e31a1cff%27%2C%20%27%23e31a1cff%27%2C%20%27%23e31a1cff%27%2C%20%27%23e31a1cff%27%2C%20%27%23e31a1cff%27%2C%20%27%23e31a1cff%27%2C%20%27%23e31a1cff%27%2C%20%27%23e31a1cff%27%2C%20%27%23e31a1cff%27%2C%20%27%23e31a1cff%27%2C%20%27%23e31a1cff%27%2C%20%27%23e31a1cff%27%2C%20%27%23e31a1cff%27%2C%20%27%23e31a1cff%27%2C%20%27%23e31a1cff%27%2C%20%27%23e31a1cff%27%2C%20%27%23e31a1cff%27%2C%20%27%23e31a1cff%27%2C%20%27%23e31a1cff%27%2C%20%27%23e31a1cff%27%2C%20%27%23e31a1cff%27%2C%20%27%23e31a1cff%27%2C%20%27%23e31a1cff%27%2C%20%27%23e31a1cff%27%5D%29%3B%0A%20%20%20%20%0A%0A%20%20%20%20color_map_0d06b3bbfdeb406484ed3a00016dcc91.x%20%3D%20d3.scale.linear%28%29%0A%20%20%20%20%20%20%20%20%20%20%20%20%20%20.domain%28%5B10000.0%2C%20700000.0%5D%29%0A%20%20%20%20%20%20%20%20%20%20%20%20%20%20.range%28%5B0%2C%20400%5D%29%3B%0A%0A%20%20%20%20color_map_0d06b3bbfdeb406484ed3a00016dcc91.legend%20%3D%20L.control%28%7Bposition%3A%20%27topright%27%7D%29%3B%0A%20%20%20%20color_map_0d06b3bbfdeb406484ed3a00016dcc91.legend.onAdd%20%3D%20function%20%28map%29%20%7Bvar%20div%20%3D%20L.DomUtil.create%28%27div%27%2C%20%27legend%27%29%3B%20return%20div%7D%3B%0A%20%20%20%20color_map_0d06b3bbfdeb406484ed3a00016dcc91.legend.addTo%28map_a1b90258aba244a5ad4d9ae1f88751eb%29%3B%0A%0A%20%20%20%20color_map_0d06b3bbfdeb406484ed3a00016dcc91.xAxis%20%3D%20d3.svg.axis%28%29%0A%20%20%20%20%20%20%20%20.scale%28color_map_0d06b3bbfdeb406484ed3a00016dcc91.x%29%0A%20%20%20%20%20%20%20%20.orient%28%22top%22%29%0A%20%20%20%20%20%20%20%20.tickSize%281%29%0A%20%20%20%20%20%20%20%20.tickValues%28%5B10000%2C%20100000%2C%20300000%2C%20500000%2C%20700000%5D%29%3B%0A%0A%20%20%20%20color_map_0d06b3bbfdeb406484ed3a00016dcc91.svg%20%3D%20d3.select%28%22.legend.leaflet-control%22%29.append%28%22svg%22%29%0A%20%20%20%20%20%20%20%20.attr%28%22id%22%2C%20%27legend%27%29%0A%20%20%20%20%20%20%20%20.attr%28%22width%22%2C%20450%29%0A%20%20%20%20%20%20%20%20.attr%28%22height%22%2C%2040%29%3B%0A%0A%20%20%20%20color_map_0d06b3bbfdeb406484ed3a00016dcc91.g%20%3D%20color_map_0d06b3bbfdeb406484ed3a00016dcc91.svg.append%28%22g%22%29%0A%20%20%20%20%20%20%20%20.attr%28%22class%22%2C%20%22key%22%29%0A%20%20%20%20%20%20%20%20.attr%28%22transform%22%2C%20%22translate%2825%2C16%29%22%29%3B%0A%0A%20%20%20%20color_map_0d06b3bbfdeb406484ed3a00016dcc91.g.selectAll%28%22rect%22%29%0A%20%20%20%20%20%20%20%20.data%28color_map_0d06b3bbfdeb406484ed3a00016dcc91.color.range%28%29.map%28function%28d%2C%20i%29%20%7B%0A%20%20%20%20%20%20%20%20%20%20return%20%7B%0A%20%20%20%20%20%20%20%20%20%20%20%20x0%3A%20i%20%3F%20color_map_0d06b3bbfdeb406484ed3a00016dcc91.x%28color_map_0d06b3bbfdeb406484ed3a00016dcc91.color.domain%28%29%5Bi%20-%201%5D%29%20%3A%20color_map_0d06b3bbfdeb406484ed3a00016dcc91.x.range%28%29%5B0%5D%2C%0A%20%20%20%20%20%20%20%20%20%20%20%20x1%3A%20i%20%3C%20color_map_0d06b3bbfdeb406484ed3a00016dcc91.color.domain%28%29.length%20%3F%20color_map_0d06b3bbfdeb406484ed3a00016dcc91.x%28color_map_0d06b3bbfdeb406484ed3a00016dcc91.color.domain%28%29%5Bi%5D%29%20%3A%20color_map_0d06b3bbfdeb406484ed3a00016dcc91.x.range%28%29%5B1%5D%2C%0A%20%20%20%20%20%20%20%20%20%20%20%20z%3A%20d%0A%20%20%20%20%20%20%20%20%20%20%7D%3B%0A%20%20%20%20%20%20%20%20%7D%29%29%0A%20%20%20%20%20%20.enter%28%29.append%28%22rect%22%29%0A%20%20%20%20%20%20%20%20.attr%28%22height%22%2C%2010%29%0A%20%20%20%20%20%20%20%20.attr%28%22x%22%2C%20function%28d%29%20%7B%20return%20d.x0%3B%20%7D%29%0A%20%20%20%20%20%20%20%20.attr%28%22width%22%2C%20function%28d%29%20%7B%20return%20d.x1%20-%20d.x0%3B%20%7D%29%0A%20%20%20%20%20%20%20%20.style%28%22fill%22%2C%20function%28d%29%20%7B%20return%20d.z%3B%20%7D%29%3B%0A%0A%20%20%20%20color_map_0d06b3bbfdeb406484ed3a00016dcc91.g.call%28color_map_0d06b3bbfdeb406484ed3a00016dcc91.xAxis%29.append%28%22text%22%29%0A%20%20%20%20%20%20%20%20.attr%28%22class%22%2C%20%22caption%22%29%0A%20%20%20%20%20%20%20%20.attr%28%22y%22%2C%2021%29%0A%20%20%20%20%20%20%20%20.text%28%27%27%29%3B%0A%3C/script%3E onload=\"this.contentDocument.open();this.contentDocument.write(    decodeURIComponent(this.getAttribute('data-html')));this.contentDocument.close();\" allowfullscreen webkitallowfullscreen mozallowfullscreen></iframe></div></div>"
      ],
      "text/plain": [
       "<folium.folium.Map at 0x1b7f55a8fd0>"
      ]
     },
     "metadata": {},
     "output_type": "display_data"
    }
   ],
   "source": [
    "# 팝업처리 추가\n",
    "import pandas as pd\n",
    "import folium\n",
    "import json\n",
    "\n",
    "# 경기도 인구변화 데이터를 불러와서 데이터프레임으로 변환\n",
    "file_path = 'data/경기도인구데이터.xlsx'\n",
    "df = pd.read_excel(file_path, index_col='구분')  \n",
    "df.columns = df.columns.map(str)\n",
    "\n",
    "# 경기도 시군구 경계 정보를 가진 geo-json 파일 불러오기\n",
    "geo_path = 'data/경기도행정구역경계.json'\n",
    "try:\n",
    "    geo_data = json.load(open(geo_path, encoding='utf-8'))\n",
    "except:\n",
    "    geo_data = json.load(open(geo_path, encoding='utf-8-sig'))\n",
    "\n",
    "#print(geo_data)\n",
    "\n",
    "# 경기도 지도 만들기\n",
    "g_map = folium.Map(location=[37.5502,126.982], \n",
    "                   tiles='Stamen Terrain', zoom_start=9, doubleClickZoom=False)\n",
    "\n",
    "test = folium.Html('<b>Hello world</b>', script=True)\n",
    "\n",
    "popup = folium.Popup(test, max_width=2650)\n",
    "\n",
    "# 출력할 연도 선택 (2007 ~ 2017년 중에서 선택)\n",
    "year = '2017'  \n",
    "\n",
    "# Choropleth 클래스로 단계구분도 표시하기\n",
    "fmap=folium.Choropleth(geo_data=geo_data,    # 지도 경계\n",
    "                 data = df[year],      # 표시하려는 데이터\n",
    "                 columns = [df.index, df[year]],  # 열 지정\n",
    "                 fill_color='YlOrRd', fill_opacity=0.7, line_opacity=0.3,\n",
    "                 threshold_scale=[10000, 100000, 300000, 500000, 700000],               \n",
    "                 key_on='feature.properties.name',\n",
    "                 highlight=True\n",
    "                 \n",
    "                 ).add_to(g_map)\n",
    "fmap.geojson.zoom_on_click = False\n",
    "fmap.geojson.add_child(\n",
    "    folium.features.GeoJsonPopup(['name'],labels=False)\n",
    ")\n",
    "\n",
    "display(g_map)\n",
    "# 지도를 HTML 파일로 저장하기\n",
    "g_map.save('output/gyonggi_population_' + year + '_3.html')\n"
   ]
  },
  {
   "cell_type": "code",
   "execution_count": null,
   "metadata": {},
   "outputs": [],
   "source": [
    "folium.Choropleth?"
   ]
  },
  {
   "cell_type": "code",
   "execution_count": 8,
   "metadata": {},
   "outputs": [
    {
     "data": {
      "text/html": [
       "<div style=\"width:100%;\"><div style=\"position:relative;width:100%;height:0;padding-bottom:60%;\"><span style=\"color:#565656\">Make this Notebook Trusted to load map: File -> Trust Notebook</span><iframe src=\"about:blank\" style=\"position:absolute;width:100%;height:100%;left:0;top:0;border:none !important;\" data-html=%3C%21DOCTYPE%20html%3E%0A%3Chead%3E%20%20%20%20%0A%20%20%20%20%3Cmeta%20http-equiv%3D%22content-type%22%20content%3D%22text/html%3B%20charset%3DUTF-8%22%20/%3E%0A%20%20%20%20%0A%20%20%20%20%20%20%20%20%3Cscript%3E%0A%20%20%20%20%20%20%20%20%20%20%20%20L_NO_TOUCH%20%3D%20false%3B%0A%20%20%20%20%20%20%20%20%20%20%20%20L_DISABLE_3D%20%3D%20false%3B%0A%20%20%20%20%20%20%20%20%3C/script%3E%0A%20%20%20%20%0A%20%20%20%20%3Cstyle%3Ehtml%2C%20body%20%7Bwidth%3A%20100%25%3Bheight%3A%20100%25%3Bmargin%3A%200%3Bpadding%3A%200%3B%7D%3C/style%3E%0A%20%20%20%20%3Cstyle%3E%23map%20%7Bposition%3Aabsolute%3Btop%3A0%3Bbottom%3A0%3Bright%3A0%3Bleft%3A0%3B%7D%3C/style%3E%0A%20%20%20%20%3Cscript%20src%3D%22https%3A//cdn.jsdelivr.net/npm/leaflet%401.6.0/dist/leaflet.js%22%3E%3C/script%3E%0A%20%20%20%20%3Cscript%20src%3D%22https%3A//code.jquery.com/jquery-1.12.4.min.js%22%3E%3C/script%3E%0A%20%20%20%20%3Cscript%20src%3D%22https%3A//maxcdn.bootstrapcdn.com/bootstrap/3.2.0/js/bootstrap.min.js%22%3E%3C/script%3E%0A%20%20%20%20%3Cscript%20src%3D%22https%3A//cdnjs.cloudflare.com/ajax/libs/Leaflet.awesome-markers/2.0.2/leaflet.awesome-markers.js%22%3E%3C/script%3E%0A%20%20%20%20%3Clink%20rel%3D%22stylesheet%22%20href%3D%22https%3A//cdn.jsdelivr.net/npm/leaflet%401.6.0/dist/leaflet.css%22/%3E%0A%20%20%20%20%3Clink%20rel%3D%22stylesheet%22%20href%3D%22https%3A//maxcdn.bootstrapcdn.com/bootstrap/3.2.0/css/bootstrap.min.css%22/%3E%0A%20%20%20%20%3Clink%20rel%3D%22stylesheet%22%20href%3D%22https%3A//maxcdn.bootstrapcdn.com/bootstrap/3.2.0/css/bootstrap-theme.min.css%22/%3E%0A%20%20%20%20%3Clink%20rel%3D%22stylesheet%22%20href%3D%22https%3A//maxcdn.bootstrapcdn.com/font-awesome/4.6.3/css/font-awesome.min.css%22/%3E%0A%20%20%20%20%3Clink%20rel%3D%22stylesheet%22%20href%3D%22https%3A//cdnjs.cloudflare.com/ajax/libs/Leaflet.awesome-markers/2.0.2/leaflet.awesome-markers.css%22/%3E%0A%20%20%20%20%3Clink%20rel%3D%22stylesheet%22%20href%3D%22https%3A//cdn.jsdelivr.net/gh/python-visualization/folium/folium/templates/leaflet.awesome.rotate.min.css%22/%3E%0A%20%20%20%20%0A%20%20%20%20%20%20%20%20%20%20%20%20%3Cmeta%20name%3D%22viewport%22%20content%3D%22width%3Ddevice-width%2C%0A%20%20%20%20%20%20%20%20%20%20%20%20%20%20%20%20initial-scale%3D1.0%2C%20maximum-scale%3D1.0%2C%20user-scalable%3Dno%22%20/%3E%0A%20%20%20%20%20%20%20%20%20%20%20%20%3Cstyle%3E%0A%20%20%20%20%20%20%20%20%20%20%20%20%20%20%20%20%23map_de83c7551db84bc79547a7af3967753e%20%7B%0A%20%20%20%20%20%20%20%20%20%20%20%20%20%20%20%20%20%20%20%20position%3A%20relative%3B%0A%20%20%20%20%20%20%20%20%20%20%20%20%20%20%20%20%20%20%20%20width%3A%20100.0%25%3B%0A%20%20%20%20%20%20%20%20%20%20%20%20%20%20%20%20%20%20%20%20height%3A%20100.0%25%3B%0A%20%20%20%20%20%20%20%20%20%20%20%20%20%20%20%20%20%20%20%20left%3A%200.0%25%3B%0A%20%20%20%20%20%20%20%20%20%20%20%20%20%20%20%20%20%20%20%20top%3A%200.0%25%3B%0A%20%20%20%20%20%20%20%20%20%20%20%20%20%20%20%20%7D%0A%20%20%20%20%20%20%20%20%20%20%20%20%3C/style%3E%0A%20%20%20%20%20%20%20%20%0A%3C/head%3E%0A%3Cbody%3E%20%20%20%20%0A%20%20%20%20%0A%20%20%20%20%20%20%20%20%20%20%20%20%3Cdiv%20class%3D%22folium-map%22%20id%3D%22map_de83c7551db84bc79547a7af3967753e%22%20%3E%3C/div%3E%0A%20%20%20%20%20%20%20%20%0A%3C/body%3E%0A%3Cscript%3E%20%20%20%20%0A%20%20%20%20%0A%20%20%20%20%20%20%20%20%20%20%20%20var%20map_de83c7551db84bc79547a7af3967753e%20%3D%20L.map%28%0A%20%20%20%20%20%20%20%20%20%20%20%20%20%20%20%20%22map_de83c7551db84bc79547a7af3967753e%22%2C%0A%20%20%20%20%20%20%20%20%20%20%20%20%20%20%20%20%7B%0A%20%20%20%20%20%20%20%20%20%20%20%20%20%20%20%20%20%20%20%20center%3A%20%5B37.55%2C%20126.98%5D%2C%0A%20%20%20%20%20%20%20%20%20%20%20%20%20%20%20%20%20%20%20%20crs%3A%20L.CRS.EPSG3857%2C%0A%20%20%20%20%20%20%20%20%20%20%20%20%20%20%20%20%20%20%20%20zoom%3A%2012%2C%0A%20%20%20%20%20%20%20%20%20%20%20%20%20%20%20%20%20%20%20%20zoomControl%3A%20true%2C%0A%20%20%20%20%20%20%20%20%20%20%20%20%20%20%20%20%20%20%20%20preferCanvas%3A%20false%2C%0A%20%20%20%20%20%20%20%20%20%20%20%20%20%20%20%20%7D%0A%20%20%20%20%20%20%20%20%20%20%20%20%29%3B%0A%0A%20%20%20%20%20%20%20%20%20%20%20%20%0A%0A%20%20%20%20%20%20%20%20%0A%20%20%20%20%0A%20%20%20%20%20%20%20%20%20%20%20%20var%20tile_layer_f6e74bdd68144678b36148192bc69543%20%3D%20L.tileLayer%28%0A%20%20%20%20%20%20%20%20%20%20%20%20%20%20%20%20%22https%3A//stamen-tiles-%7Bs%7D.a.ssl.fastly.net/terrain/%7Bz%7D/%7Bx%7D/%7By%7D.jpg%22%2C%0A%20%20%20%20%20%20%20%20%20%20%20%20%20%20%20%20%7B%22attribution%22%3A%20%22Map%20tiles%20by%20%5Cu003ca%20href%3D%5C%22http%3A//stamen.com%5C%22%5Cu003eStamen%20Design%5Cu003c/a%5Cu003e%2C%20under%20%5Cu003ca%20href%3D%5C%22http%3A//creativecommons.org/licenses/by/3.0%5C%22%5Cu003eCC%20BY%203.0%5Cu003c/a%5Cu003e.%20Data%20by%20%5Cu0026copy%3B%20%5Cu003ca%20href%3D%5C%22http%3A//openstreetmap.org%5C%22%5Cu003eOpenStreetMap%5Cu003c/a%5Cu003e%2C%20under%20%5Cu003ca%20href%3D%5C%22http%3A//creativecommons.org/licenses/by-sa/3.0%5C%22%5Cu003eCC%20BY%20SA%5Cu003c/a%5Cu003e.%22%2C%20%22detectRetina%22%3A%20false%2C%20%22maxNativeZoom%22%3A%2018%2C%20%22maxZoom%22%3A%2018%2C%20%22minZoom%22%3A%200%2C%20%22noWrap%22%3A%20false%2C%20%22opacity%22%3A%201%2C%20%22subdomains%22%3A%20%22abc%22%2C%20%22tms%22%3A%20false%7D%0A%20%20%20%20%20%20%20%20%20%20%20%20%29.addTo%28map_de83c7551db84bc79547a7af3967753e%29%3B%0A%20%20%20%20%20%20%20%20%0A%3C/script%3E onload=\"this.contentDocument.open();this.contentDocument.write(    decodeURIComponent(this.getAttribute('data-html')));this.contentDocument.close();\" allowfullscreen webkitallowfullscreen mozallowfullscreen></iframe></div></div>"
      ],
      "text/plain": [
       "<folium.folium.Map at 0x1b7f5586880>"
      ]
     },
     "metadata": {},
     "output_type": "display_data"
    }
   ],
   "source": [
    "import pandas as pd\n",
    "import folium\n",
    "seoul_map = folium.Map(location=[37.55,126.98], tiles='Stamen Terrain', \n",
    "                       zoom_start=12)\n",
    "display(seoul_map)"
   ]
  },
  {
   "cell_type": "code",
   "execution_count": 2,
   "metadata": {},
   "outputs": [
    {
     "data": {
      "text/html": [
       "<div style=\"width:100%;\"><div style=\"position:relative;width:100%;height:0;padding-bottom:60%;\"><span style=\"color:#565656\">Make this Notebook Trusted to load map: File -> Trust Notebook</span><iframe src=\"about:blank\" style=\"position:absolute;width:100%;height:100%;left:0;top:0;border:none !important;\" data-html=%3C%21DOCTYPE%20html%3E%0A%3Chead%3E%20%20%20%20%0A%20%20%20%20%3Cmeta%20http-equiv%3D%22content-type%22%20content%3D%22text/html%3B%20charset%3DUTF-8%22%20/%3E%0A%20%20%20%20%0A%20%20%20%20%20%20%20%20%3Cscript%3E%0A%20%20%20%20%20%20%20%20%20%20%20%20L_NO_TOUCH%20%3D%20false%3B%0A%20%20%20%20%20%20%20%20%20%20%20%20L_DISABLE_3D%20%3D%20false%3B%0A%20%20%20%20%20%20%20%20%3C/script%3E%0A%20%20%20%20%0A%20%20%20%20%3Cstyle%3Ehtml%2C%20body%20%7Bwidth%3A%20100%25%3Bheight%3A%20100%25%3Bmargin%3A%200%3Bpadding%3A%200%3B%7D%3C/style%3E%0A%20%20%20%20%3Cstyle%3E%23map%20%7Bposition%3Aabsolute%3Btop%3A0%3Bbottom%3A0%3Bright%3A0%3Bleft%3A0%3B%7D%3C/style%3E%0A%20%20%20%20%3Cscript%20src%3D%22https%3A//cdn.jsdelivr.net/npm/leaflet%401.6.0/dist/leaflet.js%22%3E%3C/script%3E%0A%20%20%20%20%3Cscript%20src%3D%22https%3A//code.jquery.com/jquery-1.12.4.min.js%22%3E%3C/script%3E%0A%20%20%20%20%3Cscript%20src%3D%22https%3A//maxcdn.bootstrapcdn.com/bootstrap/3.2.0/js/bootstrap.min.js%22%3E%3C/script%3E%0A%20%20%20%20%3Cscript%20src%3D%22https%3A//cdnjs.cloudflare.com/ajax/libs/Leaflet.awesome-markers/2.0.2/leaflet.awesome-markers.js%22%3E%3C/script%3E%0A%20%20%20%20%3Clink%20rel%3D%22stylesheet%22%20href%3D%22https%3A//cdn.jsdelivr.net/npm/leaflet%401.6.0/dist/leaflet.css%22/%3E%0A%20%20%20%20%3Clink%20rel%3D%22stylesheet%22%20href%3D%22https%3A//maxcdn.bootstrapcdn.com/bootstrap/3.2.0/css/bootstrap.min.css%22/%3E%0A%20%20%20%20%3Clink%20rel%3D%22stylesheet%22%20href%3D%22https%3A//maxcdn.bootstrapcdn.com/bootstrap/3.2.0/css/bootstrap-theme.min.css%22/%3E%0A%20%20%20%20%3Clink%20rel%3D%22stylesheet%22%20href%3D%22https%3A//maxcdn.bootstrapcdn.com/font-awesome/4.6.3/css/font-awesome.min.css%22/%3E%0A%20%20%20%20%3Clink%20rel%3D%22stylesheet%22%20href%3D%22https%3A//cdnjs.cloudflare.com/ajax/libs/Leaflet.awesome-markers/2.0.2/leaflet.awesome-markers.css%22/%3E%0A%20%20%20%20%3Clink%20rel%3D%22stylesheet%22%20href%3D%22https%3A//cdn.jsdelivr.net/gh/python-visualization/folium/folium/templates/leaflet.awesome.rotate.min.css%22/%3E%0A%20%20%20%20%0A%20%20%20%20%20%20%20%20%20%20%20%20%3Cmeta%20name%3D%22viewport%22%20content%3D%22width%3Ddevice-width%2C%0A%20%20%20%20%20%20%20%20%20%20%20%20%20%20%20%20initial-scale%3D1.0%2C%20maximum-scale%3D1.0%2C%20user-scalable%3Dno%22%20/%3E%0A%20%20%20%20%20%20%20%20%20%20%20%20%3Cstyle%3E%0A%20%20%20%20%20%20%20%20%20%20%20%20%20%20%20%20%23map_683655ab27674e1cb9de69c480141f76%20%7B%0A%20%20%20%20%20%20%20%20%20%20%20%20%20%20%20%20%20%20%20%20position%3A%20relative%3B%0A%20%20%20%20%20%20%20%20%20%20%20%20%20%20%20%20%20%20%20%20width%3A%20100.0%25%3B%0A%20%20%20%20%20%20%20%20%20%20%20%20%20%20%20%20%20%20%20%20height%3A%20100.0%25%3B%0A%20%20%20%20%20%20%20%20%20%20%20%20%20%20%20%20%20%20%20%20left%3A%200.0%25%3B%0A%20%20%20%20%20%20%20%20%20%20%20%20%20%20%20%20%20%20%20%20top%3A%200.0%25%3B%0A%20%20%20%20%20%20%20%20%20%20%20%20%20%20%20%20%7D%0A%20%20%20%20%20%20%20%20%20%20%20%20%3C/style%3E%0A%20%20%20%20%20%20%20%20%0A%3C/head%3E%0A%3Cbody%3E%20%20%20%20%0A%20%20%20%20%0A%20%20%20%20%20%20%20%20%20%20%20%20%3Cdiv%20class%3D%22folium-map%22%20id%3D%22map_683655ab27674e1cb9de69c480141f76%22%20%3E%3C/div%3E%0A%20%20%20%20%20%20%20%20%0A%3C/body%3E%0A%3Cscript%3E%20%20%20%20%0A%20%20%20%20%0A%20%20%20%20%20%20%20%20%20%20%20%20var%20map_683655ab27674e1cb9de69c480141f76%20%3D%20L.map%28%0A%20%20%20%20%20%20%20%20%20%20%20%20%20%20%20%20%22map_683655ab27674e1cb9de69c480141f76%22%2C%0A%20%20%20%20%20%20%20%20%20%20%20%20%20%20%20%20%7B%0A%20%20%20%20%20%20%20%20%20%20%20%20%20%20%20%20%20%20%20%20center%3A%20%5B37.55%2C%20126.98%5D%2C%0A%20%20%20%20%20%20%20%20%20%20%20%20%20%20%20%20%20%20%20%20crs%3A%20L.CRS.EPSG3857%2C%0A%20%20%20%20%20%20%20%20%20%20%20%20%20%20%20%20%20%20%20%20zoom%3A%2012%2C%0A%20%20%20%20%20%20%20%20%20%20%20%20%20%20%20%20%20%20%20%20zoomControl%3A%20true%2C%0A%20%20%20%20%20%20%20%20%20%20%20%20%20%20%20%20%20%20%20%20preferCanvas%3A%20false%2C%0A%20%20%20%20%20%20%20%20%20%20%20%20%20%20%20%20%20%20%20%20doubleClickZoom%3A%20false%2C%0A%20%20%20%20%20%20%20%20%20%20%20%20%20%20%20%20%7D%0A%20%20%20%20%20%20%20%20%20%20%20%20%29%3B%0A%0A%20%20%20%20%20%20%20%20%20%20%20%20%0A%0A%20%20%20%20%20%20%20%20%0A%20%20%20%20%0A%20%20%20%20%20%20%20%20%20%20%20%20var%20tile_layer_9ee2235c890149ffbb45224806f701a8%20%3D%20L.tileLayer%28%0A%20%20%20%20%20%20%20%20%20%20%20%20%20%20%20%20%22https%3A//stamen-tiles-%7Bs%7D.a.ssl.fastly.net/terrain/%7Bz%7D/%7Bx%7D/%7By%7D.jpg%22%2C%0A%20%20%20%20%20%20%20%20%20%20%20%20%20%20%20%20%7B%22attribution%22%3A%20%22Map%20tiles%20by%20%5Cu003ca%20href%3D%5C%22http%3A//stamen.com%5C%22%5Cu003eStamen%20Design%5Cu003c/a%5Cu003e%2C%20under%20%5Cu003ca%20href%3D%5C%22http%3A//creativecommons.org/licenses/by/3.0%5C%22%5Cu003eCC%20BY%203.0%5Cu003c/a%5Cu003e.%20Data%20by%20%5Cu0026copy%3B%20%5Cu003ca%20href%3D%5C%22http%3A//openstreetmap.org%5C%22%5Cu003eOpenStreetMap%5Cu003c/a%5Cu003e%2C%20under%20%5Cu003ca%20href%3D%5C%22http%3A//creativecommons.org/licenses/by-sa/3.0%5C%22%5Cu003eCC%20BY%20SA%5Cu003c/a%5Cu003e.%22%2C%20%22detectRetina%22%3A%20false%2C%20%22maxNativeZoom%22%3A%2018%2C%20%22maxZoom%22%3A%2018%2C%20%22minZoom%22%3A%200%2C%20%22noWrap%22%3A%20false%2C%20%22opacity%22%3A%201%2C%20%22subdomains%22%3A%20%22abc%22%2C%20%22tms%22%3A%20false%7D%0A%20%20%20%20%20%20%20%20%20%20%20%20%29.addTo%28map_683655ab27674e1cb9de69c480141f76%29%3B%0A%20%20%20%20%20%20%20%20%0A%20%20%20%20%0A%20%20%20%20%20%20%20%20%20%20%20%20var%20marker_3d8790ea7f41466a8ccceffb5691d706%20%3D%20L.marker%28%0A%20%20%20%20%20%20%20%20%20%20%20%20%20%20%20%20%5B37.55%2C%20126.98%5D%2C%0A%20%20%20%20%20%20%20%20%20%20%20%20%20%20%20%20%7B%7D%0A%20%20%20%20%20%20%20%20%20%20%20%20%29.addTo%28map_683655ab27674e1cb9de69c480141f76%29%3B%0A%20%20%20%20%20%20%20%20%0A%20%20%20%20%0A%20%20%20%20%20%20%20%20var%20popup_2fa22705b20342c1a2d45b703335450a%20%3D%20L.popup%28%7B%22maxWidth%22%3A%20%22100%25%22%7D%29%3B%0A%0A%20%20%20%20%20%20%20%20%0A%20%20%20%20%20%20%20%20%20%20%20%20var%20html_b8515d6a937340eaa5ce4893754d37af%20%3D%20%24%28%60%3Cdiv%20id%3D%22html_b8515d6a937340eaa5ce4893754d37af%22%20style%3D%22width%3A%20100.0%25%3B%20height%3A%20100.0%25%3B%22%3E%3Cdiv%20style%3D%22width%3A100px%3Bcolor%3Agreen%3Btext-align%3Acenter%22%3E%EB%82%A8%EC%82%B0%3C/div%3E%3C/div%3E%60%29%5B0%5D%3B%0A%20%20%20%20%20%20%20%20%20%20%20%20popup_2fa22705b20342c1a2d45b703335450a.setContent%28html_b8515d6a937340eaa5ce4893754d37af%29%3B%0A%20%20%20%20%20%20%20%20%0A%0A%20%20%20%20%20%20%20%20marker_3d8790ea7f41466a8ccceffb5691d706.bindPopup%28popup_2fa22705b20342c1a2d45b703335450a%29%0A%20%20%20%20%20%20%20%20%3B%0A%0A%20%20%20%20%20%20%20%20%0A%20%20%20%20%0A%20%20%20%20%0A%20%20%20%20%20%20%20%20%20%20%20%20marker_3d8790ea7f41466a8ccceffb5691d706.bindTooltip%28%0A%20%20%20%20%20%20%20%20%20%20%20%20%20%20%20%20%60%3Cdiv%3E%0A%20%20%20%20%20%20%20%20%20%20%20%20%20%20%20%20%20%20%20%20%20%ED%81%B4%EB%A6%AD%ED%95%98%EC%85%94%EC%9A%A9%21%0A%20%20%20%20%20%20%20%20%20%20%20%20%20%20%20%20%20%3C/div%3E%60%2C%0A%20%20%20%20%20%20%20%20%20%20%20%20%20%20%20%20%7B%22sticky%22%3A%20true%7D%0A%20%20%20%20%20%20%20%20%20%20%20%20%29%3B%0A%20%20%20%20%20%20%20%20%0A%20%20%20%20%0A%20%20%20%20%20%20%20%20%20%20%20%20var%20marker_965086fdf49f4950a38d251a25c7a568%20%3D%20L.marker%28%0A%20%20%20%20%20%20%20%20%20%20%20%20%20%20%20%20%5B37.58%2C%20126.975%5D%2C%0A%20%20%20%20%20%20%20%20%20%20%20%20%20%20%20%20%7B%7D%0A%20%20%20%20%20%20%20%20%20%20%20%20%29.addTo%28map_683655ab27674e1cb9de69c480141f76%29%3B%0A%20%20%20%20%20%20%20%20%0A%20%20%20%20%0A%20%20%20%20%20%20%20%20var%20popup_854d31b070e14f079433d1333379d94d%20%3D%20L.popup%28%7B%22maxWidth%22%3A%20%22100%25%22%7D%29%3B%0A%0A%20%20%20%20%20%20%20%20%0A%20%20%20%20%20%20%20%20%20%20%20%20var%20html_5b87b1d9465045bf817cd698fa2e3eda%20%3D%20%24%28%60%3Cdiv%20id%3D%22html_5b87b1d9465045bf817cd698fa2e3eda%22%20style%3D%22width%3A%20100.0%25%3B%20height%3A%20100.0%25%3B%22%3E%3Cdiv%20style%3D%22width%3A100px%3Btext-align%3Acenter%22%3E%3Cb%3E%EA%B2%BD%EB%B3%B5%EA%B6%81%3C/b%3E%3C/div%3E%3C/div%3E%60%29%5B0%5D%3B%0A%20%20%20%20%20%20%20%20%20%20%20%20popup_854d31b070e14f079433d1333379d94d.setContent%28html_5b87b1d9465045bf817cd698fa2e3eda%29%3B%0A%20%20%20%20%20%20%20%20%0A%0A%20%20%20%20%20%20%20%20marker_965086fdf49f4950a38d251a25c7a568.bindPopup%28popup_854d31b070e14f079433d1333379d94d%29%0A%20%20%20%20%20%20%20%20%3B%0A%0A%20%20%20%20%20%20%20%20%0A%20%20%20%20%0A%20%20%20%20%0A%20%20%20%20%20%20%20%20%20%20%20%20marker_965086fdf49f4950a38d251a25c7a568.bindTooltip%28%0A%20%20%20%20%20%20%20%20%20%20%20%20%20%20%20%20%60%3Cdiv%3E%0A%20%20%20%20%20%20%20%20%20%20%20%20%20%20%20%20%20%20%20%20%20%ED%81%B4%EB%A6%AD%ED%95%98%EC%85%94%EC%9A%A9%21%0A%20%20%20%20%20%20%20%20%20%20%20%20%20%20%20%20%20%3C/div%3E%60%2C%0A%20%20%20%20%20%20%20%20%20%20%20%20%20%20%20%20%7B%22sticky%22%3A%20true%7D%0A%20%20%20%20%20%20%20%20%20%20%20%20%29%3B%0A%20%20%20%20%20%20%20%20%0A%3C/script%3E onload=\"this.contentDocument.open();this.contentDocument.write(    decodeURIComponent(this.getAttribute('data-html')));this.contentDocument.close();\" allowfullscreen webkitallowfullscreen mozallowfullscreen></iframe></div></div>"
      ],
      "text/plain": [
       "<folium.folium.Map at 0x1b7f299fb50>"
      ]
     },
     "metadata": {},
     "output_type": "display_data"
    }
   ],
   "source": [
    "import pandas as pd\n",
    "import folium\n",
    "seoul_map = folium.Map(location=[37.55,126.98], tiles='Stamen Terrain', \n",
    "                       zoom_start=12, doubleClickZoom=False)\n",
    "tooltip = '클릭하셔용!'\n",
    "\n",
    "folium.Marker([37.55,126.98], popup='<div style=\"width:100px;color:green;text-align:center\">남산</div>', tooltip=tooltip).add_to(seoul_map)\n",
    "folium.Marker([37.58,126.975], popup='<div style=\"width:100px;text-align:center\"><b>경복궁</b></div>', tooltip=tooltip).add_to(seoul_map)\n",
    "display(seoul_map)"
   ]
  },
  {
   "cell_type": "code",
   "execution_count": 1,
   "metadata": {},
   "outputs": [
    {
     "data": {
      "text/html": [
       "<div style=\"width:100%;\"><div style=\"position:relative;width:100%;height:0;padding-bottom:60%;\"><span style=\"color:#565656\">Make this Notebook Trusted to load map: File -> Trust Notebook</span><iframe src=\"about:blank\" style=\"position:absolute;width:100%;height:100%;left:0;top:0;border:none !important;\" data-html=%3C%21DOCTYPE%20html%3E%0A%3Chead%3E%20%20%20%20%0A%20%20%20%20%3Cmeta%20http-equiv%3D%22content-type%22%20content%3D%22text/html%3B%20charset%3DUTF-8%22%20/%3E%0A%20%20%20%20%0A%20%20%20%20%20%20%20%20%3Cscript%3E%0A%20%20%20%20%20%20%20%20%20%20%20%20L_NO_TOUCH%20%3D%20false%3B%0A%20%20%20%20%20%20%20%20%20%20%20%20L_DISABLE_3D%20%3D%20false%3B%0A%20%20%20%20%20%20%20%20%3C/script%3E%0A%20%20%20%20%0A%20%20%20%20%3Cstyle%3Ehtml%2C%20body%20%7Bwidth%3A%20100%25%3Bheight%3A%20100%25%3Bmargin%3A%200%3Bpadding%3A%200%3B%7D%3C/style%3E%0A%20%20%20%20%3Cstyle%3E%23map%20%7Bposition%3Aabsolute%3Btop%3A0%3Bbottom%3A0%3Bright%3A0%3Bleft%3A0%3B%7D%3C/style%3E%0A%20%20%20%20%3Cscript%20src%3D%22https%3A//cdn.jsdelivr.net/npm/leaflet%401.6.0/dist/leaflet.js%22%3E%3C/script%3E%0A%20%20%20%20%3Cscript%20src%3D%22https%3A//code.jquery.com/jquery-1.12.4.min.js%22%3E%3C/script%3E%0A%20%20%20%20%3Cscript%20src%3D%22https%3A//maxcdn.bootstrapcdn.com/bootstrap/3.2.0/js/bootstrap.min.js%22%3E%3C/script%3E%0A%20%20%20%20%3Cscript%20src%3D%22https%3A//cdnjs.cloudflare.com/ajax/libs/Leaflet.awesome-markers/2.0.2/leaflet.awesome-markers.js%22%3E%3C/script%3E%0A%20%20%20%20%3Clink%20rel%3D%22stylesheet%22%20href%3D%22https%3A//cdn.jsdelivr.net/npm/leaflet%401.6.0/dist/leaflet.css%22/%3E%0A%20%20%20%20%3Clink%20rel%3D%22stylesheet%22%20href%3D%22https%3A//maxcdn.bootstrapcdn.com/bootstrap/3.2.0/css/bootstrap.min.css%22/%3E%0A%20%20%20%20%3Clink%20rel%3D%22stylesheet%22%20href%3D%22https%3A//maxcdn.bootstrapcdn.com/bootstrap/3.2.0/css/bootstrap-theme.min.css%22/%3E%0A%20%20%20%20%3Clink%20rel%3D%22stylesheet%22%20href%3D%22https%3A//maxcdn.bootstrapcdn.com/font-awesome/4.6.3/css/font-awesome.min.css%22/%3E%0A%20%20%20%20%3Clink%20rel%3D%22stylesheet%22%20href%3D%22https%3A//cdnjs.cloudflare.com/ajax/libs/Leaflet.awesome-markers/2.0.2/leaflet.awesome-markers.css%22/%3E%0A%20%20%20%20%3Clink%20rel%3D%22stylesheet%22%20href%3D%22https%3A//cdn.jsdelivr.net/gh/python-visualization/folium/folium/templates/leaflet.awesome.rotate.min.css%22/%3E%0A%20%20%20%20%0A%20%20%20%20%20%20%20%20%20%20%20%20%3Cmeta%20name%3D%22viewport%22%20content%3D%22width%3Ddevice-width%2C%0A%20%20%20%20%20%20%20%20%20%20%20%20%20%20%20%20initial-scale%3D1.0%2C%20maximum-scale%3D1.0%2C%20user-scalable%3Dno%22%20/%3E%0A%20%20%20%20%20%20%20%20%20%20%20%20%3Cstyle%3E%0A%20%20%20%20%20%20%20%20%20%20%20%20%20%20%20%20%23map_7c195435c80f401b992a5dd381b75c01%20%7B%0A%20%20%20%20%20%20%20%20%20%20%20%20%20%20%20%20%20%20%20%20position%3A%20relative%3B%0A%20%20%20%20%20%20%20%20%20%20%20%20%20%20%20%20%20%20%20%20width%3A%20100.0%25%3B%0A%20%20%20%20%20%20%20%20%20%20%20%20%20%20%20%20%20%20%20%20height%3A%20100.0%25%3B%0A%20%20%20%20%20%20%20%20%20%20%20%20%20%20%20%20%20%20%20%20left%3A%200.0%25%3B%0A%20%20%20%20%20%20%20%20%20%20%20%20%20%20%20%20%20%20%20%20top%3A%200.0%25%3B%0A%20%20%20%20%20%20%20%20%20%20%20%20%20%20%20%20%7D%0A%20%20%20%20%20%20%20%20%20%20%20%20%3C/style%3E%0A%20%20%20%20%20%20%20%20%0A%3C/head%3E%0A%3Cbody%3E%20%20%20%20%0A%20%20%20%20%0A%20%20%20%20%20%20%20%20%20%20%20%20%3Cdiv%20class%3D%22folium-map%22%20id%3D%22map_7c195435c80f401b992a5dd381b75c01%22%20%3E%3C/div%3E%0A%20%20%20%20%20%20%20%20%0A%3C/body%3E%0A%3Cscript%3E%20%20%20%20%0A%20%20%20%20%0A%20%20%20%20%20%20%20%20%20%20%20%20var%20map_7c195435c80f401b992a5dd381b75c01%20%3D%20L.map%28%0A%20%20%20%20%20%20%20%20%20%20%20%20%20%20%20%20%22map_7c195435c80f401b992a5dd381b75c01%22%2C%0A%20%20%20%20%20%20%20%20%20%20%20%20%20%20%20%20%7B%0A%20%20%20%20%20%20%20%20%20%20%20%20%20%20%20%20%20%20%20%20center%3A%20%5B37.55%2C%20126.98%5D%2C%0A%20%20%20%20%20%20%20%20%20%20%20%20%20%20%20%20%20%20%20%20crs%3A%20L.CRS.EPSG3857%2C%0A%20%20%20%20%20%20%20%20%20%20%20%20%20%20%20%20%20%20%20%20zoom%3A%2012%2C%0A%20%20%20%20%20%20%20%20%20%20%20%20%20%20%20%20%20%20%20%20zoomControl%3A%20true%2C%0A%20%20%20%20%20%20%20%20%20%20%20%20%20%20%20%20%20%20%20%20preferCanvas%3A%20false%2C%0A%20%20%20%20%20%20%20%20%20%20%20%20%20%20%20%20%20%20%20%20doubleClickZoom%3A%20false%2C%0A%20%20%20%20%20%20%20%20%20%20%20%20%20%20%20%20%7D%0A%20%20%20%20%20%20%20%20%20%20%20%20%29%3B%0A%0A%20%20%20%20%20%20%20%20%20%20%20%20%0A%0A%20%20%20%20%20%20%20%20%0A%20%20%20%20%0A%20%20%20%20%20%20%20%20%20%20%20%20var%20tile_layer_d3c2870d0b86462893e452980bd3adca%20%3D%20L.tileLayer%28%0A%20%20%20%20%20%20%20%20%20%20%20%20%20%20%20%20%22https%3A//stamen-tiles-%7Bs%7D.a.ssl.fastly.net/terrain/%7Bz%7D/%7Bx%7D/%7By%7D.jpg%22%2C%0A%20%20%20%20%20%20%20%20%20%20%20%20%20%20%20%20%7B%22attribution%22%3A%20%22Map%20tiles%20by%20%5Cu003ca%20href%3D%5C%22http%3A//stamen.com%5C%22%5Cu003eStamen%20Design%5Cu003c/a%5Cu003e%2C%20under%20%5Cu003ca%20href%3D%5C%22http%3A//creativecommons.org/licenses/by/3.0%5C%22%5Cu003eCC%20BY%203.0%5Cu003c/a%5Cu003e.%20Data%20by%20%5Cu0026copy%3B%20%5Cu003ca%20href%3D%5C%22http%3A//openstreetmap.org%5C%22%5Cu003eOpenStreetMap%5Cu003c/a%5Cu003e%2C%20under%20%5Cu003ca%20href%3D%5C%22http%3A//creativecommons.org/licenses/by-sa/3.0%5C%22%5Cu003eCC%20BY%20SA%5Cu003c/a%5Cu003e.%22%2C%20%22detectRetina%22%3A%20false%2C%20%22maxNativeZoom%22%3A%2018%2C%20%22maxZoom%22%3A%2018%2C%20%22minZoom%22%3A%200%2C%20%22noWrap%22%3A%20false%2C%20%22opacity%22%3A%201%2C%20%22subdomains%22%3A%20%22abc%22%2C%20%22tms%22%3A%20false%7D%0A%20%20%20%20%20%20%20%20%20%20%20%20%29.addTo%28map_7c195435c80f401b992a5dd381b75c01%29%3B%0A%20%20%20%20%20%20%20%20%0A%20%20%20%20%0A%20%20%20%20%20%20%20%20%20%20%20%20var%20marker_a840aeb5d9db430cb4211cbb38666641%20%3D%20L.marker%28%0A%20%20%20%20%20%20%20%20%20%20%20%20%20%20%20%20%5B37.55%2C%20126.98%5D%2C%0A%20%20%20%20%20%20%20%20%20%20%20%20%20%20%20%20%7B%7D%0A%20%20%20%20%20%20%20%20%20%20%20%20%29.addTo%28map_7c195435c80f401b992a5dd381b75c01%29%3B%0A%20%20%20%20%20%20%20%20%0A%20%20%20%20%0A%20%20%20%20%20%20%20%20%20%20%20%20var%20icon_41c62376824842dba5c2019ac2eac6fb%20%3D%20L.AwesomeMarkers.icon%28%0A%20%20%20%20%20%20%20%20%20%20%20%20%20%20%20%20%7B%22extraClasses%22%3A%20%22fa-rotate-0%22%2C%20%22icon%22%3A%20%22info-sign%22%2C%20%22iconColor%22%3A%20%22white%22%2C%20%22markerColor%22%3A%20%22red%22%2C%20%22prefix%22%3A%20%22glyphicon%22%7D%0A%20%20%20%20%20%20%20%20%20%20%20%20%29%3B%0A%20%20%20%20%20%20%20%20%20%20%20%20marker_a840aeb5d9db430cb4211cbb38666641.setIcon%28icon_41c62376824842dba5c2019ac2eac6fb%29%3B%0A%20%20%20%20%20%20%20%20%0A%20%20%20%20%0A%20%20%20%20%20%20%20%20var%20popup_4d1fe915ed1c4099931866bcc2f86fab%20%3D%20L.popup%28%7B%22maxWidth%22%3A%20300%2C%20%22minWidth%22%3A%20300%7D%29%3B%0A%0A%20%20%20%20%20%20%20%20%0A%20%20%20%20%20%20%20%20%20%20%20%20var%20html_fe9db0f2f1b84661b8605a7fc1de0022%20%3D%20%24%28%60%3Cdiv%20id%3D%22html_fe9db0f2f1b84661b8605a7fc1de0022%22%20style%3D%22width%3A%20100.0%25%3B%20height%3A%20100.0%25%3B%22%3E%3Ch3%3E%ED%85%8C%EC%8A%A4%ED%8A%B8%EA%B0%80%20%EC%9E%98%20%EB%90%98%EB%A9%B4%20%EC%A2%8B%EA%B2%A0%EB%8B%A4~~%3C/h3%3E%3C/div%3E%60%29%5B0%5D%3B%0A%20%20%20%20%20%20%20%20%20%20%20%20popup_4d1fe915ed1c4099931866bcc2f86fab.setContent%28html_fe9db0f2f1b84661b8605a7fc1de0022%29%3B%0A%20%20%20%20%20%20%20%20%0A%0A%20%20%20%20%20%20%20%20marker_a840aeb5d9db430cb4211cbb38666641.bindPopup%28popup_4d1fe915ed1c4099931866bcc2f86fab%29%0A%20%20%20%20%20%20%20%20%3B%0A%0A%20%20%20%20%20%20%20%20%0A%20%20%20%20%0A%20%20%20%20%0A%20%20%20%20%20%20%20%20%20%20%20%20marker_a840aeb5d9db430cb4211cbb38666641.bindTooltip%28%0A%20%20%20%20%20%20%20%20%20%20%20%20%20%20%20%20%60%3Cdiv%3E%0A%20%20%20%20%20%20%20%20%20%20%20%20%20%20%20%20%20%20%20%20%20%ED%81%B4%EB%A6%AD%ED%95%98%EC%85%94%EC%9A%A9%21%0A%20%20%20%20%20%20%20%20%20%20%20%20%20%20%20%20%20%3C/div%3E%60%2C%0A%20%20%20%20%20%20%20%20%20%20%20%20%20%20%20%20%7B%22sticky%22%3A%20true%7D%0A%20%20%20%20%20%20%20%20%20%20%20%20%29%3B%0A%20%20%20%20%20%20%20%20%0A%3C/script%3E onload=\"this.contentDocument.open();this.contentDocument.write(    decodeURIComponent(this.getAttribute('data-html')));this.contentDocument.close();\" allowfullscreen webkitallowfullscreen mozallowfullscreen></iframe></div></div>"
      ],
      "text/plain": [
       "<folium.folium.Map at 0x1b7f298b4f0>"
      ]
     },
     "metadata": {},
     "output_type": "display_data"
    }
   ],
   "source": [
    "import pandas as pd\n",
    "import folium\n",
    "seoul_map = folium.Map(location=[37.55,126.98], tiles='Stamen Terrain', \n",
    "                       zoom_start=12, doubleClickZoom=False)\n",
    "tooltip = '클릭하셔용!'\n",
    "\n",
    "test = folium.Html('<h3>테스트가 잘 되면 좋겠다~~</h3>', script=True)\n",
    "popup = folium.Popup(test, max_width=300,min_width=300)\n",
    "icon = folium.map.Icon(color='red', icon='info-sign')\n",
    "\n",
    "folium.Marker([37.55,126.98], popup = popup, icon=icon, tooltip=tooltip).add_to(seoul_map)\n",
    "\n",
    "\n",
    "display(seoul_map)"
   ]
  },
  {
   "cell_type": "code",
   "execution_count": null,
   "metadata": {},
   "outputs": [],
   "source": [
    "?folium.Map"
   ]
  },
  {
   "cell_type": "code",
   "execution_count": 6,
   "metadata": {},
   "outputs": [
    {
     "data": {
      "text/html": [
       "<div style=\"width:100%;\"><div style=\"position:relative;width:100%;height:0;padding-bottom:60%;\"><span style=\"color:#565656\">Make this Notebook Trusted to load map: File -> Trust Notebook</span><iframe src=\"about:blank\" style=\"position:absolute;width:100%;height:100%;left:0;top:0;border:none !important;\" data-html=%3C%21DOCTYPE%20html%3E%0A%3Chead%3E%20%20%20%20%0A%20%20%20%20%3Cmeta%20http-equiv%3D%22content-type%22%20content%3D%22text/html%3B%20charset%3DUTF-8%22%20/%3E%0A%20%20%20%20%0A%20%20%20%20%20%20%20%20%3Cscript%3E%0A%20%20%20%20%20%20%20%20%20%20%20%20L_NO_TOUCH%20%3D%20false%3B%0A%20%20%20%20%20%20%20%20%20%20%20%20L_DISABLE_3D%20%3D%20false%3B%0A%20%20%20%20%20%20%20%20%3C/script%3E%0A%20%20%20%20%0A%20%20%20%20%3Cstyle%3Ehtml%2C%20body%20%7Bwidth%3A%20100%25%3Bheight%3A%20100%25%3Bmargin%3A%200%3Bpadding%3A%200%3B%7D%3C/style%3E%0A%20%20%20%20%3Cstyle%3E%23map%20%7Bposition%3Aabsolute%3Btop%3A0%3Bbottom%3A0%3Bright%3A0%3Bleft%3A0%3B%7D%3C/style%3E%0A%20%20%20%20%3Cscript%20src%3D%22https%3A//cdn.jsdelivr.net/npm/leaflet%401.6.0/dist/leaflet.js%22%3E%3C/script%3E%0A%20%20%20%20%3Cscript%20src%3D%22https%3A//code.jquery.com/jquery-1.12.4.min.js%22%3E%3C/script%3E%0A%20%20%20%20%3Cscript%20src%3D%22https%3A//maxcdn.bootstrapcdn.com/bootstrap/3.2.0/js/bootstrap.min.js%22%3E%3C/script%3E%0A%20%20%20%20%3Cscript%20src%3D%22https%3A//cdnjs.cloudflare.com/ajax/libs/Leaflet.awesome-markers/2.0.2/leaflet.awesome-markers.js%22%3E%3C/script%3E%0A%20%20%20%20%3Clink%20rel%3D%22stylesheet%22%20href%3D%22https%3A//cdn.jsdelivr.net/npm/leaflet%401.6.0/dist/leaflet.css%22/%3E%0A%20%20%20%20%3Clink%20rel%3D%22stylesheet%22%20href%3D%22https%3A//maxcdn.bootstrapcdn.com/bootstrap/3.2.0/css/bootstrap.min.css%22/%3E%0A%20%20%20%20%3Clink%20rel%3D%22stylesheet%22%20href%3D%22https%3A//maxcdn.bootstrapcdn.com/bootstrap/3.2.0/css/bootstrap-theme.min.css%22/%3E%0A%20%20%20%20%3Clink%20rel%3D%22stylesheet%22%20href%3D%22https%3A//maxcdn.bootstrapcdn.com/font-awesome/4.6.3/css/font-awesome.min.css%22/%3E%0A%20%20%20%20%3Clink%20rel%3D%22stylesheet%22%20href%3D%22https%3A//cdnjs.cloudflare.com/ajax/libs/Leaflet.awesome-markers/2.0.2/leaflet.awesome-markers.css%22/%3E%0A%20%20%20%20%3Clink%20rel%3D%22stylesheet%22%20href%3D%22https%3A//cdn.jsdelivr.net/gh/python-visualization/folium/folium/templates/leaflet.awesome.rotate.min.css%22/%3E%0A%20%20%20%20%0A%20%20%20%20%20%20%20%20%20%20%20%20%3Cmeta%20name%3D%22viewport%22%20content%3D%22width%3Ddevice-width%2C%0A%20%20%20%20%20%20%20%20%20%20%20%20%20%20%20%20initial-scale%3D1.0%2C%20maximum-scale%3D1.0%2C%20user-scalable%3Dno%22%20/%3E%0A%20%20%20%20%20%20%20%20%20%20%20%20%3Cstyle%3E%0A%20%20%20%20%20%20%20%20%20%20%20%20%20%20%20%20%23map_6f65f28d81264e9297e46130f2e51b0a%20%7B%0A%20%20%20%20%20%20%20%20%20%20%20%20%20%20%20%20%20%20%20%20position%3A%20relative%3B%0A%20%20%20%20%20%20%20%20%20%20%20%20%20%20%20%20%20%20%20%20width%3A%20100.0%25%3B%0A%20%20%20%20%20%20%20%20%20%20%20%20%20%20%20%20%20%20%20%20height%3A%20100.0%25%3B%0A%20%20%20%20%20%20%20%20%20%20%20%20%20%20%20%20%20%20%20%20left%3A%200.0%25%3B%0A%20%20%20%20%20%20%20%20%20%20%20%20%20%20%20%20%20%20%20%20top%3A%200.0%25%3B%0A%20%20%20%20%20%20%20%20%20%20%20%20%20%20%20%20%7D%0A%20%20%20%20%20%20%20%20%20%20%20%20%3C/style%3E%0A%20%20%20%20%20%20%20%20%0A%3C/head%3E%0A%3Cbody%3E%20%20%20%20%0A%20%20%20%20%0A%20%20%20%20%20%20%20%20%20%20%20%20%3Cdiv%20class%3D%22folium-map%22%20id%3D%22map_6f65f28d81264e9297e46130f2e51b0a%22%20%3E%3C/div%3E%0A%20%20%20%20%20%20%20%20%0A%3C/body%3E%0A%3Cscript%3E%20%20%20%20%0A%20%20%20%20%0A%20%20%20%20%20%20%20%20%20%20%20%20var%20map_6f65f28d81264e9297e46130f2e51b0a%20%3D%20L.map%28%0A%20%20%20%20%20%20%20%20%20%20%20%20%20%20%20%20%22map_6f65f28d81264e9297e46130f2e51b0a%22%2C%0A%20%20%20%20%20%20%20%20%20%20%20%20%20%20%20%20%7B%0A%20%20%20%20%20%20%20%20%20%20%20%20%20%20%20%20%20%20%20%20center%3A%20%5B37.55%2C%20126.98%5D%2C%0A%20%20%20%20%20%20%20%20%20%20%20%20%20%20%20%20%20%20%20%20crs%3A%20L.CRS.EPSG3857%2C%0A%20%20%20%20%20%20%20%20%20%20%20%20%20%20%20%20%20%20%20%20zoom%3A%2012%2C%0A%20%20%20%20%20%20%20%20%20%20%20%20%20%20%20%20%20%20%20%20zoomControl%3A%20true%2C%0A%20%20%20%20%20%20%20%20%20%20%20%20%20%20%20%20%20%20%20%20preferCanvas%3A%20false%2C%0A%20%20%20%20%20%20%20%20%20%20%20%20%20%20%20%20%7D%0A%20%20%20%20%20%20%20%20%20%20%20%20%29%3B%0A%0A%20%20%20%20%20%20%20%20%20%20%20%20%0A%0A%20%20%20%20%20%20%20%20%0A%20%20%20%20%0A%20%20%20%20%20%20%20%20%20%20%20%20var%20tile_layer_852c1d219bf14c608509e2056fd1111a%20%3D%20L.tileLayer%28%0A%20%20%20%20%20%20%20%20%20%20%20%20%20%20%20%20%22https%3A//stamen-tiles-%7Bs%7D.a.ssl.fastly.net/terrain/%7Bz%7D/%7Bx%7D/%7By%7D.jpg%22%2C%0A%20%20%20%20%20%20%20%20%20%20%20%20%20%20%20%20%7B%22attribution%22%3A%20%22Map%20tiles%20by%20%5Cu003ca%20href%3D%5C%22http%3A//stamen.com%5C%22%5Cu003eStamen%20Design%5Cu003c/a%5Cu003e%2C%20under%20%5Cu003ca%20href%3D%5C%22http%3A//creativecommons.org/licenses/by/3.0%5C%22%5Cu003eCC%20BY%203.0%5Cu003c/a%5Cu003e.%20Data%20by%20%5Cu0026copy%3B%20%5Cu003ca%20href%3D%5C%22http%3A//openstreetmap.org%5C%22%5Cu003eOpenStreetMap%5Cu003c/a%5Cu003e%2C%20under%20%5Cu003ca%20href%3D%5C%22http%3A//creativecommons.org/licenses/by-sa/3.0%5C%22%5Cu003eCC%20BY%20SA%5Cu003c/a%5Cu003e.%22%2C%20%22detectRetina%22%3A%20false%2C%20%22maxNativeZoom%22%3A%2018%2C%20%22maxZoom%22%3A%2018%2C%20%22minZoom%22%3A%200%2C%20%22noWrap%22%3A%20false%2C%20%22opacity%22%3A%201%2C%20%22subdomains%22%3A%20%22abc%22%2C%20%22tms%22%3A%20false%7D%0A%20%20%20%20%20%20%20%20%20%20%20%20%29.addTo%28map_6f65f28d81264e9297e46130f2e51b0a%29%3B%0A%20%20%20%20%20%20%20%20%0A%20%20%20%20%0A%20%20%20%20%20%20%20%20%20%20%20%20%20%20%20%20var%20lat_lng_popup_07a321cdee544ece909fd693cb2c8155%20%3D%20L.popup%28%29%3B%0A%20%20%20%20%20%20%20%20%20%20%20%20%20%20%20%20function%20latLngPop%28e%29%20%7B%0A%20%20%20%20%20%20%20%20%20%20%20%20%20%20%20%20%20%20%20%20lat_lng_popup_07a321cdee544ece909fd693cb2c8155%0A%20%20%20%20%20%20%20%20%20%20%20%20%20%20%20%20%20%20%20%20%20%20%20%20.setLatLng%28e.latlng%29%0A%20%20%20%20%20%20%20%20%20%20%20%20%20%20%20%20%20%20%20%20%20%20%20%20.setContent%28%22Latitude%3A%20%22%20%2B%20e.latlng.lat.toFixed%284%29%20%2B%0A%20%20%20%20%20%20%20%20%20%20%20%20%20%20%20%20%20%20%20%20%20%20%20%20%20%20%20%20%20%20%20%20%20%20%20%20%22%3Cbr%3ELongitude%3A%20%22%20%2B%20e.latlng.lng.toFixed%284%29%29%0A%20%20%20%20%20%20%20%20%20%20%20%20%20%20%20%20%20%20%20%20%20%20%20%20.openOn%28map_6f65f28d81264e9297e46130f2e51b0a%29%3B%0A%20%20%20%20%20%20%20%20%20%20%20%20%20%20%20%20%20%20%20%20%7D%0A%20%20%20%20%20%20%20%20%20%20%20%20%20%20%20%20map_6f65f28d81264e9297e46130f2e51b0a.on%28%27click%27%2C%20latLngPop%29%3B%0A%20%20%20%20%20%20%20%20%20%20%20%20%0A%3C/script%3E onload=\"this.contentDocument.open();this.contentDocument.write(    decodeURIComponent(this.getAttribute('data-html')));this.contentDocument.close();\" allowfullscreen webkitallowfullscreen mozallowfullscreen></iframe></div></div>"
      ],
      "text/plain": [
       "<folium.folium.Map at 0x1b7f54cbca0>"
      ]
     },
     "metadata": {},
     "output_type": "display_data"
    }
   ],
   "source": [
    "import pandas as pd\n",
    "import folium\n",
    "seoul_map = folium.Map(location=[37.55,126.98], tiles='Stamen Terrain', \n",
    "                       zoom_start=12)\n",
    "seoul_map.add_child(folium.LatLngPopup())\n",
    "\n",
    "display(seoul_map)"
   ]
  },
  {
   "cell_type": "code",
   "execution_count": null,
   "metadata": {},
   "outputs": [],
   "source": [
    "import pandas as pd\n",
    "import folium\n",
    "seoul_map = folium.Map(location=[37.55,126.98], tiles='Stamen Terrain', \n",
    "                       zoom_start=12)\n",
    "folium.Marker(\n",
    "    [37.55,126.98],\n",
    "    popup='남산'\n",
    ").add_to(seoul_map)\n",
    "\n",
    "seoul_map.add_child(folium.ClickForMarker(popup='내가 찍음!!'))\n",
    "\n",
    "display(seoul_map)"
   ]
  },
  {
   "cell_type": "code",
   "execution_count": null,
   "metadata": {},
   "outputs": [],
   "source": [
    "import json\n",
    "geo_path = 'data/seoul_geo.json'\n",
    "geo_str = json.load(open(geo_path, encoding='utf-8'))\n",
    "pop = pd.read_csv(\"./data/cctv_seoul.csv\")\n",
    "pop.head()"
   ]
  },
  {
   "cell_type": "code",
   "execution_count": 5,
   "metadata": {},
   "outputs": [
    {
     "ename": "NameError",
     "evalue": "name 'geo_str' is not defined",
     "output_type": "error",
     "traceback": [
      "\u001b[1;31m---------------------------------------------------------------------------\u001b[0m",
      "\u001b[1;31mNameError\u001b[0m                                 Traceback (most recent call last)",
      "\u001b[1;32m<ipython-input-5-966476fbaaa1>\u001b[0m in \u001b[0;36m<module>\u001b[1;34m\u001b[0m\n\u001b[0;32m      1\u001b[0m map = folium.Map(location=[37.5502, 126.982], zoom_start=11,\n\u001b[0;32m      2\u001b[0m                  tiles='Stamen Toner',doubleClickZoom=False)\n\u001b[1;32m----> 3\u001b[1;33m fmap=folium.Choropleth(geo_data = geo_str,\n\u001b[0m\u001b[0;32m      4\u001b[0m                \u001b[0mdata\u001b[0m \u001b[1;33m=\u001b[0m \u001b[0mpop\u001b[0m\u001b[1;33m,\u001b[0m\u001b[1;33m\u001b[0m\u001b[1;33m\u001b[0m\u001b[0m\n\u001b[0;32m      5\u001b[0m                \u001b[0mcolumns\u001b[0m \u001b[1;33m=\u001b[0m \u001b[1;33m[\u001b[0m\u001b[1;34m'구별'\u001b[0m\u001b[1;33m,\u001b[0m \u001b[1;34m'인구수'\u001b[0m\u001b[1;33m]\u001b[0m\u001b[1;33m,\u001b[0m\u001b[1;33m\u001b[0m\u001b[1;33m\u001b[0m\u001b[0m\n",
      "\u001b[1;31mNameError\u001b[0m: name 'geo_str' is not defined"
     ]
    }
   ],
   "source": [
    "map = folium.Map(location=[37.5502, 126.982], zoom_start=11,\n",
    "                 tiles='Stamen Toner',doubleClickZoom=False)\n",
    "fmap=folium.Choropleth(geo_data = geo_str,\n",
    "               data = pop,\n",
    "               columns = ['구별', '인구수'],\n",
    "               fill_color = 'YlGnBu',\n",
    "               key_on='feature.properties.name').add_to(map)\n",
    "fmap.geojson.add_child(\n",
    "    folium.features.GeoJsonTooltip(['name'],labels=False)\n",
    ")\n",
    "display(map)"
   ]
  },
  {
   "cell_type": "code",
   "execution_count": 4,
   "metadata": {},
   "outputs": [
    {
     "data": {
      "text/html": [
       "<div style=\"width:100%;\"><div style=\"position:relative;width:100%;height:0;padding-bottom:60%;\"><span style=\"color:#565656\">Make this Notebook Trusted to load map: File -> Trust Notebook</span><iframe src=\"about:blank\" style=\"position:absolute;width:100%;height:100%;left:0;top:0;border:none !important;\" data-html=%3C%21DOCTYPE%20html%3E%0A%3Chead%3E%20%20%20%20%0A%20%20%20%20%3Cmeta%20http-equiv%3D%22content-type%22%20content%3D%22text/html%3B%20charset%3DUTF-8%22%20/%3E%0A%20%20%20%20%0A%20%20%20%20%20%20%20%20%3Cscript%3E%0A%20%20%20%20%20%20%20%20%20%20%20%20L_NO_TOUCH%20%3D%20false%3B%0A%20%20%20%20%20%20%20%20%20%20%20%20L_DISABLE_3D%20%3D%20false%3B%0A%20%20%20%20%20%20%20%20%3C/script%3E%0A%20%20%20%20%0A%20%20%20%20%3Cstyle%3Ehtml%2C%20body%20%7Bwidth%3A%20100%25%3Bheight%3A%20100%25%3Bmargin%3A%200%3Bpadding%3A%200%3B%7D%3C/style%3E%0A%20%20%20%20%3Cstyle%3E%23map%20%7Bposition%3Aabsolute%3Btop%3A0%3Bbottom%3A0%3Bright%3A0%3Bleft%3A0%3B%7D%3C/style%3E%0A%20%20%20%20%3Cscript%20src%3D%22https%3A//cdn.jsdelivr.net/npm/leaflet%401.6.0/dist/leaflet.js%22%3E%3C/script%3E%0A%20%20%20%20%3Cscript%20src%3D%22https%3A//code.jquery.com/jquery-1.12.4.min.js%22%3E%3C/script%3E%0A%20%20%20%20%3Cscript%20src%3D%22https%3A//maxcdn.bootstrapcdn.com/bootstrap/3.2.0/js/bootstrap.min.js%22%3E%3C/script%3E%0A%20%20%20%20%3Cscript%20src%3D%22https%3A//cdnjs.cloudflare.com/ajax/libs/Leaflet.awesome-markers/2.0.2/leaflet.awesome-markers.js%22%3E%3C/script%3E%0A%20%20%20%20%3Clink%20rel%3D%22stylesheet%22%20href%3D%22https%3A//cdn.jsdelivr.net/npm/leaflet%401.6.0/dist/leaflet.css%22/%3E%0A%20%20%20%20%3Clink%20rel%3D%22stylesheet%22%20href%3D%22https%3A//maxcdn.bootstrapcdn.com/bootstrap/3.2.0/css/bootstrap.min.css%22/%3E%0A%20%20%20%20%3Clink%20rel%3D%22stylesheet%22%20href%3D%22https%3A//maxcdn.bootstrapcdn.com/bootstrap/3.2.0/css/bootstrap-theme.min.css%22/%3E%0A%20%20%20%20%3Clink%20rel%3D%22stylesheet%22%20href%3D%22https%3A//maxcdn.bootstrapcdn.com/font-awesome/4.6.3/css/font-awesome.min.css%22/%3E%0A%20%20%20%20%3Clink%20rel%3D%22stylesheet%22%20href%3D%22https%3A//cdnjs.cloudflare.com/ajax/libs/Leaflet.awesome-markers/2.0.2/leaflet.awesome-markers.css%22/%3E%0A%20%20%20%20%3Clink%20rel%3D%22stylesheet%22%20href%3D%22https%3A//cdn.jsdelivr.net/gh/python-visualization/folium/folium/templates/leaflet.awesome.rotate.min.css%22/%3E%0A%20%20%20%20%0A%20%20%20%20%20%20%20%20%20%20%20%20%3Cmeta%20name%3D%22viewport%22%20content%3D%22width%3Ddevice-width%2C%0A%20%20%20%20%20%20%20%20%20%20%20%20%20%20%20%20initial-scale%3D1.0%2C%20maximum-scale%3D1.0%2C%20user-scalable%3Dno%22%20/%3E%0A%20%20%20%20%20%20%20%20%20%20%20%20%3Cstyle%3E%0A%20%20%20%20%20%20%20%20%20%20%20%20%20%20%20%20%23map_5cc842c0b9944d0fb1c82212cdda5b40%20%7B%0A%20%20%20%20%20%20%20%20%20%20%20%20%20%20%20%20%20%20%20%20position%3A%20relative%3B%0A%20%20%20%20%20%20%20%20%20%20%20%20%20%20%20%20%20%20%20%20width%3A%20100.0%25%3B%0A%20%20%20%20%20%20%20%20%20%20%20%20%20%20%20%20%20%20%20%20height%3A%20100.0%25%3B%0A%20%20%20%20%20%20%20%20%20%20%20%20%20%20%20%20%20%20%20%20left%3A%200.0%25%3B%0A%20%20%20%20%20%20%20%20%20%20%20%20%20%20%20%20%20%20%20%20top%3A%200.0%25%3B%0A%20%20%20%20%20%20%20%20%20%20%20%20%20%20%20%20%7D%0A%20%20%20%20%20%20%20%20%20%20%20%20%3C/style%3E%0A%20%20%20%20%20%20%20%20%0A%3C/head%3E%0A%3Cbody%3E%20%20%20%20%0A%20%20%20%20%0A%20%20%20%20%20%20%20%20%20%20%20%20%3Cdiv%20class%3D%22folium-map%22%20id%3D%22map_5cc842c0b9944d0fb1c82212cdda5b40%22%20%3E%3C/div%3E%0A%20%20%20%20%20%20%20%20%0A%3C/body%3E%0A%3Cscript%3E%20%20%20%20%0A%20%20%20%20%0A%20%20%20%20%20%20%20%20%20%20%20%20var%20map_5cc842c0b9944d0fb1c82212cdda5b40%20%3D%20L.map%28%0A%20%20%20%20%20%20%20%20%20%20%20%20%20%20%20%20%22map_5cc842c0b9944d0fb1c82212cdda5b40%22%2C%0A%20%20%20%20%20%20%20%20%20%20%20%20%20%20%20%20%7B%0A%20%20%20%20%20%20%20%20%20%20%20%20%20%20%20%20%20%20%20%20center%3A%20%5B37.55%2C%20126.99%5D%2C%0A%20%20%20%20%20%20%20%20%20%20%20%20%20%20%20%20%20%20%20%20crs%3A%20L.CRS.EPSG3857%2C%0A%20%20%20%20%20%20%20%20%20%20%20%20%20%20%20%20%20%20%20%20zoom%3A%2015%2C%0A%20%20%20%20%20%20%20%20%20%20%20%20%20%20%20%20%20%20%20%20zoomControl%3A%20true%2C%0A%20%20%20%20%20%20%20%20%20%20%20%20%20%20%20%20%20%20%20%20preferCanvas%3A%20false%2C%0A%20%20%20%20%20%20%20%20%20%20%20%20%20%20%20%20%7D%0A%20%20%20%20%20%20%20%20%20%20%20%20%29%3B%0A%0A%20%20%20%20%20%20%20%20%20%20%20%20%0A%0A%20%20%20%20%20%20%20%20%0A%20%20%20%20%0A%20%20%20%20%20%20%20%20%20%20%20%20var%20tile_layer_b91d462438b246b79a65bb687b90266a%20%3D%20L.tileLayer%28%0A%20%20%20%20%20%20%20%20%20%20%20%20%20%20%20%20%22https%3A//%7Bs%7D.tile.openstreetmap.org/%7Bz%7D/%7Bx%7D/%7By%7D.png%22%2C%0A%20%20%20%20%20%20%20%20%20%20%20%20%20%20%20%20%7B%22attribution%22%3A%20%22Data%20by%20%5Cu0026copy%3B%20%5Cu003ca%20href%3D%5C%22http%3A//openstreetmap.org%5C%22%5Cu003eOpenStreetMap%5Cu003c/a%5Cu003e%2C%20under%20%5Cu003ca%20href%3D%5C%22http%3A//www.openstreetmap.org/copyright%5C%22%5Cu003eODbL%5Cu003c/a%5Cu003e.%22%2C%20%22detectRetina%22%3A%20false%2C%20%22maxNativeZoom%22%3A%2018%2C%20%22maxZoom%22%3A%2018%2C%20%22minZoom%22%3A%200%2C%20%22noWrap%22%3A%20false%2C%20%22opacity%22%3A%201%2C%20%22subdomains%22%3A%20%22abc%22%2C%20%22tms%22%3A%20false%7D%0A%20%20%20%20%20%20%20%20%20%20%20%20%29.addTo%28map_5cc842c0b9944d0fb1c82212cdda5b40%29%3B%0A%20%20%20%20%20%20%20%20%0A%20%20%20%20%0A%20%20%20%20%20%20%20%20%20%20%20%20var%20circle_marker_e3c6471bb4114049abcbfdb6977e24aa%20%3D%20L.circleMarker%28%0A%20%20%20%20%20%20%20%20%20%20%20%20%20%20%20%20%5B37.55%2C%20126.99%5D%2C%0A%20%20%20%20%20%20%20%20%20%20%20%20%20%20%20%20%7B%22bubblingMouseEvents%22%3A%20true%2C%20%22color%22%3A%20%22%2300ff00%22%2C%20%22dashArray%22%3A%20null%2C%20%22dashOffset%22%3A%20null%2C%20%22fill%22%3A%20true%2C%20%22fillColor%22%3A%20%22%23ff000099%22%2C%20%22fillOpacity%22%3A%200.2%2C%20%22fillRule%22%3A%20%22evenodd%22%2C%20%22lineCap%22%3A%20%22round%22%2C%20%22lineJoin%22%3A%20%22round%22%2C%20%22opacity%22%3A%201.0%2C%20%22radius%22%3A%20100%2C%20%22stroke%22%3A%20true%2C%20%22weight%22%3A%203%7D%0A%20%20%20%20%20%20%20%20%20%20%20%20%29.addTo%28map_5cc842c0b9944d0fb1c82212cdda5b40%29%3B%0A%20%20%20%20%20%20%20%20%0A%20%20%20%20%0A%20%20%20%20%20%20%20%20var%20popup_db787225b7a14fdcb57ce30da55d5c86%20%3D%20L.popup%28%7B%22maxWidth%22%3A%20%22100%25%22%7D%29%3B%0A%0A%20%20%20%20%20%20%20%20%0A%20%20%20%20%20%20%20%20%20%20%20%20var%20html_934cf0043ed944f1bc1db3495ac7d273%20%3D%20%24%28%60%3Cdiv%20id%3D%22html_934cf0043ed944f1bc1db3495ac7d273%22%20style%3D%22width%3A%20100.0%25%3B%20height%3A%20100.0%25%3B%22%3E%EC%97%AC%EA%B8%B0%EA%B0%80%20%EB%82%A8%EC%82%B0%EC%9D%B4%EC%97%90%EC%9A%94%3C/div%3E%60%29%5B0%5D%3B%0A%20%20%20%20%20%20%20%20%20%20%20%20popup_db787225b7a14fdcb57ce30da55d5c86.setContent%28html_934cf0043ed944f1bc1db3495ac7d273%29%3B%0A%20%20%20%20%20%20%20%20%0A%0A%20%20%20%20%20%20%20%20circle_marker_e3c6471bb4114049abcbfdb6977e24aa.bindPopup%28popup_db787225b7a14fdcb57ce30da55d5c86%29%0A%20%20%20%20%20%20%20%20%3B%0A%0A%20%20%20%20%20%20%20%20%0A%20%20%20%20%0A%3C/script%3E onload=\"this.contentDocument.open();this.contentDocument.write(    decodeURIComponent(this.getAttribute('data-html')));this.contentDocument.close();\" allowfullscreen webkitallowfullscreen mozallowfullscreen></iframe></div></div>"
      ],
      "text/plain": [
       "<folium.folium.Map at 0x1b7f5446a60>"
      ]
     },
     "metadata": {},
     "output_type": "display_data"
    }
   ],
   "source": [
    "import folium\n",
    "\n",
    "m = folium.Map(\n",
    "    location=[37.55,126.99],\n",
    "    zoom_start=15\n",
    ")\n",
    "\n",
    "folium.CircleMarker(\n",
    "  [37.55,126.99],\n",
    "  radius=100,\n",
    "  color='#00ff00',\n",
    "  fill_color='#ff000099',\n",
    "  popup='여기가 남산이에요'\n",
    ").add_to(m)\n",
    "\n",
    "display(m)\n",
    "\n",
    "#m.save('output/map1.html')"
   ]
  },
  {
   "cell_type": "code",
   "execution_count": 3,
   "metadata": {},
   "outputs": [
    {
     "data": {
      "text/html": [
       "<div style=\"width:100%;\"><div style=\"position:relative;width:100%;height:0;padding-bottom:60%;\"><span style=\"color:#565656\">Make this Notebook Trusted to load map: File -> Trust Notebook</span><iframe src=\"about:blank\" style=\"position:absolute;width:100%;height:100%;left:0;top:0;border:none !important;\" data-html=%3C%21DOCTYPE%20html%3E%0A%3Chead%3E%20%20%20%20%0A%20%20%20%20%3Cmeta%20http-equiv%3D%22content-type%22%20content%3D%22text/html%3B%20charset%3DUTF-8%22%20/%3E%0A%20%20%20%20%0A%20%20%20%20%20%20%20%20%3Cscript%3E%0A%20%20%20%20%20%20%20%20%20%20%20%20L_NO_TOUCH%20%3D%20false%3B%0A%20%20%20%20%20%20%20%20%20%20%20%20L_DISABLE_3D%20%3D%20false%3B%0A%20%20%20%20%20%20%20%20%3C/script%3E%0A%20%20%20%20%0A%20%20%20%20%3Cstyle%3Ehtml%2C%20body%20%7Bwidth%3A%20100%25%3Bheight%3A%20100%25%3Bmargin%3A%200%3Bpadding%3A%200%3B%7D%3C/style%3E%0A%20%20%20%20%3Cstyle%3E%23map%20%7Bposition%3Aabsolute%3Btop%3A0%3Bbottom%3A0%3Bright%3A0%3Bleft%3A0%3B%7D%3C/style%3E%0A%20%20%20%20%3Cscript%20src%3D%22https%3A//cdn.jsdelivr.net/npm/leaflet%401.6.0/dist/leaflet.js%22%3E%3C/script%3E%0A%20%20%20%20%3Cscript%20src%3D%22https%3A//code.jquery.com/jquery-1.12.4.min.js%22%3E%3C/script%3E%0A%20%20%20%20%3Cscript%20src%3D%22https%3A//maxcdn.bootstrapcdn.com/bootstrap/3.2.0/js/bootstrap.min.js%22%3E%3C/script%3E%0A%20%20%20%20%3Cscript%20src%3D%22https%3A//cdnjs.cloudflare.com/ajax/libs/Leaflet.awesome-markers/2.0.2/leaflet.awesome-markers.js%22%3E%3C/script%3E%0A%20%20%20%20%3Clink%20rel%3D%22stylesheet%22%20href%3D%22https%3A//cdn.jsdelivr.net/npm/leaflet%401.6.0/dist/leaflet.css%22/%3E%0A%20%20%20%20%3Clink%20rel%3D%22stylesheet%22%20href%3D%22https%3A//maxcdn.bootstrapcdn.com/bootstrap/3.2.0/css/bootstrap.min.css%22/%3E%0A%20%20%20%20%3Clink%20rel%3D%22stylesheet%22%20href%3D%22https%3A//maxcdn.bootstrapcdn.com/bootstrap/3.2.0/css/bootstrap-theme.min.css%22/%3E%0A%20%20%20%20%3Clink%20rel%3D%22stylesheet%22%20href%3D%22https%3A//maxcdn.bootstrapcdn.com/font-awesome/4.6.3/css/font-awesome.min.css%22/%3E%0A%20%20%20%20%3Clink%20rel%3D%22stylesheet%22%20href%3D%22https%3A//cdnjs.cloudflare.com/ajax/libs/Leaflet.awesome-markers/2.0.2/leaflet.awesome-markers.css%22/%3E%0A%20%20%20%20%3Clink%20rel%3D%22stylesheet%22%20href%3D%22https%3A//cdn.jsdelivr.net/gh/python-visualization/folium/folium/templates/leaflet.awesome.rotate.min.css%22/%3E%0A%20%20%20%20%0A%20%20%20%20%20%20%20%20%20%20%20%20%3Cmeta%20name%3D%22viewport%22%20content%3D%22width%3Ddevice-width%2C%0A%20%20%20%20%20%20%20%20%20%20%20%20%20%20%20%20initial-scale%3D1.0%2C%20maximum-scale%3D1.0%2C%20user-scalable%3Dno%22%20/%3E%0A%20%20%20%20%20%20%20%20%20%20%20%20%3Cstyle%3E%0A%20%20%20%20%20%20%20%20%20%20%20%20%20%20%20%20%23map_8e6337a7461f4074bc3ef171e45f558e%20%7B%0A%20%20%20%20%20%20%20%20%20%20%20%20%20%20%20%20%20%20%20%20position%3A%20relative%3B%0A%20%20%20%20%20%20%20%20%20%20%20%20%20%20%20%20%20%20%20%20width%3A%20100.0%25%3B%0A%20%20%20%20%20%20%20%20%20%20%20%20%20%20%20%20%20%20%20%20height%3A%20100.0%25%3B%0A%20%20%20%20%20%20%20%20%20%20%20%20%20%20%20%20%20%20%20%20left%3A%200.0%25%3B%0A%20%20%20%20%20%20%20%20%20%20%20%20%20%20%20%20%20%20%20%20top%3A%200.0%25%3B%0A%20%20%20%20%20%20%20%20%20%20%20%20%20%20%20%20%7D%0A%20%20%20%20%20%20%20%20%20%20%20%20%3C/style%3E%0A%20%20%20%20%20%20%20%20%0A%3C/head%3E%0A%3Cbody%3E%20%20%20%20%0A%20%20%20%20%0A%20%20%20%20%20%20%20%20%20%20%20%20%3Cdiv%20class%3D%22folium-map%22%20id%3D%22map_8e6337a7461f4074bc3ef171e45f558e%22%20%3E%3C/div%3E%0A%20%20%20%20%20%20%20%20%0A%3C/body%3E%0A%3Cscript%3E%20%20%20%20%0A%20%20%20%20%0A%20%20%20%20%20%20%20%20%20%20%20%20var%20map_8e6337a7461f4074bc3ef171e45f558e%20%3D%20L.map%28%0A%20%20%20%20%20%20%20%20%20%20%20%20%20%20%20%20%22map_8e6337a7461f4074bc3ef171e45f558e%22%2C%0A%20%20%20%20%20%20%20%20%20%20%20%20%20%20%20%20%7B%0A%20%20%20%20%20%20%20%20%20%20%20%20%20%20%20%20%20%20%20%20center%3A%20%5B37.55%2C%20126.99%5D%2C%0A%20%20%20%20%20%20%20%20%20%20%20%20%20%20%20%20%20%20%20%20crs%3A%20L.CRS.EPSG3857%2C%0A%20%20%20%20%20%20%20%20%20%20%20%20%20%20%20%20%20%20%20%20zoom%3A%2015%2C%0A%20%20%20%20%20%20%20%20%20%20%20%20%20%20%20%20%20%20%20%20zoomControl%3A%20true%2C%0A%20%20%20%20%20%20%20%20%20%20%20%20%20%20%20%20%20%20%20%20preferCanvas%3A%20false%2C%0A%20%20%20%20%20%20%20%20%20%20%20%20%20%20%20%20%7D%0A%20%20%20%20%20%20%20%20%20%20%20%20%29%3B%0A%0A%20%20%20%20%20%20%20%20%20%20%20%20%0A%0A%20%20%20%20%20%20%20%20%0A%20%20%20%20%0A%20%20%20%20%20%20%20%20%20%20%20%20var%20tile_layer_31113e1078674835831500d982f0c35d%20%3D%20L.tileLayer%28%0A%20%20%20%20%20%20%20%20%20%20%20%20%20%20%20%20%22https%3A//%7Bs%7D.tile.openstreetmap.org/%7Bz%7D/%7Bx%7D/%7By%7D.png%22%2C%0A%20%20%20%20%20%20%20%20%20%20%20%20%20%20%20%20%7B%22attribution%22%3A%20%22Data%20by%20%5Cu0026copy%3B%20%5Cu003ca%20href%3D%5C%22http%3A//openstreetmap.org%5C%22%5Cu003eOpenStreetMap%5Cu003c/a%5Cu003e%2C%20under%20%5Cu003ca%20href%3D%5C%22http%3A//www.openstreetmap.org/copyright%5C%22%5Cu003eODbL%5Cu003c/a%5Cu003e.%22%2C%20%22detectRetina%22%3A%20false%2C%20%22maxNativeZoom%22%3A%2018%2C%20%22maxZoom%22%3A%2018%2C%20%22minZoom%22%3A%200%2C%20%22noWrap%22%3A%20false%2C%20%22opacity%22%3A%201%2C%20%22subdomains%22%3A%20%22abc%22%2C%20%22tms%22%3A%20false%7D%0A%20%20%20%20%20%20%20%20%20%20%20%20%29.addTo%28map_8e6337a7461f4074bc3ef171e45f558e%29%3B%0A%20%20%20%20%20%20%20%20%0A%20%20%20%20%0A%20%20%20%20%20%20%20%20%20%20%20%20var%20circle_marker_ebea164cf00b474c9cafe6c4f665b788%20%3D%20L.circleMarker%28%0A%20%20%20%20%20%20%20%20%20%20%20%20%20%20%20%20%5B37.55%2C%20126.99%5D%2C%0A%20%20%20%20%20%20%20%20%20%20%20%20%20%20%20%20%7B%22bubblingMouseEvents%22%3A%20true%2C%20%22color%22%3A%20%22%2300ff00%22%2C%20%22dashArray%22%3A%20null%2C%20%22dashOffset%22%3A%20null%2C%20%22fill%22%3A%20true%2C%20%22fillColor%22%3A%20%22%23ff000099%22%2C%20%22fillOpacity%22%3A%200.2%2C%20%22fillRule%22%3A%20%22evenodd%22%2C%20%22lineCap%22%3A%20%22round%22%2C%20%22lineJoin%22%3A%20%22round%22%2C%20%22opacity%22%3A%201.0%2C%20%22radius%22%3A%20100%2C%20%22stroke%22%3A%20true%2C%20%22weight%22%3A%203%7D%0A%20%20%20%20%20%20%20%20%20%20%20%20%29.addTo%28map_8e6337a7461f4074bc3ef171e45f558e%29%3B%0A%20%20%20%20%20%20%20%20%0A%20%20%20%20%0A%20%20%20%20%20%20%20%20var%20popup_c2b95540cad14fdfa32012589e21385a%20%3D%20L.popup%28%7B%22maxWidth%22%3A%20300%2C%20%22minWidth%22%3A%20300%7D%29%3B%0A%0A%20%20%20%20%20%20%20%20%0A%20%20%20%20%20%20%20%20%20%20%20%20var%20html_36c7789ccf3c4ec09328f0e8fc233e9e%20%3D%20%24%28%60%3Cdiv%20id%3D%22html_36c7789ccf3c4ec09328f0e8fc233e9e%22%20style%3D%22width%3A%20100.0%25%3B%20height%3A%20100.0%25%3B%22%3E%3Ch3%3E%EC%97%AC%EA%B8%B0%EA%B0%80%20%EB%82%A8%EC%82%B0%EC%9D%B4%EC%97%90%EC%9A%94~~%3C/h3%3E%3C/div%3E%60%29%5B0%5D%3B%0A%20%20%20%20%20%20%20%20%20%20%20%20popup_c2b95540cad14fdfa32012589e21385a.setContent%28html_36c7789ccf3c4ec09328f0e8fc233e9e%29%3B%0A%20%20%20%20%20%20%20%20%0A%0A%20%20%20%20%20%20%20%20circle_marker_ebea164cf00b474c9cafe6c4f665b788.bindPopup%28popup_c2b95540cad14fdfa32012589e21385a%29%0A%20%20%20%20%20%20%20%20%3B%0A%0A%20%20%20%20%20%20%20%20%0A%20%20%20%20%0A%3C/script%3E onload=\"this.contentDocument.open();this.contentDocument.write(    decodeURIComponent(this.getAttribute('data-html')));this.contentDocument.close();\" allowfullscreen webkitallowfullscreen mozallowfullscreen></iframe></div></div>"
      ],
      "text/plain": [
       "<folium.folium.Map at 0x1b7f299fac0>"
      ]
     },
     "metadata": {},
     "output_type": "display_data"
    }
   ],
   "source": [
    "import folium\n",
    "\n",
    "m = folium.Map(\n",
    "    location=[37.55,126.99],\n",
    "    zoom_start=15\n",
    ")\n",
    "test = folium.Html('<h3>여기가 남산이에요~~</h3>', script=True)\n",
    "popup = folium.Popup(test, max_width=300,min_width=300)\n",
    "\n",
    "folium.CircleMarker(\n",
    "  [37.55,126.99],\n",
    "  radius=100,\n",
    "  color='#00ff00',\n",
    "  fill_color='#ff000099',\n",
    "  popup=popup\n",
    ").add_to(m)\n",
    "\n",
    "display(m)"
   ]
  },
  {
   "cell_type": "code",
   "execution_count": null,
   "metadata": {},
   "outputs": [],
   "source": [
    "m.save('output/map2.html')"
   ]
  }
 ],
 "metadata": {
  "kernelspec": {
   "display_name": "pydatavenv",
   "language": "python",
   "name": "pydatavenv"
  },
  "language_info": {
   "codemirror_mode": {
    "name": "ipython",
    "version": 3
   },
   "file_extension": ".py",
   "mimetype": "text/x-python",
   "name": "python",
   "nbconvert_exporter": "python",
   "pygments_lexer": "ipython3",
   "version": "3.8.8"
  }
 },
 "nbformat": 4,
 "nbformat_minor": 4
}
