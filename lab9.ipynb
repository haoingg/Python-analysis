{
 "cells": [
  {
   "cell_type": "code",
   "execution_count": null,
   "metadata": {},
   "outputs": [],
   "source": [
    "import pandas as pd"
   ]
  },
  {
   "cell_type": "code",
   "execution_count": null,
   "metadata": {},
   "outputs": [],
   "source": [
    "#1\n",
    "myseries = [10, 20, 30, 40, 50]\n",
    "mydata = pd.Series(myseries)\n",
    "print(sr)"
   ]
  },
  {
   "cell_type": "code",
   "execution_count": null,
   "metadata": {},
   "outputs": [],
   "source": [
    "#2\n",
    "myseries2 = [1, 2, 3, 4, 5]\n",
    "mydata2 = pd.Series(myseries2, index=['a', 'b', 'c', 'd', 'e'])\n",
    "print(sr2)"
   ]
  },
  {
   "cell_type": "code",
   "execution_count": null,
   "metadata": {},
   "outputs": [],
   "source": [
    "#3\n",
    "mydictionary = {'학생1' : '둘리', '학생2' : '또치', '학생3' : '도우너', '학생4' : '희동이', '학생5' : '마이콜'}\n",
    "mydata3 = pd.Series(mydictionary)\n",
    "print(mydata3)"
   ]
  },
  {
   "cell_type": "code",
   "execution_count": null,
   "metadata": {},
   "outputs": [],
   "source": [
    "#4\n",
    "mylist = ['둘리', '또치', '도우너', '희동이', '마이콜']\n",
    "mydata4 = pd.Series(mylist, index = ['학생1', '학생2', '학생3', '학생4', '학생5'])\n",
    "print(mydata4)"
   ]
  },
  {
   "cell_type": "code",
   "execution_count": null,
   "metadata": {},
   "outputs": [],
   "source": [
    "#5\n",
    "blood = ['A형', 'B형', 'O형', 'AB형']\n",
    "st = [34.2, 27.1, 26.7, 11.5]\n",
    "sr = pd.Series(st, index=blood)\n",
    "\n",
    "print(sr)\n",
    "print(sr[1:4])\n",
    "print(sr['B형':'AB형'])\n",
    "print(len(sr))\n",
    "print(sr.index)\n",
    "print(sr.values)"
   ]
  },
  {
   "cell_type": "code",
   "execution_count": null,
   "metadata": {},
   "outputs": [],
   "source": [
    "#6\n",
    "mydataframe = {'name' : ['둘리', '또치', '도우너', '희동이'],\n",
    "                         'kor' : [90, 80, 70, 70], 'eng' : [99, 98, 97, 46], 'mat' : [90, 70, 70, 60]}\n",
    "mydata5 = pd.DataFrame(mydataframe)\n",
    "print(mydata5)\n",
    "                         "
   ]
  },
  {
   "cell_type": "code",
   "execution_count": null,
   "metadata": {},
   "outputs": [],
   "source": [
    "#7\n",
    "mydataframe2 = {'name' : ['둘리', '또치', '도우너', '희동이'],\n",
    "                         'kor' : [90, 80, 70, 70], 'eng' : [99, 98, 97, 46], 'mat' : [90, 70, 70, 60]}\n",
    "mydata6 = pd.DataFrame(mydataframe,\n",
    "                      index = ['학생1', '학생2', '학생3', '학생4'])\n",
    "print(mydata6)"
   ]
  },
  {
   "cell_type": "code",
   "execution_count": null,
   "metadata": {},
   "outputs": [],
   "source": [
    "#8\n",
    "mydata6.index = ['st1', 'st2', 'st3', 'st4']\n",
    "mydata6.columns = ['dooly', 'doochi', 'dounar', 'heedong']\n",
    "print(mydata6)"
   ]
  },
  {
   "cell_type": "code",
   "execution_count": null,
   "metadata": {},
   "outputs": [],
   "source": [
    "#9\n",
    "data = {\n",
    "    'name':['듀크1', '듀크2', '듀크3', '듀크4', '듀크5', '듀크6', '듀크7'],\n",
    "    'kor':[90, 80, 70, 70, 60, 70, 90],\n",
    "    'eng':[99, 98, 97, 46, 77, 56, 90],\n",
    "    'mat':[90, 70, 70, 60, 88, 99, 90],\n",
    "}\n",
    "df = pd.DataFrame(data)\n",
    "print(df)\n",
    "\n",
    "#(1)앞에서 다섯 행\n",
    "prac1 = df.iloc[0:5]\n",
    "print(practice1)\n",
    "#(2)뒤에서 다섯 행\n",
    "prac2 = df.iloc[2:7]\n",
    "print(practice2)\n",
    "#(3)컬럼명 출력\n",
    "print(df.columns)\n",
    "#(4)name 컬럼\n",
    "prac3 = df['name']\n",
    "print(prac3)\n",
    "#(5)eng 컬럼\n",
    "prac4 = df.eng\n",
    "print(prac4)\n",
    "#(6)kor, mat 컬럼\n",
    "prac5 = df[['kor', 'mat']]\n",
    "print(prac5)\n",
    "\n",
    "# iloc 인덱서\n",
    "#(7) iloc 인덱서 사용 / 네 번째 행 출력\n",
    "print(df.iloc[3])\n",
    "#(8) iloc 인덱서 사용 / 첫 번째 행, 열 출력\n",
    "print(df.iloc[0,0])\n",
    "#(9) iloc 인덱서 사용 / 네 번째 행, 세 번째 열 출력\n",
    "print(df.iloc[3, 2])\n",
    "#(10) iloc 인덱서 사용 / 세 번째와 네 번째 행의 세 번째 열 출력\n",
    "print(df.iloc[2,2],[3,2])\n",
    "#(11) iloc 인덱서 사용 / 세 번째와 네 번째 행의 세 번째와 네 번째 열 출력\n",
    "print(df.iloc[2:4, 2:4])\n",
    "\n",
    "# loc 인덱서 => 오류 발생\n",
    "#(12) loc 인덱서 사용 / 네 번째 행 출력\n",
    "print(df.loc['듀크4'])\n",
    "#(13) loc 인덱서 사용 / 첫 번째 행, 첫 번째 열 출력\n",
    "print(df.loc['듀크1', 'name'])\n",
    "#(14) loc 인덱서 사용 / 네 번째 행, 세 번째 열 출력\n",
    "print(df.loc['듀크4', 'eng'])\n",
    "#(15) loc 인덱서 사용 / 세 번째와 네 번째 행의 세 번째 열 출력\n",
    "print(df.loc['듀크3':'듀크4', 'eng'])\n",
    "#(16) loc 인덱서 사용 / 세 번째와 네 번째 행의 세 번째와 네 번째 열 출력\n",
    "print(df.loc['듀크3':'듀크4', 'eng':'mat'])\n",
    "\n",
    "# loc 인덱서 답\n",
    "#(12) print(df.loc[3])\n",
    "#(13) print(df.loc[0,'name'])\n",
    "#(14) print(df.loc[3,'eng'])\n",
    "#(15) print(df.loc[[2,3],'eng'])\n",
    "print(df.loc[[2,3],['eng','mat']])"
   ]
  },
  {
   "cell_type": "code",
   "execution_count": null,
   "metadata": {},
   "outputs": [],
   "source": [
    "#10\n",
    "df.set_index('name', inplace=True)\n",
    "print(df)"
   ]
  }
 ],
 "metadata": {
  "kernelspec": {
   "display_name": "Python 3",
   "language": "python",
   "name": "python3"
  },
  "language_info": {
   "codemirror_mode": {
    "name": "ipython",
    "version": 3
   },
   "file_extension": ".py",
   "mimetype": "text/x-python",
   "name": "python",
   "nbconvert_exporter": "python",
   "pygments_lexer": "ipython3",
   "version": "3.8.5"
  }
 },
 "nbformat": 4,
 "nbformat_minor": 4
}
