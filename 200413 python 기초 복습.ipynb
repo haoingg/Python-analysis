{
 "cells": [
  {
   "cell_type": "markdown",
   "metadata": {},
   "source": [
    "# 반복문\n",
    "### 프로그램 내에서 똑같은 명령을 일정 횟수만큼 반복하여 수행하도록 제어하는 명령문\n",
    "#### for: 반복 횟수가 명확\n",
    "#### while: 반복 횟수가 불명확\n",
    "#### => for문이 하는 일은 while문도, while문이 하는 일은 for문도 할 수 있다.\n",
    "\n",
    "## while: 조건식이 True일 때 실행문장 반복\n",
    "#### whlie 조건식:\n",
    "#### 실행문장1\n",
    "#### 실행문장2\n",
    "\n",
    "## for: 문자열 또는 리스트, 튜플이 들어갔을 때 안에 있는 요소를 하나씩 반복\n",
    "#### for 변수 in 문자열(or 리스트 or 튜플)\n",
    "####     print(변수)"
   ]
  },
  {
   "cell_type": "code",
   "execution_count": 1,
   "metadata": {},
   "outputs": [
    {
     "name": "stdout",
     "output_type": "stream",
     "text": [
      "햄버거\n",
      "치킨\n",
      "피자\n"
     ]
    }
   ],
   "source": [
    "list_food = ['햄버거', '치킨', '피자']\n",
    "for food in list_food:\n",
    "    print(food)"
   ]
  },
  {
   "cell_type": "markdown",
   "metadata": {},
   "source": [
    "## 포맷팅(다시 기억)\n",
    "#### '{}'.format() : ()엔 중괄호에 대입할 문자, 숫자 입력. 여러 개 가능."
   ]
  },
  {
   "cell_type": "code",
   "execution_count": 10,
   "metadata": {},
   "outputs": [
    {
     "name": "stdout",
     "output_type": "stream",
     "text": [
      "1번 학생은 합격입니다\n",
      "2번 학생은 불합격 입니다.\n",
      "3번 학생은 합격입니다\n",
      "4번 학생은 합격입니다\n",
      "5번 학생은 불합격 입니다.\n"
     ]
    }
   ],
   "source": [
    "score_list = [90, 45, 70, 60, 55]\n",
    "number = 1\n",
    "for score in score_list:\n",
    "    if score >= 60:\n",
    "        print('{}번 학생은 합격입니다'.format(number))\n",
    "    else:\n",
    "        print('{}번 학생은 불합격 입니다.'.format(number))\n",
    "    number += 1    "
   ]
  },
  {
   "cell_type": "code",
   "execution_count": 16,
   "metadata": {},
   "outputs": [
    {
     "name": "stdout",
     "output_type": "stream",
     "text": [
      "1번 학생은 합격 입니다.\n",
      "2번 학생은 불합격 입니다.\n",
      "3번 학생은 합격 입니다.\n",
      "4번 학생은 합격 입니다.\n",
      "5번 학생은 불합격 입니다.\n"
     ]
    }
   ],
   "source": [
    "score_list = [90, 45, 70, 60, 55]\n",
    "number = 1\n",
    "for score in score_list:\n",
    "    if score >= 60:\n",
    "        result = '합격'\n",
    "    else:\n",
    "        result = '불합격'\n",
    "    print('{}번 학생은 {} 입니다.'.format(number, result))\n",
    "    number += 1"
   ]
  },
  {
   "cell_type": "markdown",
   "metadata": {},
   "source": [
    "### range() 함수 이용\n",
    "#### - 필요한 만큼의 숫자를 만들어내는 유용한 기능\n",
    "### - range(시작할 숫자, 종료할 숫자, 증가량)\n",
    "#### - range(1, 10, 1) -> 1부터 0까지 1씩 증가\n",
    "#### - range(1, 100, 3) -> 1부터 99까지 3씩 증가\n",
    "#### - range(10, 1, -1) -> 10부터 2까지 1씩 감소(-1씩 증가)\n",
    "### - range(기본값 0, 종료할 숫자, 기본값 1)\n",
    "#### - range(3, 10) -> 3부터 9까지 1씩 증가\n",
    "#### - range(10) -> 0부터 9까지 1씩 증가\n"
   ]
  },
  {
   "cell_type": "code",
   "execution_count": 23,
   "metadata": {},
   "outputs": [
    {
     "name": "stdout",
     "output_type": "stream",
     "text": [
      "1\n",
      "2\n",
      "3\n",
      "4\n",
      "5\n",
      "6\n",
      "7\n",
      "8\n",
      "9\n",
      "\n",
      "\n",
      "1 2 3 4 5 6 7 8 9 "
     ]
    }
   ],
   "source": [
    "for i in range(1, 10, 1):\n",
    "    print(i)\n",
    "\n",
    "print(\"\\n\")    \n",
    "    \n",
    "for i in range(1, 10, 1):\n",
    "    print(i, end = \" \")"
   ]
  },
  {
   "cell_type": "code",
   "execution_count": 24,
   "metadata": {},
   "outputs": [
    {
     "name": "stdout",
     "output_type": "stream",
     "text": [
      "3 4 5 6 7 8 9 \n",
      "\n",
      "0 1 2 3 4 5 6 7 8 9 "
     ]
    }
   ],
   "source": [
    "for i in range(3, 10):\n",
    "    print(i, end = \" \")\n",
    "\n",
    "print(\"\\n\")\n",
    "\n",
    "for i in range(10): #10번 반복 = 돌릴 횟수를 쓸 때도 이와 같이 사용\n",
    "    print(i, end = \" \")"
   ]
  },
  {
   "cell_type": "code",
   "execution_count": 27,
   "metadata": {},
   "outputs": [
    {
     "name": "stdout",
     "output_type": "stream",
     "text": [
      "97 96 95 94 93 92 91 90 89 88 87 86 85 84 83 82 81 80 79 78 77 \n",
      "\n",
      "23 24 25 26 27 28 29 30 31 32 33 34 35 36 37 38 39 40 "
     ]
    }
   ],
   "source": [
    "# for문을 이용해 97부터 77까지 출력\n",
    "for num in range(97, 76, -1):\n",
    "    print(num, end = \" \")\n",
    "\n",
    "print(\"\\n\")    \n",
    "# for문을 이용해 23부터 40까지 출력\n",
    "for num in range(23, 41):\n",
    "    print(num, end = \" \")"
   ]
  },
  {
   "cell_type": "code",
   "execution_count": 31,
   "metadata": {},
   "outputs": [
    {
     "name": "stdout",
     "output_type": "stream",
     "text": [
      "1 2\n",
      "3 4\n",
      "5 6\n",
      "\n",
      "\n",
      "1\n",
      "7\n"
     ]
    }
   ],
   "source": [
    "list1 = [[1, 2], [3, 4], [5, 6]]\n",
    "for i, j in list1:\n",
    "    print(i, j)\n",
    "    \n",
    "print('\\n')\n",
    "\n",
    "a, b = 1, 7\n",
    "print(a)\n",
    "print(b)"
   ]
  },
  {
   "cell_type": "code",
   "execution_count": null,
   "metadata": {},
   "outputs": [],
   "source": [
    "# 실습\n",
    "# 랜덤으로 1부터 50 사이의 숫자를 뽑으면 뽑은 숫자를 맞추는 업앤다운 게임 예제\n",
    "\n",
    "import random\n",
    "comnum = random.randint(1, 10)\n",
    "while True:\n",
    "    num = int(input('숫자를 입력해주세요 >>'))\n",
    "    if comnum < num:\n",
    "        print('{} 보다 큰 수 입니다'.format(num))\n",
    "    elif num > comnum:\n",
    "        print('{} 보다 작은 수 입니다.'.format(num))\n",
    "    else:\n",
    "        print('정답입니다')\n",
    "        break"
   ]
  },
  {
   "cell_type": "code",
   "execution_count": null,
   "metadata": {},
   "outputs": [],
   "source": [
    "# 두 개의 정수를 키보드로 입력 받아 첫 번째 정수부터 두 번째 정수까지 출력되는 소스코드를 작성하시오\n",
    "\n",
    "start = int(input('첫 번째 정수 입력>>'))\n",
    "end = int(input('두 번째 정수 입력>>'))\n",
    "\n",
    "for i in range(start, end+1):\n",
    "    print(i, end = \" \")"
   ]
  },
  {
   "cell_type": "code",
   "execution_count": null,
   "metadata": {},
   "outputs": [],
   "source": [
    "# 1부터 100 사이의 숫자 중 3의 배수인 값들의 합을 출력하세요\n",
    "num = 0\n",
    "for i in range(1, 101):\n",
    "    if i % 3 ==0:\n",
    "       num += i\n",
    "    \n",
    "print(num)"
   ]
  },
  {
   "cell_type": "code",
   "execution_count": null,
   "metadata": {},
   "outputs": [],
   "source": [
    "# for문을 이용하여 구구단 2단을 출력하시오\n",
    "for i in range(1, 10):\n",
    "    print('2 * {} = {}'.format(i, 2*i))"
   ]
  }
 ],
 "metadata": {
  "kernelspec": {
   "display_name": "pydatavenv",
   "language": "python",
   "name": "pydatavenv"
  },
  "language_info": {
   "codemirror_mode": {
    "name": "ipython",
    "version": 3
   },
   "file_extension": ".py",
   "mimetype": "text/x-python",
   "name": "python",
   "nbconvert_exporter": "python",
   "pygments_lexer": "ipython3",
   "version": "3.8.8"
  }
 },
 "nbformat": 4,
 "nbformat_minor": 4
}
