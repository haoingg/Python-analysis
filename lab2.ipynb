{
 "cells": [
  {
   "cell_type": "code",
   "execution_count": 36,
   "metadata": {},
   "outputs": [
    {
     "name": "stdout",
     "output_type": "stream",
     "text": [
      "[<h1> 태그의 컨텐트] HTML의 링크 태그\n",
      "[텍스트 형식으로 내용을 가지고 있는 <a> 태그의 컨텐트와 href 속성값]\n",
      "World Wide Consortium : http://www.w3.org/\n",
      "Java Page : http://java.sun.com/\n",
      "Python Page : http://www.python.org/\n",
      "Web Client 기술 학습 : http://www.w3schools.com/\n",
      "None : http://java.sun.com/\n",
      "[<img> 태그의 src 속성값] http://unico2013.dothome.co.kr/image/duke.jpg\n",
      "[첫 번째 <h2> 태그의 컨텐트] 좋아하는 색\n",
      "[<ul> 태그의 자식 태그들중 style 속성의 값이 green으로 끝나는 태그의 컨텐트] 녹색\n",
      "[두 번째 <h2> 태그의 컨텐트] 먹고싶은 음식\n",
      "[<ol> 태그의 모든 자식 태그들의 컨텐트]\n",
      "짜장면\n",
      "냉면\n",
      "돈까스\n",
      "갈비\n",
      "[<table> 태그의 모든 자손 태그들의 컨텐트]\n",
      "둘리또치도우너\n",
      "케라토사우루스타조외계인\n",
      "도봉구 쌍문동아프리카깐따삐아 별\n",
      "[name이라는 클래스 속성을 갖는 <tr> 태그의 컨텐트] 둘리또치도우너\n",
      "[target이라는 아이디 속성을 갖는 <td> 태그의 컨텐트] 아프리카\n"
     ]
    }
   ],
   "source": [
    "import requests\n",
    "from bs4 import BeautifulSoup\n",
    "import re\n",
    "req = requests.get('http://unico2013.dothome.co.kr/crawling/exercise_bs.html')\n",
    "req.encoding = 'utf-8'\n",
    "html = req.text\n",
    "soup = BeautifulSoup(html, 'html.parser')\n",
    "\n",
    "#1\n",
    "print('[<h1> 태그의 컨텐트]', soup.h1.string)\n",
    "#2(어려움)\n",
    "print('[텍스트 형식으로 내용을 가지고 있는 <a> 태그의 컨텐트와 href 속성값]')\n",
    "atags = soup.find_all('a')\n",
    "for tag in atags:\n",
    "    print(tag.string,\":\",tag['href'])\n",
    "#3    \n",
    "print('[<img> 태그의 src 속성값]', soup.img['src'])\n",
    "#4\n",
    "print('[첫 번째 <h2> 태그의 컨텐트]', soup.h2.string)\n",
    "#5\n",
    "print('[<ul> 태그의 자식 태그들중 style 속성의 값이 green으로 끝나는 태그의 컨텐트]',\n",
    "     soup.ul.find(style = re.compile('green$')).text)\n",
    "#6\n",
    "print('[두 번째 <h2> 태그의 컨텐트]', soup.find_all('h2')[1].string)\n",
    "#7\n",
    "print('[<ol> 태그의 모든 자식 태그들의 컨텐트]')\n",
    "ol = soup.find('ol')\n",
    "ols = ol.find_all('li')\n",
    "for tag in ols :\n",
    "    print(tag.text)\n",
    "#8\n",
    "print('[<table> 태그의 모든 자손 태그들의 컨텐트]')\n",
    "nep = soup.find('table')\n",
    "neps = soup.find_all('tr')\n",
    "for tags in neps :\n",
    "    print(tags.text)\n",
    "#9\n",
    "print('[name이라는 클래스 속성을 갖는 <tr> 태그의 컨텐트]',\n",
    "      soup.find('tr', class_ = 'name').text)\n",
    "#10\n",
    "print('[target이라는 아이디 속성을 갖는 <td> 태그의 컨텐트]',\n",
    "      soup.find('td', id = 'target').text)"
   ]
  }
 ],
 "metadata": {
  "kernelspec": {
   "display_name": "pydatavenv",
   "language": "python",
   "name": "pydatavenv"
  },
  "language_info": {
   "codemirror_mode": {
    "name": "ipython",
    "version": 3
   },
   "file_extension": ".py",
   "mimetype": "text/x-python",
   "name": "python",
   "nbconvert_exporter": "python",
   "pygments_lexer": "ipython3",
   "version": "3.8.8"
  }
 },
 "nbformat": 4,
 "nbformat_minor": 4
}
